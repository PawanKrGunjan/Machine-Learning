{
 "cells": [
  {
   "cell_type": "markdown",
   "id": "fae58931",
   "metadata": {
    "papermill": {
     "duration": 0.00882,
     "end_time": "2022-11-20T14:56:06.011266",
     "exception": false,
     "start_time": "2022-11-20T14:56:06.002446",
     "status": "completed"
    },
    "tags": []
   },
   "source": [
    "## Import the necessary packages"
   ]
  },
  {
   "cell_type": "code",
   "execution_count": 1,
   "id": "730263bd",
   "metadata": {
    "execution": {
     "iopub.execute_input": "2022-11-20T14:56:06.030453Z",
     "iopub.status.busy": "2022-11-20T14:56:06.029877Z",
     "iopub.status.idle": "2022-11-20T14:56:08.170576Z",
     "shell.execute_reply": "2022-11-20T14:56:08.169234Z"
    },
    "papermill": {
     "duration": 2.153202,
     "end_time": "2022-11-20T14:56:08.173337",
     "exception": false,
     "start_time": "2022-11-20T14:56:06.020135",
     "status": "completed"
    },
    "tags": []
   },
   "outputs": [
    {
     "name": "stderr",
     "output_type": "stream",
     "text": [
      "[nltk_data] Downloading package omw-1.4 to /usr/share/nltk_data...\n"
     ]
    }
   ],
   "source": [
    "import numpy as np \n",
    "import pandas as pd \n",
    "import os\n",
    "\n",
    "import warnings\n",
    "warnings.filterwarnings(\"ignore\")\n",
    "\n",
    "#importing libraries \n",
    "import re\n",
    "from bs4 import BeautifulSoup\n",
    "import string\n",
    "import nltk\n",
    "from nltk.tokenize import sent_tokenize, word_tokenize\n",
    "from nltk.stem.snowball import SnowballStemmer\n",
    "from nltk.stem import WordNetLemmatizer\n",
    "nltk.download('omw-1.4')\n",
    "from nltk.corpus import stopwords\n",
    "\n",
    "\n",
    "from sklearn.pipeline import Pipeline\n",
    "from sklearn.feature_extraction.text import CountVectorizer\n",
    "from sklearn.feature_extraction.text import TfidfVectorizer\n",
    "\n",
    "from sklearn.model_selection import cross_validate\n",
    "from sklearn.model_selection import StratifiedKFold\n",
    "from sklearn.linear_model import LogisticRegression"
   ]
  },
  {
   "cell_type": "markdown",
   "id": "491ef010",
   "metadata": {
    "papermill": {
     "duration": 0.008869,
     "end_time": "2022-11-20T14:56:08.190333",
     "exception": false,
     "start_time": "2022-11-20T14:56:08.181464",
     "status": "completed"
    },
    "tags": []
   },
   "source": [
    "## Load the data "
   ]
  },
  {
   "cell_type": "code",
   "execution_count": 2,
   "id": "26b8bb16",
   "metadata": {
    "execution": {
     "iopub.execute_input": "2022-11-20T14:56:08.208157Z",
     "iopub.status.busy": "2022-11-20T14:56:08.207724Z",
     "iopub.status.idle": "2022-11-20T14:56:08.221702Z",
     "shell.execute_reply": "2022-11-20T14:56:08.220699Z"
    },
    "papermill": {
     "duration": 0.02517,
     "end_time": "2022-11-20T14:56:08.223460",
     "exception": false,
     "start_time": "2022-11-20T14:56:08.198290",
     "status": "completed"
    },
    "tags": []
   },
   "outputs": [
    {
     "name": "stdout",
     "output_type": "stream",
     "text": [
      "/kaggle/input/personality-prediction/GFG/mbti_1.csv\n",
      "/kaggle/input/personality-prediction/GFG/ForumMessages.csv\n"
     ]
    }
   ],
   "source": [
    "for dirname, _, filenames in os.walk('/kaggle/input'):\n",
    "    for filename in filenames:\n",
    "        print(os.path.join(dirname, filename))"
   ]
  },
  {
   "cell_type": "code",
   "execution_count": 3,
   "id": "fa56a0db",
   "metadata": {
    "execution": {
     "iopub.execute_input": "2022-11-20T14:56:08.241223Z",
     "iopub.status.busy": "2022-11-20T14:56:08.240883Z",
     "iopub.status.idle": "2022-11-20T14:56:09.691711Z",
     "shell.execute_reply": "2022-11-20T14:56:09.690708Z"
    },
    "papermill": {
     "duration": 1.462548,
     "end_time": "2022-11-20T14:56:09.694074",
     "exception": false,
     "start_time": "2022-11-20T14:56:08.231526",
     "status": "completed"
    },
    "tags": []
   },
   "outputs": [],
   "source": [
    "train=pd.read_csv('/kaggle/input/personality-prediction/GFG/mbti_1.csv')\n",
    "forum=pd.read_csv('/kaggle/input/personality-prediction/GFG/ForumMessages.csv')"
   ]
  },
  {
   "cell_type": "code",
   "execution_count": 4,
   "id": "e63e7480",
   "metadata": {
    "execution": {
     "iopub.execute_input": "2022-11-20T14:56:09.718149Z",
     "iopub.status.busy": "2022-11-20T14:56:09.717831Z",
     "iopub.status.idle": "2022-11-20T14:56:09.737843Z",
     "shell.execute_reply": "2022-11-20T14:56:09.737146Z"
    },
    "papermill": {
     "duration": 0.034202,
     "end_time": "2022-11-20T14:56:09.739712",
     "exception": false,
     "start_time": "2022-11-20T14:56:09.705510",
     "status": "completed"
    },
    "tags": []
   },
   "outputs": [
    {
     "data": {
      "text/html": [
       "<div>\n",
       "<style scoped>\n",
       "    .dataframe tbody tr th:only-of-type {\n",
       "        vertical-align: middle;\n",
       "    }\n",
       "\n",
       "    .dataframe tbody tr th {\n",
       "        vertical-align: top;\n",
       "    }\n",
       "\n",
       "    .dataframe thead th {\n",
       "        text-align: right;\n",
       "    }\n",
       "</style>\n",
       "<table border=\"1\" class=\"dataframe\">\n",
       "  <thead>\n",
       "    <tr style=\"text-align: right;\">\n",
       "      <th></th>\n",
       "      <th>type</th>\n",
       "      <th>posts</th>\n",
       "    </tr>\n",
       "  </thead>\n",
       "  <tbody>\n",
       "    <tr>\n",
       "      <th>0</th>\n",
       "      <td>INFJ</td>\n",
       "      <td>'http://www.youtube.com/watch?v=qsXHcwe3krw|||...</td>\n",
       "    </tr>\n",
       "    <tr>\n",
       "      <th>1</th>\n",
       "      <td>ENTP</td>\n",
       "      <td>'I'm finding the lack of me in these posts ver...</td>\n",
       "    </tr>\n",
       "    <tr>\n",
       "      <th>2</th>\n",
       "      <td>INTP</td>\n",
       "      <td>'Good one  _____   https://www.youtube.com/wat...</td>\n",
       "    </tr>\n",
       "    <tr>\n",
       "      <th>3</th>\n",
       "      <td>INTJ</td>\n",
       "      <td>'Dear INTP,   I enjoyed our conversation the o...</td>\n",
       "    </tr>\n",
       "    <tr>\n",
       "      <th>4</th>\n",
       "      <td>ENTJ</td>\n",
       "      <td>'You're fired.|||That's another silly misconce...</td>\n",
       "    </tr>\n",
       "  </tbody>\n",
       "</table>\n",
       "</div>"
      ],
      "text/plain": [
       "   type                                              posts\n",
       "0  INFJ  'http://www.youtube.com/watch?v=qsXHcwe3krw|||...\n",
       "1  ENTP  'I'm finding the lack of me in these posts ver...\n",
       "2  INTP  'Good one  _____   https://www.youtube.com/wat...\n",
       "3  INTJ  'Dear INTP,   I enjoyed our conversation the o...\n",
       "4  ENTJ  'You're fired.|||That's another silly misconce..."
      ]
     },
     "execution_count": 4,
     "metadata": {},
     "output_type": "execute_result"
    }
   ],
   "source": [
    "train.head()"
   ]
  },
  {
   "cell_type": "code",
   "execution_count": 5,
   "id": "6495fa35",
   "metadata": {
    "execution": {
     "iopub.execute_input": "2022-11-20T14:56:09.761320Z",
     "iopub.status.busy": "2022-11-20T14:56:09.760448Z",
     "iopub.status.idle": "2022-11-20T14:56:09.772863Z",
     "shell.execute_reply": "2022-11-20T14:56:09.771944Z"
    },
    "papermill": {
     "duration": 0.024461,
     "end_time": "2022-11-20T14:56:09.774875",
     "exception": false,
     "start_time": "2022-11-20T14:56:09.750414",
     "status": "completed"
    },
    "tags": []
   },
   "outputs": [
    {
     "data": {
      "text/html": [
       "<div>\n",
       "<style scoped>\n",
       "    .dataframe tbody tr th:only-of-type {\n",
       "        vertical-align: middle;\n",
       "    }\n",
       "\n",
       "    .dataframe tbody tr th {\n",
       "        vertical-align: top;\n",
       "    }\n",
       "\n",
       "    .dataframe thead th {\n",
       "        text-align: right;\n",
       "    }\n",
       "</style>\n",
       "<table border=\"1\" class=\"dataframe\">\n",
       "  <thead>\n",
       "    <tr style=\"text-align: right;\">\n",
       "      <th></th>\n",
       "      <th>Unnamed: 0</th>\n",
       "      <th>Id</th>\n",
       "      <th>ForumTopicId</th>\n",
       "      <th>PostUserId</th>\n",
       "      <th>PostDate</th>\n",
       "      <th>ReplyToForumMessageId</th>\n",
       "      <th>Message</th>\n",
       "      <th>Medal</th>\n",
       "      <th>MedalAwardDate</th>\n",
       "    </tr>\n",
       "  </thead>\n",
       "  <tbody>\n",
       "    <tr>\n",
       "      <th>0</th>\n",
       "      <td>8427</td>\n",
       "      <td>784283</td>\n",
       "      <td>60581</td>\n",
       "      <td>4701687</td>\n",
       "      <td>03/24/2020 04:42:45</td>\n",
       "      <td>NaN</td>\n",
       "      <td>&lt;p&gt;&lt;strong&gt;Think About The Data&lt;/strong&gt;&lt;/p&gt;\\n...</td>\n",
       "      <td>NaN</td>\n",
       "      <td>NaN</td>\n",
       "    </tr>\n",
       "    <tr>\n",
       "      <th>1</th>\n",
       "      <td>9564</td>\n",
       "      <td>784295</td>\n",
       "      <td>60581</td>\n",
       "      <td>4701687</td>\n",
       "      <td>03/24/2020 04:56:27</td>\n",
       "      <td>783670.0</td>\n",
       "      <td>&lt;p&gt;good point!&lt;/p&gt;</td>\n",
       "      <td>NaN</td>\n",
       "      <td>NaN</td>\n",
       "    </tr>\n",
       "    <tr>\n",
       "      <th>2</th>\n",
       "      <td>9579</td>\n",
       "      <td>784298</td>\n",
       "      <td>60581</td>\n",
       "      <td>4701687</td>\n",
       "      <td>03/24/2020 05:02:18</td>\n",
       "      <td>781693.0</td>\n",
       "      <td>&lt;p&gt;Nice thoughts!&lt;/p&gt;</td>\n",
       "      <td>NaN</td>\n",
       "      <td>NaN</td>\n",
       "    </tr>\n",
       "    <tr>\n",
       "      <th>3</th>\n",
       "      <td>13138</td>\n",
       "      <td>784405</td>\n",
       "      <td>60581</td>\n",
       "      <td>4662825</td>\n",
       "      <td>03/24/2020 07:34:31</td>\n",
       "      <td>NaN</td>\n",
       "      <td>&lt;p&gt;All fields that has year data maxes up on 2...</td>\n",
       "      <td>NaN</td>\n",
       "      <td>NaN</td>\n",
       "    </tr>\n",
       "    <tr>\n",
       "      <th>4</th>\n",
       "      <td>19987</td>\n",
       "      <td>787791</td>\n",
       "      <td>60581</td>\n",
       "      <td>3780256</td>\n",
       "      <td>03/27/2020 04:46:14</td>\n",
       "      <td>NaN</td>\n",
       "      <td>&lt;p&gt;The dataset reflects the real estate scenar...</td>\n",
       "      <td>NaN</td>\n",
       "      <td>NaN</td>\n",
       "    </tr>\n",
       "  </tbody>\n",
       "</table>\n",
       "</div>"
      ],
      "text/plain": [
       "   Unnamed: 0      Id  ForumTopicId  PostUserId             PostDate  \\\n",
       "0        8427  784283         60581     4701687  03/24/2020 04:42:45   \n",
       "1        9564  784295         60581     4701687  03/24/2020 04:56:27   \n",
       "2        9579  784298         60581     4701687  03/24/2020 05:02:18   \n",
       "3       13138  784405         60581     4662825  03/24/2020 07:34:31   \n",
       "4       19987  787791         60581     3780256  03/27/2020 04:46:14   \n",
       "\n",
       "   ReplyToForumMessageId                                            Message  \\\n",
       "0                    NaN  <p><strong>Think About The Data</strong></p>\\n...   \n",
       "1               783670.0                                 <p>good point!</p>   \n",
       "2               781693.0                              <p>Nice thoughts!</p>   \n",
       "3                    NaN  <p>All fields that has year data maxes up on 2...   \n",
       "4                    NaN  <p>The dataset reflects the real estate scenar...   \n",
       "\n",
       "   Medal MedalAwardDate  \n",
       "0    NaN            NaN  \n",
       "1    NaN            NaN  \n",
       "2    NaN            NaN  \n",
       "3    NaN            NaN  \n",
       "4    NaN            NaN  "
      ]
     },
     "execution_count": 5,
     "metadata": {},
     "output_type": "execute_result"
    }
   ],
   "source": [
    "forum.head()"
   ]
  },
  {
   "cell_type": "markdown",
   "id": "2fc4b975",
   "metadata": {
    "papermill": {
     "duration": 0.008343,
     "end_time": "2022-11-20T14:56:09.792337",
     "exception": false,
     "start_time": "2022-11-20T14:56:09.783994",
     "status": "completed"
    },
    "tags": []
   },
   "source": [
    "## Preprocessing"
   ]
  },
  {
   "cell_type": "code",
   "execution_count": 6,
   "id": "bf5b9281",
   "metadata": {
    "execution": {
     "iopub.execute_input": "2022-11-20T14:56:09.811548Z",
     "iopub.status.busy": "2022-11-20T14:56:09.811223Z",
     "iopub.status.idle": "2022-11-20T14:56:09.823234Z",
     "shell.execute_reply": "2022-11-20T14:56:09.822428Z"
    },
    "papermill": {
     "duration": 0.023029,
     "end_time": "2022-11-20T14:56:09.825007",
     "exception": false,
     "start_time": "2022-11-20T14:56:09.801978",
     "status": "completed"
    },
    "tags": []
   },
   "outputs": [
    {
     "data": {
      "text/plain": [
       "0       'http://www.youtube.com/watch?v=qsXHcwe3krw|||...\n",
       "1       'I'm finding the lack of me in these posts ver...\n",
       "2       'Good one  _____   https://www.youtube.com/wat...\n",
       "3       'Dear INTP,   I enjoyed our conversation the o...\n",
       "4       'You're fired.|||That's another silly misconce...\n",
       "                              ...                        \n",
       "8670    'https://www.youtube.com/watch?v=t8edHB_h908||...\n",
       "8671    'So...if this thread already exists someplace ...\n",
       "8672    'So many questions when i do these things.  I ...\n",
       "8673    'I am very conflicted right now when it comes ...\n",
       "8674    'It has been too long since I have been on per...\n",
       "Name: posts, Length: 8675, dtype: object"
      ]
     },
     "execution_count": 6,
     "metadata": {},
     "output_type": "execute_result"
    }
   ],
   "source": [
    "train['posts']"
   ]
  },
  {
   "cell_type": "code",
   "execution_count": 7,
   "id": "a62caeb2",
   "metadata": {
    "execution": {
     "iopub.execute_input": "2022-11-20T14:56:09.844701Z",
     "iopub.status.busy": "2022-11-20T14:56:09.844150Z",
     "iopub.status.idle": "2022-11-20T14:56:09.860202Z",
     "shell.execute_reply": "2022-11-20T14:56:09.859176Z"
    },
    "papermill": {
     "duration": 0.028108,
     "end_time": "2022-11-20T14:56:09.862270",
     "exception": false,
     "start_time": "2022-11-20T14:56:09.834162",
     "status": "completed"
    },
    "tags": []
   },
   "outputs": [
    {
     "data": {
      "text/plain": [
       "array(['INFJ', 'ENTP', 'INTP', 'INTJ', 'ENTJ', 'ENFJ', 'INFP', 'ENFP',\n",
       "       'ISFP', 'ISTP', 'ISFJ', 'ISTJ', 'ESTP', 'ESFP', 'ESTJ', 'ESFJ'],\n",
       "      dtype=object)"
      ]
     },
     "execution_count": 7,
     "metadata": {},
     "output_type": "execute_result"
    }
   ],
   "source": [
    "train['type'].unique()"
   ]
  },
  {
   "cell_type": "code",
   "execution_count": 8,
   "id": "2c736814",
   "metadata": {
    "execution": {
     "iopub.execute_input": "2022-11-20T14:56:09.881431Z",
     "iopub.status.busy": "2022-11-20T14:56:09.881126Z",
     "iopub.status.idle": "2022-11-20T14:56:09.888679Z",
     "shell.execute_reply": "2022-11-20T14:56:09.887287Z"
    },
    "papermill": {
     "duration": 0.019681,
     "end_time": "2022-11-20T14:56:09.890736",
     "exception": false,
     "start_time": "2022-11-20T14:56:09.871055",
     "status": "completed"
    },
    "tags": []
   },
   "outputs": [
    {
     "data": {
      "text/plain": [
       "{'I': 'Introversion',\n",
       " 'E': 'Extroversion',\n",
       " 'N': 'Intuition',\n",
       " 'S': 'Sensing',\n",
       " 'T': 'Thinking',\n",
       " 'F': 'Feeling',\n",
       " 'J': 'Judging',\n",
       " 'P': 'Perceiving'}"
      ]
     },
     "execution_count": 8,
     "metadata": {},
     "output_type": "execute_result"
    }
   ],
   "source": [
    "mbti={'I':'Introversion','E':'Extroversion','N':'Intuition','S':'Sensing','T':'Thinking','F':'Feeling','J':'Judging','P':'Perceiving'}\n",
    "mbti"
   ]
  },
  {
   "cell_type": "code",
   "execution_count": 9,
   "id": "2dd5c93a",
   "metadata": {
    "execution": {
     "iopub.execute_input": "2022-11-20T14:56:09.909868Z",
     "iopub.status.busy": "2022-11-20T14:56:09.909471Z",
     "iopub.status.idle": "2022-11-20T14:56:09.918473Z",
     "shell.execute_reply": "2022-11-20T14:56:09.917624Z"
    },
    "papermill": {
     "duration": 0.020708,
     "end_time": "2022-11-20T14:56:09.920193",
     "exception": false,
     "start_time": "2022-11-20T14:56:09.899485",
     "status": "completed"
    },
    "tags": []
   },
   "outputs": [
    {
     "name": "stdout",
     "output_type": "stream",
     "text": [
      "INFP    1832\n",
      "INFJ    1470\n",
      "INTP    1304\n",
      "INTJ    1091\n",
      "ENTP     685\n",
      "ENFP     675\n",
      "ISTP     337\n",
      "ISFP     271\n",
      "ENTJ     231\n",
      "ISTJ     205\n",
      "ENFJ     190\n",
      "ISFJ     166\n",
      "ESTP      89\n",
      "ESFP      48\n",
      "ESFJ      42\n",
      "ESTJ      39\n",
      "Name: type, dtype: int64\n"
     ]
    }
   ],
   "source": [
    "#Now looking at the personality distrubution in the training data\n",
    "type_count=train['type'].value_counts()\n",
    "print(type_count)"
   ]
  },
  {
   "cell_type": "markdown",
   "id": "ebae356a",
   "metadata": {
    "papermill": {
     "duration": 0.008332,
     "end_time": "2022-11-20T14:56:09.937310",
     "exception": false,
     "start_time": "2022-11-20T14:56:09.928978",
     "status": "completed"
    },
    "tags": []
   },
   "source": [
    "Personality types start descending from the top to bottom"
   ]
  },
  {
   "cell_type": "code",
   "execution_count": 10,
   "id": "8ff6d991",
   "metadata": {
    "execution": {
     "iopub.execute_input": "2022-11-20T14:56:09.957669Z",
     "iopub.status.busy": "2022-11-20T14:56:09.957122Z",
     "iopub.status.idle": "2022-11-20T14:56:09.968798Z",
     "shell.execute_reply": "2022-11-20T14:56:09.967523Z"
    },
    "papermill": {
     "duration": 0.023596,
     "end_time": "2022-11-20T14:56:09.970626",
     "exception": false,
     "start_time": "2022-11-20T14:56:09.947030",
     "status": "completed"
    },
    "tags": []
   },
   "outputs": [
    {
     "name": "stdout",
     "output_type": "stream",
     "text": [
      "Missing values in test data: \n"
     ]
    },
    {
     "data": {
      "text/plain": [
       "type     0\n",
       "posts    0\n",
       "dtype: int64"
      ]
     },
     "execution_count": 10,
     "metadata": {},
     "output_type": "execute_result"
    }
   ],
   "source": [
    "print(\"Missing values in test data: \")\n",
    "train.isnull().sum()"
   ]
  },
  {
   "cell_type": "code",
   "execution_count": 11,
   "id": "c671bf62",
   "metadata": {
    "execution": {
     "iopub.execute_input": "2022-11-20T14:56:09.990561Z",
     "iopub.status.busy": "2022-11-20T14:56:09.990250Z",
     "iopub.status.idle": "2022-11-20T14:56:09.999884Z",
     "shell.execute_reply": "2022-11-20T14:56:09.999030Z"
    },
    "papermill": {
     "duration": 0.022173,
     "end_time": "2022-11-20T14:56:10.001630",
     "exception": false,
     "start_time": "2022-11-20T14:56:09.979457",
     "status": "completed"
    },
    "tags": []
   },
   "outputs": [
    {
     "name": "stdout",
     "output_type": "stream",
     "text": [
      "Missing values in form data: \n"
     ]
    },
    {
     "data": {
      "text/plain": [
       "Unnamed: 0                  0\n",
       "Id                          0\n",
       "ForumTopicId                0\n",
       "PostUserId                  0\n",
       "PostDate                    0\n",
       "ReplyToForumMessageId    1040\n",
       "Message                     4\n",
       "Medal                    1735\n",
       "MedalAwardDate           1731\n",
       "dtype: int64"
      ]
     },
     "execution_count": 11,
     "metadata": {},
     "output_type": "execute_result"
    }
   ],
   "source": [
    "print(\"Missing values in form data: \")\n",
    "forum.isnull().sum()"
   ]
  },
  {
   "cell_type": "code",
   "execution_count": 12,
   "id": "945a3092",
   "metadata": {
    "execution": {
     "iopub.execute_input": "2022-11-20T14:56:10.021687Z",
     "iopub.status.busy": "2022-11-20T14:56:10.020622Z",
     "iopub.status.idle": "2022-11-20T14:56:10.030123Z",
     "shell.execute_reply": "2022-11-20T14:56:10.029419Z"
    },
    "papermill": {
     "duration": 0.021205,
     "end_time": "2022-11-20T14:56:10.031779",
     "exception": false,
     "start_time": "2022-11-20T14:56:10.010574",
     "status": "completed"
    },
    "tags": []
   },
   "outputs": [
    {
     "data": {
      "text/plain": [
       "3.0    261\n",
       "2.0     29\n",
       "1.0     17\n",
       "Name: Medal, dtype: int64"
      ]
     },
     "execution_count": 12,
     "metadata": {},
     "output_type": "execute_result"
    }
   ],
   "source": [
    "forum['Medal'].value_counts()"
   ]
  },
  {
   "cell_type": "code",
   "execution_count": 13,
   "id": "fc2262e1",
   "metadata": {
    "execution": {
     "iopub.execute_input": "2022-11-20T14:56:10.051606Z",
     "iopub.status.busy": "2022-11-20T14:56:10.051115Z",
     "iopub.status.idle": "2022-11-20T14:56:10.060371Z",
     "shell.execute_reply": "2022-11-20T14:56:10.058798Z"
    },
    "papermill": {
     "duration": 0.021797,
     "end_time": "2022-11-20T14:56:10.062646",
     "exception": false,
     "start_time": "2022-11-20T14:56:10.040849",
     "status": "completed"
    },
    "tags": []
   },
   "outputs": [
    {
     "name": "stdout",
     "output_type": "stream",
     "text": [
      "Missing values in form data: \n",
      "Unnamed: 0                  0\n",
      "Id                          0\n",
      "ForumTopicId                0\n",
      "PostUserId                  0\n",
      "PostDate                    0\n",
      "ReplyToForumMessageId    1040\n",
      "Message                     0\n",
      "Medal                       0\n",
      "MedalAwardDate           1731\n",
      "dtype: int64\n"
     ]
    }
   ],
   "source": [
    "forum['Message']=forum['Message'].fillna('')\n",
    "forum['Medal']=forum['Medal'].fillna(0)\n",
    "\n",
    "print(\"Missing values in form data: \")\n",
    "print(forum.isnull().sum())"
   ]
  },
  {
   "cell_type": "markdown",
   "id": "2061b3b9",
   "metadata": {
    "papermill": {
     "duration": 0.008857,
     "end_time": "2022-11-20T14:56:10.080801",
     "exception": false,
     "start_time": "2022-11-20T14:56:10.071944",
     "status": "completed"
    },
    "tags": []
   },
   "source": [
    "#### Now, we will group the user by PostUserId since a particular user could have posted more than once."
   ]
  },
  {
   "cell_type": "code",
   "execution_count": 14,
   "id": "4d858739",
   "metadata": {
    "execution": {
     "iopub.execute_input": "2022-11-20T14:56:10.104246Z",
     "iopub.status.busy": "2022-11-20T14:56:10.103713Z",
     "iopub.status.idle": "2022-11-20T14:56:10.131381Z",
     "shell.execute_reply": "2022-11-20T14:56:10.129553Z"
    },
    "papermill": {
     "duration": 0.0409,
     "end_time": "2022-11-20T14:56:10.134250",
     "exception": false,
     "start_time": "2022-11-20T14:56:10.093350",
     "status": "completed"
    },
    "tags": []
   },
   "outputs": [
    {
     "data": {
      "text/plain": [
       "9028       1\n",
       "4746345    1\n",
       "4771974    1\n",
       "4770260    1\n",
       "4767344    1\n",
       "          ..\n",
       "2902238    1\n",
       "2900261    1\n",
       "2894958    1\n",
       "2891924    1\n",
       "7152530    1\n",
       "Name: PostUserId, Length: 1857, dtype: int64"
      ]
     },
     "execution_count": 14,
     "metadata": {},
     "output_type": "execute_result"
    }
   ],
   "source": [
    "forum_data = forum.groupby('PostUserId')['Message'].agg(lambda col: ' '.join(col)).reset_index()\n",
    "forum_data['PostUserId'].value_counts()"
   ]
  },
  {
   "cell_type": "code",
   "execution_count": 15,
   "id": "67ee4d61",
   "metadata": {
    "execution": {
     "iopub.execute_input": "2022-11-20T14:56:10.155814Z",
     "iopub.status.busy": "2022-11-20T14:56:10.155481Z",
     "iopub.status.idle": "2022-11-20T14:56:10.160732Z",
     "shell.execute_reply": "2022-11-20T14:56:10.160127Z"
    },
    "papermill": {
     "duration": 0.01882,
     "end_time": "2022-11-20T14:56:10.163067",
     "exception": false,
     "start_time": "2022-11-20T14:56:10.144247",
     "status": "completed"
    },
    "tags": []
   },
   "outputs": [
    {
     "data": {
      "text/plain": [
       "\"'One time my parents were fighting over my dad's affair and my dad pushed my mom. The fall broke her finger.  She's pointed a gun at him and made him get on his knees and beg for his life. She's...|||I'm gonna talk about what a piece of shit my dad is now.  He's an alcoholic and he has some kind of serious mental problem when it comes to complying with the IRS. (In his words, Laws don't apply...|||OMG...at the women's center I lived at, run by a Catholic charity, the fat bully program manager took it upon herself to change policy so that tenants were FORCED to attend the Christmas party. If...|||I don't work, but I have a calling I am 100% committed to 24/7 with no vacation or off days EVER. I'm a Kundalini mystic.  Oh, I don't get paid, either!  It's one of those destined things...|||My art teacher in high school had a stack of art school catalogs. When I saw the one for the school I ended up going to, I immediately knew that was the one. Without any research. It was like when...|||INFJ  Communication Design  Nope, too much execution, I'm a mystic now|||I got a degree from one of the best schools in the world for that field, but actually having a career in it was unsustainable because it engaged my inferior function directly.  So in my case, even...|||Absolutely|||And I don't know who TF you think in this day and age isn't familiar with employment. ??????? What planet are you living on?! And how did you ever pass kindergarten? Somebody actually employs you?...|||No, it's an issue of taking responsibility for your own sexual response. It's called self-discipline. It starts in the mind. Internalize your sexuality, then you're not at the mercy of how other...|||Oh I think I should also say, if I didn't imply or say it above, that this won't make sense if you've always been healthy -- if you were allowed to develop naturally.  This is for people who were...|||Do something out of character (inferior function immersion) -- this will put you in danger, pumping exciting danger/stress chemicals into your body. Going against the grain. It's the psychological...|||It kind of sounds believable[/QUOTE]  You guys haven't been through stuff like this? Man you've had it easy  You know, last year I spent months hauling my tales of woe around Craigslist rants and...|||HOW TO KNOW IF AN ESTP LIKES YOU  1. They put their hand down your pants|||Don't ESTPs like getting beaten with chains, too? Since you guys are immune to physicality and need as much stimulation as possible to even register being alive...  Getting beaten with chains and...|||ENFPs don't get God-oriented in crisis though|||At first I thought he was an INFJ who'd grown up in his inferior function and was living a false ESTP identity, because my life story parallels his so closely, and that's what happened to me. What...|||Sorry INFJ, fellow INFJ here, ESTPs don't care about anything but your flesh. Have you shared your body with your ESTP? They might miss that, I guess, but it's a long shot...  Physical life here on...|||Not have the ballz? I told my ESTP gf she was a parasite when I dumped her...that was AFTER she'd threatened to punch me in the mouth...|||Oh another thing! Have you ever had sex with a Te person? Te vs Fe sex. Here's how it goes down:  Te person will actually SAY TO YOU, I can't do this if you're gonna make those faces, and will...|||The only reason Te people call everything unstable is because they're TOO SENSITIVE!  They're the unstable ones!!! Can't handle a little Fe brow scrunch! Wow, grow up  That case manager also...|||You've probably been treated like shit your whole life by Te people.  I've been treated like shit just for my Fe facial expressions, and I'm a very cold, controlled person. (Capricorn moon square...|||Eternity > no time > Wen-Nefer|||You know who got defragmented? Osiris   Osiris > underworld > Pluto > shamanism, soul retrieval|||What does the exchange look like where you become more physical and less spiritual?  Or is it always less? Every time we meet I'm less and you're less? Where does that lead?       Yikes....|||I had an ISFJ mother who thought Ni stuff was scary, of the devil, or just insane, so I abandoned Ni at age 5 and learned to hate myself in an effort to stay in her good graces and avoid her wrath. ...|||Although, during Pluto transits, the whole point is to get eaten   But I'm talking about my relationship with Se on a daily basis, when it's not crisis time|||My thing that I'm into is using my inferior as a mirror...like gazing into a scrying mirror   Otherwise I just get eaten by it  IMO that's a proper Ni-Se dynamic|||Oh dear. Trees have stronger and weaker roots, but they never have just one root. Not the healthy ones anyway.  May you find balance.  *hug*[/QUOTE]   My problem has been over identification...|||The dirty people also remind me of people who don't know who they are, they are disempowered, they have no sense of their own vitality, so they're zombies. Moths attracted to a source of light (smoke...|||I've made a lot of sacrifices for my Ni|||I think the trade I'm talking about is an Se-dom meets Ni-dom thing. That sort of interaction could generally be characterized as mutual relief of burden. Or at least that's where it's easiest to...|||Do you identify with the woman who takes in the smoke?  https://www.youtube.com/watch?v=LUc_jXBD9DU  What I've noticed is that there's a trade going on between me and people I encounter (whether...|||You must decode the symbol or you will be impoverished|||I think the INFJ who tries to live a normal life is like a criminal on the run. Eventually you have enough inferior Se experiences that you're now a criminal who is surrounded by cops. You have...|||Everything outside of me is a trap.  Everything in the physical world is a trap  If I get a job, something bad will happen   If I take a walk, something bad will happen   I don't like the...|||Ok so I have an alien/ghost living inside me  It left when I was 5. From that age until 30, I had only negative changes due to constant trauma, cuz I was stuck in my inferior function. I literally...|||wow. you obviously made up your mind what advice you wanted and didn't get it so you're throwing a hissy fit. you did that in your cartoon thread too. it's gross that you're even comparing your...|||I don't even know what your situation is but I'm appalled by the invalidating responses. People who preach about gratitude have either had lives that are far too easy OR they live in denial that...|||INFJ  Daria  I think it's more of a Cap moon thing than a type thing|||The person wants to have sex with me (which is horrific, because I hate physical sex)|||I don't have a FB profile   It's definitely bad for you if you don't like your family or people you went to high school with. I fall into both of those categories.  I prefer strangers. I don't...|||Worst  Dillard's sales associate   My first month there, I reported so much theft 10 people were fired.  Store manager thanked me, ops manager told me to stop reporting so she wouldn't lose her...|||Well, I can tell you what happens when it all goes wrong...  In college, I was at a party in a dorm room. In my dorm building. There was a guy I liked, I cornered him in the bathroom and kissed...|||Ha! Not fair? My younger brother has the entire top floor of the house to himself. That's 2 bedrooms, a living area, and a full bath. All to himself. For free! Even though he makes $40,000 a year. ...|||I already talked about this elsewhere but I like saying it as much as possible because it makes people lose their minds  I only shower once a month, when my period is over. I don't shave anywhere....|||Stay on your turf then. Leave MBTI. If you're an SJ you have nothing to complain about in life because society is structured to make sure you have it easy. You don't need a tool like personality...|||Somebody mentioned not blaming personality type for lack of success or something...  For me it has helped to know the limits of my type so I can stop wanting delusional things like being a pop star...|||I used to get really annoyed because I was surrounded by people who turned everything I said into a meme. You know, like, you have a genuine complaint, and the person invalidates you by not saying...|||I think the only sustainable solution for an INFJ is to value the spirit world over the physical. Invisible support.'\""
      ]
     },
     "execution_count": 15,
     "metadata": {},
     "output_type": "execute_result"
    }
   ],
   "source": [
    "train['posts'][10]"
   ]
  },
  {
   "cell_type": "markdown",
   "id": "dddb8768",
   "metadata": {
    "papermill": {
     "duration": 0.00949,
     "end_time": "2022-11-20T14:56:10.182194",
     "exception": false,
     "start_time": "2022-11-20T14:56:10.172704",
     "status": "completed"
    },
    "tags": []
   },
   "source": [
    "## Text Cleaning"
   ]
  },
  {
   "cell_type": "code",
   "execution_count": 16,
   "id": "05f04e53",
   "metadata": {
    "execution": {
     "iopub.execute_input": "2022-11-20T14:56:10.203412Z",
     "iopub.status.busy": "2022-11-20T14:56:10.203115Z",
     "iopub.status.idle": "2022-11-20T14:56:10.209531Z",
     "shell.execute_reply": "2022-11-20T14:56:10.208435Z"
    },
    "papermill": {
     "duration": 0.018965,
     "end_time": "2022-11-20T14:56:10.211426",
     "exception": false,
     "start_time": "2022-11-20T14:56:10.192461",
     "status": "completed"
    },
    "tags": []
   },
   "outputs": [],
   "source": [
    "def text_cleaning(text):\n",
    "    text=BeautifulSoup(text,'lxml').text\n",
    "    #removing html and seperators\n",
    "    text=re.sub(r'\\|\\|\\|', r'  ', text)\n",
    "    text=re.sub(r'http\\S+', r'  ', text)\n",
    "    ### Special character removal \n",
    "    #removing puntuations\n",
    "    text=text.replace('.', '  ')\n",
    "    translator=str.maketrans('', '', string.punctuation)\n",
    "    text=text.translate(translator)\n",
    "    #removing numbers\n",
    "    text=''.join(i for i in text if not i.isdigit())\n",
    "    return text"
   ]
  },
  {
   "cell_type": "code",
   "execution_count": 17,
   "id": "3a12e722",
   "metadata": {
    "execution": {
     "iopub.execute_input": "2022-11-20T14:56:10.231620Z",
     "iopub.status.busy": "2022-11-20T14:56:10.231326Z",
     "iopub.status.idle": "2022-11-20T14:56:10.237987Z",
     "shell.execute_reply": "2022-11-20T14:56:10.236910Z"
    },
    "papermill": {
     "duration": 0.019716,
     "end_time": "2022-11-20T14:56:10.240581",
     "exception": false,
     "start_time": "2022-11-20T14:56:10.220865",
     "status": "completed"
    },
    "tags": []
   },
   "outputs": [],
   "source": [
    "## Highlight the bold words - CAPS\n",
    "\n",
    "def split_uppercase(text):\n",
    "    text_list = text.split()\n",
    "    new_list = []\n",
    "    for i in text_list:\n",
    "        if i.isupper() == False: \n",
    "            word = re.sub(r'([A-Z])', r' \\1', i)\n",
    "            new_list.append(word)\n",
    "        else:\n",
    "            word = i\n",
    "            new_list.append(word)\n",
    "    words = ' '.join(new_list)\n",
    "    return words"
   ]
  },
  {
   "cell_type": "code",
   "execution_count": 18,
   "id": "94a1090e",
   "metadata": {
    "execution": {
     "iopub.execute_input": "2022-11-20T14:56:10.261177Z",
     "iopub.status.busy": "2022-11-20T14:56:10.260796Z",
     "iopub.status.idle": "2022-11-20T14:56:10.268042Z",
     "shell.execute_reply": "2022-11-20T14:56:10.266849Z"
    },
    "papermill": {
     "duration": 0.020132,
     "end_time": "2022-11-20T14:56:10.270339",
     "exception": false,
     "start_time": "2022-11-20T14:56:10.250207",
     "status": "completed"
    },
    "tags": []
   },
   "outputs": [],
   "source": [
    "def stem_text(text):\n",
    "    stemmer = SnowballStemmer('english')\n",
    "    lemmatizer = WordNetLemmatizer()\n",
    "    words_list = word_tokenize(text)\n",
    "    new_list = []\n",
    "    for i in words_list:\n",
    "        word = stemmer.stem(i)\n",
    "        word = lemmatizer.lemmatize(word)\n",
    "        new_list.append(word)\n",
    "        \n",
    "    words = new_list\n",
    "    words = ' '.join(words)\n",
    "    return words"
   ]
  },
  {
   "cell_type": "code",
   "execution_count": 19,
   "id": "f37c482a",
   "metadata": {
    "execution": {
     "iopub.execute_input": "2022-11-20T14:56:10.291537Z",
     "iopub.status.busy": "2022-11-20T14:56:10.291241Z",
     "iopub.status.idle": "2022-11-20T14:56:10.297026Z",
     "shell.execute_reply": "2022-11-20T14:56:10.295697Z"
    },
    "papermill": {
     "duration": 0.019043,
     "end_time": "2022-11-20T14:56:10.299353",
     "exception": false,
     "start_time": "2022-11-20T14:56:10.280310",
     "status": "completed"
    },
    "tags": []
   },
   "outputs": [],
   "source": [
    "def Preprocessor(text):\n",
    "    text1=text_cleaning(text)\n",
    "    text2=split_uppercase(text1)\n",
    "    text2 = stem_text(text2)\n",
    "    return text2"
   ]
  },
  {
   "cell_type": "markdown",
   "id": "0e5b3b85",
   "metadata": {
    "papermill": {
     "duration": 0.009108,
     "end_time": "2022-11-20T14:56:10.318202",
     "exception": false,
     "start_time": "2022-11-20T14:56:10.309094",
     "status": "completed"
    },
    "tags": []
   },
   "source": [
    "## Vectorization "
   ]
  },
  {
   "cell_type": "code",
   "execution_count": 20,
   "id": "f2415a77",
   "metadata": {
    "execution": {
     "iopub.execute_input": "2022-11-20T14:56:10.338597Z",
     "iopub.status.busy": "2022-11-20T14:56:10.338284Z",
     "iopub.status.idle": "2022-11-20T14:56:10.343730Z",
     "shell.execute_reply": "2022-11-20T14:56:10.342275Z"
    },
    "papermill": {
     "duration": 0.018811,
     "end_time": "2022-11-20T14:56:10.346519",
     "exception": false,
     "start_time": "2022-11-20T14:56:10.327708",
     "status": "completed"
    },
    "tags": []
   },
   "outputs": [],
   "source": [
    "from sklearn.feature_extraction.text import TfidfVectorizer\n",
    "\n",
    "tfidf = TfidfVectorizer()"
   ]
  },
  {
   "cell_type": "code",
   "execution_count": 21,
   "id": "cadc23be",
   "metadata": {
    "execution": {
     "iopub.execute_input": "2022-11-20T14:56:10.368096Z",
     "iopub.status.busy": "2022-11-20T14:56:10.367740Z",
     "iopub.status.idle": "2022-11-20T14:56:11.969338Z",
     "shell.execute_reply": "2022-11-20T14:56:11.968277Z"
    },
    "papermill": {
     "duration": 1.614669,
     "end_time": "2022-11-20T14:56:11.970954",
     "exception": false,
     "start_time": "2022-11-20T14:56:10.356285",
     "status": "completed"
    },
    "tags": []
   },
   "outputs": [
    {
     "name": "stdout",
     "output_type": "stream",
     "text": [
      "IDF for all words in the vocabulary [1. 1. 1. 1. 1. 1. 1. 1. 1. 1. 1. 1. 1. 1. 1. 1. 1. 1. 1. 1. 1. 1. 1. 1.\n",
      " 1. 1. 1. 1. 1. 1. 1. 1. 1.]\n",
      "----------\n",
      "All words in the vocabulary ['appear', 'autorickshaw', 'be', 'bengaluru', 'blast', 'by', 'catch', 'cctv', 'confirm', 'did', 'explos', 'fire', 'follow', 'from', 'howev', 'if', 'it', 'live', 'locat', 'minor', 'news', 'not', 'offici', 'polic', 'share', 'show', 'the', 'to', 'updat', 'visual', 'wa', 'what', 'while']\n",
      "----------\n",
      "TFIDF representation for all documents in our corpus\n",
      " [[0.16012815 0.16012815 0.16012815 0.16012815 0.16012815 0.16012815\n",
      "  0.16012815 0.16012815 0.16012815 0.16012815 0.16012815 0.16012815\n",
      "  0.16012815 0.16012815 0.16012815 0.16012815 0.16012815 0.16012815\n",
      "  0.16012815 0.16012815 0.16012815 0.16012815 0.16012815 0.32025631\n",
      "  0.16012815 0.16012815 0.32025631 0.16012815 0.16012815 0.16012815\n",
      "  0.16012815 0.16012815 0.16012815]]\n",
      "----------\n",
      "Tfidf representation for text : bengaluru live news updat mangaluru blast an ‘ act of terror ’ state polic central agenc probe say dgp :\n",
      " [[0.         0.         0.         0.40824829 0.40824829 0.\n",
      "  0.         0.         0.         0.         0.         0.\n",
      "  0.         0.         0.         0.         0.         0.40824829\n",
      "  0.         0.         0.40824829 0.         0.         0.40824829\n",
      "  0.         0.         0.         0.         0.40824829 0.\n",
      "  0.         0.         0.        ]]\n"
     ]
    }
   ],
   "source": [
    "text = \"\"\"\n",
    "Bengaluru live news updates:\n",
    "While CCTV visuals from the location, shared by police, \n",
    "showed the autorickshaw catching fire following what appeared to be a minor explosion, a police official, \n",
    "however, did not confirm if it was a ‘blast.’\n",
    "\"\"\"\n",
    "t = Preprocessor(text)\n",
    "vect = tfidf.fit_transform(sent_tokenize(t))\n",
    "\n",
    "#IDF for all words in the vocabulary\n",
    "print(\"IDF for all words in the vocabulary\",tfidf.idf_)\n",
    "print(\"-\"*10)\n",
    "#All words in the vocabulary.\n",
    "print(\"All words in the vocabulary\",tfidf.get_feature_names())\n",
    "print(\"-\"*10)\n",
    "\n",
    "#TFIDF representation for all documents in our corpus \n",
    "print(\"TFIDF representation for all documents in our corpus\\n\",vect.toarray()) \n",
    "print(\"-\"*10)\n",
    "\n",
    "\n",
    "test ='''\n",
    "Bengaluru live news updates: Mangaluru blast an ‘act of terror’, state police & central agencies probing, says DGP\n",
    "'''\n",
    "T=text_cleaning(test)\n",
    "T=split_uppercase(T)\n",
    "T = stem_text(T)\n",
    "\n",
    "temp = tfidf.transform(sent_tokenize(T))\n",
    "print(\"Tfidf representation for text :\",T,\":\\n\", temp.toarray())"
   ]
  },
  {
   "cell_type": "markdown",
   "id": "d7b797e5",
   "metadata": {
    "papermill": {
     "duration": 0.008754,
     "end_time": "2022-11-20T14:56:11.988957",
     "exception": false,
     "start_time": "2022-11-20T14:56:11.980203",
     "status": "completed"
    },
    "tags": []
   },
   "source": [
    "## Create Pipeline"
   ]
  },
  {
   "cell_type": "code",
   "execution_count": 22,
   "id": "961b12f0",
   "metadata": {
    "execution": {
     "iopub.execute_input": "2022-11-20T14:56:12.009434Z",
     "iopub.status.busy": "2022-11-20T14:56:12.008828Z",
     "iopub.status.idle": "2022-11-20T14:56:12.012565Z",
     "shell.execute_reply": "2022-11-20T14:56:12.012042Z"
    },
    "papermill": {
     "duration": 0.015871,
     "end_time": "2022-11-20T14:56:12.014143",
     "exception": false,
     "start_time": "2022-11-20T14:56:11.998272",
     "status": "completed"
    },
    "tags": []
   },
   "outputs": [],
   "source": [
    "kfolds = StratifiedKFold(n_splits=5, shuffle=True, random_state=1)\n",
    "\n",
    "scoring = {'acc': 'accuracy',\n",
    "           'neg_log_loss': 'neg_log_loss',\n",
    "           'f1_micro': 'f1_micro'}"
   ]
  },
  {
   "cell_type": "markdown",
   "id": "439d7513",
   "metadata": {
    "papermill": {
     "duration": 0.009201,
     "end_time": "2022-11-20T14:56:12.032920",
     "exception": false,
     "start_time": "2022-11-20T14:56:12.023719",
     "status": "completed"
    },
    "tags": []
   },
   "source": [
    "### TFIDF"
   ]
  },
  {
   "cell_type": "code",
   "execution_count": 23,
   "id": "827ef5f4",
   "metadata": {
    "execution": {
     "iopub.execute_input": "2022-11-20T14:56:12.053318Z",
     "iopub.status.busy": "2022-11-20T14:56:12.052812Z",
     "iopub.status.idle": "2022-11-20T15:08:01.819798Z",
     "shell.execute_reply": "2022-11-20T15:08:01.818518Z"
    },
    "papermill": {
     "duration": 709.788507,
     "end_time": "2022-11-20T15:08:01.830894",
     "exception": false,
     "start_time": "2022-11-20T14:56:12.042387",
     "status": "completed"
    },
    "tags": []
   },
   "outputs": [
    {
     "name": "stdout",
     "output_type": "stream",
     "text": [
      "CPU times: user 231 ms, sys: 431 ms, total: 663 ms\n",
      "Wall time: 11min 49s\n"
     ]
    }
   ],
   "source": [
    "%%time\n",
    "#countVect=CountVectorizer(ngram_range=(1,1), stop_words='english', lowercase=True, max_features=5000)\n",
    "tfidf = TfidfVectorizer(ngram_range=(1,1), \n",
    "                        stop_words='english',\n",
    "                        preprocessor=Preprocessor,\n",
    "                        #tokenizer=None, \n",
    "                        lowercase=True, \n",
    "                        max_features=5000)\n",
    "\n",
    "countVect=CountVectorizer(ngram_range=(1,1), \n",
    "                          stop_words='english',\n",
    "                          preprocessor=Preprocessor,\n",
    "                          lowercase=True, \n",
    "                          max_features=5000)\n",
    "\n",
    "\n",
    "model = Pipeline(\n",
    "    [\n",
    "        ('Vectorize',tfidf),\n",
    "        ('lr',LogisticRegression(class_weight='balanced',C=0.005))\n",
    "    ])\n",
    "\n",
    "results=cross_validate(model, train['posts'], train['type'], cv=kfolds, scoring=scoring, n_jobs=-1)"
   ]
  },
  {
   "cell_type": "markdown",
   "id": "e7fcca0e",
   "metadata": {
    "papermill": {
     "duration": 0.009248,
     "end_time": "2022-11-20T15:08:01.849686",
     "exception": false,
     "start_time": "2022-11-20T15:08:01.840438",
     "status": "completed"
    },
    "tags": []
   },
   "source": [
    "### CountVectorizer"
   ]
  },
  {
   "cell_type": "code",
   "execution_count": 24,
   "id": "103283e3",
   "metadata": {
    "execution": {
     "iopub.execute_input": "2022-11-20T15:08:01.870388Z",
     "iopub.status.busy": "2022-11-20T15:08:01.870096Z",
     "iopub.status.idle": "2022-11-20T15:20:04.043903Z",
     "shell.execute_reply": "2022-11-20T15:20:04.043012Z"
    },
    "papermill": {
     "duration": 722.196332,
     "end_time": "2022-11-20T15:20:04.055519",
     "exception": false,
     "start_time": "2022-11-20T15:08:01.859187",
     "status": "completed"
    },
    "tags": []
   },
   "outputs": [
    {
     "name": "stdout",
     "output_type": "stream",
     "text": [
      "CPU times: user 204 ms, sys: 391 ms, total: 595 ms\n",
      "Wall time: 12min 2s\n"
     ]
    }
   ],
   "source": [
    "%%time\n",
    "#countVect=CountVectorizer(ngram_range=(1,1), stop_words='english', lowercase=True, max_features=5000)\n",
    "countVect = CountVectorizer(ngram_range=(1,1), \n",
    "                        stop_words='english',\n",
    "                        preprocessor=Preprocessor,\n",
    "                        #tokenizer=None, \n",
    "                        lowercase=True, \n",
    "                        max_features=5000)\n",
    "\n",
    "model = Pipeline(\n",
    "    [\n",
    "        ('countvectorizer',countVect),\n",
    "        ('lr',LogisticRegression(class_weight='balanced',C=0.005))\n",
    "    ])\n",
    "\n",
    "results=cross_validate(model, train['posts'], train['type'], cv=kfolds, scoring=scoring, n_jobs=-1)"
   ]
  },
  {
   "cell_type": "code",
   "execution_count": 25,
   "id": "66e4c5ef",
   "metadata": {
    "execution": {
     "iopub.execute_input": "2022-11-20T15:20:04.075944Z",
     "iopub.status.busy": "2022-11-20T15:20:04.075644Z",
     "iopub.status.idle": "2022-11-20T15:20:04.080505Z",
     "shell.execute_reply": "2022-11-20T15:20:04.079454Z"
    },
    "papermill": {
     "duration": 0.017571,
     "end_time": "2022-11-20T15:20:04.082508",
     "exception": false,
     "start_time": "2022-11-20T15:20:04.064937",
     "status": "completed"
    },
    "tags": []
   },
   "outputs": [
    {
     "name": "stdout",
     "output_type": "stream",
     "text": [
      "Accuracy: 0.61602 \n",
      "Logloss: 1.38048 \n"
     ]
    }
   ],
   "source": [
    "print(\"Accuracy: {:0.5f} \".format(np.mean(results['test_acc'])))\n",
    "print(\"Logloss: {:0.5f} \".format(np.mean(-1*results['test_neg_log_loss'])))"
   ]
  },
  {
   "cell_type": "code",
   "execution_count": 26,
   "id": "ae1d993d",
   "metadata": {
    "execution": {
     "iopub.execute_input": "2022-11-20T15:20:04.103728Z",
     "iopub.status.busy": "2022-11-20T15:20:04.103173Z",
     "iopub.status.idle": "2022-11-20T15:24:13.092063Z",
     "shell.execute_reply": "2022-11-20T15:24:13.091089Z"
    },
    "papermill": {
     "duration": 249.014666,
     "end_time": "2022-11-20T15:24:13.106768",
     "exception": false,
     "start_time": "2022-11-20T15:20:04.092102",
     "status": "completed"
    },
    "tags": []
   },
   "outputs": [
    {
     "name": "stderr",
     "output_type": "stream",
     "text": [
      "/opt/conda/lib/python3.7/site-packages/sklearn/feature_extraction/text.py:401: UserWarning: Your stop_words may be inconsistent with your preprocessing. Tokenizing the stop words generated tokens ['abov', 'afterward', 'alon', 'alreadi', 'alway', 'ani', 'anoth', 'anyon', 'anyth', 'anywher', 'becam', 'becaus', 'becom', 'befor', 'besid', 'cri', 'describ', 'dure', 'el', 'elsewher', 'empti', 'everi', 'everyon', 'everyth', 'everywher', 'fifti', 'forti', 'ha', 'henc', 'hereaft', 'herebi', 'howev', 'hundr', 'inde', 'le', 'mani', 'meanwhil', 'moreov', 'nobodi', 'noon', 'noth', 'nowher', 'onc', 'onli', 'otherwis', 'ourselv', 'perhap', 'plea', 'sever', 'sinc', 'sincer', 'sixti', 'someon', 'someth', 'sometim', 'somewher', 'themselv', 'thenc', 'thereaft', 'therebi', 'therefor', 'togeth', 'twelv', 'twenti', 'veri', 'wa', 'whatev', 'whenc', 'whenev', 'wherea', 'whereaft', 'wherebi', 'wherev', 'whi', 'yourselv'] not in stop_words.\n",
      "  % sorted(inconsistent)\n",
      "/opt/conda/lib/python3.7/site-packages/bs4/__init__.py:439: MarkupResemblesLocatorWarning: The input looks more like a filename than markup. You may want to open this file and pass the filehandle into Beautiful Soup.\n",
      "  MarkupResemblesLocatorWarning\n",
      "/opt/conda/lib/python3.7/site-packages/sklearn/feature_extraction/text.py:401: UserWarning: Your stop_words may be inconsistent with your preprocessing. Tokenizing the stop words generated tokens ['abov', 'afterward', 'alon', 'alreadi', 'alway', 'ani', 'anoth', 'anyon', 'anyth', 'anywher', 'becam', 'becaus', 'becom', 'befor', 'besid', 'cri', 'describ', 'dure', 'el', 'elsewher', 'empti', 'everi', 'everyon', 'everyth', 'everywher', 'fifti', 'forti', 'ha', 'henc', 'hereaft', 'herebi', 'howev', 'hundr', 'inde', 'le', 'mani', 'meanwhil', 'moreov', 'nobodi', 'noon', 'noth', 'nowher', 'onc', 'onli', 'otherwis', 'ourselv', 'perhap', 'plea', 'sever', 'sinc', 'sincer', 'sixti', 'someon', 'someth', 'sometim', 'somewher', 'themselv', 'thenc', 'thereaft', 'therebi', 'therefor', 'togeth', 'twelv', 'twenti', 'veri', 'wa', 'whatev', 'whenc', 'whenev', 'wherea', 'whereaft', 'wherebi', 'wherev', 'whi', 'yourselv'] not in stop_words.\n",
      "  % sorted(inconsistent)\n",
      "/opt/conda/lib/python3.7/site-packages/bs4/__init__.py:439: MarkupResemblesLocatorWarning: The input looks more like a filename than markup. You may want to open this file and pass the filehandle into Beautiful Soup.\n",
      "  MarkupResemblesLocatorWarning\n",
      "/opt/conda/lib/python3.7/site-packages/bs4/__init__.py:439: MarkupResemblesLocatorWarning: The input looks more like a filename than markup. You may want to open this file and pass the filehandle into Beautiful Soup.\n",
      "  MarkupResemblesLocatorWarning\n",
      "/opt/conda/lib/python3.7/site-packages/sklearn/feature_extraction/text.py:401: UserWarning: Your stop_words may be inconsistent with your preprocessing. Tokenizing the stop words generated tokens ['abov', 'afterward', 'alon', 'alreadi', 'alway', 'ani', 'anoth', 'anyon', 'anyth', 'anywher', 'becam', 'becaus', 'becom', 'befor', 'besid', 'cri', 'describ', 'dure', 'el', 'elsewher', 'empti', 'everi', 'everyon', 'everyth', 'everywher', 'fifti', 'forti', 'ha', 'henc', 'hereaft', 'herebi', 'howev', 'hundr', 'inde', 'le', 'mani', 'meanwhil', 'moreov', 'nobodi', 'noon', 'noth', 'nowher', 'onc', 'onli', 'otherwis', 'ourselv', 'perhap', 'plea', 'sever', 'sinc', 'sincer', 'sixti', 'someon', 'someth', 'sometim', 'somewher', 'themselv', 'thenc', 'thereaft', 'therebi', 'therefor', 'togeth', 'twelv', 'twenti', 'veri', 'wa', 'whatev', 'whenc', 'whenev', 'wherea', 'whereaft', 'wherebi', 'wherev', 'whi', 'yourselv'] not in stop_words.\n",
      "  % sorted(inconsistent)\n",
      "/opt/conda/lib/python3.7/site-packages/bs4/__init__.py:439: MarkupResemblesLocatorWarning: The input looks more like a filename than markup. You may want to open this file and pass the filehandle into Beautiful Soup.\n",
      "  MarkupResemblesLocatorWarning\n",
      "/opt/conda/lib/python3.7/site-packages/sklearn/linear_model/_logistic.py:818: ConvergenceWarning: lbfgs failed to converge (status=1):\n",
      "STOP: TOTAL NO. of ITERATIONS REACHED LIMIT.\n",
      "\n",
      "Increase the number of iterations (max_iter) or scale the data as shown in:\n",
      "    https://scikit-learn.org/stable/modules/preprocessing.html\n",
      "Please also refer to the documentation for alternative solver options:\n",
      "    https://scikit-learn.org/stable/modules/linear_model.html#logistic-regression\n",
      "  extra_warning_msg=_LOGISTIC_SOLVER_CONVERGENCE_MSG,\n",
      "/opt/conda/lib/python3.7/site-packages/sklearn/feature_extraction/text.py:401: UserWarning: Your stop_words may be inconsistent with your preprocessing. Tokenizing the stop words generated tokens ['abov', 'afterward', 'alon', 'alreadi', 'alway', 'ani', 'anoth', 'anyon', 'anyth', 'anywher', 'becam', 'becaus', 'becom', 'befor', 'besid', 'cri', 'describ', 'dure', 'el', 'elsewher', 'empti', 'everi', 'everyon', 'everyth', 'everywher', 'fifti', 'forti', 'ha', 'henc', 'hereaft', 'herebi', 'howev', 'hundr', 'inde', 'le', 'mani', 'meanwhil', 'moreov', 'nobodi', 'noon', 'noth', 'nowher', 'onc', 'onli', 'otherwis', 'ourselv', 'perhap', 'plea', 'sever', 'sinc', 'sincer', 'sixti', 'someon', 'someth', 'sometim', 'somewher', 'themselv', 'thenc', 'thereaft', 'therebi', 'therefor', 'togeth', 'twelv', 'twenti', 'veri', 'wa', 'whatev', 'whenc', 'whenev', 'wherea', 'whereaft', 'wherebi', 'wherev', 'whi', 'yourselv'] not in stop_words.\n",
      "  % sorted(inconsistent)\n",
      "/opt/conda/lib/python3.7/site-packages/bs4/__init__.py:439: MarkupResemblesLocatorWarning: The input looks more like a filename than markup. You may want to open this file and pass the filehandle into Beautiful Soup.\n",
      "  MarkupResemblesLocatorWarning\n",
      "/opt/conda/lib/python3.7/site-packages/sklearn/feature_extraction/text.py:401: UserWarning: Your stop_words may be inconsistent with your preprocessing. Tokenizing the stop words generated tokens ['abov', 'afterward', 'alon', 'alreadi', 'alway', 'ani', 'anoth', 'anyon', 'anyth', 'anywher', 'becam', 'becaus', 'becom', 'befor', 'besid', 'cri', 'describ', 'dure', 'el', 'elsewher', 'empti', 'everi', 'everyon', 'everyth', 'everywher', 'fifti', 'forti', 'ha', 'henc', 'hereaft', 'herebi', 'howev', 'hundr', 'inde', 'le', 'mani', 'meanwhil', 'moreov', 'nobodi', 'noon', 'noth', 'nowher', 'onc', 'onli', 'otherwis', 'ourselv', 'perhap', 'plea', 'sever', 'sinc', 'sincer', 'sixti', 'someon', 'someth', 'sometim', 'somewher', 'themselv', 'thenc', 'thereaft', 'therebi', 'therefor', 'togeth', 'twelv', 'twenti', 'veri', 'wa', 'whatev', 'whenc', 'whenev', 'wherea', 'whereaft', 'wherebi', 'wherev', 'whi', 'yourselv'] not in stop_words.\n",
      "  % sorted(inconsistent)\n",
      "/opt/conda/lib/python3.7/site-packages/bs4/__init__.py:439: MarkupResemblesLocatorWarning: The input looks more like a filename than markup. You may want to open this file and pass the filehandle into Beautiful Soup.\n",
      "  MarkupResemblesLocatorWarning\n",
      "/opt/conda/lib/python3.7/site-packages/sklearn/linear_model/_logistic.py:818: ConvergenceWarning: lbfgs failed to converge (status=1):\n",
      "STOP: TOTAL NO. of ITERATIONS REACHED LIMIT.\n",
      "\n",
      "Increase the number of iterations (max_iter) or scale the data as shown in:\n",
      "    https://scikit-learn.org/stable/modules/preprocessing.html\n",
      "Please also refer to the documentation for alternative solver options:\n",
      "    https://scikit-learn.org/stable/modules/linear_model.html#logistic-regression\n",
      "  extra_warning_msg=_LOGISTIC_SOLVER_CONVERGENCE_MSG,\n",
      "/opt/conda/lib/python3.7/site-packages/sklearn/feature_extraction/text.py:401: UserWarning: Your stop_words may be inconsistent with your preprocessing. Tokenizing the stop words generated tokens ['abov', 'afterward', 'alon', 'alreadi', 'alway', 'ani', 'anoth', 'anyon', 'anyth', 'anywher', 'becam', 'becaus', 'becom', 'befor', 'besid', 'cri', 'describ', 'dure', 'el', 'elsewher', 'empti', 'everi', 'everyon', 'everyth', 'everywher', 'fifti', 'forti', 'ha', 'henc', 'hereaft', 'herebi', 'howev', 'hundr', 'inde', 'le', 'mani', 'meanwhil', 'moreov', 'nobodi', 'noon', 'noth', 'nowher', 'onc', 'onli', 'otherwis', 'ourselv', 'perhap', 'plea', 'sever', 'sinc', 'sincer', 'sixti', 'someon', 'someth', 'sometim', 'somewher', 'themselv', 'thenc', 'thereaft', 'therebi', 'therefor', 'togeth', 'twelv', 'twenti', 'veri', 'wa', 'whatev', 'whenc', 'whenev', 'wherea', 'whereaft', 'wherebi', 'wherev', 'whi', 'yourselv'] not in stop_words.\n",
      "  % sorted(inconsistent)\n",
      "/opt/conda/lib/python3.7/site-packages/bs4/__init__.py:439: MarkupResemblesLocatorWarning: The input looks more like a filename than markup. You may want to open this file and pass the filehandle into Beautiful Soup.\n",
      "  MarkupResemblesLocatorWarning\n",
      "/opt/conda/lib/python3.7/site-packages/sklearn/feature_extraction/text.py:401: UserWarning: Your stop_words may be inconsistent with your preprocessing. Tokenizing the stop words generated tokens ['abov', 'afterward', 'alon', 'alreadi', 'alway', 'ani', 'anoth', 'anyon', 'anyth', 'anywher', 'becam', 'becaus', 'becom', 'befor', 'besid', 'cri', 'describ', 'dure', 'el', 'elsewher', 'empti', 'everi', 'everyon', 'everyth', 'everywher', 'fifti', 'forti', 'ha', 'henc', 'hereaft', 'herebi', 'howev', 'hundr', 'inde', 'le', 'mani', 'meanwhil', 'moreov', 'nobodi', 'noon', 'noth', 'nowher', 'onc', 'onli', 'otherwis', 'ourselv', 'perhap', 'plea', 'sever', 'sinc', 'sincer', 'sixti', 'someon', 'someth', 'sometim', 'somewher', 'themselv', 'thenc', 'thereaft', 'therebi', 'therefor', 'togeth', 'twelv', 'twenti', 'veri', 'wa', 'whatev', 'whenc', 'whenev', 'wherea', 'whereaft', 'wherebi', 'wherev', 'whi', 'yourselv'] not in stop_words.\n",
      "  % sorted(inconsistent)\n",
      "/opt/conda/lib/python3.7/site-packages/bs4/__init__.py:439: MarkupResemblesLocatorWarning: The input looks more like a filename than markup. You may want to open this file and pass the filehandle into Beautiful Soup.\n",
      "  MarkupResemblesLocatorWarning\n",
      "/opt/conda/lib/python3.7/site-packages/sklearn/linear_model/_logistic.py:818: ConvergenceWarning: lbfgs failed to converge (status=1):\n",
      "STOP: TOTAL NO. of ITERATIONS REACHED LIMIT.\n",
      "\n",
      "Increase the number of iterations (max_iter) or scale the data as shown in:\n",
      "    https://scikit-learn.org/stable/modules/preprocessing.html\n",
      "Please also refer to the documentation for alternative solver options:\n",
      "    https://scikit-learn.org/stable/modules/linear_model.html#logistic-regression\n",
      "  extra_warning_msg=_LOGISTIC_SOLVER_CONVERGENCE_MSG,\n"
     ]
    },
    {
     "name": "stdout",
     "output_type": "stream",
     "text": [
      "CPU times: user 4min 13s, sys: 34.4 s, total: 4min 47s\n",
      "Wall time: 4min 8s\n"
     ]
    },
    {
     "data": {
      "text/plain": [
       "Pipeline(steps=[('countvectorizer',\n",
       "                 CountVectorizer(max_features=5000,\n",
       "                                 preprocessor=<function Preprocessor at 0x7fc5c0a2fef0>,\n",
       "                                 stop_words='english')),\n",
       "                ('lr', LogisticRegression(C=0.005, class_weight='balanced'))])"
      ]
     },
     "execution_count": 26,
     "metadata": {},
     "output_type": "execute_result"
    }
   ],
   "source": [
    "%%time\n",
    "model.fit(train['posts'],train['type'])"
   ]
  },
  {
   "cell_type": "markdown",
   "id": "2da15357",
   "metadata": {
    "papermill": {
     "duration": 0.013566,
     "end_time": "2022-11-20T15:24:13.138262",
     "exception": false,
     "start_time": "2022-11-20T15:24:13.124696",
     "status": "completed"
    },
    "tags": []
   },
   "source": [
    "## Model Predictions"
   ]
  },
  {
   "cell_type": "code",
   "execution_count": 27,
   "id": "ca4c0bd0",
   "metadata": {
    "execution": {
     "iopub.execute_input": "2022-11-20T15:24:13.167359Z",
     "iopub.status.busy": "2022-11-20T15:24:13.167018Z",
     "iopub.status.idle": "2022-11-20T15:24:17.206009Z",
     "shell.execute_reply": "2022-11-20T15:24:17.204919Z"
    },
    "papermill": {
     "duration": 4.056223,
     "end_time": "2022-11-20T15:24:17.208264",
     "exception": false,
     "start_time": "2022-11-20T15:24:13.152041",
     "status": "completed"
    },
    "tags": []
   },
   "outputs": [],
   "source": [
    "pred=model.predict(forum_data['Message'])"
   ]
  },
  {
   "cell_type": "code",
   "execution_count": 28,
   "id": "069de1a5",
   "metadata": {
    "execution": {
     "iopub.execute_input": "2022-11-20T15:24:17.230732Z",
     "iopub.status.busy": "2022-11-20T15:24:17.230406Z",
     "iopub.status.idle": "2022-11-20T15:24:17.242285Z",
     "shell.execute_reply": "2022-11-20T15:24:17.240969Z"
    },
    "papermill": {
     "duration": 0.025722,
     "end_time": "2022-11-20T15:24:17.244665",
     "exception": false,
     "start_time": "2022-11-20T15:24:17.218943",
     "status": "completed"
    },
    "tags": []
   },
   "outputs": [
    {
     "data": {
      "text/html": [
       "<div>\n",
       "<style scoped>\n",
       "    .dataframe tbody tr th:only-of-type {\n",
       "        vertical-align: middle;\n",
       "    }\n",
       "\n",
       "    .dataframe tbody tr th {\n",
       "        vertical-align: top;\n",
       "    }\n",
       "\n",
       "    .dataframe thead th {\n",
       "        text-align: right;\n",
       "    }\n",
       "</style>\n",
       "<table border=\"1\" class=\"dataframe\">\n",
       "  <thead>\n",
       "    <tr style=\"text-align: right;\">\n",
       "      <th></th>\n",
       "      <th>Personality</th>\n",
       "      <th>Count</th>\n",
       "    </tr>\n",
       "  </thead>\n",
       "  <tbody>\n",
       "    <tr>\n",
       "      <th>0</th>\n",
       "      <td>ENFJ</td>\n",
       "      <td>4</td>\n",
       "    </tr>\n",
       "    <tr>\n",
       "      <th>1</th>\n",
       "      <td>ENFP</td>\n",
       "      <td>3</td>\n",
       "    </tr>\n",
       "    <tr>\n",
       "      <th>2</th>\n",
       "      <td>ENTJ</td>\n",
       "      <td>24</td>\n",
       "    </tr>\n",
       "    <tr>\n",
       "      <th>3</th>\n",
       "      <td>ENTP</td>\n",
       "      <td>65</td>\n",
       "    </tr>\n",
       "    <tr>\n",
       "      <th>4</th>\n",
       "      <td>ESFJ</td>\n",
       "      <td>18</td>\n",
       "    </tr>\n",
       "    <tr>\n",
       "      <th>5</th>\n",
       "      <td>ESFP</td>\n",
       "      <td>330</td>\n",
       "    </tr>\n",
       "    <tr>\n",
       "      <th>6</th>\n",
       "      <td>ESTJ</td>\n",
       "      <td>10</td>\n",
       "    </tr>\n",
       "    <tr>\n",
       "      <th>7</th>\n",
       "      <td>ESTP</td>\n",
       "      <td>18</td>\n",
       "    </tr>\n",
       "    <tr>\n",
       "      <th>8</th>\n",
       "      <td>INFJ</td>\n",
       "      <td>2</td>\n",
       "    </tr>\n",
       "    <tr>\n",
       "      <th>9</th>\n",
       "      <td>INFP</td>\n",
       "      <td>8</td>\n",
       "    </tr>\n",
       "    <tr>\n",
       "      <th>10</th>\n",
       "      <td>INTJ</td>\n",
       "      <td>833</td>\n",
       "    </tr>\n",
       "    <tr>\n",
       "      <th>11</th>\n",
       "      <td>INTP</td>\n",
       "      <td>67</td>\n",
       "    </tr>\n",
       "    <tr>\n",
       "      <th>12</th>\n",
       "      <td>ISFJ</td>\n",
       "      <td>51</td>\n",
       "    </tr>\n",
       "    <tr>\n",
       "      <th>13</th>\n",
       "      <td>ISFP</td>\n",
       "      <td>17</td>\n",
       "    </tr>\n",
       "    <tr>\n",
       "      <th>14</th>\n",
       "      <td>ISTJ</td>\n",
       "      <td>340</td>\n",
       "    </tr>\n",
       "    <tr>\n",
       "      <th>15</th>\n",
       "      <td>ISTP</td>\n",
       "      <td>67</td>\n",
       "    </tr>\n",
       "  </tbody>\n",
       "</table>\n",
       "</div>"
      ],
      "text/plain": [
       "   Personality  Count\n",
       "0         ENFJ      4\n",
       "1         ENFP      3\n",
       "2         ENTJ     24\n",
       "3         ENTP     65\n",
       "4         ESFJ     18\n",
       "5         ESFP    330\n",
       "6         ESTJ     10\n",
       "7         ESTP     18\n",
       "8         INFJ      2\n",
       "9         INFP      8\n",
       "10        INTJ    833\n",
       "11        INTP     67\n",
       "12        ISFJ     51\n",
       "13        ISFP     17\n",
       "14        ISTJ    340\n",
       "15        ISTP     67"
      ]
     },
     "execution_count": 28,
     "metadata": {},
     "output_type": "execute_result"
    }
   ],
   "source": [
    "count=np.unique(pred,return_counts=True)\n",
    "list_of_preds=list(zip(count[0],count[1]))\n",
    "pred_df=pd.DataFrame(list_of_preds, columns=['Personality','Count'])\n",
    "pred_df"
   ]
  },
  {
   "cell_type": "markdown",
   "id": "a0290a45",
   "metadata": {
    "papermill": {
     "duration": 0.010067,
     "end_time": "2022-11-20T15:24:17.265347",
     "exception": false,
     "start_time": "2022-11-20T15:24:17.255280",
     "status": "completed"
    },
    "tags": []
   },
   "source": [
    "## Observations: Plotting a Bar Graph"
   ]
  },
  {
   "cell_type": "code",
   "execution_count": 29,
   "id": "6a946380",
   "metadata": {
    "execution": {
     "iopub.execute_input": "2022-11-20T15:24:17.289259Z",
     "iopub.status.busy": "2022-11-20T15:24:17.288921Z",
     "iopub.status.idle": "2022-11-20T15:24:17.465167Z",
     "shell.execute_reply": "2022-11-20T15:24:17.463789Z"
    },
    "papermill": {
     "duration": 0.190623,
     "end_time": "2022-11-20T15:24:17.467668",
     "exception": false,
     "start_time": "2022-11-20T15:24:17.277045",
     "status": "completed"
    },
    "tags": []
   },
   "outputs": [],
   "source": [
    "#importing the libraries\n",
    "import matplotlib.pyplot as plt\n",
    "import seaborn as sns"
   ]
  },
  {
   "cell_type": "code",
   "execution_count": 30,
   "id": "452cff13",
   "metadata": {
    "execution": {
     "iopub.execute_input": "2022-11-20T15:24:17.492061Z",
     "iopub.status.busy": "2022-11-20T15:24:17.491701Z",
     "iopub.status.idle": "2022-11-20T15:24:17.759319Z",
     "shell.execute_reply": "2022-11-20T15:24:17.757942Z"
    },
    "papermill": {
     "duration": 0.283037,
     "end_time": "2022-11-20T15:24:17.761996",
     "exception": false,
     "start_time": "2022-11-20T15:24:17.478959",
     "status": "completed"
    },
    "tags": []
   },
   "outputs": [
    {
     "data": {
      "image/png": "[encoded data removed]",
      "text/plain": [
       "<Figure size 1440x576 with 1 Axes>"
      ]
     },
     "metadata": {
      "needs_background": "light"
     },
     "output_type": "display_data"
    }
   ],
   "source": [
    "pred_df.sort_values('Count', inplace=True)\n",
    "plt.figure(figsize=(20,8))\n",
    "sns.barplot(x=pred_df['Personality'], y=pred_df['Count'])\n",
    "plt.ylabel('Number of Occurrences')\n",
    "plt.xlabel('Personality')\n",
    "plt.show()"
   ]
  },
  {
   "cell_type": "markdown",
   "id": "f43b71d4",
   "metadata": {
    "papermill": {
     "duration": 0.011188,
     "end_time": "2022-11-20T15:24:17.785174",
     "exception": false,
     "start_time": "2022-11-20T15:24:17.773986",
     "status": "completed"
    },
    "tags": []
   },
   "source": [
    "#### So from the above bar graph, we can conclude that most Kaggle users have *INTJ (Introversion Intuition Thinking Judging)* type of Personality."
   ]
  }
 ],
 "metadata": {
  "kernelspec": {
   "display_name": "Python 3",
   "language": "python",
   "name": "python3"
  },
  "language_info": {
   "codemirror_mode": {
    "name": "ipython",
    "version": 3
   },
   "file_extension": ".py",
   "mimetype": "text/x-python",
   "name": "python",
   "nbconvert_exporter": "python",
   "pygments_lexer": "ipython3",
   "version": "3.7.12"
  },
  "papermill": {
   "default_parameters": {},
   "duration": 1703.543583,
   "end_time": "2022-11-20T15:24:20.420616",
   "environment_variables": {},
   "exception": null,
   "input_path": "__notebook__.ipynb",
   "output_path": "__notebook__.ipynb",
   "parameters": {},
   "start_time": "2022-11-20T14:55:56.877033",
   "version": "2.3.4"
  }
 },
 "nbformat": 4,
 "nbformat_minor": 5
}
