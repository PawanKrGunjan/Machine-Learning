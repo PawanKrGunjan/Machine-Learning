{
 "cells": [
  {
   "cell_type": "code",
   "execution_count": 1,
   "id": "ec45bd59",
   "metadata": {
    "_cell_guid": "b1076dfc-b9ad-4769-8c92-a6c4dae69d19",
    "_uuid": "8f2839f25d086af736a60e9eeb907d3b93b6e0e5",
    "execution": {
     "iopub.execute_input": "2022-09-23T15:05:28.222634Z",
     "iopub.status.busy": "2022-09-23T15:05:28.222146Z",
     "iopub.status.idle": "2022-09-23T15:05:28.236807Z",
     "shell.execute_reply": "2022-09-23T15:05:28.235339Z"
    },
    "papermill": {
     "duration": 0.027659,
     "end_time": "2022-09-23T15:05:28.239648",
     "exception": false,
     "start_time": "2022-09-23T15:05:28.211989",
     "status": "completed"
    },
    "tags": []
   },
   "outputs": [
    {
     "name": "stdout",
     "output_type": "stream",
     "text": [
      "/kaggle/input/digit-recognizer/sample_submission.csv\n",
      "/kaggle/input/digit-recognizer/train.csv\n",
      "/kaggle/input/digit-recognizer/test.csv\n"
     ]
    }
   ],
   "source": [
    "# This Python 3 environment comes with many helpful analytics libraries installed\n",
    "# It is defined by the kaggle/python Docker image: https://github.com/kaggle/docker-python\n",
    "# For example, here's several helpful packages to load\n",
    "\n",
    "import numpy as np # linear algebra\n",
    "import pandas as pd # data processing, CSV file I/O (e.g. pd.read_csv)\n",
    "\n",
    "# Input data files are available in the read-only \"../input/\" directory\n",
    "# For example, running this (by clicking run or pressing Shift+Enter) will list all files under the input directory\n",
    "\n",
    "import os\n",
    "for dirname, _, filenames in os.walk('/kaggle/input'):\n",
    "    for filename in filenames:\n",
    "        print(os.path.join(dirname, filename))\n",
    "\n",
    "# You can write up to 20GB to the current directory (/kaggle/working/) that gets preserved as output when you create a version using \"Save & Run All\" \n",
    "# You can also write temporary files to /kaggle/temp/, but they won't be saved outside of the current session"
   ]
  },
  {
   "cell_type": "markdown",
   "id": "66d4868c",
   "metadata": {
    "papermill": {
     "duration": 0.006615,
     "end_time": "2022-09-23T15:05:28.253768",
     "exception": false,
     "start_time": "2022-09-23T15:05:28.247153",
     "status": "completed"
    },
    "tags": []
   },
   "source": [
    "# Import Data"
   ]
  },
  {
   "cell_type": "code",
   "execution_count": 2,
   "id": "d0302e6e",
   "metadata": {
    "execution": {
     "iopub.execute_input": "2022-09-23T15:05:28.269264Z",
     "iopub.status.busy": "2022-09-23T15:05:28.268850Z",
     "iopub.status.idle": "2022-09-23T15:05:34.087126Z",
     "shell.execute_reply": "2022-09-23T15:05:34.086290Z"
    },
    "papermill": {
     "duration": 5.829107,
     "end_time": "2022-09-23T15:05:34.089841",
     "exception": false,
     "start_time": "2022-09-23T15:05:28.260734",
     "status": "completed"
    },
    "tags": []
   },
   "outputs": [],
   "source": [
    "train = pd.read_csv('/kaggle/input/digit-recognizer/train.csv')\n",
    "test = pd.read_csv('/kaggle/input/digit-recognizer/test.csv')"
   ]
  },
  {
   "cell_type": "code",
   "execution_count": 3,
   "id": "3731ea1e",
   "metadata": {
    "execution": {
     "iopub.execute_input": "2022-09-23T15:05:34.108290Z",
     "iopub.status.busy": "2022-09-23T15:05:34.107636Z",
     "iopub.status.idle": "2022-09-23T15:05:34.138136Z",
     "shell.execute_reply": "2022-09-23T15:05:34.137277Z"
    },
    "papermill": {
     "duration": 0.042277,
     "end_time": "2022-09-23T15:05:34.140490",
     "exception": false,
     "start_time": "2022-09-23T15:05:34.098213",
     "status": "completed"
    },
    "tags": []
   },
   "outputs": [
    {
     "data": {
      "text/html": [
       "<div>\n",
       "<style scoped>\n",
       "    .dataframe tbody tr th:only-of-type {\n",
       "        vertical-align: middle;\n",
       "    }\n",
       "\n",
       "    .dataframe tbody tr th {\n",
       "        vertical-align: top;\n",
       "    }\n",
       "\n",
       "    .dataframe thead th {\n",
       "        text-align: right;\n",
       "    }\n",
       "</style>\n",
       "<table border=\"1\" class=\"dataframe\">\n",
       "  <thead>\n",
       "    <tr style=\"text-align: right;\">\n",
       "      <th></th>\n",
       "      <th>label</th>\n",
       "      <th>pixel0</th>\n",
       "      <th>pixel1</th>\n",
       "      <th>pixel2</th>\n",
       "      <th>pixel3</th>\n",
       "      <th>pixel4</th>\n",
       "      <th>pixel5</th>\n",
       "      <th>pixel6</th>\n",
       "      <th>pixel7</th>\n",
       "      <th>pixel8</th>\n",
       "      <th>...</th>\n",
       "      <th>pixel774</th>\n",
       "      <th>pixel775</th>\n",
       "      <th>pixel776</th>\n",
       "      <th>pixel777</th>\n",
       "      <th>pixel778</th>\n",
       "      <th>pixel779</th>\n",
       "      <th>pixel780</th>\n",
       "      <th>pixel781</th>\n",
       "      <th>pixel782</th>\n",
       "      <th>pixel783</th>\n",
       "    </tr>\n",
       "  </thead>\n",
       "  <tbody>\n",
       "    <tr>\n",
       "      <th>0</th>\n",
       "      <td>1</td>\n",
       "      <td>0</td>\n",
       "      <td>0</td>\n",
       "      <td>0</td>\n",
       "      <td>0</td>\n",
       "      <td>0</td>\n",
       "      <td>0</td>\n",
       "      <td>0</td>\n",
       "      <td>0</td>\n",
       "      <td>0</td>\n",
       "      <td>...</td>\n",
       "      <td>0</td>\n",
       "      <td>0</td>\n",
       "      <td>0</td>\n",
       "      <td>0</td>\n",
       "      <td>0</td>\n",
       "      <td>0</td>\n",
       "      <td>0</td>\n",
       "      <td>0</td>\n",
       "      <td>0</td>\n",
       "      <td>0</td>\n",
       "    </tr>\n",
       "    <tr>\n",
       "      <th>1</th>\n",
       "      <td>0</td>\n",
       "      <td>0</td>\n",
       "      <td>0</td>\n",
       "      <td>0</td>\n",
       "      <td>0</td>\n",
       "      <td>0</td>\n",
       "      <td>0</td>\n",
       "      <td>0</td>\n",
       "      <td>0</td>\n",
       "      <td>0</td>\n",
       "      <td>...</td>\n",
       "      <td>0</td>\n",
       "      <td>0</td>\n",
       "      <td>0</td>\n",
       "      <td>0</td>\n",
       "      <td>0</td>\n",
       "      <td>0</td>\n",
       "      <td>0</td>\n",
       "      <td>0</td>\n",
       "      <td>0</td>\n",
       "      <td>0</td>\n",
       "    </tr>\n",
       "    <tr>\n",
       "      <th>2</th>\n",
       "      <td>1</td>\n",
       "      <td>0</td>\n",
       "      <td>0</td>\n",
       "      <td>0</td>\n",
       "      <td>0</td>\n",
       "      <td>0</td>\n",
       "      <td>0</td>\n",
       "      <td>0</td>\n",
       "      <td>0</td>\n",
       "      <td>0</td>\n",
       "      <td>...</td>\n",
       "      <td>0</td>\n",
       "      <td>0</td>\n",
       "      <td>0</td>\n",
       "      <td>0</td>\n",
       "      <td>0</td>\n",
       "      <td>0</td>\n",
       "      <td>0</td>\n",
       "      <td>0</td>\n",
       "      <td>0</td>\n",
       "      <td>0</td>\n",
       "    </tr>\n",
       "    <tr>\n",
       "      <th>3</th>\n",
       "      <td>4</td>\n",
       "      <td>0</td>\n",
       "      <td>0</td>\n",
       "      <td>0</td>\n",
       "      <td>0</td>\n",
       "      <td>0</td>\n",
       "      <td>0</td>\n",
       "      <td>0</td>\n",
       "      <td>0</td>\n",
       "      <td>0</td>\n",
       "      <td>...</td>\n",
       "      <td>0</td>\n",
       "      <td>0</td>\n",
       "      <td>0</td>\n",
       "      <td>0</td>\n",
       "      <td>0</td>\n",
       "      <td>0</td>\n",
       "      <td>0</td>\n",
       "      <td>0</td>\n",
       "      <td>0</td>\n",
       "      <td>0</td>\n",
       "    </tr>\n",
       "    <tr>\n",
       "      <th>4</th>\n",
       "      <td>0</td>\n",
       "      <td>0</td>\n",
       "      <td>0</td>\n",
       "      <td>0</td>\n",
       "      <td>0</td>\n",
       "      <td>0</td>\n",
       "      <td>0</td>\n",
       "      <td>0</td>\n",
       "      <td>0</td>\n",
       "      <td>0</td>\n",
       "      <td>...</td>\n",
       "      <td>0</td>\n",
       "      <td>0</td>\n",
       "      <td>0</td>\n",
       "      <td>0</td>\n",
       "      <td>0</td>\n",
       "      <td>0</td>\n",
       "      <td>0</td>\n",
       "      <td>0</td>\n",
       "      <td>0</td>\n",
       "      <td>0</td>\n",
       "    </tr>\n",
       "  </tbody>\n",
       "</table>\n",
       "<p>5 rows × 785 columns</p>\n",
       "</div>"
      ],
      "text/plain": [
       "   label  pixel0  pixel1  pixel2  pixel3  pixel4  pixel5  pixel6  pixel7  \\\n",
       "0      1       0       0       0       0       0       0       0       0   \n",
       "1      0       0       0       0       0       0       0       0       0   \n",
       "2      1       0       0       0       0       0       0       0       0   \n",
       "3      4       0       0       0       0       0       0       0       0   \n",
       "4      0       0       0       0       0       0       0       0       0   \n",
       "\n",
       "   pixel8  ...  pixel774  pixel775  pixel776  pixel777  pixel778  pixel779  \\\n",
       "0       0  ...         0         0         0         0         0         0   \n",
       "1       0  ...         0         0         0         0         0         0   \n",
       "2       0  ...         0         0         0         0         0         0   \n",
       "3       0  ...         0         0         0         0         0         0   \n",
       "4       0  ...         0         0         0         0         0         0   \n",
       "\n",
       "   pixel780  pixel781  pixel782  pixel783  \n",
       "0         0         0         0         0  \n",
       "1         0         0         0         0  \n",
       "2         0         0         0         0  \n",
       "3         0         0         0         0  \n",
       "4         0         0         0         0  \n",
       "\n",
       "[5 rows x 785 columns]"
      ]
     },
     "execution_count": 3,
     "metadata": {},
     "output_type": "execute_result"
    }
   ],
   "source": [
    "train.head()"
   ]
  },
  {
   "cell_type": "code",
   "execution_count": 4,
   "id": "9d53fef1",
   "metadata": {
    "execution": {
     "iopub.execute_input": "2022-09-23T15:05:34.157148Z",
     "iopub.status.busy": "2022-09-23T15:05:34.156395Z",
     "iopub.status.idle": "2022-09-23T15:05:34.176403Z",
     "shell.execute_reply": "2022-09-23T15:05:34.175301Z"
    },
    "papermill": {
     "duration": 0.030595,
     "end_time": "2022-09-23T15:05:34.178773",
     "exception": false,
     "start_time": "2022-09-23T15:05:34.148178",
     "status": "completed"
    },
    "tags": []
   },
   "outputs": [
    {
     "data": {
      "text/html": [
       "<div>\n",
       "<style scoped>\n",
       "    .dataframe tbody tr th:only-of-type {\n",
       "        vertical-align: middle;\n",
       "    }\n",
       "\n",
       "    .dataframe tbody tr th {\n",
       "        vertical-align: top;\n",
       "    }\n",
       "\n",
       "    .dataframe thead th {\n",
       "        text-align: right;\n",
       "    }\n",
       "</style>\n",
       "<table border=\"1\" class=\"dataframe\">\n",
       "  <thead>\n",
       "    <tr style=\"text-align: right;\">\n",
       "      <th></th>\n",
       "      <th>pixel0</th>\n",
       "      <th>pixel1</th>\n",
       "      <th>pixel2</th>\n",
       "      <th>pixel3</th>\n",
       "      <th>pixel4</th>\n",
       "      <th>pixel5</th>\n",
       "      <th>pixel6</th>\n",
       "      <th>pixel7</th>\n",
       "      <th>pixel8</th>\n",
       "      <th>pixel9</th>\n",
       "      <th>...</th>\n",
       "      <th>pixel774</th>\n",
       "      <th>pixel775</th>\n",
       "      <th>pixel776</th>\n",
       "      <th>pixel777</th>\n",
       "      <th>pixel778</th>\n",
       "      <th>pixel779</th>\n",
       "      <th>pixel780</th>\n",
       "      <th>pixel781</th>\n",
       "      <th>pixel782</th>\n",
       "      <th>pixel783</th>\n",
       "    </tr>\n",
       "  </thead>\n",
       "  <tbody>\n",
       "    <tr>\n",
       "      <th>0</th>\n",
       "      <td>0</td>\n",
       "      <td>0</td>\n",
       "      <td>0</td>\n",
       "      <td>0</td>\n",
       "      <td>0</td>\n",
       "      <td>0</td>\n",
       "      <td>0</td>\n",
       "      <td>0</td>\n",
       "      <td>0</td>\n",
       "      <td>0</td>\n",
       "      <td>...</td>\n",
       "      <td>0</td>\n",
       "      <td>0</td>\n",
       "      <td>0</td>\n",
       "      <td>0</td>\n",
       "      <td>0</td>\n",
       "      <td>0</td>\n",
       "      <td>0</td>\n",
       "      <td>0</td>\n",
       "      <td>0</td>\n",
       "      <td>0</td>\n",
       "    </tr>\n",
       "    <tr>\n",
       "      <th>1</th>\n",
       "      <td>0</td>\n",
       "      <td>0</td>\n",
       "      <td>0</td>\n",
       "      <td>0</td>\n",
       "      <td>0</td>\n",
       "      <td>0</td>\n",
       "      <td>0</td>\n",
       "      <td>0</td>\n",
       "      <td>0</td>\n",
       "      <td>0</td>\n",
       "      <td>...</td>\n",
       "      <td>0</td>\n",
       "      <td>0</td>\n",
       "      <td>0</td>\n",
       "      <td>0</td>\n",
       "      <td>0</td>\n",
       "      <td>0</td>\n",
       "      <td>0</td>\n",
       "      <td>0</td>\n",
       "      <td>0</td>\n",
       "      <td>0</td>\n",
       "    </tr>\n",
       "    <tr>\n",
       "      <th>2</th>\n",
       "      <td>0</td>\n",
       "      <td>0</td>\n",
       "      <td>0</td>\n",
       "      <td>0</td>\n",
       "      <td>0</td>\n",
       "      <td>0</td>\n",
       "      <td>0</td>\n",
       "      <td>0</td>\n",
       "      <td>0</td>\n",
       "      <td>0</td>\n",
       "      <td>...</td>\n",
       "      <td>0</td>\n",
       "      <td>0</td>\n",
       "      <td>0</td>\n",
       "      <td>0</td>\n",
       "      <td>0</td>\n",
       "      <td>0</td>\n",
       "      <td>0</td>\n",
       "      <td>0</td>\n",
       "      <td>0</td>\n",
       "      <td>0</td>\n",
       "    </tr>\n",
       "    <tr>\n",
       "      <th>3</th>\n",
       "      <td>0</td>\n",
       "      <td>0</td>\n",
       "      <td>0</td>\n",
       "      <td>0</td>\n",
       "      <td>0</td>\n",
       "      <td>0</td>\n",
       "      <td>0</td>\n",
       "      <td>0</td>\n",
       "      <td>0</td>\n",
       "      <td>0</td>\n",
       "      <td>...</td>\n",
       "      <td>0</td>\n",
       "      <td>0</td>\n",
       "      <td>0</td>\n",
       "      <td>0</td>\n",
       "      <td>0</td>\n",
       "      <td>0</td>\n",
       "      <td>0</td>\n",
       "      <td>0</td>\n",
       "      <td>0</td>\n",
       "      <td>0</td>\n",
       "    </tr>\n",
       "    <tr>\n",
       "      <th>4</th>\n",
       "      <td>0</td>\n",
       "      <td>0</td>\n",
       "      <td>0</td>\n",
       "      <td>0</td>\n",
       "      <td>0</td>\n",
       "      <td>0</td>\n",
       "      <td>0</td>\n",
       "      <td>0</td>\n",
       "      <td>0</td>\n",
       "      <td>0</td>\n",
       "      <td>...</td>\n",
       "      <td>0</td>\n",
       "      <td>0</td>\n",
       "      <td>0</td>\n",
       "      <td>0</td>\n",
       "      <td>0</td>\n",
       "      <td>0</td>\n",
       "      <td>0</td>\n",
       "      <td>0</td>\n",
       "      <td>0</td>\n",
       "      <td>0</td>\n",
       "    </tr>\n",
       "  </tbody>\n",
       "</table>\n",
       "<p>5 rows × 784 columns</p>\n",
       "</div>"
      ],
      "text/plain": [
       "   pixel0  pixel1  pixel2  pixel3  pixel4  pixel5  pixel6  pixel7  pixel8  \\\n",
       "0       0       0       0       0       0       0       0       0       0   \n",
       "1       0       0       0       0       0       0       0       0       0   \n",
       "2       0       0       0       0       0       0       0       0       0   \n",
       "3       0       0       0       0       0       0       0       0       0   \n",
       "4       0       0       0       0       0       0       0       0       0   \n",
       "\n",
       "   pixel9  ...  pixel774  pixel775  pixel776  pixel777  pixel778  pixel779  \\\n",
       "0       0  ...         0         0         0         0         0         0   \n",
       "1       0  ...         0         0         0         0         0         0   \n",
       "2       0  ...         0         0         0         0         0         0   \n",
       "3       0  ...         0         0         0         0         0         0   \n",
       "4       0  ...         0         0         0         0         0         0   \n",
       "\n",
       "   pixel780  pixel781  pixel782  pixel783  \n",
       "0         0         0         0         0  \n",
       "1         0         0         0         0  \n",
       "2         0         0         0         0  \n",
       "3         0         0         0         0  \n",
       "4         0         0         0         0  \n",
       "\n",
       "[5 rows x 784 columns]"
      ]
     },
     "execution_count": 4,
     "metadata": {},
     "output_type": "execute_result"
    }
   ],
   "source": [
    "test.head()"
   ]
  },
  {
   "cell_type": "code",
   "execution_count": 5,
   "id": "8f183ca3",
   "metadata": {
    "execution": {
     "iopub.execute_input": "2022-09-23T15:05:34.195713Z",
     "iopub.status.busy": "2022-09-23T15:05:34.195272Z",
     "iopub.status.idle": "2022-09-23T15:05:34.202438Z",
     "shell.execute_reply": "2022-09-23T15:05:34.201240Z"
    },
    "papermill": {
     "duration": 0.018235,
     "end_time": "2022-09-23T15:05:34.204652",
     "exception": false,
     "start_time": "2022-09-23T15:05:34.186417",
     "status": "completed"
    },
    "tags": []
   },
   "outputs": [
    {
     "data": {
      "text/plain": [
       "((42000, 785), (28000, 784))"
      ]
     },
     "execution_count": 5,
     "metadata": {},
     "output_type": "execute_result"
    }
   ],
   "source": [
    "train.shape, test.shape"
   ]
  },
  {
   "cell_type": "code",
   "execution_count": 6,
   "id": "8be62c07",
   "metadata": {
    "execution": {
     "iopub.execute_input": "2022-09-23T15:05:34.221521Z",
     "iopub.status.busy": "2022-09-23T15:05:34.221145Z",
     "iopub.status.idle": "2022-09-23T15:05:34.228395Z",
     "shell.execute_reply": "2022-09-23T15:05:34.227345Z"
    },
    "papermill": {
     "duration": 0.018377,
     "end_time": "2022-09-23T15:05:34.230653",
     "exception": false,
     "start_time": "2022-09-23T15:05:34.212276",
     "status": "completed"
    },
    "tags": []
   },
   "outputs": [
    {
     "data": {
      "text/plain": [
       "Index(['label', 'pixel0', 'pixel1', 'pixel2', 'pixel3', 'pixel4', 'pixel5',\n",
       "       'pixel6', 'pixel7', 'pixel8',\n",
       "       ...\n",
       "       'pixel774', 'pixel775', 'pixel776', 'pixel777', 'pixel778', 'pixel779',\n",
       "       'pixel780', 'pixel781', 'pixel782', 'pixel783'],\n",
       "      dtype='object', length=785)"
      ]
     },
     "execution_count": 6,
     "metadata": {},
     "output_type": "execute_result"
    }
   ],
   "source": [
    "train.columns"
   ]
  },
  {
   "cell_type": "markdown",
   "id": "129c7d63",
   "metadata": {
    "papermill": {
     "duration": 0.007431,
     "end_time": "2022-09-23T15:05:34.246752",
     "exception": false,
     "start_time": "2022-09-23T15:05:34.239321",
     "status": "completed"
    },
    "tags": []
   },
   "source": [
    "# Data Preprocessing"
   ]
  },
  {
   "cell_type": "code",
   "execution_count": 7,
   "id": "59003559",
   "metadata": {
    "execution": {
     "iopub.execute_input": "2022-09-23T15:05:34.263884Z",
     "iopub.status.busy": "2022-09-23T15:05:34.263436Z",
     "iopub.status.idle": "2022-09-23T15:05:34.269826Z",
     "shell.execute_reply": "2022-09-23T15:05:34.268779Z"
    },
    "papermill": {
     "duration": 0.017726,
     "end_time": "2022-09-23T15:05:34.272122",
     "exception": false,
     "start_time": "2022-09-23T15:05:34.254396",
     "status": "completed"
    },
    "tags": []
   },
   "outputs": [],
   "source": [
    "x_train = train.iloc[:,1:]\n",
    "y_train = train.iloc[:,0]\n",
    "\n",
    "x_test = test.iloc[:,:]"
   ]
  },
  {
   "cell_type": "code",
   "execution_count": 8,
   "id": "75ebfd12",
   "metadata": {
    "execution": {
     "iopub.execute_input": "2022-09-23T15:05:34.289190Z",
     "iopub.status.busy": "2022-09-23T15:05:34.288825Z",
     "iopub.status.idle": "2022-09-23T15:05:34.295730Z",
     "shell.execute_reply": "2022-09-23T15:05:34.294207Z"
    },
    "papermill": {
     "duration": 0.018181,
     "end_time": "2022-09-23T15:05:34.298058",
     "exception": false,
     "start_time": "2022-09-23T15:05:34.279877",
     "status": "completed"
    },
    "tags": []
   },
   "outputs": [
    {
     "data": {
      "text/plain": [
       "((42000, 784), (28000, 784), (42000,))"
      ]
     },
     "execution_count": 8,
     "metadata": {},
     "output_type": "execute_result"
    }
   ],
   "source": [
    "x_train.shape, x_test.shape, y_train.shape"
   ]
  },
  {
   "cell_type": "code",
   "execution_count": 9,
   "id": "70a54db0",
   "metadata": {
    "execution": {
     "iopub.execute_input": "2022-09-23T15:05:34.315543Z",
     "iopub.status.busy": "2022-09-23T15:05:34.315096Z",
     "iopub.status.idle": "2022-09-23T15:05:34.388759Z",
     "shell.execute_reply": "2022-09-23T15:05:34.387604Z"
    },
    "papermill": {
     "duration": 0.085218,
     "end_time": "2022-09-23T15:05:34.391168",
     "exception": false,
     "start_time": "2022-09-23T15:05:34.305950",
     "status": "completed"
    },
    "tags": []
   },
   "outputs": [
    {
     "name": "stdout",
     "output_type": "stream",
     "text": [
      "Maximum value is 255 and the minimum value is 0 in the input dataset\n"
     ]
    }
   ],
   "source": [
    "print('Maximum value is',x_train.values.max(), 'and the minimum value is',x_train.values.min(),'in the input dataset')"
   ]
  },
  {
   "cell_type": "markdown",
   "id": "ec1c8f7f",
   "metadata": {
    "papermill": {
     "duration": 0.007713,
     "end_time": "2022-09-23T15:05:34.407004",
     "exception": false,
     "start_time": "2022-09-23T15:05:34.399291",
     "status": "completed"
    },
    "tags": []
   },
   "source": [
    "### Plot images from given pixel dataset"
   ]
  },
  {
   "cell_type": "code",
   "execution_count": 10,
   "id": "b4e011b1",
   "metadata": {
    "execution": {
     "iopub.execute_input": "2022-09-23T15:05:34.424640Z",
     "iopub.status.busy": "2022-09-23T15:05:34.424231Z",
     "iopub.status.idle": "2022-09-23T15:05:36.512503Z",
     "shell.execute_reply": "2022-09-23T15:05:36.511644Z"
    },
    "papermill": {
     "duration": 2.100354,
     "end_time": "2022-09-23T15:05:36.515207",
     "exception": false,
     "start_time": "2022-09-23T15:05:34.414853",
     "status": "completed"
    },
    "tags": []
   },
   "outputs": [
    {
     "data": {
      "image/png": "[encoded data removed]",
      "text/plain": [
       "<Figure size 1440x864 with 50 Axes>"
      ]
     },
     "metadata": {},
     "output_type": "display_data"
    }
   ],
   "source": [
    "import matplotlib.pyplot as plt\n",
    "plt.figure(figsize = (20,12))\n",
    "for i in range(50):\n",
    "    plt.subplot(5,10,i+1)\n",
    "    plt.xticks([])\n",
    "    plt.yticks([])\n",
    "    plt.grid(True)\n",
    "    plt.imshow(np.array(x_train.iloc[i]).reshape(28,28), cmap=plt.cm.binary)\n",
    "    plt.xlabel(y_train[i], fontsize = 21)\n",
    "plt.show()"
   ]
  },
  {
   "cell_type": "markdown",
   "id": "88b58d75",
   "metadata": {
    "papermill": {
     "duration": 0.008528,
     "end_time": "2022-09-23T15:05:36.533340",
     "exception": false,
     "start_time": "2022-09-23T15:05:36.524812",
     "status": "completed"
    },
    "tags": []
   },
   "source": [
    "# Feature Engineering"
   ]
  },
  {
   "cell_type": "markdown",
   "id": "068a9d9a",
   "metadata": {
    "papermill": {
     "duration": 0.008673,
     "end_time": "2022-09-23T15:05:36.550779",
     "exception": false,
     "start_time": "2022-09-23T15:05:36.542106",
     "status": "completed"
    },
    "tags": []
   },
   "source": [
    "##### Rotate by 15, change the height by 0.1, zoom by 0.1, shear by 0.1 the digit image with keras Image Data Generator"
   ]
  },
  {
   "cell_type": "code",
   "execution_count": 11,
   "id": "97b4bfe8",
   "metadata": {
    "execution": {
     "iopub.execute_input": "2022-09-23T15:05:36.570666Z",
     "iopub.status.busy": "2022-09-23T15:05:36.570218Z",
     "iopub.status.idle": "2022-09-23T15:05:43.678902Z",
     "shell.execute_reply": "2022-09-23T15:05:43.677742Z"
    },
    "papermill": {
     "duration": 7.121809,
     "end_time": "2022-09-23T15:05:43.681597",
     "exception": false,
     "start_time": "2022-09-23T15:05:36.559788",
     "status": "completed"
    },
    "tags": []
   },
   "outputs": [],
   "source": [
    "from keras.preprocessing.image import ImageDataGenerator\n",
    "\n",
    "datagen = ImageDataGenerator(rotation_range= 15,\n",
    "                            height_shift_range=0.1,\n",
    "                            zoom_range=0.1,\n",
    "                            shear_range=0.1\n",
    "                            )"
   ]
  },
  {
   "cell_type": "markdown",
   "id": "a6da0d3c",
   "metadata": {
    "papermill": {
     "duration": 0.008573,
     "end_time": "2022-09-23T15:05:43.699255",
     "exception": false,
     "start_time": "2022-09-23T15:05:43.690682",
     "status": "completed"
    },
    "tags": []
   },
   "source": [
    "#### Reshape the input values into(1,28,28,1) shape to pass in dataget"
   ]
  },
  {
   "cell_type": "code",
   "execution_count": 12,
   "id": "0457b136",
   "metadata": {
    "execution": {
     "iopub.execute_input": "2022-09-23T15:05:43.719010Z",
     "iopub.status.busy": "2022-09-23T15:05:43.718277Z",
     "iopub.status.idle": "2022-09-23T15:05:43.726898Z",
     "shell.execute_reply": "2022-09-23T15:05:43.725510Z"
    },
    "papermill": {
     "duration": 0.02114,
     "end_time": "2022-09-23T15:05:43.729220",
     "exception": false,
     "start_time": "2022-09-23T15:05:43.708080",
     "status": "completed"
    },
    "tags": []
   },
   "outputs": [
    {
     "data": {
      "text/plain": [
       "(42000, 28, 28, 1)"
      ]
     },
     "execution_count": 12,
     "metadata": {},
     "output_type": "execute_result"
    }
   ],
   "source": [
    "input_datagen = x_train.values.reshape(-1,28,28,1)\n",
    "input_datagen.shape"
   ]
  },
  {
   "cell_type": "code",
   "execution_count": 13,
   "id": "2030d368",
   "metadata": {
    "execution": {
     "iopub.execute_input": "2022-09-23T15:05:43.749482Z",
     "iopub.status.busy": "2022-09-23T15:05:43.749073Z",
     "iopub.status.idle": "2022-09-23T15:05:43.888865Z",
     "shell.execute_reply": "2022-09-23T15:05:43.887631Z"
    },
    "papermill": {
     "duration": 0.153183,
     "end_time": "2022-09-23T15:05:43.891575",
     "exception": false,
     "start_time": "2022-09-23T15:05:43.738392",
     "status": "completed"
    },
    "tags": []
   },
   "outputs": [],
   "source": [
    "datagen.fit(input_datagen)"
   ]
  },
  {
   "cell_type": "markdown",
   "id": "17c6a58b",
   "metadata": {
    "papermill": {
     "duration": 0.008813,
     "end_time": "2022-09-23T15:05:43.909927",
     "exception": false,
     "start_time": "2022-09-23T15:05:43.901114",
     "status": "completed"
    },
    "tags": []
   },
   "source": [
    "### Again reshape the input into 1 X 784 to fit in K Nearest Neighbour"
   ]
  },
  {
   "cell_type": "code",
   "execution_count": 14,
   "id": "96be3862",
   "metadata": {
    "execution": {
     "iopub.execute_input": "2022-09-23T15:05:43.929696Z",
     "iopub.status.busy": "2022-09-23T15:05:43.929283Z",
     "iopub.status.idle": "2022-09-23T15:05:43.934786Z",
     "shell.execute_reply": "2022-09-23T15:05:43.933553Z"
    },
    "papermill": {
     "duration": 0.018179,
     "end_time": "2022-09-23T15:05:43.937092",
     "exception": false,
     "start_time": "2022-09-23T15:05:43.918913",
     "status": "completed"
    },
    "tags": []
   },
   "outputs": [],
   "source": [
    "x_train = input_datagen.reshape(-1,784)"
   ]
  },
  {
   "cell_type": "markdown",
   "id": "31652ffa",
   "metadata": {
    "papermill": {
     "duration": 0.008849,
     "end_time": "2022-09-23T15:05:43.955022",
     "exception": false,
     "start_time": "2022-09-23T15:05:43.946173",
     "status": "completed"
    },
    "tags": []
   },
   "source": [
    "# Model building"
   ]
  },
  {
   "cell_type": "code",
   "execution_count": 15,
   "id": "6bdffe69",
   "metadata": {
    "execution": {
     "iopub.execute_input": "2022-09-23T15:05:43.975659Z",
     "iopub.status.busy": "2022-09-23T15:05:43.975205Z",
     "iopub.status.idle": "2022-09-23T15:05:44.870375Z",
     "shell.execute_reply": "2022-09-23T15:05:44.868966Z"
    },
    "papermill": {
     "duration": 0.908607,
     "end_time": "2022-09-23T15:05:44.873112",
     "exception": false,
     "start_time": "2022-09-23T15:05:43.964505",
     "status": "completed"
    },
    "tags": []
   },
   "outputs": [],
   "source": [
    "from sklearn.neighbors import KNeighborsClassifier"
   ]
  },
  {
   "cell_type": "code",
   "execution_count": 16,
   "id": "8ba3832f",
   "metadata": {
    "execution": {
     "iopub.execute_input": "2022-09-23T15:05:44.893111Z",
     "iopub.status.busy": "2022-09-23T15:05:44.892714Z",
     "iopub.status.idle": "2022-09-23T15:05:44.907270Z",
     "shell.execute_reply": "2022-09-23T15:05:44.906035Z"
    },
    "papermill": {
     "duration": 0.02741,
     "end_time": "2022-09-23T15:05:44.909668",
     "exception": false,
     "start_time": "2022-09-23T15:05:44.882258",
     "status": "completed"
    },
    "tags": []
   },
   "outputs": [
    {
     "data": {
      "text/plain": [
       "KNeighborsClassifier()"
      ]
     },
     "execution_count": 16,
     "metadata": {},
     "output_type": "execute_result"
    }
   ],
   "source": [
    "knn = KNeighborsClassifier(n_neighbors=5)\n",
    "knn.fit(x_train, y_train)"
   ]
  },
  {
   "cell_type": "code",
   "execution_count": 17,
   "id": "158fc264",
   "metadata": {
    "execution": {
     "iopub.execute_input": "2022-09-23T15:05:44.929682Z",
     "iopub.status.busy": "2022-09-23T15:05:44.929274Z",
     "iopub.status.idle": "2022-09-23T15:05:44.934202Z",
     "shell.execute_reply": "2022-09-23T15:05:44.933218Z"
    },
    "papermill": {
     "duration": 0.017832,
     "end_time": "2022-09-23T15:05:44.936551",
     "exception": false,
     "start_time": "2022-09-23T15:05:44.918719",
     "status": "completed"
    },
    "tags": []
   },
   "outputs": [],
   "source": [
    "import warnings\n",
    "warnings.filterwarnings('ignore')"
   ]
  },
  {
   "cell_type": "markdown",
   "id": "04086ba2",
   "metadata": {
    "papermill": {
     "duration": 0.008757,
     "end_time": "2022-09-23T15:05:44.954557",
     "exception": false,
     "start_time": "2022-09-23T15:05:44.945800",
     "status": "completed"
    },
    "tags": []
   },
   "source": [
    "# Predict the Label"
   ]
  },
  {
   "cell_type": "code",
   "execution_count": 18,
   "id": "191176b2",
   "metadata": {
    "execution": {
     "iopub.execute_input": "2022-09-23T15:05:44.975289Z",
     "iopub.status.busy": "2022-09-23T15:05:44.974914Z",
     "iopub.status.idle": "2022-09-23T15:06:36.016408Z",
     "shell.execute_reply": "2022-09-23T15:06:36.014825Z"
    },
    "papermill": {
     "duration": 51.064698,
     "end_time": "2022-09-23T15:06:36.028767",
     "exception": false,
     "start_time": "2022-09-23T15:05:44.964069",
     "status": "completed"
    },
    "tags": []
   },
   "outputs": [
    {
     "data": {
      "text/plain": [
       "array([2, 0, 9, 9, 3, 7, 0, 3, 0, 3])"
      ]
     },
     "execution_count": 18,
     "metadata": {},
     "output_type": "execute_result"
    }
   ],
   "source": [
    "label = knn.predict(x_test.values.reshape(-1,784))\n",
    "label[:10]"
   ]
  },
  {
   "cell_type": "markdown",
   "id": "0ee00912",
   "metadata": {
    "papermill": {
     "duration": 0.009293,
     "end_time": "2022-09-23T15:06:36.047441",
     "exception": false,
     "start_time": "2022-09-23T15:06:36.038148",
     "status": "completed"
    },
    "tags": []
   },
   "source": [
    "## Check the predicted label\n",
    "#### Plot the test image with predicted label"
   ]
  },
  {
   "cell_type": "code",
   "execution_count": 19,
   "id": "d397179d",
   "metadata": {
    "execution": {
     "iopub.execute_input": "2022-09-23T15:06:36.068054Z",
     "iopub.status.busy": "2022-09-23T15:06:36.067634Z",
     "iopub.status.idle": "2022-09-23T15:06:40.521493Z",
     "shell.execute_reply": "2022-09-23T15:06:40.520366Z"
    },
    "papermill": {
     "duration": 4.467991,
     "end_time": "2022-09-23T15:06:40.524880",
     "exception": false,
     "start_time": "2022-09-23T15:06:36.056889",
     "status": "completed"
    },
    "tags": []
   },
   "outputs": [
    {
     "data": {
      "image/png": "[encoded data removed]",
      "text/plain": [
       "<Figure size 2880x792 with 100 Axes>"
      ]
     },
     "metadata": {},
     "output_type": "display_data"
    }
   ],
   "source": [
    "plt.figure(figsize = (40,11))\n",
    "for i in range(100):\n",
    "    plt.subplot(5,20,i+1)\n",
    "    plt.xticks([])\n",
    "    plt.yticks([])\n",
    "    plt.grid(True)\n",
    "    plt.imshow(np.array(x_test.iloc[i]).reshape(28,28), cmap=plt.cm.binary)\n",
    "    plt.xlabel(label[i], fontsize= 15)\n",
    "plt.show()"
   ]
  },
  {
   "cell_type": "markdown",
   "id": "dcc495dc",
   "metadata": {
    "papermill": {
     "duration": 0.010275,
     "end_time": "2022-09-23T15:06:40.545833",
     "exception": false,
     "start_time": "2022-09-23T15:06:40.535558",
     "status": "completed"
    },
    "tags": []
   },
   "source": [
    "# Submission"
   ]
  },
  {
   "cell_type": "code",
   "execution_count": 20,
   "id": "e1f08e08",
   "metadata": {
    "execution": {
     "iopub.execute_input": "2022-09-23T15:06:40.569278Z",
     "iopub.status.busy": "2022-09-23T15:06:40.568081Z",
     "iopub.status.idle": "2022-09-23T15:06:40.655873Z",
     "shell.execute_reply": "2022-09-23T15:06:40.654627Z"
    },
    "papermill": {
     "duration": 0.102083,
     "end_time": "2022-09-23T15:06:40.658303",
     "exception": false,
     "start_time": "2022-09-23T15:06:40.556220",
     "status": "completed"
    },
    "tags": []
   },
   "outputs": [
    {
     "data": {
      "text/html": [
       "<div>\n",
       "<style scoped>\n",
       "    .dataframe tbody tr th:only-of-type {\n",
       "        vertical-align: middle;\n",
       "    }\n",
       "\n",
       "    .dataframe tbody tr th {\n",
       "        vertical-align: top;\n",
       "    }\n",
       "\n",
       "    .dataframe thead th {\n",
       "        text-align: right;\n",
       "    }\n",
       "</style>\n",
       "<table border=\"1\" class=\"dataframe\">\n",
       "  <thead>\n",
       "    <tr style=\"text-align: right;\">\n",
       "      <th></th>\n",
       "      <th>ImageId</th>\n",
       "      <th>Label</th>\n",
       "    </tr>\n",
       "  </thead>\n",
       "  <tbody>\n",
       "    <tr>\n",
       "      <th>0</th>\n",
       "      <td>1</td>\n",
       "      <td>2</td>\n",
       "    </tr>\n",
       "    <tr>\n",
       "      <th>1</th>\n",
       "      <td>2</td>\n",
       "      <td>0</td>\n",
       "    </tr>\n",
       "    <tr>\n",
       "      <th>2</th>\n",
       "      <td>3</td>\n",
       "      <td>9</td>\n",
       "    </tr>\n",
       "    <tr>\n",
       "      <th>3</th>\n",
       "      <td>4</td>\n",
       "      <td>9</td>\n",
       "    </tr>\n",
       "    <tr>\n",
       "      <th>4</th>\n",
       "      <td>5</td>\n",
       "      <td>3</td>\n",
       "    </tr>\n",
       "    <tr>\n",
       "      <th>...</th>\n",
       "      <td>...</td>\n",
       "      <td>...</td>\n",
       "    </tr>\n",
       "    <tr>\n",
       "      <th>27995</th>\n",
       "      <td>27996</td>\n",
       "      <td>9</td>\n",
       "    </tr>\n",
       "    <tr>\n",
       "      <th>27996</th>\n",
       "      <td>27997</td>\n",
       "      <td>7</td>\n",
       "    </tr>\n",
       "    <tr>\n",
       "      <th>27997</th>\n",
       "      <td>27998</td>\n",
       "      <td>3</td>\n",
       "    </tr>\n",
       "    <tr>\n",
       "      <th>27998</th>\n",
       "      <td>27999</td>\n",
       "      <td>9</td>\n",
       "    </tr>\n",
       "    <tr>\n",
       "      <th>27999</th>\n",
       "      <td>28000</td>\n",
       "      <td>2</td>\n",
       "    </tr>\n",
       "  </tbody>\n",
       "</table>\n",
       "<p>28000 rows × 2 columns</p>\n",
       "</div>"
      ],
      "text/plain": [
       "       ImageId  Label\n",
       "0            1      2\n",
       "1            2      0\n",
       "2            3      9\n",
       "3            4      9\n",
       "4            5      3\n",
       "...        ...    ...\n",
       "27995    27996      9\n",
       "27996    27997      7\n",
       "27997    27998      3\n",
       "27998    27999      9\n",
       "27999    28000      2\n",
       "\n",
       "[28000 rows x 2 columns]"
      ]
     },
     "execution_count": 20,
     "metadata": {},
     "output_type": "execute_result"
    }
   ],
   "source": [
    "submission = pd.read_csv('/kaggle/input/digit-recognizer/sample_submission.csv')\n",
    "submission['Label']=label\n",
    "submission.to_csv('submission.csv', index = False)\n",
    "pd.read_csv('submission.csv')"
   ]
  }
 ],
 "metadata": {
  "kernelspec": {
   "display_name": "Python 3",
   "language": "python",
   "name": "python3"
  },
  "language_info": {
   "codemirror_mode": {
    "name": "ipython",
    "version": 3
   },
   "file_extension": ".py",
   "mimetype": "text/x-python",
   "name": "python",
   "nbconvert_exporter": "python",
   "pygments_lexer": "ipython3",
   "version": "3.7.12"
  },
  "papermill": {
   "default_parameters": {},
   "duration": 85.185296,
   "end_time": "2022-09-23T15:06:44.031670",
   "environment_variables": {},
   "exception": null,
   "input_path": "__notebook__.ipynb",
   "output_path": "__notebook__.ipynb",
   "parameters": {},
   "start_time": "2022-09-23T15:05:18.846374",
   "version": "2.3.4"
  }
 },
 "nbformat": 4,
 "nbformat_minor": 5
}
