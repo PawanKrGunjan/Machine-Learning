{
 "cells": [
  {
   "cell_type": "code",
   "execution_count": 1,
   "id": "0fa53f48",
   "metadata": {
    "_cell_guid": "b1076dfc-b9ad-4769-8c92-a6c4dae69d19",
    "_uuid": "8f2839f25d086af736a60e9eeb907d3b93b6e0e5",
    "execution": {
     "iopub.execute_input": "2022-09-23T14:55:24.059461Z",
     "iopub.status.busy": "2022-09-23T14:55:24.058582Z",
     "iopub.status.idle": "2022-09-23T14:55:24.075371Z",
     "shell.execute_reply": "2022-09-23T14:55:24.074231Z"
    },
    "papermill": {
     "duration": 0.030805,
     "end_time": "2022-09-23T14:55:24.079271",
     "exception": false,
     "start_time": "2022-09-23T14:55:24.048466",
     "status": "completed"
    },
    "tags": []
   },
   "outputs": [
    {
     "name": "stdout",
     "output_type": "stream",
     "text": [
      "/kaggle/input/digit-recognizer/sample_submission.csv\n",
      "/kaggle/input/digit-recognizer/train.csv\n",
      "/kaggle/input/digit-recognizer/test.csv\n"
     ]
    }
   ],
   "source": [
    "# This Python 3 environment comes with many helpful analytics libraries installed\n",
    "# It is defined by the kaggle/python Docker image: https://github.com/kaggle/docker-python\n",
    "# For example, here's several helpful packages to load\n",
    "\n",
    "import numpy as np # linear algebra\n",
    "import pandas as pd # data processing, CSV file I/O (e.g. pd.read_csv)\n",
    "\n",
    "# Input data files are available in the read-only \"../input/\" directory\n",
    "# For example, running this (by clicking run or pressing Shift+Enter) will list all files under the input directory\n",
    "\n",
    "import os\n",
    "for dirname, _, filenames in os.walk('/kaggle/input'):\n",
    "    for filename in filenames:\n",
    "        print(os.path.join(dirname, filename))\n",
    "\n",
    "# You can write up to 20GB to the current directory (/kaggle/working/) that gets preserved as output when you create a version using \"Save & Run All\" \n",
    "# You can also write temporary files to /kaggle/temp/, but they won't be saved outside of the current session"
   ]
  },
  {
   "cell_type": "markdown",
   "id": "eb60ab53",
   "metadata": {
    "papermill": {
     "duration": 0.008127,
     "end_time": "2022-09-23T14:55:24.094948",
     "exception": false,
     "start_time": "2022-09-23T14:55:24.086821",
     "status": "completed"
    },
    "tags": []
   },
   "source": [
    "# Import Data"
   ]
  },
  {
   "cell_type": "code",
   "execution_count": 2,
   "id": "d4fb79da",
   "metadata": {
    "execution": {
     "iopub.execute_input": "2022-09-23T14:55:24.114165Z",
     "iopub.status.busy": "2022-09-23T14:55:24.113414Z",
     "iopub.status.idle": "2022-09-23T14:55:29.885177Z",
     "shell.execute_reply": "2022-09-23T14:55:29.884128Z"
    },
    "papermill": {
     "duration": 5.785785,
     "end_time": "2022-09-23T14:55:29.887960",
     "exception": false,
     "start_time": "2022-09-23T14:55:24.102175",
     "status": "completed"
    },
    "tags": []
   },
   "outputs": [],
   "source": [
    "train = pd.read_csv('/kaggle/input/digit-recognizer/train.csv')\n",
    "test = pd.read_csv('/kaggle/input/digit-recognizer/test.csv')"
   ]
  },
  {
   "cell_type": "code",
   "execution_count": 3,
   "id": "856f428e",
   "metadata": {
    "execution": {
     "iopub.execute_input": "2022-09-23T14:55:29.903693Z",
     "iopub.status.busy": "2022-09-23T14:55:29.902917Z",
     "iopub.status.idle": "2022-09-23T14:55:29.933672Z",
     "shell.execute_reply": "2022-09-23T14:55:29.932554Z"
    },
    "papermill": {
     "duration": 0.041382,
     "end_time": "2022-09-23T14:55:29.936283",
     "exception": false,
     "start_time": "2022-09-23T14:55:29.894901",
     "status": "completed"
    },
    "tags": []
   },
   "outputs": [
    {
     "data": {
      "text/html": [
       "<div>\n",
       "<style scoped>\n",
       "    .dataframe tbody tr th:only-of-type {\n",
       "        vertical-align: middle;\n",
       "    }\n",
       "\n",
       "    .dataframe tbody tr th {\n",
       "        vertical-align: top;\n",
       "    }\n",
       "\n",
       "    .dataframe thead th {\n",
       "        text-align: right;\n",
       "    }\n",
       "</style>\n",
       "<table border=\"1\" class=\"dataframe\">\n",
       "  <thead>\n",
       "    <tr style=\"text-align: right;\">\n",
       "      <th></th>\n",
       "      <th>label</th>\n",
       "      <th>pixel0</th>\n",
       "      <th>pixel1</th>\n",
       "      <th>pixel2</th>\n",
       "      <th>pixel3</th>\n",
       "      <th>pixel4</th>\n",
       "      <th>pixel5</th>\n",
       "      <th>pixel6</th>\n",
       "      <th>pixel7</th>\n",
       "      <th>pixel8</th>\n",
       "      <th>...</th>\n",
       "      <th>pixel774</th>\n",
       "      <th>pixel775</th>\n",
       "      <th>pixel776</th>\n",
       "      <th>pixel777</th>\n",
       "      <th>pixel778</th>\n",
       "      <th>pixel779</th>\n",
       "      <th>pixel780</th>\n",
       "      <th>pixel781</th>\n",
       "      <th>pixel782</th>\n",
       "      <th>pixel783</th>\n",
       "    </tr>\n",
       "  </thead>\n",
       "  <tbody>\n",
       "    <tr>\n",
       "      <th>0</th>\n",
       "      <td>1</td>\n",
       "      <td>0</td>\n",
       "      <td>0</td>\n",
       "      <td>0</td>\n",
       "      <td>0</td>\n",
       "      <td>0</td>\n",
       "      <td>0</td>\n",
       "      <td>0</td>\n",
       "      <td>0</td>\n",
       "      <td>0</td>\n",
       "      <td>...</td>\n",
       "      <td>0</td>\n",
       "      <td>0</td>\n",
       "      <td>0</td>\n",
       "      <td>0</td>\n",
       "      <td>0</td>\n",
       "      <td>0</td>\n",
       "      <td>0</td>\n",
       "      <td>0</td>\n",
       "      <td>0</td>\n",
       "      <td>0</td>\n",
       "    </tr>\n",
       "    <tr>\n",
       "      <th>1</th>\n",
       "      <td>0</td>\n",
       "      <td>0</td>\n",
       "      <td>0</td>\n",
       "      <td>0</td>\n",
       "      <td>0</td>\n",
       "      <td>0</td>\n",
       "      <td>0</td>\n",
       "      <td>0</td>\n",
       "      <td>0</td>\n",
       "      <td>0</td>\n",
       "      <td>...</td>\n",
       "      <td>0</td>\n",
       "      <td>0</td>\n",
       "      <td>0</td>\n",
       "      <td>0</td>\n",
       "      <td>0</td>\n",
       "      <td>0</td>\n",
       "      <td>0</td>\n",
       "      <td>0</td>\n",
       "      <td>0</td>\n",
       "      <td>0</td>\n",
       "    </tr>\n",
       "    <tr>\n",
       "      <th>2</th>\n",
       "      <td>1</td>\n",
       "      <td>0</td>\n",
       "      <td>0</td>\n",
       "      <td>0</td>\n",
       "      <td>0</td>\n",
       "      <td>0</td>\n",
       "      <td>0</td>\n",
       "      <td>0</td>\n",
       "      <td>0</td>\n",
       "      <td>0</td>\n",
       "      <td>...</td>\n",
       "      <td>0</td>\n",
       "      <td>0</td>\n",
       "      <td>0</td>\n",
       "      <td>0</td>\n",
       "      <td>0</td>\n",
       "      <td>0</td>\n",
       "      <td>0</td>\n",
       "      <td>0</td>\n",
       "      <td>0</td>\n",
       "      <td>0</td>\n",
       "    </tr>\n",
       "    <tr>\n",
       "      <th>3</th>\n",
       "      <td>4</td>\n",
       "      <td>0</td>\n",
       "      <td>0</td>\n",
       "      <td>0</td>\n",
       "      <td>0</td>\n",
       "      <td>0</td>\n",
       "      <td>0</td>\n",
       "      <td>0</td>\n",
       "      <td>0</td>\n",
       "      <td>0</td>\n",
       "      <td>...</td>\n",
       "      <td>0</td>\n",
       "      <td>0</td>\n",
       "      <td>0</td>\n",
       "      <td>0</td>\n",
       "      <td>0</td>\n",
       "      <td>0</td>\n",
       "      <td>0</td>\n",
       "      <td>0</td>\n",
       "      <td>0</td>\n",
       "      <td>0</td>\n",
       "    </tr>\n",
       "    <tr>\n",
       "      <th>4</th>\n",
       "      <td>0</td>\n",
       "      <td>0</td>\n",
       "      <td>0</td>\n",
       "      <td>0</td>\n",
       "      <td>0</td>\n",
       "      <td>0</td>\n",
       "      <td>0</td>\n",
       "      <td>0</td>\n",
       "      <td>0</td>\n",
       "      <td>0</td>\n",
       "      <td>...</td>\n",
       "      <td>0</td>\n",
       "      <td>0</td>\n",
       "      <td>0</td>\n",
       "      <td>0</td>\n",
       "      <td>0</td>\n",
       "      <td>0</td>\n",
       "      <td>0</td>\n",
       "      <td>0</td>\n",
       "      <td>0</td>\n",
       "      <td>0</td>\n",
       "    </tr>\n",
       "  </tbody>\n",
       "</table>\n",
       "<p>5 rows × 785 columns</p>\n",
       "</div>"
      ],
      "text/plain": [
       "   label  pixel0  pixel1  pixel2  pixel3  pixel4  pixel5  pixel6  pixel7  \\\n",
       "0      1       0       0       0       0       0       0       0       0   \n",
       "1      0       0       0       0       0       0       0       0       0   \n",
       "2      1       0       0       0       0       0       0       0       0   \n",
       "3      4       0       0       0       0       0       0       0       0   \n",
       "4      0       0       0       0       0       0       0       0       0   \n",
       "\n",
       "   pixel8  ...  pixel774  pixel775  pixel776  pixel777  pixel778  pixel779  \\\n",
       "0       0  ...         0         0         0         0         0         0   \n",
       "1       0  ...         0         0         0         0         0         0   \n",
       "2       0  ...         0         0         0         0         0         0   \n",
       "3       0  ...         0         0         0         0         0         0   \n",
       "4       0  ...         0         0         0         0         0         0   \n",
       "\n",
       "   pixel780  pixel781  pixel782  pixel783  \n",
       "0         0         0         0         0  \n",
       "1         0         0         0         0  \n",
       "2         0         0         0         0  \n",
       "3         0         0         0         0  \n",
       "4         0         0         0         0  \n",
       "\n",
       "[5 rows x 785 columns]"
      ]
     },
     "execution_count": 3,
     "metadata": {},
     "output_type": "execute_result"
    }
   ],
   "source": [
    "train.head()"
   ]
  },
  {
   "cell_type": "code",
   "execution_count": 4,
   "id": "74720b1b",
   "metadata": {
    "execution": {
     "iopub.execute_input": "2022-09-23T14:55:29.952199Z",
     "iopub.status.busy": "2022-09-23T14:55:29.951787Z",
     "iopub.status.idle": "2022-09-23T14:55:29.970006Z",
     "shell.execute_reply": "2022-09-23T14:55:29.968942Z"
    },
    "papermill": {
     "duration": 0.028877,
     "end_time": "2022-09-23T14:55:29.972325",
     "exception": false,
     "start_time": "2022-09-23T14:55:29.943448",
     "status": "completed"
    },
    "tags": []
   },
   "outputs": [
    {
     "data": {
      "text/html": [
       "<div>\n",
       "<style scoped>\n",
       "    .dataframe tbody tr th:only-of-type {\n",
       "        vertical-align: middle;\n",
       "    }\n",
       "\n",
       "    .dataframe tbody tr th {\n",
       "        vertical-align: top;\n",
       "    }\n",
       "\n",
       "    .dataframe thead th {\n",
       "        text-align: right;\n",
       "    }\n",
       "</style>\n",
       "<table border=\"1\" class=\"dataframe\">\n",
       "  <thead>\n",
       "    <tr style=\"text-align: right;\">\n",
       "      <th></th>\n",
       "      <th>pixel0</th>\n",
       "      <th>pixel1</th>\n",
       "      <th>pixel2</th>\n",
       "      <th>pixel3</th>\n",
       "      <th>pixel4</th>\n",
       "      <th>pixel5</th>\n",
       "      <th>pixel6</th>\n",
       "      <th>pixel7</th>\n",
       "      <th>pixel8</th>\n",
       "      <th>pixel9</th>\n",
       "      <th>...</th>\n",
       "      <th>pixel774</th>\n",
       "      <th>pixel775</th>\n",
       "      <th>pixel776</th>\n",
       "      <th>pixel777</th>\n",
       "      <th>pixel778</th>\n",
       "      <th>pixel779</th>\n",
       "      <th>pixel780</th>\n",
       "      <th>pixel781</th>\n",
       "      <th>pixel782</th>\n",
       "      <th>pixel783</th>\n",
       "    </tr>\n",
       "  </thead>\n",
       "  <tbody>\n",
       "    <tr>\n",
       "      <th>0</th>\n",
       "      <td>0</td>\n",
       "      <td>0</td>\n",
       "      <td>0</td>\n",
       "      <td>0</td>\n",
       "      <td>0</td>\n",
       "      <td>0</td>\n",
       "      <td>0</td>\n",
       "      <td>0</td>\n",
       "      <td>0</td>\n",
       "      <td>0</td>\n",
       "      <td>...</td>\n",
       "      <td>0</td>\n",
       "      <td>0</td>\n",
       "      <td>0</td>\n",
       "      <td>0</td>\n",
       "      <td>0</td>\n",
       "      <td>0</td>\n",
       "      <td>0</td>\n",
       "      <td>0</td>\n",
       "      <td>0</td>\n",
       "      <td>0</td>\n",
       "    </tr>\n",
       "    <tr>\n",
       "      <th>1</th>\n",
       "      <td>0</td>\n",
       "      <td>0</td>\n",
       "      <td>0</td>\n",
       "      <td>0</td>\n",
       "      <td>0</td>\n",
       "      <td>0</td>\n",
       "      <td>0</td>\n",
       "      <td>0</td>\n",
       "      <td>0</td>\n",
       "      <td>0</td>\n",
       "      <td>...</td>\n",
       "      <td>0</td>\n",
       "      <td>0</td>\n",
       "      <td>0</td>\n",
       "      <td>0</td>\n",
       "      <td>0</td>\n",
       "      <td>0</td>\n",
       "      <td>0</td>\n",
       "      <td>0</td>\n",
       "      <td>0</td>\n",
       "      <td>0</td>\n",
       "    </tr>\n",
       "    <tr>\n",
       "      <th>2</th>\n",
       "      <td>0</td>\n",
       "      <td>0</td>\n",
       "      <td>0</td>\n",
       "      <td>0</td>\n",
       "      <td>0</td>\n",
       "      <td>0</td>\n",
       "      <td>0</td>\n",
       "      <td>0</td>\n",
       "      <td>0</td>\n",
       "      <td>0</td>\n",
       "      <td>...</td>\n",
       "      <td>0</td>\n",
       "      <td>0</td>\n",
       "      <td>0</td>\n",
       "      <td>0</td>\n",
       "      <td>0</td>\n",
       "      <td>0</td>\n",
       "      <td>0</td>\n",
       "      <td>0</td>\n",
       "      <td>0</td>\n",
       "      <td>0</td>\n",
       "    </tr>\n",
       "    <tr>\n",
       "      <th>3</th>\n",
       "      <td>0</td>\n",
       "      <td>0</td>\n",
       "      <td>0</td>\n",
       "      <td>0</td>\n",
       "      <td>0</td>\n",
       "      <td>0</td>\n",
       "      <td>0</td>\n",
       "      <td>0</td>\n",
       "      <td>0</td>\n",
       "      <td>0</td>\n",
       "      <td>...</td>\n",
       "      <td>0</td>\n",
       "      <td>0</td>\n",
       "      <td>0</td>\n",
       "      <td>0</td>\n",
       "      <td>0</td>\n",
       "      <td>0</td>\n",
       "      <td>0</td>\n",
       "      <td>0</td>\n",
       "      <td>0</td>\n",
       "      <td>0</td>\n",
       "    </tr>\n",
       "    <tr>\n",
       "      <th>4</th>\n",
       "      <td>0</td>\n",
       "      <td>0</td>\n",
       "      <td>0</td>\n",
       "      <td>0</td>\n",
       "      <td>0</td>\n",
       "      <td>0</td>\n",
       "      <td>0</td>\n",
       "      <td>0</td>\n",
       "      <td>0</td>\n",
       "      <td>0</td>\n",
       "      <td>...</td>\n",
       "      <td>0</td>\n",
       "      <td>0</td>\n",
       "      <td>0</td>\n",
       "      <td>0</td>\n",
       "      <td>0</td>\n",
       "      <td>0</td>\n",
       "      <td>0</td>\n",
       "      <td>0</td>\n",
       "      <td>0</td>\n",
       "      <td>0</td>\n",
       "    </tr>\n",
       "  </tbody>\n",
       "</table>\n",
       "<p>5 rows × 784 columns</p>\n",
       "</div>"
      ],
      "text/plain": [
       "   pixel0  pixel1  pixel2  pixel3  pixel4  pixel5  pixel6  pixel7  pixel8  \\\n",
       "0       0       0       0       0       0       0       0       0       0   \n",
       "1       0       0       0       0       0       0       0       0       0   \n",
       "2       0       0       0       0       0       0       0       0       0   \n",
       "3       0       0       0       0       0       0       0       0       0   \n",
       "4       0       0       0       0       0       0       0       0       0   \n",
       "\n",
       "   pixel9  ...  pixel774  pixel775  pixel776  pixel777  pixel778  pixel779  \\\n",
       "0       0  ...         0         0         0         0         0         0   \n",
       "1       0  ...         0         0         0         0         0         0   \n",
       "2       0  ...         0         0         0         0         0         0   \n",
       "3       0  ...         0         0         0         0         0         0   \n",
       "4       0  ...         0         0         0         0         0         0   \n",
       "\n",
       "   pixel780  pixel781  pixel782  pixel783  \n",
       "0         0         0         0         0  \n",
       "1         0         0         0         0  \n",
       "2         0         0         0         0  \n",
       "3         0         0         0         0  \n",
       "4         0         0         0         0  \n",
       "\n",
       "[5 rows x 784 columns]"
      ]
     },
     "execution_count": 4,
     "metadata": {},
     "output_type": "execute_result"
    }
   ],
   "source": [
    "test.head()"
   ]
  },
  {
   "cell_type": "code",
   "execution_count": 5,
   "id": "22ac95c6",
   "metadata": {
    "execution": {
     "iopub.execute_input": "2022-09-23T14:55:29.989172Z",
     "iopub.status.busy": "2022-09-23T14:55:29.988219Z",
     "iopub.status.idle": "2022-09-23T14:55:29.995133Z",
     "shell.execute_reply": "2022-09-23T14:55:29.994091Z"
    },
    "papermill": {
     "duration": 0.017856,
     "end_time": "2022-09-23T14:55:29.997492",
     "exception": false,
     "start_time": "2022-09-23T14:55:29.979636",
     "status": "completed"
    },
    "tags": []
   },
   "outputs": [
    {
     "data": {
      "text/plain": [
       "((42000, 785), (28000, 784))"
      ]
     },
     "execution_count": 5,
     "metadata": {},
     "output_type": "execute_result"
    }
   ],
   "source": [
    "train.shape, test.shape"
   ]
  },
  {
   "cell_type": "code",
   "execution_count": 6,
   "id": "9366a9c3",
   "metadata": {
    "execution": {
     "iopub.execute_input": "2022-09-23T14:55:30.015008Z",
     "iopub.status.busy": "2022-09-23T14:55:30.014245Z",
     "iopub.status.idle": "2022-09-23T14:55:30.021930Z",
     "shell.execute_reply": "2022-09-23T14:55:30.020890Z"
    },
    "papermill": {
     "duration": 0.018929,
     "end_time": "2022-09-23T14:55:30.024249",
     "exception": false,
     "start_time": "2022-09-23T14:55:30.005320",
     "status": "completed"
    },
    "tags": []
   },
   "outputs": [
    {
     "data": {
      "text/plain": [
       "Index(['label', 'pixel0', 'pixel1', 'pixel2', 'pixel3', 'pixel4', 'pixel5',\n",
       "       'pixel6', 'pixel7', 'pixel8',\n",
       "       ...\n",
       "       'pixel774', 'pixel775', 'pixel776', 'pixel777', 'pixel778', 'pixel779',\n",
       "       'pixel780', 'pixel781', 'pixel782', 'pixel783'],\n",
       "      dtype='object', length=785)"
      ]
     },
     "execution_count": 6,
     "metadata": {},
     "output_type": "execute_result"
    }
   ],
   "source": [
    "train.columns"
   ]
  },
  {
   "cell_type": "markdown",
   "id": "3f02fc12",
   "metadata": {
    "papermill": {
     "duration": 0.008226,
     "end_time": "2022-09-23T14:55:30.040202",
     "exception": false,
     "start_time": "2022-09-23T14:55:30.031976",
     "status": "completed"
    },
    "tags": []
   },
   "source": [
    "# Data Preprocessing"
   ]
  },
  {
   "cell_type": "code",
   "execution_count": 7,
   "id": "0053cea6",
   "metadata": {
    "execution": {
     "iopub.execute_input": "2022-09-23T14:55:30.057452Z",
     "iopub.status.busy": "2022-09-23T14:55:30.056678Z",
     "iopub.status.idle": "2022-09-23T14:55:30.063258Z",
     "shell.execute_reply": "2022-09-23T14:55:30.062004Z"
    },
    "papermill": {
     "duration": 0.01749,
     "end_time": "2022-09-23T14:55:30.065371",
     "exception": false,
     "start_time": "2022-09-23T14:55:30.047881",
     "status": "completed"
    },
    "tags": []
   },
   "outputs": [],
   "source": [
    "x_train = train.iloc[:,1:]\n",
    "y_train = train.iloc[:,0]\n",
    "\n",
    "x_test = test.iloc[:,:]"
   ]
  },
  {
   "cell_type": "code",
   "execution_count": 8,
   "id": "a2322691",
   "metadata": {
    "execution": {
     "iopub.execute_input": "2022-09-23T14:55:30.082166Z",
     "iopub.status.busy": "2022-09-23T14:55:30.081765Z",
     "iopub.status.idle": "2022-09-23T14:55:30.088781Z",
     "shell.execute_reply": "2022-09-23T14:55:30.087778Z"
    },
    "papermill": {
     "duration": 0.017803,
     "end_time": "2022-09-23T14:55:30.090932",
     "exception": false,
     "start_time": "2022-09-23T14:55:30.073129",
     "status": "completed"
    },
    "tags": []
   },
   "outputs": [
    {
     "data": {
      "text/plain": [
       "((42000, 784), (28000, 784), (42000,))"
      ]
     },
     "execution_count": 8,
     "metadata": {},
     "output_type": "execute_result"
    }
   ],
   "source": [
    "x_train.shape, x_test.shape, y_train.shape"
   ]
  },
  {
   "cell_type": "code",
   "execution_count": 9,
   "id": "52f2bd1c",
   "metadata": {
    "execution": {
     "iopub.execute_input": "2022-09-23T14:55:30.107559Z",
     "iopub.status.busy": "2022-09-23T14:55:30.107165Z",
     "iopub.status.idle": "2022-09-23T14:55:30.181582Z",
     "shell.execute_reply": "2022-09-23T14:55:30.180291Z"
    },
    "papermill": {
     "duration": 0.086996,
     "end_time": "2022-09-23T14:55:30.185454",
     "exception": false,
     "start_time": "2022-09-23T14:55:30.098458",
     "status": "completed"
    },
    "tags": []
   },
   "outputs": [
    {
     "name": "stdout",
     "output_type": "stream",
     "text": [
      "Maximum value is 255 and the minimum value is 0 in the input dataset\n"
     ]
    }
   ],
   "source": [
    "print('Maximum value is',x_train.values.max(), 'and the minimum value is',x_train.values.min(),'in the input dataset')"
   ]
  },
  {
   "cell_type": "markdown",
   "id": "fc10b2e6",
   "metadata": {
    "papermill": {
     "duration": 0.007684,
     "end_time": "2022-09-23T14:55:30.201246",
     "exception": false,
     "start_time": "2022-09-23T14:55:30.193562",
     "status": "completed"
    },
    "tags": []
   },
   "source": [
    "### Plot images from given pixel dataset"
   ]
  },
  {
   "cell_type": "code",
   "execution_count": 10,
   "id": "a039ac2c",
   "metadata": {
    "execution": {
     "iopub.execute_input": "2022-09-23T14:55:30.220056Z",
     "iopub.status.busy": "2022-09-23T14:55:30.219114Z",
     "iopub.status.idle": "2022-09-23T14:55:32.211403Z",
     "shell.execute_reply": "2022-09-23T14:55:32.210222Z"
    },
    "papermill": {
     "duration": 2.005311,
     "end_time": "2022-09-23T14:55:32.215107",
     "exception": false,
     "start_time": "2022-09-23T14:55:30.209796",
     "status": "completed"
    },
    "tags": []
   },
   "outputs": [
    {
     "data": {
      "image/png": "[encoded data removed]",
      "text/plain": [
       "<Figure size 1440x864 with 50 Axes>"
      ]
     },
     "metadata": {},
     "output_type": "display_data"
    }
   ],
   "source": [
    "import matplotlib.pyplot as plt\n",
    "plt.figure(figsize = (20,12))\n",
    "for i in range(50):\n",
    "    plt.subplot(5,10,i+1)\n",
    "    plt.xticks([])\n",
    "    plt.yticks([])\n",
    "    plt.grid(True)\n",
    "    plt.imshow(np.array(x_train.iloc[i]).reshape(28,28), cmap=plt.cm.binary)\n",
    "    plt.xlabel(y_train[i], fontsize = 21)\n",
    "plt.show()"
   ]
  },
  {
   "cell_type": "markdown",
   "id": "04dfac29",
   "metadata": {
    "papermill": {
     "duration": 0.008406,
     "end_time": "2022-09-23T14:55:32.232573",
     "exception": false,
     "start_time": "2022-09-23T14:55:32.224167",
     "status": "completed"
    },
    "tags": []
   },
   "source": [
    "## Feature Engineering"
   ]
  },
  {
   "cell_type": "markdown",
   "id": "52df030a",
   "metadata": {
    "papermill": {
     "duration": 0.008313,
     "end_time": "2022-09-23T14:55:32.249553",
     "exception": false,
     "start_time": "2022-09-23T14:55:32.241240",
     "status": "completed"
    },
    "tags": []
   },
   "source": [
    "##### Rotate by 15, change the height by 0.1, zoom by 0.1, shear by 0.1 the digit image with keras Image Data Generator"
   ]
  },
  {
   "cell_type": "code",
   "execution_count": 11,
   "id": "b054f961",
   "metadata": {
    "execution": {
     "iopub.execute_input": "2022-09-23T14:55:32.269256Z",
     "iopub.status.busy": "2022-09-23T14:55:32.268156Z",
     "iopub.status.idle": "2022-09-23T14:55:38.483411Z",
     "shell.execute_reply": "2022-09-23T14:55:38.482228Z"
    },
    "papermill": {
     "duration": 6.227944,
     "end_time": "2022-09-23T14:55:38.486234",
     "exception": false,
     "start_time": "2022-09-23T14:55:32.258290",
     "status": "completed"
    },
    "tags": []
   },
   "outputs": [],
   "source": [
    "from keras.preprocessing.image import ImageDataGenerator\n",
    "\n",
    "datagen = ImageDataGenerator(rotation_range= 15,\n",
    "                            height_shift_range=0.1,\n",
    "                            zoom_range=0.1,\n",
    "                            shear_range=0.1\n",
    "                            )"
   ]
  },
  {
   "cell_type": "markdown",
   "id": "4239cd3e",
   "metadata": {
    "papermill": {
     "duration": 0.008407,
     "end_time": "2022-09-23T14:55:38.503571",
     "exception": false,
     "start_time": "2022-09-23T14:55:38.495164",
     "status": "completed"
    },
    "tags": []
   },
   "source": [
    "#### Reshape the input values into(1,28,28,1) shape to pass in dataget"
   ]
  },
  {
   "cell_type": "code",
   "execution_count": 12,
   "id": "c39a13ff",
   "metadata": {
    "execution": {
     "iopub.execute_input": "2022-09-23T14:55:38.522820Z",
     "iopub.status.busy": "2022-09-23T14:55:38.522155Z",
     "iopub.status.idle": "2022-09-23T14:55:38.529768Z",
     "shell.execute_reply": "2022-09-23T14:55:38.528657Z"
    },
    "papermill": {
     "duration": 0.019897,
     "end_time": "2022-09-23T14:55:38.532110",
     "exception": false,
     "start_time": "2022-09-23T14:55:38.512213",
     "status": "completed"
    },
    "tags": []
   },
   "outputs": [
    {
     "data": {
      "text/plain": [
       "(42000, 28, 28, 1)"
      ]
     },
     "execution_count": 12,
     "metadata": {},
     "output_type": "execute_result"
    }
   ],
   "source": [
    "input_datagen = x_train.values.reshape(-1,28,28,1)\n",
    "input_datagen.shape"
   ]
  },
  {
   "cell_type": "code",
   "execution_count": 13,
   "id": "09ada685",
   "metadata": {
    "execution": {
     "iopub.execute_input": "2022-09-23T14:55:38.551368Z",
     "iopub.status.busy": "2022-09-23T14:55:38.550979Z",
     "iopub.status.idle": "2022-09-23T14:55:38.690572Z",
     "shell.execute_reply": "2022-09-23T14:55:38.689470Z"
    },
    "papermill": {
     "duration": 0.152318,
     "end_time": "2022-09-23T14:55:38.693222",
     "exception": false,
     "start_time": "2022-09-23T14:55:38.540904",
     "status": "completed"
    },
    "tags": []
   },
   "outputs": [],
   "source": [
    "datagen.fit(input_datagen)"
   ]
  },
  {
   "cell_type": "markdown",
   "id": "ed722192",
   "metadata": {
    "papermill": {
     "duration": 0.008497,
     "end_time": "2022-09-23T14:55:38.710506",
     "exception": false,
     "start_time": "2022-09-23T14:55:38.702009",
     "status": "completed"
    },
    "tags": []
   },
   "source": [
    "### Again reshape the input into 1 X 784 to fit in K Nearest Neighbour"
   ]
  },
  {
   "cell_type": "code",
   "execution_count": 14,
   "id": "ed7fee13",
   "metadata": {
    "execution": {
     "iopub.execute_input": "2022-09-23T14:55:38.730100Z",
     "iopub.status.busy": "2022-09-23T14:55:38.729317Z",
     "iopub.status.idle": "2022-09-23T14:55:38.734231Z",
     "shell.execute_reply": "2022-09-23T14:55:38.733199Z"
    },
    "papermill": {
     "duration": 0.017323,
     "end_time": "2022-09-23T14:55:38.736562",
     "exception": false,
     "start_time": "2022-09-23T14:55:38.719239",
     "status": "completed"
    },
    "tags": []
   },
   "outputs": [],
   "source": [
    "x_train = input_datagen.reshape(-1,784)"
   ]
  },
  {
   "cell_type": "markdown",
   "id": "5487613b",
   "metadata": {
    "papermill": {
     "duration": 0.008477,
     "end_time": "2022-09-23T14:55:38.753804",
     "exception": false,
     "start_time": "2022-09-23T14:55:38.745327",
     "status": "completed"
    },
    "tags": []
   },
   "source": [
    "## Model building"
   ]
  },
  {
   "cell_type": "code",
   "execution_count": 15,
   "id": "6d5e9e0a",
   "metadata": {
    "execution": {
     "iopub.execute_input": "2022-09-23T14:55:38.773470Z",
     "iopub.status.busy": "2022-09-23T14:55:38.773077Z",
     "iopub.status.idle": "2022-09-23T14:55:39.555295Z",
     "shell.execute_reply": "2022-09-23T14:55:39.554325Z"
    },
    "papermill": {
     "duration": 0.795081,
     "end_time": "2022-09-23T14:55:39.557923",
     "exception": false,
     "start_time": "2022-09-23T14:55:38.762842",
     "status": "completed"
    },
    "tags": []
   },
   "outputs": [],
   "source": [
    "from sklearn.neighbors import KNeighborsClassifier"
   ]
  },
  {
   "cell_type": "code",
   "execution_count": 16,
   "id": "0f5de2fb",
   "metadata": {
    "execution": {
     "iopub.execute_input": "2022-09-23T14:55:39.577769Z",
     "iopub.status.busy": "2022-09-23T14:55:39.576914Z",
     "iopub.status.idle": "2022-09-23T14:55:39.591624Z",
     "shell.execute_reply": "2022-09-23T14:55:39.590563Z"
    },
    "papermill": {
     "duration": 0.027311,
     "end_time": "2022-09-23T14:55:39.594126",
     "exception": false,
     "start_time": "2022-09-23T14:55:39.566815",
     "status": "completed"
    },
    "tags": []
   },
   "outputs": [
    {
     "data": {
      "text/plain": [
       "KNeighborsClassifier()"
      ]
     },
     "execution_count": 16,
     "metadata": {},
     "output_type": "execute_result"
    }
   ],
   "source": [
    "knn = KNeighborsClassifier(n_neighbors=5)\n",
    "knn.fit(x_train, y_train)"
   ]
  },
  {
   "cell_type": "code",
   "execution_count": 17,
   "id": "4545848f",
   "metadata": {
    "execution": {
     "iopub.execute_input": "2022-09-23T14:55:39.614332Z",
     "iopub.status.busy": "2022-09-23T14:55:39.613559Z",
     "iopub.status.idle": "2022-09-23T14:55:39.618718Z",
     "shell.execute_reply": "2022-09-23T14:55:39.617677Z"
    },
    "papermill": {
     "duration": 0.017673,
     "end_time": "2022-09-23T14:55:39.621034",
     "exception": false,
     "start_time": "2022-09-23T14:55:39.603361",
     "status": "completed"
    },
    "tags": []
   },
   "outputs": [],
   "source": [
    "import warnings\n",
    "warnings.filterwarnings('ignore')"
   ]
  },
  {
   "cell_type": "code",
   "execution_count": 18,
   "id": "0cf501cd",
   "metadata": {
    "execution": {
     "iopub.execute_input": "2022-09-23T14:55:39.640983Z",
     "iopub.status.busy": "2022-09-23T14:55:39.640217Z",
     "iopub.status.idle": "2022-09-23T14:56:03.115103Z",
     "shell.execute_reply": "2022-09-23T14:56:03.114200Z"
    },
    "papermill": {
     "duration": 23.488092,
     "end_time": "2022-09-23T14:56:03.118106",
     "exception": false,
     "start_time": "2022-09-23T14:55:39.630014",
     "status": "completed"
    },
    "tags": []
   },
   "outputs": [
    {
     "data": {
      "image/png": "[encoded data removed]",
      "text/plain": [
       "<Figure size 2880x792 with 100 Axes>"
      ]
     },
     "metadata": {},
     "output_type": "display_data"
    }
   ],
   "source": [
    "plt.figure(figsize = (40,11))\n",
    "for i in range(100):\n",
    "    plt.subplot(5,20,i+1)\n",
    "    plt.xticks([])\n",
    "    plt.yticks([])\n",
    "    plt.grid(True)\n",
    "    plt.imshow(np.array(x_test.iloc[i]).reshape(28,28), cmap=plt.cm.binary)\n",
    "    plt.xlabel(knn.predict(x_test.values[i].reshape(-1,784)), fontsize= 15)\n",
    "plt.show()"
   ]
  },
  {
   "cell_type": "code",
   "execution_count": 19,
   "id": "96d26d44",
   "metadata": {
    "execution": {
     "iopub.execute_input": "2022-09-23T14:56:03.141513Z",
     "iopub.status.busy": "2022-09-23T14:56:03.140896Z",
     "iopub.status.idle": "2022-09-23T14:56:50.396617Z",
     "shell.execute_reply": "2022-09-23T14:56:50.395502Z"
    },
    "papermill": {
     "duration": 47.280157,
     "end_time": "2022-09-23T14:56:50.409176",
     "exception": false,
     "start_time": "2022-09-23T14:56:03.129019",
     "status": "completed"
    },
    "tags": []
   },
   "outputs": [
    {
     "data": {
      "text/plain": [
       "array([2, 0, 9, 9, 3, 7, 0, 3, 0, 3])"
      ]
     },
     "execution_count": 19,
     "metadata": {},
     "output_type": "execute_result"
    }
   ],
   "source": [
    "label = knn.predict(x_test.values.reshape(-1,784))\n",
    "label[:10]"
   ]
  },
  {
   "cell_type": "code",
   "execution_count": 20,
   "id": "ef091278",
   "metadata": {
    "execution": {
     "iopub.execute_input": "2022-09-23T14:56:50.432304Z",
     "iopub.status.busy": "2022-09-23T14:56:50.431916Z",
     "iopub.status.idle": "2022-09-23T14:56:50.485047Z",
     "shell.execute_reply": "2022-09-23T14:56:50.483837Z"
    },
    "papermill": {
     "duration": 0.067647,
     "end_time": "2022-09-23T14:56:50.487741",
     "exception": false,
     "start_time": "2022-09-23T14:56:50.420094",
     "status": "completed"
    },
    "tags": []
   },
   "outputs": [],
   "source": [
    "submission = pd.read_csv('/kaggle/input/digit-recognizer/sample_submission.csv')\n",
    "submission['Label']=label\n",
    "submission.to_csv('submission.csv', index = False)"
   ]
  },
  {
   "cell_type": "code",
   "execution_count": 21,
   "id": "7a693f04",
   "metadata": {
    "execution": {
     "iopub.execute_input": "2022-09-23T14:56:50.511607Z",
     "iopub.status.busy": "2022-09-23T14:56:50.511193Z",
     "iopub.status.idle": "2022-09-23T14:56:50.528763Z",
     "shell.execute_reply": "2022-09-23T14:56:50.527616Z"
    },
    "papermill": {
     "duration": 0.032268,
     "end_time": "2022-09-23T14:56:50.531188",
     "exception": false,
     "start_time": "2022-09-23T14:56:50.498920",
     "status": "completed"
    },
    "tags": []
   },
   "outputs": [
    {
     "data": {
      "text/html": [
       "<div>\n",
       "<style scoped>\n",
       "    .dataframe tbody tr th:only-of-type {\n",
       "        vertical-align: middle;\n",
       "    }\n",
       "\n",
       "    .dataframe tbody tr th {\n",
       "        vertical-align: top;\n",
       "    }\n",
       "\n",
       "    .dataframe thead th {\n",
       "        text-align: right;\n",
       "    }\n",
       "</style>\n",
       "<table border=\"1\" class=\"dataframe\">\n",
       "  <thead>\n",
       "    <tr style=\"text-align: right;\">\n",
       "      <th></th>\n",
       "      <th>ImageId</th>\n",
       "      <th>Label</th>\n",
       "    </tr>\n",
       "  </thead>\n",
       "  <tbody>\n",
       "    <tr>\n",
       "      <th>0</th>\n",
       "      <td>1</td>\n",
       "      <td>2</td>\n",
       "    </tr>\n",
       "    <tr>\n",
       "      <th>1</th>\n",
       "      <td>2</td>\n",
       "      <td>0</td>\n",
       "    </tr>\n",
       "    <tr>\n",
       "      <th>2</th>\n",
       "      <td>3</td>\n",
       "      <td>9</td>\n",
       "    </tr>\n",
       "    <tr>\n",
       "      <th>3</th>\n",
       "      <td>4</td>\n",
       "      <td>9</td>\n",
       "    </tr>\n",
       "    <tr>\n",
       "      <th>4</th>\n",
       "      <td>5</td>\n",
       "      <td>3</td>\n",
       "    </tr>\n",
       "    <tr>\n",
       "      <th>...</th>\n",
       "      <td>...</td>\n",
       "      <td>...</td>\n",
       "    </tr>\n",
       "    <tr>\n",
       "      <th>27995</th>\n",
       "      <td>27996</td>\n",
       "      <td>9</td>\n",
       "    </tr>\n",
       "    <tr>\n",
       "      <th>27996</th>\n",
       "      <td>27997</td>\n",
       "      <td>7</td>\n",
       "    </tr>\n",
       "    <tr>\n",
       "      <th>27997</th>\n",
       "      <td>27998</td>\n",
       "      <td>3</td>\n",
       "    </tr>\n",
       "    <tr>\n",
       "      <th>27998</th>\n",
       "      <td>27999</td>\n",
       "      <td>9</td>\n",
       "    </tr>\n",
       "    <tr>\n",
       "      <th>27999</th>\n",
       "      <td>28000</td>\n",
       "      <td>2</td>\n",
       "    </tr>\n",
       "  </tbody>\n",
       "</table>\n",
       "<p>28000 rows × 2 columns</p>\n",
       "</div>"
      ],
      "text/plain": [
       "       ImageId  Label\n",
       "0            1      2\n",
       "1            2      0\n",
       "2            3      9\n",
       "3            4      9\n",
       "4            5      3\n",
       "...        ...    ...\n",
       "27995    27996      9\n",
       "27996    27997      7\n",
       "27997    27998      3\n",
       "27998    27999      9\n",
       "27999    28000      2\n",
       "\n",
       "[28000 rows x 2 columns]"
      ]
     },
     "execution_count": 21,
     "metadata": {},
     "output_type": "execute_result"
    }
   ],
   "source": [
    "pd.read_csv('submission.csv')"
   ]
  }
 ],
 "metadata": {
  "kernelspec": {
   "display_name": "Python 3",
   "language": "python",
   "name": "python3"
  },
  "language_info": {
   "codemirror_mode": {
    "name": "ipython",
    "version": 3
   },
   "file_extension": ".py",
   "mimetype": "text/x-python",
   "name": "python",
   "nbconvert_exporter": "python",
   "pygments_lexer": "ipython3",
   "version": "3.7.12"
  },
  "papermill": {
   "default_parameters": {},
   "duration": 98.167241,
   "end_time": "2022-09-23T14:56:53.420320",
   "environment_variables": {},
   "exception": null,
   "input_path": "__notebook__.ipynb",
   "output_path": "__notebook__.ipynb",
   "parameters": {},
   "start_time": "2022-09-23T14:55:15.253079",
   "version": "2.3.4"
  }
 },
 "nbformat": 4,
 "nbformat_minor": 5
}
