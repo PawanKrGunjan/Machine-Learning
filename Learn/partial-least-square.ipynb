{
 "cells": [
  {
   "cell_type": "markdown",
   "id": "e1264088",
   "metadata": {
    "papermill": {
     "duration": 0.005234,
     "end_time": "2023-01-08T16:36:44.253984",
     "exception": false,
     "start_time": "2023-01-08T16:36:44.248750",
     "status": "completed"
    },
    "tags": []
   },
   "source": [
    "Import Necessary libraries"
   ]
  },
  {
   "cell_type": "code",
   "execution_count": 1,
   "id": "b41c5cae",
   "metadata": {
    "execution": {
     "iopub.execute_input": "2023-01-08T16:36:44.265221Z",
     "iopub.status.busy": "2023-01-08T16:36:44.264212Z",
     "iopub.status.idle": "2023-01-08T16:36:45.351601Z",
     "shell.execute_reply": "2023-01-08T16:36:45.350485Z"
    },
    "papermill": {
     "duration": 1.096218,
     "end_time": "2023-01-08T16:36:45.354461",
     "exception": false,
     "start_time": "2023-01-08T16:36:44.258243",
     "status": "completed"
    },
    "tags": []
   },
   "outputs": [],
   "source": [
    "\n",
    "import numpy as np\n",
    "import matplotlib.pyplot as plt\n",
    "from sklearn.cross_decomposition import PLSCanonical\n",
    "from scipy.linalg import svd, pinv2"
   ]
  },
  {
   "cell_type": "markdown",
   "id": "5d462458",
   "metadata": {
    "papermill": {
     "duration": 0.003896,
     "end_time": "2023-01-08T16:36:45.362648",
     "exception": false,
     "start_time": "2023-01-08T16:36:45.358752",
     "status": "completed"
    },
    "tags": []
   },
   "source": [
    "# Data"
   ]
  },
  {
   "cell_type": "code",
   "execution_count": 2,
   "id": "404f37ba",
   "metadata": {
    "execution": {
     "iopub.execute_input": "2023-01-08T16:36:45.372699Z",
     "iopub.status.busy": "2023-01-08T16:36:45.372261Z",
     "iopub.status.idle": "2023-01-08T16:36:45.380714Z",
     "shell.execute_reply": "2023-01-08T16:36:45.379708Z"
    },
    "papermill": {
     "duration": 0.016301,
     "end_time": "2023-01-08T16:36:45.382975",
     "exception": false,
     "start_time": "2023-01-08T16:36:45.366674",
     "status": "completed"
    },
    "tags": []
   },
   "outputs": [],
   "source": [
    "X = np.array([\n",
    "    [2.88,-0.35,-0.07,0.27],\n",
    "    [-1.03, -0.13, -1.01, -0.45],\n",
    "    [0.91,-0.97,1.08,-1.48],\n",
    "    [0.79,-0.69,-0.32,1.42],\n",
    "    [0.62,-1.11,0.65,0.13]\n",
    "])\n",
    " \n",
    "Y = np.array([\n",
    "    [2.742, 2.966, 0.195, 3.061, 2.119],\n",
    "    [-2.385, -6.058, -1.357, -1.829,-2.618],\n",
    "    [-0.421,-3.631, 0.252, -0.703,-0.799],\n",
    "    [0.989,4.085,0.279,1.698,-0.149],\n",
    "    [0.251,0.84,0.865,0.545,-0.922]\n",
    "])"
   ]
  },
  {
   "cell_type": "code",
   "execution_count": 3,
   "id": "2065270f",
   "metadata": {
    "execution": {
     "iopub.execute_input": "2023-01-08T16:36:45.393123Z",
     "iopub.status.busy": "2023-01-08T16:36:45.392466Z",
     "iopub.status.idle": "2023-01-08T16:36:45.814532Z",
     "shell.execute_reply": "2023-01-08T16:36:45.813398Z"
    },
    "papermill": {
     "duration": 0.429778,
     "end_time": "2023-01-08T16:36:45.816991",
     "exception": false,
     "start_time": "2023-01-08T16:36:45.387213",
     "status": "completed"
    },
    "tags": []
   },
   "outputs": [
    {
     "data": {
      "image/png": "[encoded data removed]",
      "text/plain": [
       "<Figure size 432x288 with 1 Axes>"
      ]
     },
     "metadata": {
      "needs_background": "light"
     },
     "output_type": "display_data"
    },
    {
     "data": {
      "image/png": "[encoded data removed]",
      "text/plain": [
       "<Figure size 432x288 with 1 Axes>"
      ]
     },
     "metadata": {
      "needs_background": "light"
     },
     "output_type": "display_data"
    }
   ],
   "source": [
    "plt.scatter(X[:,0], X[:,1])\n",
    "plt.show()\n",
    "plt.scatter(Y[:,0], Y[:,1])\n",
    "plt.show()"
   ]
  },
  {
   "cell_type": "code",
   "execution_count": 4,
   "id": "7d17f0d4",
   "metadata": {
    "execution": {
     "iopub.execute_input": "2023-01-08T16:36:45.827992Z",
     "iopub.status.busy": "2023-01-08T16:36:45.827607Z",
     "iopub.status.idle": "2023-01-08T16:36:45.834235Z",
     "shell.execute_reply": "2023-01-08T16:36:45.833183Z"
    },
    "papermill": {
     "duration": 0.014723,
     "end_time": "2023-01-08T16:36:45.836453",
     "exception": false,
     "start_time": "2023-01-08T16:36:45.821730",
     "status": "completed"
    },
    "tags": []
   },
   "outputs": [
    {
     "name": "stdout",
     "output_type": "stream",
     "text": [
      "X:\n",
      " [[ 2.88 -0.35 -0.07  0.27]\n",
      " [-1.03 -0.13 -1.01 -0.45]\n",
      " [ 0.91 -0.97  1.08 -1.48]\n",
      " [ 0.79 -0.69 -0.32  1.42]\n",
      " [ 0.62 -1.11  0.65  0.13]] \n",
      " Y:\n",
      " [[ 2.742  2.966  0.195  3.061  2.119]\n",
      " [-2.385 -6.058 -1.357 -1.829 -2.618]\n",
      " [-0.421 -3.631  0.252 -0.703 -0.799]\n",
      " [ 0.989  4.085  0.279  1.698 -0.149]\n",
      " [ 0.251  0.84   0.865  0.545 -0.922]] \n",
      "\n",
      "\n"
     ]
    }
   ],
   "source": [
    "X_orig = X.copy()\n",
    " \n",
    "print(\"X:\\n\", X, \"\\n Y:\\n\", Y, '\\n\\n')"
   ]
  },
  {
   "cell_type": "markdown",
   "id": "2a3a3313",
   "metadata": {
    "papermill": {
     "duration": 0.004222,
     "end_time": "2023-01-08T16:36:45.845210",
     "exception": false,
     "start_time": "2023-01-08T16:36:45.840988",
     "status": "completed"
    },
    "tags": []
   },
   "source": [
    "# Function"
   ]
  },
  {
   "cell_type": "code",
   "execution_count": 5,
   "id": "087e328c",
   "metadata": {
    "execution": {
     "iopub.execute_input": "2023-01-08T16:36:45.855911Z",
     "iopub.status.busy": "2023-01-08T16:36:45.855507Z",
     "iopub.status.idle": "2023-01-08T16:36:45.865111Z",
     "shell.execute_reply": "2023-01-08T16:36:45.863897Z"
    },
    "papermill": {
     "duration": 0.01763,
     "end_time": "2023-01-08T16:36:45.867303",
     "exception": false,
     "start_time": "2023-01-08T16:36:45.849673",
     "status": "completed"
    },
    "tags": []
   },
   "outputs": [],
   "source": [
    "def _svd_flip_1d(u, v):\n",
    "    biggest_abs_val_idx = np.argmax(np.abs(u))\n",
    "    sign = np.sign(u[biggest_abs_val_idx])\n",
    "    u *= sign\n",
    "    v *= sign\n",
    " \n",
    " \n",
    "def _center_scale_xy(X, Y, scale=True):\n",
    "    # center\n",
    "    x_mean = X.mean(axis=0)\n",
    "    X -= x_mean\n",
    "    y_mean = Y.mean(axis=0)\n",
    "    Y -= y_mean\n",
    "    # scale\n",
    "    if scale:\n",
    "        x_std = X.std(axis=0, ddof=1)\n",
    "        x_std[x_std == 0.0] = 1.0\n",
    "        X /= x_std\n",
    "        y_std = Y.std(axis=0, ddof=1)\n",
    "        y_std[y_std == 0.0] = 1.0\n",
    "        Y /= y_std\n",
    "    else:\n",
    "        x_std = np.ones(X.shape[1])\n",
    "        y_std = np.ones(Y.shape[1])\n",
    "    return X, Y, x_mean, y_mean, x_std, y_std"
   ]
  },
  {
   "cell_type": "markdown",
   "id": "e2ebb60a",
   "metadata": {
    "papermill": {
     "duration": 0.004158,
     "end_time": "2023-01-08T16:36:45.875950",
     "exception": false,
     "start_time": "2023-01-08T16:36:45.871792",
     "status": "completed"
    },
    "tags": []
   },
   "source": [
    "# PLS"
   ]
  },
  {
   "cell_type": "code",
   "execution_count": 6,
   "id": "f2bbaf21",
   "metadata": {
    "execution": {
     "iopub.execute_input": "2023-01-08T16:36:45.886231Z",
     "iopub.status.busy": "2023-01-08T16:36:45.885842Z",
     "iopub.status.idle": "2023-01-08T16:36:45.894578Z",
     "shell.execute_reply": "2023-01-08T16:36:45.893519Z"
    },
    "papermill": {
     "duration": 0.016364,
     "end_time": "2023-01-08T16:36:45.896675",
     "exception": false,
     "start_time": "2023-01-08T16:36:45.880311",
     "status": "completed"
    },
    "tags": []
   },
   "outputs": [],
   "source": [
    "n_components=1\n",
    "n = X.shape[0]\n",
    "p = X.shape[1]\n",
    "q = Y.shape[1]\n",
    " \n",
    "x_weights_ = np.zeros((p, n_components))  # U\n",
    "y_weights_ = np.zeros((q, n_components))  # V\n",
    "_x_scores = np.zeros((n, n_components))  # Xi\n",
    "_y_scores = np.zeros((n, n_components))  # Omega\n",
    "x_loadings_ = np.zeros((p, n_components))  # Gamma\n",
    "y_loadings_ = np.zeros((q, n_components))  # Delta\n",
    "n_iter_=[]\n",
    " \n",
    "Xk, Yk, _x_mean, _y_mean, _x_std, _y_std = _center_scale_xy(X.copy(), Y.copy())\n",
    " \n",
    "Y_eps=np.finfo(Yk.dtype).eps\n",
    "max_iter=500\n",
    "algorithm = 'svd'\n",
    "deflation_mode = 'canonical'\n",
    "mode = 'A'\n",
    "tol=1e-6"
   ]
  },
  {
   "cell_type": "code",
   "execution_count": 7,
   "id": "79c2646c",
   "metadata": {
    "execution": {
     "iopub.execute_input": "2023-01-08T16:36:45.907802Z",
     "iopub.status.busy": "2023-01-08T16:36:45.907068Z",
     "iopub.status.idle": "2023-01-08T16:36:45.914098Z",
     "shell.execute_reply": "2023-01-08T16:36:45.912979Z"
    },
    "papermill": {
     "duration": 0.014993,
     "end_time": "2023-01-08T16:36:45.916281",
     "exception": false,
     "start_time": "2023-01-08T16:36:45.901288",
     "status": "completed"
    },
    "tags": []
   },
   "outputs": [
    {
     "data": {
      "text/plain": [
       "(5, 4, 5)"
      ]
     },
     "execution_count": 7,
     "metadata": {},
     "output_type": "execute_result"
    }
   ],
   "source": [
    "n,p,q"
   ]
  },
  {
   "cell_type": "code",
   "execution_count": 8,
   "id": "496d5f4e",
   "metadata": {
    "execution": {
     "iopub.execute_input": "2023-01-08T16:36:45.926993Z",
     "iopub.status.busy": "2023-01-08T16:36:45.926581Z",
     "iopub.status.idle": "2023-01-08T16:36:45.932443Z",
     "shell.execute_reply": "2023-01-08T16:36:45.931268Z"
    },
    "papermill": {
     "duration": 0.014047,
     "end_time": "2023-01-08T16:36:45.934911",
     "exception": false,
     "start_time": "2023-01-08T16:36:45.920864",
     "status": "completed"
    },
    "tags": []
   },
   "outputs": [],
   "source": [
    "if deflation_mode == 'canonical':\n",
    "    rank_upper_bound = p\n",
    "else:\n",
    "    rank_upper_bound = min(n, p, q)\n",
    "     \n",
    "_norm_y_weights = (deflation_mode == 'canonical')  # 1.1\n",
    "norm_y_weights = _norm_y_weights"
   ]
  },
  {
   "cell_type": "code",
   "execution_count": 9,
   "id": "fcff06b3",
   "metadata": {
    "execution": {
     "iopub.execute_input": "2023-01-08T16:36:45.946170Z",
     "iopub.status.busy": "2023-01-08T16:36:45.945805Z",
     "iopub.status.idle": "2023-01-08T16:36:45.988063Z",
     "shell.execute_reply": "2023-01-08T16:36:45.986409Z"
    },
    "papermill": {
     "duration": 0.050595,
     "end_time": "2023-01-08T16:36:45.990280",
     "exception": false,
     "start_time": "2023-01-08T16:36:45.939685",
     "status": "completed"
    },
    "tags": []
   },
   "outputs": [
    {
     "name": "stdout",
     "output_type": "stream",
     "text": [
      "-------------------------------------------------- 0 --------------------------------------------------\n",
      "\n",
      "\n",
      "C:\n",
      " [[ 3.8   2.77  2.38  3.52  3.93]\n",
      " [-0.57 -0.92 -3.33 -0.16 -0.06]\n",
      " [ 0.99  0.38  3.06  0.32  0.88]\n",
      " [ 1.96  3.21  0.91  2.56  1.4 ]] \n",
      "\n",
      "U:\n",
      " [[ 0.8   0.22 -0.5   0.26]\n",
      " [-0.24  0.7  -0.36 -0.56]\n",
      " [ 0.27 -0.6  -0.21 -0.72]\n",
      " [ 0.49  0.31  0.76 -0.3 ]] \n",
      "\n",
      "S:\n",
      " [9.25 3.78 1.74 0.01] \n",
      "\n",
      "Vt:\n",
      " [[ 0.47  0.44  0.43  0.45  0.44]\n",
      " [ 0.12  0.2  -0.89  0.34  0.19]\n",
      " [-0.24  0.74  0.03  0.1  -0.61]\n",
      " [ 0.08 -0.46  0.09  0.74 -0.47]] \n",
      "\n",
      "\n",
      "np.dot(U[:, 0].T, U[:, 0]): 1.0 \n",
      "\n",
      "np.dot(Vt[0, :].T, Vt[0, :]): 1.0 \n",
      "\n",
      "\n",
      "-- matrix ---\n",
      "Xk:\n",
      " [[ 1.47330421  0.72975638 -0.16570217  0.27540185]\n",
      " [-1.34224782  1.26491106 -1.31099659 -0.40367121]\n",
      " [ 0.05472684 -0.77840681  1.23545589 -1.37512294]\n",
      " [-0.03168396 -0.09730085 -0.47030175  1.36003243]\n",
      " [-0.15409927 -1.11895979  0.71154462  0.14335987]] \n",
      "\n",
      "np.outer(x_scores, x_loadings):\n",
      " [[ 0.8379257  -0.41891981  0.45663276  0.41189286]\n",
      " [-1.47398529  0.73691695 -0.80325735 -0.72455592]\n",
      " [-0.0854582   0.04272471 -0.04657097 -0.04200805]\n",
      " [ 0.41132775 -0.20564275  0.22415559  0.20219331]\n",
      " [ 0.31019004 -0.15507909  0.16903997  0.15247779]] \n",
      "\n",
      "Xk (after substract):\n",
      " [[ 0.63537851  1.1486762  -0.62233493 -0.13649101]\n",
      " [ 0.13173747  0.52799412 -0.50773924  0.32088471]\n",
      " [ 0.14018504 -0.82113152  1.28202686 -1.3331149 ]\n",
      " [-0.44301172  0.1083419  -0.69445734  1.15783913]\n",
      " [-0.4642893  -0.9638807   0.54250465 -0.00911793]]\n",
      "------ \n",
      "\n",
      "\n",
      "x_weights_:\n",
      " [[ 0.79639603]\n",
      " [-0.23755967]\n",
      " [ 0.26769172]\n",
      " [ 0.48750375]] \n",
      "\n",
      "y_weights_:\n",
      " [[0.4735017 ]\n",
      " [0.44247997]\n",
      " [0.42756377]\n",
      " [0.45154019]\n",
      " [0.4396684 ]] \n",
      "\n",
      "_x_scores:\n",
      " [[ 1.08987528]\n",
      " [-1.91718685]\n",
      " [-0.11115398]\n",
      " [ 0.53500681]\n",
      " [ 0.40345875]] \n",
      "\n",
      "_y_scores:\n",
      " [[ 2.29929773]\n",
      " [-3.07210752]\n",
      " [-0.77102556]\n",
      " [ 1.11359293]\n",
      " [ 0.43024241]] \n",
      "\n",
      "x_loadings_:\n",
      " [[ 0.76882714]\n",
      " [-0.38437409]\n",
      " [ 0.41897708]\n",
      " [ 0.37792661]] \n",
      "\n",
      "y_loadings_:\n",
      " [[0.48157766]\n",
      " [0.45578485]\n",
      " [0.3672144 ]\n",
      " [0.47494814]\n",
      " [0.45222887]] \n",
      "\n",
      "\n",
      "coef_:\n",
      " [[ 0.72130924  1.57623961  0.24284168  0.72886412  0.61680754]\n",
      " [-0.21516177 -0.47018185 -0.07243807 -0.21741535 -0.18398961]\n",
      " [ 0.24245288  0.52981969  0.08162611  0.2449923   0.20732684]\n",
      " [ 0.44154032  0.96487513  0.14865246  0.44616495  0.37757093]] \n",
      "\n",
      "Xk:\n",
      " [[ 0.63537851  1.1486762  -0.62233493 -0.13649101]\n",
      " [ 0.13173747  0.52799412 -0.50773924  0.32088471]\n",
      " [ 0.14018504 -0.82113152  1.28202686 -1.3331149 ]\n",
      " [-0.44301172  0.1083419  -0.69445734  1.15783913]\n",
      " [-0.4642893  -0.9638807   0.54250465 -0.00911793]] \n",
      "\n",
      "Yk:\n",
      " [[ 0.22559743 -0.28214736 -0.66586174  0.20876244  0.47412439]\n",
      " [ 0.08627471  0.08796074 -0.56243867  0.22221725  0.13729959]\n",
      " [ 0.02240131 -0.40193446  0.53024886 -0.28633537  0.15879608]\n",
      " [-0.13547932  0.51596848 -0.12929478  0.06457668 -0.3139485 ]\n",
      " [-0.19879414  0.0801526   0.82734634 -0.209221   -0.45627155]] \n",
      "\n"
     ]
    },
    {
     "name": "stderr",
     "output_type": "stream",
     "text": [
      "/opt/conda/lib/python3.7/site-packages/ipykernel_launcher.py:79: DeprecationWarning: scipy.linalg.pinv2 is deprecated since SciPy 1.7.0, use scipy.linalg.pinv instead\n",
      "/opt/conda/lib/python3.7/site-packages/ipykernel_launcher.py:82: DeprecationWarning: scipy.linalg.pinv2 is deprecated since SciPy 1.7.0, use scipy.linalg.pinv instead\n"
     ]
    }
   ],
   "source": [
    "for k in range(n_components):\n",
    "    print('-'*50, k, '-'*50)\n",
    "    ################################\n",
    "    # Weights: uk, vk\n",
    "    ################################\n",
    "    C = np.dot(Xk.T, Yk)\n",
    "    U, S, Vt = svd(C, full_matrices=False)\n",
    "    # U --> Left singular values\n",
    "    # S --> Singular values (diagonal)\n",
    "    # V --> Right singular vectors\n",
    "    # C = np.dot(U, np.dot(S*np.eye(4,4), Vt))\n",
    "    print('\\n')\n",
    "    print('C:\\n', C.round(2), '\\n') # covariance\n",
    "    print('U:\\n', U.round(2), '\\n') #  rotation\n",
    "    print('S:\\n', S.round(2), '\\n') # stretches ... stores equivalent of lambda\n",
    "    print('Vt:\\n', Vt.round(2), '\\n\\n') #  rotation\n",
    "     \n",
    "     \n",
    "    x_weights, y_weights =  U[:, 0], Vt[0, :] \n",
    "    print(\"np.dot(U[:, 0].T, U[:, 0]):\", np.dot(U[:, 0].T, U[:, 0]).round(2), '\\n')\n",
    "    print(\"np.dot(Vt[0, :].T, Vt[0, :]):\", np.dot(Vt[0, :].T, Vt[0, :]).round(2), '\\n\\n')\n",
    "     \n",
    "    _svd_flip_1d(x_weights, y_weights)\n",
    " \n",
    "    ################################\n",
    "    # Scores: eta_k, w_k\n",
    "    ################################\n",
    "    # compute scores, i.e. the projections of X and Y\n",
    "    x_scores = np.dot(Xk, x_weights)   # eta_k\n",
    "    if norm_y_weights:\n",
    "        y_ss = 1\n",
    "    else:\n",
    "        y_ss = np.dot(y_weights, y_weights)\n",
    "    y_scores = np.dot(Yk, y_weights) / y_ss  #w_k\n",
    " \n",
    "     \n",
    "    ################################\n",
    "    # Loadings: gamma_k, delta_k\n",
    "    ################################\n",
    "    # Deflation: subtract rank-one approx to obtain Xk+1 and Yk+1\n",
    "    print('-- matrix ---')\n",
    "    print('Xk:\\n', Xk, '\\n')\n",
    "     \n",
    "    x_loadings = np.dot(x_scores, Xk) / np.dot(x_scores, x_scores)  #\n",
    "    Xk -= np.outer(x_scores, x_loadings)\n",
    "     \n",
    " \n",
    "    print('np.outer(x_scores, x_loadings):\\n', np.outer(x_scores, x_loadings), '\\n')\n",
    "    print('Xk (after substract):\\n', Xk )\n",
    "    print('------','\\n\\n')\n",
    "     \n",
    " \n",
    "    if deflation_mode == \"canonical\":\n",
    "        # regress Yk on y_score\n",
    "        y_loadings = np.dot(y_scores, Yk) / np.dot(y_scores, y_scores)\n",
    "        Yk -= np.outer(y_scores, y_loadings)  # np.outer() is same as .T i.e. transpose\n",
    "    if deflation_mode == \"regression\":\n",
    "        # regress Yk on x_score\n",
    "        y_loadings = np.dot(x_scores, Yk) / np.dot(x_scores, x_scores)\n",
    "        Yk -= np.outer(x_scores, y_loadings)\n",
    " \n",
    "    x_weights_[:, k] = x_weights # uk\n",
    "    y_weights_[:, k] = y_weights # vk\n",
    "    _x_scores[:, k] = x_scores   # epsilon_k\n",
    "    _y_scores[:, k] = y_scores   # w_k\n",
    "    x_loadings_[:, k] = x_loadings # gamma_k\n",
    "    y_loadings_[:, k] = y_loadings # delta_k\n",
    " \n",
    "    print(\"x_weights_:\\n\", x_weights_, '\\n')\n",
    "    print(\"y_weights_:\\n\", y_weights_, '\\n')   \n",
    "    print(\"_x_scores:\\n\", _x_scores, '\\n' )\n",
    "    print(\"_y_scores:\\n\", _y_scores, '\\n' )\n",
    "    print(\"x_loadings_:\\n\", x_loadings_, '\\n' )\n",
    "    print(\"y_loadings_:\\n\", y_loadings_, '\\n' )\n",
    "     \n",
    "    # Compute transformation matrices (rotations_). See User Guide.\n",
    "    x_rotations_ = np.dot(\n",
    "        x_weights_,\n",
    "        pinv2(np.dot(x_loadings_.T, x_weights_),check_finite=False))\n",
    "     \n",
    "    y_rotations_ = np.dot(\n",
    "        y_weights_, pinv2(np.dot(y_loadings_.T, y_weights_),check_finite=False))\n",
    " \n",
    "    coef_ = np.dot(x_rotations_, y_loadings_.T)\n",
    "    coef_ = coef_ * _y_std\n",
    "    \n",
    "    print('\\ncoef_:\\n', coef_,'\\n')\n",
    "    print('Xk:\\n', Xk, '\\n')\n",
    "    print(\"Yk:\\n\", Yk, '\\n')\n",
    "     "
   ]
  },
  {
   "cell_type": "markdown",
   "id": "1df1e817",
   "metadata": {
    "papermill": {
     "duration": 0.004588,
     "end_time": "2023-01-08T16:36:45.999867",
     "exception": false,
     "start_time": "2023-01-08T16:36:45.995279",
     "status": "completed"
    },
    "tags": []
   },
   "source": [
    "# PLSCanonical"
   ]
  },
  {
   "cell_type": "code",
   "execution_count": 10,
   "id": "37ddc69f",
   "metadata": {
    "execution": {
     "iopub.execute_input": "2023-01-08T16:36:46.011674Z",
     "iopub.status.busy": "2023-01-08T16:36:46.011007Z",
     "iopub.status.idle": "2023-01-08T16:36:46.020363Z",
     "shell.execute_reply": "2023-01-08T16:36:46.019074Z"
    },
    "papermill": {
     "duration": 0.017877,
     "end_time": "2023-01-08T16:36:46.022689",
     "exception": false,
     "start_time": "2023-01-08T16:36:46.004812",
     "status": "completed"
    },
    "tags": []
   },
   "outputs": [
    {
     "name": "stdout",
     "output_type": "stream",
     "text": [
      "=========================\n",
      "PLSCanonical: x_weights:\n",
      " [[ 0.79639603  0.22436662]\n",
      " [-0.23755967  0.70787937]\n",
      " [ 0.26769172 -0.59593871]\n",
      " [ 0.48750375  0.30565253]] \n",
      "\n",
      "Calculated: x_weights_:\n",
      " [[ 0.79639603]\n",
      " [-0.23755967]\n",
      " [ 0.26769172]\n",
      " [ 0.48750375]] \n",
      "\n"
     ]
    }
   ],
   "source": [
    "\n",
    "print('='*25)\n",
    "plsca = PLSCanonical(n_components=2, algorithm=algorithm, scale=True)\n",
    "plsca.fit(X,Y)\n",
    " \n",
    "print(\"PLSCanonical: x_weights:\\n\", plsca.x_weights_, '\\n')\n",
    "print(\"Calculated: x_weights_:\\n\", x_weights_, '\\n')"
   ]
  }
 ],
 "metadata": {
  "kernelspec": {
   "display_name": "Python 3",
   "language": "python",
   "name": "python3"
  },
  "language_info": {
   "codemirror_mode": {
    "name": "ipython",
    "version": 3
   },
   "file_extension": ".py",
   "mimetype": "text/x-python",
   "name": "python",
   "nbconvert_exporter": "python",
   "pygments_lexer": "ipython3",
   "version": "3.7.12"
  },
  "papermill": {
   "default_parameters": {},
   "duration": 11.096343,
   "end_time": "2023-01-08T16:36:46.750060",
   "environment_variables": {},
   "exception": null,
   "input_path": "__notebook__.ipynb",
   "output_path": "__notebook__.ipynb",
   "parameters": {},
   "start_time": "2023-01-08T16:36:35.653717",
   "version": "2.3.4"
  }
 },
 "nbformat": 4,
 "nbformat_minor": 5
}
