{
 "cells": [
  {
   "cell_type": "markdown",
   "id": "89b652dc",
   "metadata": {},
   "source": [
    "# PCA\n",
    "---"
   ]
  },
  {
   "cell_type": "code",
   "execution_count": 1,
   "id": "0e119db8",
   "metadata": {},
   "outputs": [],
   "source": [
    "import pandas as pd\n",
    "import numpy as np\n",
    "import matplotlib.pyplot as plt\n",
    "import warnings\n",
    "warnings.filterwarnings('ignore')"
   ]
  },
  {
   "cell_type": "code",
   "execution_count": 24,
   "id": "90e75e24",
   "metadata": {},
   "outputs": [],
   "source": [
    "data= pd.read_csv('./abalone.csv')"
   ]
  },
  {
   "cell_type": "code",
   "execution_count": 25,
   "id": "00e85525",
   "metadata": {},
   "outputs": [
    {
     "data": {
      "text/html": [
       "<div>\n",
       "<style scoped>\n",
       "    .dataframe tbody tr th:only-of-type {\n",
       "        vertical-align: middle;\n",
       "    }\n",
       "\n",
       "    .dataframe tbody tr th {\n",
       "        vertical-align: top;\n",
       "    }\n",
       "\n",
       "    .dataframe thead th {\n",
       "        text-align: right;\n",
       "    }\n",
       "</style>\n",
       "<table border=\"1\" class=\"dataframe\">\n",
       "  <thead>\n",
       "    <tr style=\"text-align: right;\">\n",
       "      <th></th>\n",
       "      <th>Type</th>\n",
       "      <th>LongestShell</th>\n",
       "      <th>Diameter</th>\n",
       "      <th>Height</th>\n",
       "      <th>WholeWeight</th>\n",
       "      <th>ShuckedWeight</th>\n",
       "      <th>VisceraWeight</th>\n",
       "      <th>ShellWeight</th>\n",
       "      <th>Rings</th>\n",
       "    </tr>\n",
       "  </thead>\n",
       "  <tbody>\n",
       "    <tr>\n",
       "      <th>0</th>\n",
       "      <td>M</td>\n",
       "      <td>0.455</td>\n",
       "      <td>0.365</td>\n",
       "      <td>0.095</td>\n",
       "      <td>0.5140</td>\n",
       "      <td>0.2245</td>\n",
       "      <td>0.1010</td>\n",
       "      <td>0.150</td>\n",
       "      <td>15</td>\n",
       "    </tr>\n",
       "    <tr>\n",
       "      <th>1</th>\n",
       "      <td>M</td>\n",
       "      <td>0.350</td>\n",
       "      <td>0.265</td>\n",
       "      <td>0.090</td>\n",
       "      <td>0.2255</td>\n",
       "      <td>0.0995</td>\n",
       "      <td>0.0485</td>\n",
       "      <td>0.070</td>\n",
       "      <td>7</td>\n",
       "    </tr>\n",
       "    <tr>\n",
       "      <th>2</th>\n",
       "      <td>F</td>\n",
       "      <td>0.530</td>\n",
       "      <td>0.420</td>\n",
       "      <td>0.135</td>\n",
       "      <td>0.6770</td>\n",
       "      <td>0.2565</td>\n",
       "      <td>0.1415</td>\n",
       "      <td>0.210</td>\n",
       "      <td>9</td>\n",
       "    </tr>\n",
       "    <tr>\n",
       "      <th>3</th>\n",
       "      <td>M</td>\n",
       "      <td>0.440</td>\n",
       "      <td>0.365</td>\n",
       "      <td>0.125</td>\n",
       "      <td>0.5160</td>\n",
       "      <td>0.2155</td>\n",
       "      <td>0.1140</td>\n",
       "      <td>0.155</td>\n",
       "      <td>10</td>\n",
       "    </tr>\n",
       "    <tr>\n",
       "      <th>4</th>\n",
       "      <td>I</td>\n",
       "      <td>0.330</td>\n",
       "      <td>0.255</td>\n",
       "      <td>0.080</td>\n",
       "      <td>0.2050</td>\n",
       "      <td>0.0895</td>\n",
       "      <td>0.0395</td>\n",
       "      <td>0.055</td>\n",
       "      <td>7</td>\n",
       "    </tr>\n",
       "  </tbody>\n",
       "</table>\n",
       "</div>"
      ],
      "text/plain": [
       "  Type  LongestShell  Diameter  Height  WholeWeight  ShuckedWeight  \\\n",
       "0    M         0.455     0.365   0.095       0.5140         0.2245   \n",
       "1    M         0.350     0.265   0.090       0.2255         0.0995   \n",
       "2    F         0.530     0.420   0.135       0.6770         0.2565   \n",
       "3    M         0.440     0.365   0.125       0.5160         0.2155   \n",
       "4    I         0.330     0.255   0.080       0.2050         0.0895   \n",
       "\n",
       "   VisceraWeight  ShellWeight  Rings  \n",
       "0         0.1010        0.150     15  \n",
       "1         0.0485        0.070      7  \n",
       "2         0.1415        0.210      9  \n",
       "3         0.1140        0.155     10  \n",
       "4         0.0395        0.055      7  "
      ]
     },
     "execution_count": 25,
     "metadata": {},
     "output_type": "execute_result"
    }
   ],
   "source": [
    "data.head()"
   ]
  },
  {
   "cell_type": "code",
   "execution_count": 26,
   "id": "71bfb62e",
   "metadata": {},
   "outputs": [],
   "source": [
    "x=data.iloc[:,1:]"
   ]
  },
  {
   "cell_type": "code",
   "execution_count": 27,
   "id": "56ee7806",
   "metadata": {},
   "outputs": [
    {
     "data": {
      "text/html": [
       "<div>\n",
       "<style scoped>\n",
       "    .dataframe tbody tr th:only-of-type {\n",
       "        vertical-align: middle;\n",
       "    }\n",
       "\n",
       "    .dataframe tbody tr th {\n",
       "        vertical-align: top;\n",
       "    }\n",
       "\n",
       "    .dataframe thead th {\n",
       "        text-align: right;\n",
       "    }\n",
       "</style>\n",
       "<table border=\"1\" class=\"dataframe\">\n",
       "  <thead>\n",
       "    <tr style=\"text-align: right;\">\n",
       "      <th></th>\n",
       "      <th>LongestShell</th>\n",
       "      <th>Diameter</th>\n",
       "      <th>Height</th>\n",
       "      <th>WholeWeight</th>\n",
       "      <th>ShuckedWeight</th>\n",
       "      <th>VisceraWeight</th>\n",
       "      <th>ShellWeight</th>\n",
       "      <th>Rings</th>\n",
       "    </tr>\n",
       "  </thead>\n",
       "  <tbody>\n",
       "    <tr>\n",
       "      <th>0</th>\n",
       "      <td>0.455</td>\n",
       "      <td>0.365</td>\n",
       "      <td>0.095</td>\n",
       "      <td>0.5140</td>\n",
       "      <td>0.2245</td>\n",
       "      <td>0.1010</td>\n",
       "      <td>0.150</td>\n",
       "      <td>15</td>\n",
       "    </tr>\n",
       "    <tr>\n",
       "      <th>1</th>\n",
       "      <td>0.350</td>\n",
       "      <td>0.265</td>\n",
       "      <td>0.090</td>\n",
       "      <td>0.2255</td>\n",
       "      <td>0.0995</td>\n",
       "      <td>0.0485</td>\n",
       "      <td>0.070</td>\n",
       "      <td>7</td>\n",
       "    </tr>\n",
       "    <tr>\n",
       "      <th>2</th>\n",
       "      <td>0.530</td>\n",
       "      <td>0.420</td>\n",
       "      <td>0.135</td>\n",
       "      <td>0.6770</td>\n",
       "      <td>0.2565</td>\n",
       "      <td>0.1415</td>\n",
       "      <td>0.210</td>\n",
       "      <td>9</td>\n",
       "    </tr>\n",
       "    <tr>\n",
       "      <th>3</th>\n",
       "      <td>0.440</td>\n",
       "      <td>0.365</td>\n",
       "      <td>0.125</td>\n",
       "      <td>0.5160</td>\n",
       "      <td>0.2155</td>\n",
       "      <td>0.1140</td>\n",
       "      <td>0.155</td>\n",
       "      <td>10</td>\n",
       "    </tr>\n",
       "    <tr>\n",
       "      <th>4</th>\n",
       "      <td>0.330</td>\n",
       "      <td>0.255</td>\n",
       "      <td>0.080</td>\n",
       "      <td>0.2050</td>\n",
       "      <td>0.0895</td>\n",
       "      <td>0.0395</td>\n",
       "      <td>0.055</td>\n",
       "      <td>7</td>\n",
       "    </tr>\n",
       "  </tbody>\n",
       "</table>\n",
       "</div>"
      ],
      "text/plain": [
       "   LongestShell  Diameter  Height  WholeWeight  ShuckedWeight  VisceraWeight  \\\n",
       "0         0.455     0.365   0.095       0.5140         0.2245         0.1010   \n",
       "1         0.350     0.265   0.090       0.2255         0.0995         0.0485   \n",
       "2         0.530     0.420   0.135       0.6770         0.2565         0.1415   \n",
       "3         0.440     0.365   0.125       0.5160         0.2155         0.1140   \n",
       "4         0.330     0.255   0.080       0.2050         0.0895         0.0395   \n",
       "\n",
       "   ShellWeight  Rings  \n",
       "0        0.150     15  \n",
       "1        0.070      7  \n",
       "2        0.210      9  \n",
       "3        0.155     10  \n",
       "4        0.055      7  "
      ]
     },
     "execution_count": 27,
     "metadata": {},
     "output_type": "execute_result"
    }
   ],
   "source": [
    "x.head()"
   ]
  },
  {
   "cell_type": "code",
   "execution_count": 37,
   "id": "7acbf8d4",
   "metadata": {},
   "outputs": [],
   "source": [
    "from sklearn.preprocessing import StandardScaler\n",
    "sc=StandardScaler()"
   ]
  },
  {
   "cell_type": "code",
   "execution_count": 38,
   "id": "d119a486",
   "metadata": {},
   "outputs": [],
   "source": [
    "x_scaled= sc.fit_transform(x)"
   ]
  },
  {
   "cell_type": "code",
   "execution_count": 39,
   "id": "5e9033b2",
   "metadata": {},
   "outputs": [
    {
     "data": {
      "text/plain": [
       "array([[-0.57455813, -0.43214879, -1.06442415, ..., -0.72621157,\n",
       "        -0.63821689,  1.57154357],\n",
       "       [-1.44898585, -1.439929  , -1.18397831, ..., -1.20522124,\n",
       "        -1.21298732, -0.91001299],\n",
       "       [ 0.05003309,  0.12213032, -0.10799087, ..., -0.35668983,\n",
       "        -0.20713907, -0.28962385],\n",
       "       ...,\n",
       "       [ 0.6329849 ,  0.67640943,  1.56576738, ...,  0.97541324,\n",
       "         0.49695471, -0.28962385],\n",
       "       [ 0.84118198,  0.77718745,  0.25067161, ...,  0.73362741,\n",
       "         0.41073914,  0.02057072],\n",
       "       [ 1.54905203,  1.48263359,  1.32665906, ...,  1.78744868,\n",
       "         1.84048058,  0.64095986]])"
      ]
     },
     "execution_count": 39,
     "metadata": {},
     "output_type": "execute_result"
    }
   ],
   "source": [
    "x_scaled"
   ]
  },
  {
   "cell_type": "code",
   "execution_count": null,
   "id": "093a6080",
   "metadata": {},
   "outputs": [],
   "source": []
  },
  {
   "cell_type": "code",
   "execution_count": 28,
   "id": "985045a3",
   "metadata": {},
   "outputs": [],
   "source": [
    "# importing PCA\n",
    "\n",
    "from sklearn.decomposition import PCA\n",
    "pca=PCA()"
   ]
  },
  {
   "cell_type": "code",
   "execution_count": 40,
   "id": "3407ffa0",
   "metadata": {},
   "outputs": [
    {
     "data": {
      "text/plain": [
       "PCA()"
      ]
     },
     "execution_count": 40,
     "metadata": {},
     "output_type": "execute_result"
    }
   ],
   "source": [
    "pca.fit(x_scaled)"
   ]
  },
  {
   "cell_type": "markdown",
   "id": "185ca596",
   "metadata": {},
   "source": [
    "### Explained Varience: Eigen Values "
   ]
  },
  {
   "cell_type": "code",
   "execution_count": 41,
   "id": "8bc3d1a0",
   "metadata": {},
   "outputs": [],
   "source": [
    "eigValues= pca.explained_variance_"
   ]
  },
  {
   "cell_type": "code",
   "execution_count": 42,
   "id": "722026c8",
   "metadata": {},
   "outputs": [
    {
     "data": {
      "text/plain": [
       "array([6.71404654e+00, 6.95779541e-01, 2.58505008e-01, 1.66029591e-01,\n",
       "       8.49700060e-02, 6.34879663e-02, 1.26972036e-02, 6.39985662e-03])"
      ]
     },
     "execution_count": 42,
     "metadata": {},
     "output_type": "execute_result"
    }
   ],
   "source": [
    "eigValues"
   ]
  },
  {
   "cell_type": "markdown",
   "id": "7cb3dbc0",
   "metadata": {},
   "source": [
    "### Percentage of information"
   ]
  },
  {
   "cell_type": "code",
   "execution_count": 43,
   "id": "9aa863ed",
   "metadata": {},
   "outputs": [],
   "source": [
    "ratio= pca.explained_variance_ratio_"
   ]
  },
  {
   "cell_type": "code",
   "execution_count": 44,
   "id": "bf1660ba",
   "metadata": {},
   "outputs": [
    {
     "data": {
      "text/plain": [
       "array([8.39054894e-01, 8.69516209e-02, 3.23053901e-02, 2.07487304e-02,\n",
       "       1.06187080e-02, 7.93409586e-03, 1.58677048e-03, 7.99790556e-04])"
      ]
     },
     "execution_count": 44,
     "metadata": {},
     "output_type": "execute_result"
    }
   ],
   "source": [
    "ratio"
   ]
  },
  {
   "cell_type": "code",
   "execution_count": 45,
   "id": "475d886e",
   "metadata": {},
   "outputs": [
    {
     "data": {
      "text/plain": [
       "array([0.83905489, 0.92600651, 0.9583119 , 0.97906064, 0.98967934,\n",
       "       0.99761344, 0.99920021, 1.        ])"
      ]
     },
     "execution_count": 45,
     "metadata": {},
     "output_type": "execute_result"
    }
   ],
   "source": [
    "# Cummalative sum\n",
    "\n",
    "ratio_cum= np.cumsum(ratio)\n",
    "ratio_cum"
   ]
  },
  {
   "cell_type": "code",
   "execution_count": 46,
   "id": "3a9c3481",
   "metadata": {},
   "outputs": [
    {
     "data": {
      "image/png": "[encoded data removed]",
      "text/plain": [
       "<Figure size 432x288 with 1 Axes>"
      ]
     },
     "metadata": {
      "needs_background": "light"
     },
     "output_type": "display_data"
    }
   ],
   "source": [
    "# Elbow method\n",
    "plt.plot(ratio, 's--')\n",
    "plt.title(\"Elbow method\")\n",
    "plt.xlabel(\"No of components\")\n",
    "plt.ylabel(\"ratio\")\n",
    "plt.grid(axis='x')\n",
    "plt.xticks(list(range(0,len(ratio))),list(range(1,len(ratio)+1)))\n",
    "plt.show()"
   ]
  },
  {
   "cell_type": "code",
   "execution_count": 47,
   "id": "37b57026",
   "metadata": {},
   "outputs": [
    {
     "data": {
      "image/png": "[encoded data removed]",
      "text/plain": [
       "<Figure size 720x360 with 1 Axes>"
      ]
     },
     "metadata": {
      "needs_background": "light"
     },
     "output_type": "display_data"
    }
   ],
   "source": [
    "plt.figure(figsize=(10,5))\n",
    "plt.plot(ratio_cum, 's--')\n",
    "plt.title(\"Elbow method\")\n",
    "plt.xlabel(\"No of components\")\n",
    "plt.ylabel(\"Cum Sum\")\n",
    "plt.grid()\n",
    "plt.xticks(list(range(0,len(ratio))),list(range(1,len(ratio)+1)))\n",
    "plt.show()"
   ]
  },
  {
   "cell_type": "markdown",
   "id": "fb0d3f87",
   "metadata": {},
   "source": [
    "## We will select 8 components, as cum sum is greater than 80%"
   ]
  },
  {
   "cell_type": "code",
   "execution_count": 19,
   "id": "af2fbb34",
   "metadata": {},
   "outputs": [],
   "source": [
    "pca=PCA(n_components=6)"
   ]
  },
  {
   "cell_type": "code",
   "execution_count": 20,
   "id": "9fd83fab",
   "metadata": {},
   "outputs": [],
   "source": [
    "data_PCA= pca.fit_transform(x_scaled)"
   ]
  },
  {
   "cell_type": "code",
   "execution_count": 21,
   "id": "eb7cf5e5",
   "metadata": {},
   "outputs": [
    {
     "data": {
      "text/plain": [
       "array([[-0.77083361,  0.28190981, -0.04076204, -0.06330548, -0.08574267,\n",
       "         0.05495712],\n",
       "       [-0.6368418 ,  0.15326541, -0.2168582 , -0.03584487,  0.08014179,\n",
       "         0.0064524 ],\n",
       "       [ 0.73218576, -0.43964367, -0.01887084,  0.336703  ,  0.08246479,\n",
       "        -0.08833845],\n",
       "       ...,\n",
       "       [-0.7328491 ,  0.20402386, -0.2419349 , -0.03357426,  0.09190122,\n",
       "         0.00472778],\n",
       "       [-0.71767876,  0.19500436, -0.23258372, -0.04827004,  0.09400123,\n",
       "         0.00455542],\n",
       "       [-0.08388359, -0.02997516, -0.15589243,  0.09096019,  0.13532431,\n",
       "        -0.05977661]])"
      ]
     },
     "execution_count": 21,
     "metadata": {},
     "output_type": "execute_result"
    }
   ],
   "source": [
    "data_PCA"
   ]
  },
  {
   "cell_type": "code",
   "execution_count": 22,
   "id": "9ae223c2",
   "metadata": {},
   "outputs": [
    {
     "data": {
      "text/plain": [
       "(9840, 6)"
      ]
     },
     "execution_count": 22,
     "metadata": {},
     "output_type": "execute_result"
    }
   ],
   "source": [
    "data_PCA.shape"
   ]
  },
  {
   "cell_type": "code",
   "execution_count": 23,
   "id": "522fba43",
   "metadata": {},
   "outputs": [
    {
     "data": {
      "text/html": [
       "<div>\n",
       "<style scoped>\n",
       "    .dataframe tbody tr th:only-of-type {\n",
       "        vertical-align: middle;\n",
       "    }\n",
       "\n",
       "    .dataframe tbody tr th {\n",
       "        vertical-align: top;\n",
       "    }\n",
       "\n",
       "    .dataframe thead th {\n",
       "        text-align: right;\n",
       "    }\n",
       "</style>\n",
       "<table border=\"1\" class=\"dataframe\">\n",
       "  <thead>\n",
       "    <tr style=\"text-align: right;\">\n",
       "      <th></th>\n",
       "      <th>0</th>\n",
       "      <th>1</th>\n",
       "      <th>2</th>\n",
       "      <th>3</th>\n",
       "      <th>4</th>\n",
       "      <th>5</th>\n",
       "    </tr>\n",
       "  </thead>\n",
       "  <tbody>\n",
       "    <tr>\n",
       "      <th>0</th>\n",
       "      <td>-0.770834</td>\n",
       "      <td>0.281910</td>\n",
       "      <td>-0.040762</td>\n",
       "      <td>-0.063305</td>\n",
       "      <td>-0.085743</td>\n",
       "      <td>0.054957</td>\n",
       "    </tr>\n",
       "    <tr>\n",
       "      <th>1</th>\n",
       "      <td>-0.636842</td>\n",
       "      <td>0.153265</td>\n",
       "      <td>-0.216858</td>\n",
       "      <td>-0.035845</td>\n",
       "      <td>0.080142</td>\n",
       "      <td>0.006452</td>\n",
       "    </tr>\n",
       "    <tr>\n",
       "      <th>2</th>\n",
       "      <td>0.732186</td>\n",
       "      <td>-0.439644</td>\n",
       "      <td>-0.018871</td>\n",
       "      <td>0.336703</td>\n",
       "      <td>0.082465</td>\n",
       "      <td>-0.088338</td>\n",
       "    </tr>\n",
       "    <tr>\n",
       "      <th>3</th>\n",
       "      <td>2.257551</td>\n",
       "      <td>-2.218218</td>\n",
       "      <td>1.547885</td>\n",
       "      <td>-6.166680</td>\n",
       "      <td>0.729739</td>\n",
       "      <td>0.037366</td>\n",
       "    </tr>\n",
       "    <tr>\n",
       "      <th>4</th>\n",
       "      <td>1.331226</td>\n",
       "      <td>-0.948855</td>\n",
       "      <td>0.286823</td>\n",
       "      <td>-0.136187</td>\n",
       "      <td>-0.195372</td>\n",
       "      <td>0.131421</td>\n",
       "    </tr>\n",
       "    <tr>\n",
       "      <th>...</th>\n",
       "      <td>...</td>\n",
       "      <td>...</td>\n",
       "      <td>...</td>\n",
       "      <td>...</td>\n",
       "      <td>...</td>\n",
       "      <td>...</td>\n",
       "    </tr>\n",
       "    <tr>\n",
       "      <th>9835</th>\n",
       "      <td>-0.767975</td>\n",
       "      <td>0.279309</td>\n",
       "      <td>-0.044154</td>\n",
       "      <td>-0.070352</td>\n",
       "      <td>-0.088748</td>\n",
       "      <td>0.058248</td>\n",
       "    </tr>\n",
       "    <tr>\n",
       "      <th>9836</th>\n",
       "      <td>-0.732479</td>\n",
       "      <td>0.204442</td>\n",
       "      <td>-0.241672</td>\n",
       "      <td>-0.033426</td>\n",
       "      <td>0.092257</td>\n",
       "      <td>0.004537</td>\n",
       "    </tr>\n",
       "    <tr>\n",
       "      <th>9837</th>\n",
       "      <td>-0.732849</td>\n",
       "      <td>0.204024</td>\n",
       "      <td>-0.241935</td>\n",
       "      <td>-0.033574</td>\n",
       "      <td>0.091901</td>\n",
       "      <td>0.004728</td>\n",
       "    </tr>\n",
       "    <tr>\n",
       "      <th>9838</th>\n",
       "      <td>-0.717679</td>\n",
       "      <td>0.195004</td>\n",
       "      <td>-0.232584</td>\n",
       "      <td>-0.048270</td>\n",
       "      <td>0.094001</td>\n",
       "      <td>0.004555</td>\n",
       "    </tr>\n",
       "    <tr>\n",
       "      <th>9839</th>\n",
       "      <td>-0.083884</td>\n",
       "      <td>-0.029975</td>\n",
       "      <td>-0.155892</td>\n",
       "      <td>0.090960</td>\n",
       "      <td>0.135324</td>\n",
       "      <td>-0.059777</td>\n",
       "    </tr>\n",
       "  </tbody>\n",
       "</table>\n",
       "<p>9840 rows × 6 columns</p>\n",
       "</div>"
      ],
      "text/plain": [
       "             0         1         2         3         4         5\n",
       "0    -0.770834  0.281910 -0.040762 -0.063305 -0.085743  0.054957\n",
       "1    -0.636842  0.153265 -0.216858 -0.035845  0.080142  0.006452\n",
       "2     0.732186 -0.439644 -0.018871  0.336703  0.082465 -0.088338\n",
       "3     2.257551 -2.218218  1.547885 -6.166680  0.729739  0.037366\n",
       "4     1.331226 -0.948855  0.286823 -0.136187 -0.195372  0.131421\n",
       "...        ...       ...       ...       ...       ...       ...\n",
       "9835 -0.767975  0.279309 -0.044154 -0.070352 -0.088748  0.058248\n",
       "9836 -0.732479  0.204442 -0.241672 -0.033426  0.092257  0.004537\n",
       "9837 -0.732849  0.204024 -0.241935 -0.033574  0.091901  0.004728\n",
       "9838 -0.717679  0.195004 -0.232584 -0.048270  0.094001  0.004555\n",
       "9839 -0.083884 -0.029975 -0.155892  0.090960  0.135324 -0.059777\n",
       "\n",
       "[9840 rows x 6 columns]"
      ]
     },
     "execution_count": 23,
     "metadata": {},
     "output_type": "execute_result"
    }
   ],
   "source": [
    "pd.DataFrame(data_PCA)"
   ]
  },
  {
   "cell_type": "code",
   "execution_count": 29,
   "id": "50cfd207",
   "metadata": {},
   "outputs": [
    {
     "data": {
      "text/plain": [
       "array([[-0.18227112,  0.09628467,  0.07595838, -0.00221968, -0.05812014,\n",
       "        -0.13588247, -0.63823307, -0.02411243, -0.38586723, -0.30100285,\n",
       "        -0.36251032, -0.26551373, -0.28354373,  0.01274717],\n",
       "       [ 0.06037599, -0.06178098, -0.16008751, -0.26068148, -0.21216104,\n",
       "        -0.15944812,  0.46244234, -0.11907056, -0.13898009, -0.06777595,\n",
       "         0.02943741, -0.59462442, -0.24925043, -0.40001086],\n",
       "       [ 0.03858712, -0.02233605,  0.4856906 ,  0.05445947, -0.10005976,\n",
       "         0.02141581,  0.35107982,  0.00993132, -0.10127855, -0.63175992,\n",
       "        -0.0991878 ,  0.40464082, -0.13418286, -0.15610665],\n",
       "       [ 0.13669342,  0.13107231,  0.12268426,  0.34577401,  0.60170422,\n",
       "         0.25151365, -0.00445443,  0.33998538,  0.00543202, -0.19934001,\n",
       "         0.13361973, -0.39862356,  0.11990823, -0.24022485],\n",
       "       [-0.15282925,  0.23380104, -0.339593  , -0.01158933,  0.15757625,\n",
       "         0.25348782, -0.04726902,  0.08021202,  0.0760234 ,  0.14202279,\n",
       "         0.00208466,  0.38092208, -0.59999058, -0.42157229],\n",
       "       [ 0.1422206 ,  0.29240242, -0.22091538,  0.24429367, -0.59676909,\n",
       "         0.18636815, -0.09419723,  0.25682629,  0.3821904 , -0.18650863,\n",
       "        -0.23427849, -0.08892883,  0.22332753, -0.16299362],\n",
       "       [ 0.06743278,  0.02423852, -0.07150704, -0.00849963, -0.05314869,\n",
       "        -0.24445176, -0.30009229, -0.21455682, -0.23445381, -0.04298464,\n",
       "         0.36014694,  0.22182832,  0.43695124, -0.60361584],\n",
       "       [ 0.04033486, -0.38490941,  0.57172656, -0.09558669, -0.14772399,\n",
       "         0.14754294, -0.29447472,  0.00632477,  0.40487943,  0.2729207 ,\n",
       "         0.05211795, -0.12592721, -0.18399369, -0.30499578]])"
      ]
     },
     "execution_count": 29,
     "metadata": {},
     "output_type": "execute_result"
    }
   ],
   "source": [
    "pca.components_"
   ]
  },
  {
   "cell_type": "code",
   "execution_count": null,
   "id": "fa8732f7",
   "metadata": {},
   "outputs": [],
   "source": []
  }
 ],
 "metadata": {
  "kernelspec": {
   "display_name": "Python 3",
   "language": "python",
   "name": "python3"
  },
  "language_info": {
   "codemirror_mode": {
    "name": "ipython",
    "version": 3
   },
   "file_extension": ".py",
   "mimetype": "text/x-python",
   "name": "python",
   "nbconvert_exporter": "python",
   "pygments_lexer": "ipython3",
   "version": "3.8.8"
  }
 },
 "nbformat": 4,
 "nbformat_minor": 5
}
