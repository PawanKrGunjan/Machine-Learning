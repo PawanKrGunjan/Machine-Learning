{
 "cells": [
  {
   "cell_type": "code",
   "execution_count": 1,
   "id": "02fae473-2ee9-42c1-b317-c1e453df01a2",
   "metadata": {},
   "outputs": [],
   "source": [
    "import pandas as pd\n",
    "import numpy as np\n",
    "import matplotlib.pyplot as plt\n",
    "from sklearn import model_selection\n",
    "from sklearn import cluster\n",
    "from sklearn import metrics\n",
    "import seaborn as sns\n",
    "import warnings\n",
    "warnings.filterwarnings('ignore')"
   ]
  },
  {
   "cell_type": "code",
   "execution_count": 2,
   "id": "83f959fd-b94f-4bb2-ae95-b1472687f194",
   "metadata": {},
   "outputs": [],
   "source": [
    "from sklearn.datasets import load_digits\n",
    "data, labels = load_digits(return_X_y=True)"
   ]
  },
  {
   "cell_type": "code",
   "execution_count": 3,
   "id": "d85d56a6-f8d5-4919-98aa-da8bb5a818a9",
   "metadata": {},
   "outputs": [
    {
     "data": {
      "text/plain": [
       "array([0, 1, 2, 3, 4, 5, 6, 7, 8, 9])"
      ]
     },
     "execution_count": 3,
     "metadata": {},
     "output_type": "execute_result"
    }
   ],
   "source": [
    "digits=np.unique(labels)\n",
    "digits"
   ]
  },
  {
   "cell_type": "code",
   "execution_count": 4,
   "id": "e70e7a42-83ef-4f72-84c5-af2a777e800b",
   "metadata": {},
   "outputs": [
    {
     "data": {
      "text/plain": [
       "(1797, 64)"
      ]
     },
     "execution_count": 4,
     "metadata": {},
     "output_type": "execute_result"
    }
   ],
   "source": [
    "n_samples, n_features = data.shape\n",
    "n_samples, n_features"
   ]
  },
  {
   "cell_type": "code",
   "execution_count": 5,
   "id": "a9e15e56-1e93-4c2c-a237-2cb2407a5486",
   "metadata": {},
   "outputs": [
    {
     "data": {
      "image/png": "[encoded data removed]",
      "text/plain": [
       "<Figure size 432x288 with 1 Axes>"
      ]
     },
     "metadata": {
      "needs_background": "light"
     },
     "output_type": "display_data"
    }
   ],
   "source": [
    "first_digit=data[0]\n",
    "first_digit_image= first_digit.reshape(8,8)\n",
    "plt.imshow(first_digit_image, cmap=\"binary\")\n",
    "plt.axis(\"off\")\n",
    "plt.show()"
   ]
  },
  {
   "cell_type": "code",
   "execution_count": 6,
   "id": "b1379741-48e1-4e91-96b5-68d8aac84d09",
   "metadata": {},
   "outputs": [
    {
     "data": {
      "text/plain": [
       "0"
      ]
     },
     "execution_count": 6,
     "metadata": {},
     "output_type": "execute_result"
    }
   ],
   "source": [
    "labels[0]"
   ]
  },
  {
   "cell_type": "code",
   "execution_count": 7,
   "id": "b4454093-a644-4960-8f22-0314d828afad",
   "metadata": {},
   "outputs": [
    {
     "data": {
      "image/png": "[encoded data removed]",
      "text/plain": [
       "<Figure size 1440x720 with 50 Axes>"
      ]
     },
     "metadata": {},
     "output_type": "display_data"
    }
   ],
   "source": [
    "plt.figure(figsize=(20,10))\n",
    "for i in range(50):\n",
    "    plt.subplot(5,10,i+1)\n",
    "    plt.xticks([])\n",
    "    plt.yticks([])\n",
    "    plt.grid(True)\n",
    "    x=data[i].reshape(8,8)\n",
    "    plt.imshow(x, cmap=plt.cm.binary)\n",
    "    plt.xlabel(labels[i])\n",
    "plt.show()"
   ]
  },
  {
   "cell_type": "code",
   "execution_count": 8,
   "id": "7d6875d2-5522-4984-bc0d-076d9c0b52e5",
   "metadata": {},
   "outputs": [],
   "source": [
    "from sklearn.model_selection import train_test_split\n",
    "X_train, X_test, y_train, y_test = train_test_split(data, labels, train_size=0.8, random_state=2)"
   ]
  },
  {
   "cell_type": "code",
   "execution_count": 9,
   "id": "f6c68a8d-fe40-4244-b6d0-77f4dc19c78c",
   "metadata": {},
   "outputs": [
    {
     "data": {
      "text/plain": [
       "((1437, 64), (360, 64), (1437,), (360,))"
      ]
     },
     "execution_count": 9,
     "metadata": {},
     "output_type": "execute_result"
    }
   ],
   "source": [
    "X_train.shape, X_test.shape, y_train.shape, y_test.shape"
   ]
  },
  {
   "cell_type": "code",
   "execution_count": 10,
   "id": "b401b3d6-5af5-444a-8872-913c9d731704",
   "metadata": {},
   "outputs": [
    {
     "data": {
      "text/plain": [
       "(array([0, 1, 2, 3, 4, 5, 6, 7, 8, 9]),\n",
       " array([0.10160056, 0.0960334 , 0.10160056, 0.10229645, 0.10160056,\n",
       "        0.0967293 , 0.10160056, 0.0967293 , 0.0960334 , 0.10577592]))"
      ]
     },
     "execution_count": 10,
     "metadata": {},
     "output_type": "execute_result"
    }
   ],
   "source": [
    "unique,count = np.unique(y_train,return_counts=True)\n",
    "unique,count/y_train.shape"
   ]
  },
  {
   "cell_type": "code",
   "execution_count": 11,
   "id": "6ad3b3d8-397d-430a-a3d4-dfe261dfdd7e",
   "metadata": {},
   "outputs": [
    {
     "data": {
      "text/plain": [
       "(array([0, 1, 2, 3, 4, 5, 6, 7, 8, 9]),\n",
       " array([0.08888889, 0.12222222, 0.08611111, 0.1       , 0.09722222,\n",
       "        0.11944444, 0.09722222, 0.11111111, 0.1       , 0.07777778]))"
      ]
     },
     "execution_count": 11,
     "metadata": {},
     "output_type": "execute_result"
    }
   ],
   "source": [
    "unique,count=np.unique(y_test,return_counts=True)\n",
    "unique,count/y_test.shape"
   ]
  },
  {
   "cell_type": "code",
   "execution_count": 12,
   "id": "c7652c3f-8c06-419b-880e-ccf76f1e9ffb",
   "metadata": {},
   "outputs": [],
   "source": [
    "from imblearn.over_sampling import SMOTE\n",
    "smote = SMOTE()"
   ]
  },
  {
   "cell_type": "code",
   "execution_count": 13,
   "id": "f346dab2-f238-45c5-8d15-f8d9e800bdb4",
   "metadata": {},
   "outputs": [],
   "source": [
    "#x_train, y_train = smote.fit_resample(X_train.astype('float'),y_train)"
   ]
  },
  {
   "cell_type": "code",
   "execution_count": 14,
   "id": "1cdab279-0710-4be2-a098-91b782bcb784",
   "metadata": {},
   "outputs": [],
   "source": [
    "#unique,count = np.unique(y_train,return_counts=True)\n",
    "#unique,count/y_train.shape"
   ]
  },
  {
   "cell_type": "code",
   "execution_count": 15,
   "id": "da031511-0216-4749-9cc8-b1f9ba9e0a73",
   "metadata": {},
   "outputs": [],
   "source": [
    "from sklearn.linear_model import LogisticRegression\n",
    "log_reg = LogisticRegression()"
   ]
  },
  {
   "cell_type": "code",
   "execution_count": 16,
   "id": "c70f7449-f4e5-48d0-84c1-4f8b8116be98",
   "metadata": {},
   "outputs": [
    {
     "data": {
      "text/html": [
       "<style>#sk-container-id-1 {color: black;background-color: white;}#sk-container-id-1 pre{padding: 0;}#sk-container-id-1 div.sk-toggleable {background-color: white;}#sk-container-id-1 label.sk-toggleable__label {cursor: pointer;display: block;width: 100%;margin-bottom: 0;padding: 0.3em;box-sizing: border-box;text-align: center;}#sk-container-id-1 label.sk-toggleable__label-arrow:before {content: \"▸\";float: left;margin-right: 0.25em;color: #696969;}#sk-container-id-1 label.sk-toggleable__label-arrow:hover:before {color: black;}#sk-container-id-1 div.sk-estimator:hover label.sk-toggleable__label-arrow:before {color: black;}#sk-container-id-1 div.sk-toggleable__content {max-height: 0;max-width: 0;overflow: hidden;text-align: left;background-color: #f0f8ff;}#sk-container-id-1 div.sk-toggleable__content pre {margin: 0.2em;color: black;border-radius: 0.25em;background-color: #f0f8ff;}#sk-container-id-1 input.sk-toggleable__control:checked~div.sk-toggleable__content {max-height: 200px;max-width: 100%;overflow: auto;}#sk-container-id-1 input.sk-toggleable__control:checked~label.sk-toggleable__label-arrow:before {content: \"▾\";}#sk-container-id-1 div.sk-estimator input.sk-toggleable__control:checked~label.sk-toggleable__label {background-color: #d4ebff;}#sk-container-id-1 div.sk-label input.sk-toggleable__control:checked~label.sk-toggleable__label {background-color: #d4ebff;}#sk-container-id-1 input.sk-hidden--visually {border: 0;clip: rect(1px 1px 1px 1px);clip: rect(1px, 1px, 1px, 1px);height: 1px;margin: -1px;overflow: hidden;padding: 0;position: absolute;width: 1px;}#sk-container-id-1 div.sk-estimator {font-family: monospace;background-color: #f0f8ff;border: 1px dotted black;border-radius: 0.25em;box-sizing: border-box;margin-bottom: 0.5em;}#sk-container-id-1 div.sk-estimator:hover {background-color: #d4ebff;}#sk-container-id-1 div.sk-parallel-item::after {content: \"\";width: 100%;border-bottom: 1px solid gray;flex-grow: 1;}#sk-container-id-1 div.sk-label:hover label.sk-toggleable__label {background-color: #d4ebff;}#sk-container-id-1 div.sk-serial::before {content: \"\";position: absolute;border-left: 1px solid gray;box-sizing: border-box;top: 0;bottom: 0;left: 50%;z-index: 0;}#sk-container-id-1 div.sk-serial {display: flex;flex-direction: column;align-items: center;background-color: white;padding-right: 0.2em;padding-left: 0.2em;position: relative;}#sk-container-id-1 div.sk-item {position: relative;z-index: 1;}#sk-container-id-1 div.sk-parallel {display: flex;align-items: stretch;justify-content: center;background-color: white;position: relative;}#sk-container-id-1 div.sk-item::before, #sk-container-id-1 div.sk-parallel-item::before {content: \"\";position: absolute;border-left: 1px solid gray;box-sizing: border-box;top: 0;bottom: 0;left: 50%;z-index: -1;}#sk-container-id-1 div.sk-parallel-item {display: flex;flex-direction: column;z-index: 1;position: relative;background-color: white;}#sk-container-id-1 div.sk-parallel-item:first-child::after {align-self: flex-end;width: 50%;}#sk-container-id-1 div.sk-parallel-item:last-child::after {align-self: flex-start;width: 50%;}#sk-container-id-1 div.sk-parallel-item:only-child::after {width: 0;}#sk-container-id-1 div.sk-dashed-wrapped {border: 1px dashed gray;margin: 0 0.4em 0.5em 0.4em;box-sizing: border-box;padding-bottom: 0.4em;background-color: white;}#sk-container-id-1 div.sk-label label {font-family: monospace;font-weight: bold;display: inline-block;line-height: 1.2em;}#sk-container-id-1 div.sk-label-container {text-align: center;}#sk-container-id-1 div.sk-container {/* jupyter's `normalize.less` sets `[hidden] { display: none; }` but bootstrap.min.css set `[hidden] { display: none !important; }` so we also need the `!important` here to be able to override the default hidden behavior on the sphinx rendered scikit-learn.org. See: https://github.com/scikit-learn/scikit-learn/issues/21755 */display: inline-block !important;position: relative;}#sk-container-id-1 div.sk-text-repr-fallback {display: none;}</style><div id=\"sk-container-id-1\" class=\"sk-top-container\"><div class=\"sk-text-repr-fallback\"><pre>LogisticRegression()</pre><b>In a Jupyter environment, please rerun this cell to show the HTML representation or trust the notebook. <br />On GitHub, the HTML representation is unable to render, please try loading this page with nbviewer.org.</b></div><div class=\"sk-container\" hidden><div class=\"sk-item\"><div class=\"sk-estimator sk-toggleable\"><input class=\"sk-toggleable__control sk-hidden--visually\" id=\"sk-estimator-id-1\" type=\"checkbox\" checked><label for=\"sk-estimator-id-1\" class=\"sk-toggleable__label sk-toggleable__label-arrow\">LogisticRegression</label><div class=\"sk-toggleable__content\"><pre>LogisticRegression()</pre></div></div></div></div></div>"
      ],
      "text/plain": [
       "LogisticRegression()"
      ]
     },
     "execution_count": 16,
     "metadata": {},
     "output_type": "execute_result"
    }
   ],
   "source": [
    "log_reg.fit(X_train, y_train)"
   ]
  },
  {
   "cell_type": "code",
   "execution_count": 17,
   "id": "0dab47f9-1ae2-4c8d-b9e5-64c84ac838b2",
   "metadata": {},
   "outputs": [
    {
     "data": {
      "text/plain": [
       "array([ 0.00032198, -0.07937238, -0.00385451,  0.01053846,  0.00497534,\n",
       "       -0.00169985, -0.00646291,  0.0135647 ,  0.09386533, -0.03187616])"
      ]
     },
     "execution_count": 17,
     "metadata": {},
     "output_type": "execute_result"
    }
   ],
   "source": [
    "log_reg.intercept_"
   ]
  },
  {
   "cell_type": "code",
   "execution_count": 18,
   "id": "d5d9e1fe-df10-4ac4-83ab-7ca92bffd9aa",
   "metadata": {},
   "outputs": [
    {
     "data": {
      "text/plain": [
       "array([[ 0.00000000e+00, -8.15705766e-03, -2.32205836e-02,\n",
       "         4.61992144e-02,  2.20580221e-02, -9.17586844e-02,\n",
       "        -1.35182879e-01, -1.25730676e-02, -1.33547647e-04,\n",
       "        -2.76676448e-02,  1.32057172e-02,  8.80933587e-02,\n",
       "         4.58700949e-02,  1.25854630e-01, -5.14246170e-02,\n",
       "        -1.36075029e-02, -3.68904186e-04,  1.51055813e-02,\n",
       "         1.68600194e-01,  3.08444242e-03, -2.76660795e-01,\n",
       "         1.34407265e-01,  8.32086378e-02, -4.42461295e-03,\n",
       "        -1.77917038e-04,  9.16759492e-02,  1.50048819e-01,\n",
       "        -1.39245474e-01, -4.38755662e-01, -2.01798036e-02,\n",
       "         1.85175261e-01, -9.23918256e-05,  0.00000000e+00,\n",
       "         1.81283421e-01,  1.06883578e-01, -2.44530303e-01,\n",
       "        -3.99549904e-01,  3.30743059e-02,  1.29451516e-01,\n",
       "         0.00000000e+00, -3.41447798e-04,  2.35667731e-02,\n",
       "         1.77988133e-01, -6.96931855e-02, -1.35088531e-01,\n",
       "         1.38911449e-01,  3.90999609e-02, -4.18488588e-04,\n",
       "        -6.90084203e-04, -5.73505700e-02,  9.71085744e-02,\n",
       "         1.16909493e-02,  1.40547033e-01,  7.68943581e-02,\n",
       "        -4.26785128e-02, -9.11547234e-03, -1.43540636e-05,\n",
       "        -1.36853632e-02, -6.09164000e-02,  9.76872006e-02,\n",
       "        -2.79778888e-02, -3.99407490e-02, -4.30172735e-02,\n",
       "        -1.57015176e-02]])"
      ]
     },
     "execution_count": 18,
     "metadata": {},
     "output_type": "execute_result"
    }
   ],
   "source": [
    "log_reg.coef_[:1]"
   ]
  },
  {
   "cell_type": "code",
   "execution_count": 19,
   "id": "864a75a0-678b-4452-a093-90e6829a2b47",
   "metadata": {},
   "outputs": [
    {
     "data": {
      "text/plain": [
       "array([4])"
      ]
     },
     "execution_count": 19,
     "metadata": {},
     "output_type": "execute_result"
    }
   ],
   "source": [
    "y_predict=log_reg.predict(X_test)\n",
    "y_predict[:1]"
   ]
  },
  {
   "cell_type": "code",
   "execution_count": 20,
   "id": "c3c6a61b-85c1-4979-bd06-f0953db8ac51",
   "metadata": {},
   "outputs": [
    {
     "data": {
      "text/plain": [
       "0.9444444444444444"
      ]
     },
     "execution_count": 20,
     "metadata": {},
     "output_type": "execute_result"
    }
   ],
   "source": [
    "log_reg.score(X_test, y_test)"
   ]
  },
  {
   "cell_type": "code",
   "execution_count": 21,
   "id": "19e8597e-46f7-4b71-a77f-04e627bd10ab",
   "metadata": {},
   "outputs": [
    {
     "data": {
      "text/plain": [
       "0.9444444444444444"
      ]
     },
     "execution_count": 21,
     "metadata": {},
     "output_type": "execute_result"
    }
   ],
   "source": [
    "from sklearn.metrics import accuracy_score\n",
    "accuracy_score(y_test,y_predict)"
   ]
  },
  {
   "cell_type": "code",
   "execution_count": 22,
   "id": "3a8544a8-d9c8-435d-a442-7370c28bd4e9",
   "metadata": {},
   "outputs": [
    {
     "data": {
      "image/png": "[encoded data removed]",
      "text/plain": [
       "<Figure size 1440x720 with 50 Axes>"
      ]
     },
     "metadata": {},
     "output_type": "display_data"
    }
   ],
   "source": [
    "plt.figure(figsize=(20,10))\n",
    "for i in range(50):\n",
    "    plt.subplot(5,10,i+1)\n",
    "    plt.xticks([])\n",
    "    plt.yticks([])\n",
    "    plt.grid(True)\n",
    "    x=X_test[i].reshape(8,8)\n",
    "    plt.imshow(x, cmap=plt.cm.binary)\n",
    "    plt.xlabel(y_predict[i])\n",
    "plt.show()"
   ]
  },
  {
   "cell_type": "code",
   "execution_count": 23,
   "id": "d87ef9b5-54c7-42a9-ab89-bf230b627381",
   "metadata": {},
   "outputs": [
    {
     "name": "stdout",
     "output_type": "stream",
     "text": [
      "              precision    recall  f1-score   support\n",
      "\n",
      "           0       1.00      0.97      0.98        32\n",
      "           1       0.95      0.93      0.94        44\n",
      "           2       1.00      1.00      1.00        31\n",
      "           3       0.94      0.92      0.93        36\n",
      "           4       0.94      0.89      0.91        35\n",
      "           5       0.98      0.95      0.96        43\n",
      "           6       1.00      0.94      0.97        35\n",
      "           7       0.97      0.97      0.97        40\n",
      "           8       0.81      0.97      0.89        36\n",
      "           9       0.86      0.89      0.88        28\n",
      "\n",
      "    accuracy                           0.94       360\n",
      "   macro avg       0.95      0.94      0.94       360\n",
      "weighted avg       0.95      0.94      0.95       360\n",
      "\n"
     ]
    }
   ],
   "source": [
    "from sklearn.metrics import classification_report\n",
    "print(classification_report(y_test, y_predict))"
   ]
  },
  {
   "cell_type": "code",
   "execution_count": 24,
   "id": "4ba84e13-6792-4e7a-bfe6-cc3cf2a72107",
   "metadata": {},
   "outputs": [],
   "source": [
    "from sklearn.preprocessing import QuantileTransformer\n",
    "quantile_transformer = QuantileTransformer(output_distribution='normal', random_state=2)"
   ]
  },
  {
   "cell_type": "code",
   "execution_count": 25,
   "id": "15194da9-ed05-4abc-a2f2-a3425a2de1cd",
   "metadata": {},
   "outputs": [],
   "source": [
    "X_train_trans = quantile_transformer.fit_transform(X_train)"
   ]
  },
  {
   "cell_type": "code",
   "execution_count": 26,
   "id": "2063f09f-bb75-425c-987f-730ff10fecb5",
   "metadata": {},
   "outputs": [],
   "source": [
    "X_test_trans = quantile_transformer.transform(X_test)"
   ]
  },
  {
   "cell_type": "code",
   "execution_count": 27,
   "id": "9f797231-e6b8-4ab3-832d-e3a13800fc0e",
   "metadata": {},
   "outputs": [],
   "source": [
    "lreg = LogisticRegression()"
   ]
  },
  {
   "cell_type": "code",
   "execution_count": 28,
   "id": "dbcd5516-54f1-488e-9a09-3b99092871c2",
   "metadata": {},
   "outputs": [
    {
     "data": {
      "text/html": [
       "<style>#sk-container-id-2 {color: black;background-color: white;}#sk-container-id-2 pre{padding: 0;}#sk-container-id-2 div.sk-toggleable {background-color: white;}#sk-container-id-2 label.sk-toggleable__label {cursor: pointer;display: block;width: 100%;margin-bottom: 0;padding: 0.3em;box-sizing: border-box;text-align: center;}#sk-container-id-2 label.sk-toggleable__label-arrow:before {content: \"▸\";float: left;margin-right: 0.25em;color: #696969;}#sk-container-id-2 label.sk-toggleable__label-arrow:hover:before {color: black;}#sk-container-id-2 div.sk-estimator:hover label.sk-toggleable__label-arrow:before {color: black;}#sk-container-id-2 div.sk-toggleable__content {max-height: 0;max-width: 0;overflow: hidden;text-align: left;background-color: #f0f8ff;}#sk-container-id-2 div.sk-toggleable__content pre {margin: 0.2em;color: black;border-radius: 0.25em;background-color: #f0f8ff;}#sk-container-id-2 input.sk-toggleable__control:checked~div.sk-toggleable__content {max-height: 200px;max-width: 100%;overflow: auto;}#sk-container-id-2 input.sk-toggleable__control:checked~label.sk-toggleable__label-arrow:before {content: \"▾\";}#sk-container-id-2 div.sk-estimator input.sk-toggleable__control:checked~label.sk-toggleable__label {background-color: #d4ebff;}#sk-container-id-2 div.sk-label input.sk-toggleable__control:checked~label.sk-toggleable__label {background-color: #d4ebff;}#sk-container-id-2 input.sk-hidden--visually {border: 0;clip: rect(1px 1px 1px 1px);clip: rect(1px, 1px, 1px, 1px);height: 1px;margin: -1px;overflow: hidden;padding: 0;position: absolute;width: 1px;}#sk-container-id-2 div.sk-estimator {font-family: monospace;background-color: #f0f8ff;border: 1px dotted black;border-radius: 0.25em;box-sizing: border-box;margin-bottom: 0.5em;}#sk-container-id-2 div.sk-estimator:hover {background-color: #d4ebff;}#sk-container-id-2 div.sk-parallel-item::after {content: \"\";width: 100%;border-bottom: 1px solid gray;flex-grow: 1;}#sk-container-id-2 div.sk-label:hover label.sk-toggleable__label {background-color: #d4ebff;}#sk-container-id-2 div.sk-serial::before {content: \"\";position: absolute;border-left: 1px solid gray;box-sizing: border-box;top: 0;bottom: 0;left: 50%;z-index: 0;}#sk-container-id-2 div.sk-serial {display: flex;flex-direction: column;align-items: center;background-color: white;padding-right: 0.2em;padding-left: 0.2em;position: relative;}#sk-container-id-2 div.sk-item {position: relative;z-index: 1;}#sk-container-id-2 div.sk-parallel {display: flex;align-items: stretch;justify-content: center;background-color: white;position: relative;}#sk-container-id-2 div.sk-item::before, #sk-container-id-2 div.sk-parallel-item::before {content: \"\";position: absolute;border-left: 1px solid gray;box-sizing: border-box;top: 0;bottom: 0;left: 50%;z-index: -1;}#sk-container-id-2 div.sk-parallel-item {display: flex;flex-direction: column;z-index: 1;position: relative;background-color: white;}#sk-container-id-2 div.sk-parallel-item:first-child::after {align-self: flex-end;width: 50%;}#sk-container-id-2 div.sk-parallel-item:last-child::after {align-self: flex-start;width: 50%;}#sk-container-id-2 div.sk-parallel-item:only-child::after {width: 0;}#sk-container-id-2 div.sk-dashed-wrapped {border: 1px dashed gray;margin: 0 0.4em 0.5em 0.4em;box-sizing: border-box;padding-bottom: 0.4em;background-color: white;}#sk-container-id-2 div.sk-label label {font-family: monospace;font-weight: bold;display: inline-block;line-height: 1.2em;}#sk-container-id-2 div.sk-label-container {text-align: center;}#sk-container-id-2 div.sk-container {/* jupyter's `normalize.less` sets `[hidden] { display: none; }` but bootstrap.min.css set `[hidden] { display: none !important; }` so we also need the `!important` here to be able to override the default hidden behavior on the sphinx rendered scikit-learn.org. See: https://github.com/scikit-learn/scikit-learn/issues/21755 */display: inline-block !important;position: relative;}#sk-container-id-2 div.sk-text-repr-fallback {display: none;}</style><div id=\"sk-container-id-2\" class=\"sk-top-container\"><div class=\"sk-text-repr-fallback\"><pre>LogisticRegression()</pre><b>In a Jupyter environment, please rerun this cell to show the HTML representation or trust the notebook. <br />On GitHub, the HTML representation is unable to render, please try loading this page with nbviewer.org.</b></div><div class=\"sk-container\" hidden><div class=\"sk-item\"><div class=\"sk-estimator sk-toggleable\"><input class=\"sk-toggleable__control sk-hidden--visually\" id=\"sk-estimator-id-2\" type=\"checkbox\" checked><label for=\"sk-estimator-id-2\" class=\"sk-toggleable__label sk-toggleable__label-arrow\">LogisticRegression</label><div class=\"sk-toggleable__content\"><pre>LogisticRegression()</pre></div></div></div></div></div>"
      ],
      "text/plain": [
       "LogisticRegression()"
      ]
     },
     "execution_count": 28,
     "metadata": {},
     "output_type": "execute_result"
    }
   ],
   "source": [
    "lreg.fit(X_train_trans,y_train)"
   ]
  },
  {
   "cell_type": "code",
   "execution_count": 29,
   "id": "f5bb2055-5f79-4d71-b097-9206648f8787",
   "metadata": {},
   "outputs": [
    {
     "data": {
      "text/plain": [
       "0.8472222222222222"
      ]
     },
     "execution_count": 29,
     "metadata": {},
     "output_type": "execute_result"
    }
   ],
   "source": [
    "lreg.score(X_test, y_test)"
   ]
  },
  {
   "cell_type": "code",
   "execution_count": 30,
   "id": "e2a4036b-958b-4cfc-8889-2de460eafac2",
   "metadata": {},
   "outputs": [],
   "source": [
    "y_pred=lreg.predict(X_test_trans)"
   ]
  },
  {
   "cell_type": "code",
   "execution_count": 31,
   "id": "3117d6a9-f4fe-435a-bdf2-727764f00e17",
   "metadata": {},
   "outputs": [
    {
     "data": {
      "text/plain": [
       "0.9333333333333333"
      ]
     },
     "execution_count": 31,
     "metadata": {},
     "output_type": "execute_result"
    }
   ],
   "source": [
    "accuracy_score(y_test, y_pred)"
   ]
  },
  {
   "cell_type": "code",
   "execution_count": 32,
   "id": "d69ea8ef-6447-4b87-ad76-6aa6cab9824f",
   "metadata": {},
   "outputs": [
    {
     "data": {
      "image/png": "[encoded data removed]",
      "text/plain": [
       "<Figure size 1440x720 with 50 Axes>"
      ]
     },
     "metadata": {},
     "output_type": "display_data"
    }
   ],
   "source": [
    "plt.figure(figsize=(20,10))\n",
    "for i in range(50):\n",
    "    plt.subplot(5,10,i+1)\n",
    "    plt.xticks([])\n",
    "    plt.yticks([])\n",
    "    plt.grid(True)\n",
    "    x=X_test[i].reshape(8,8)\n",
    "    plt.imshow(x, cmap=plt.cm.binary)\n",
    "    plt.xlabel(y_pred[i])\n",
    "plt.show()"
   ]
  },
  {
   "cell_type": "code",
   "execution_count": 33,
   "id": "38c6a0ce-269d-44ca-ab9a-0a21a87c521d",
   "metadata": {},
   "outputs": [
    {
     "name": "stdout",
     "output_type": "stream",
     "text": [
      "              precision    recall  f1-score   support\n",
      "\n",
      "           0       0.97      0.97      0.97        32\n",
      "           1       0.98      0.93      0.95        44\n",
      "           2       0.91      1.00      0.95        31\n",
      "           3       0.94      0.89      0.91        36\n",
      "           4       0.94      0.89      0.91        35\n",
      "           5       0.93      0.95      0.94        43\n",
      "           6       1.00      0.94      0.97        35\n",
      "           7       0.97      0.97      0.97        40\n",
      "           8       0.85      0.92      0.88        36\n",
      "           9       0.83      0.86      0.84        28\n",
      "\n",
      "    accuracy                           0.93       360\n",
      "   macro avg       0.93      0.93      0.93       360\n",
      "weighted avg       0.94      0.93      0.93       360\n",
      "\n"
     ]
    }
   ],
   "source": [
    "print(classification_report(y_test, y_pred))"
   ]
  },
  {
   "cell_type": "code",
   "execution_count": 34,
   "id": "e9d79cac-3edc-470b-af6e-8b8726b4f673",
   "metadata": {},
   "outputs": [
    {
     "data": {
      "text/html": [
       "<style>#sk-container-id-3 {color: black;background-color: white;}#sk-container-id-3 pre{padding: 0;}#sk-container-id-3 div.sk-toggleable {background-color: white;}#sk-container-id-3 label.sk-toggleable__label {cursor: pointer;display: block;width: 100%;margin-bottom: 0;padding: 0.3em;box-sizing: border-box;text-align: center;}#sk-container-id-3 label.sk-toggleable__label-arrow:before {content: \"▸\";float: left;margin-right: 0.25em;color: #696969;}#sk-container-id-3 label.sk-toggleable__label-arrow:hover:before {color: black;}#sk-container-id-3 div.sk-estimator:hover label.sk-toggleable__label-arrow:before {color: black;}#sk-container-id-3 div.sk-toggleable__content {max-height: 0;max-width: 0;overflow: hidden;text-align: left;background-color: #f0f8ff;}#sk-container-id-3 div.sk-toggleable__content pre {margin: 0.2em;color: black;border-radius: 0.25em;background-color: #f0f8ff;}#sk-container-id-3 input.sk-toggleable__control:checked~div.sk-toggleable__content {max-height: 200px;max-width: 100%;overflow: auto;}#sk-container-id-3 input.sk-toggleable__control:checked~label.sk-toggleable__label-arrow:before {content: \"▾\";}#sk-container-id-3 div.sk-estimator input.sk-toggleable__control:checked~label.sk-toggleable__label {background-color: #d4ebff;}#sk-container-id-3 div.sk-label input.sk-toggleable__control:checked~label.sk-toggleable__label {background-color: #d4ebff;}#sk-container-id-3 input.sk-hidden--visually {border: 0;clip: rect(1px 1px 1px 1px);clip: rect(1px, 1px, 1px, 1px);height: 1px;margin: -1px;overflow: hidden;padding: 0;position: absolute;width: 1px;}#sk-container-id-3 div.sk-estimator {font-family: monospace;background-color: #f0f8ff;border: 1px dotted black;border-radius: 0.25em;box-sizing: border-box;margin-bottom: 0.5em;}#sk-container-id-3 div.sk-estimator:hover {background-color: #d4ebff;}#sk-container-id-3 div.sk-parallel-item::after {content: \"\";width: 100%;border-bottom: 1px solid gray;flex-grow: 1;}#sk-container-id-3 div.sk-label:hover label.sk-toggleable__label {background-color: #d4ebff;}#sk-container-id-3 div.sk-serial::before {content: \"\";position: absolute;border-left: 1px solid gray;box-sizing: border-box;top: 0;bottom: 0;left: 50%;z-index: 0;}#sk-container-id-3 div.sk-serial {display: flex;flex-direction: column;align-items: center;background-color: white;padding-right: 0.2em;padding-left: 0.2em;position: relative;}#sk-container-id-3 div.sk-item {position: relative;z-index: 1;}#sk-container-id-3 div.sk-parallel {display: flex;align-items: stretch;justify-content: center;background-color: white;position: relative;}#sk-container-id-3 div.sk-item::before, #sk-container-id-3 div.sk-parallel-item::before {content: \"\";position: absolute;border-left: 1px solid gray;box-sizing: border-box;top: 0;bottom: 0;left: 50%;z-index: -1;}#sk-container-id-3 div.sk-parallel-item {display: flex;flex-direction: column;z-index: 1;position: relative;background-color: white;}#sk-container-id-3 div.sk-parallel-item:first-child::after {align-self: flex-end;width: 50%;}#sk-container-id-3 div.sk-parallel-item:last-child::after {align-self: flex-start;width: 50%;}#sk-container-id-3 div.sk-parallel-item:only-child::after {width: 0;}#sk-container-id-3 div.sk-dashed-wrapped {border: 1px dashed gray;margin: 0 0.4em 0.5em 0.4em;box-sizing: border-box;padding-bottom: 0.4em;background-color: white;}#sk-container-id-3 div.sk-label label {font-family: monospace;font-weight: bold;display: inline-block;line-height: 1.2em;}#sk-container-id-3 div.sk-label-container {text-align: center;}#sk-container-id-3 div.sk-container {/* jupyter's `normalize.less` sets `[hidden] { display: none; }` but bootstrap.min.css set `[hidden] { display: none !important; }` so we also need the `!important` here to be able to override the default hidden behavior on the sphinx rendered scikit-learn.org. See: https://github.com/scikit-learn/scikit-learn/issues/21755 */display: inline-block !important;position: relative;}#sk-container-id-3 div.sk-text-repr-fallback {display: none;}</style><div id=\"sk-container-id-3\" class=\"sk-top-container\"><div class=\"sk-text-repr-fallback\"><pre>Normalizer()</pre><b>In a Jupyter environment, please rerun this cell to show the HTML representation or trust the notebook. <br />On GitHub, the HTML representation is unable to render, please try loading this page with nbviewer.org.</b></div><div class=\"sk-container\" hidden><div class=\"sk-item\"><div class=\"sk-estimator sk-toggleable\"><input class=\"sk-toggleable__control sk-hidden--visually\" id=\"sk-estimator-id-3\" type=\"checkbox\" checked><label for=\"sk-estimator-id-3\" class=\"sk-toggleable__label sk-toggleable__label-arrow\">Normalizer</label><div class=\"sk-toggleable__content\"><pre>Normalizer()</pre></div></div></div></div></div>"
      ],
      "text/plain": [
       "Normalizer()"
      ]
     },
     "execution_count": 34,
     "metadata": {},
     "output_type": "execute_result"
    }
   ],
   "source": [
    "from sklearn.preprocessing import Normalizer\n",
    "normalizer = Normalizer().fit(X_train)  # fit does nothing\n",
    "normalizer"
   ]
  },
  {
   "cell_type": "code",
   "execution_count": 35,
   "id": "9c220eef-898f-4378-97a7-23288faaf431",
   "metadata": {},
   "outputs": [
    {
     "data": {
      "text/plain": [
       "array([[0.        , 0.        , 0.16224277, ..., 0.25958843, 0.12979422,\n",
       "        0.        ],\n",
       "       [0.        , 0.01663666, 0.19963986, ..., 0.1497299 , 0.06654662,\n",
       "        0.        ],\n",
       "       [0.        , 0.0625229 , 0.2500916 , ..., 0.2500916 , 0.1250458 ,\n",
       "        0.        ],\n",
       "       ...,\n",
       "       [0.        , 0.        , 0.        , ..., 0.20416196, 0.05444319,\n",
       "        0.        ],\n",
       "       [0.        , 0.        , 0.10519842, ..., 0.28052912, 0.28052912,\n",
       "        0.21039684],\n",
       "       [0.        , 0.05035088, 0.23497078, ..., 0.        , 0.        ,\n",
       "        0.        ]])"
      ]
     },
     "execution_count": 35,
     "metadata": {},
     "output_type": "execute_result"
    }
   ],
   "source": [
    "X_train_normalized = normalizer.transform(X_train)\n",
    "X_test_normalized = normalizer.transform(X_test)\n",
    "X_train_normalized"
   ]
  },
  {
   "cell_type": "code",
   "execution_count": 36,
   "id": "5ca6c640-2094-4234-bee2-72ca501b7c19",
   "metadata": {},
   "outputs": [
    {
     "data": {
      "text/html": [
       "<style>#sk-container-id-4 {color: black;background-color: white;}#sk-container-id-4 pre{padding: 0;}#sk-container-id-4 div.sk-toggleable {background-color: white;}#sk-container-id-4 label.sk-toggleable__label {cursor: pointer;display: block;width: 100%;margin-bottom: 0;padding: 0.3em;box-sizing: border-box;text-align: center;}#sk-container-id-4 label.sk-toggleable__label-arrow:before {content: \"▸\";float: left;margin-right: 0.25em;color: #696969;}#sk-container-id-4 label.sk-toggleable__label-arrow:hover:before {color: black;}#sk-container-id-4 div.sk-estimator:hover label.sk-toggleable__label-arrow:before {color: black;}#sk-container-id-4 div.sk-toggleable__content {max-height: 0;max-width: 0;overflow: hidden;text-align: left;background-color: #f0f8ff;}#sk-container-id-4 div.sk-toggleable__content pre {margin: 0.2em;color: black;border-radius: 0.25em;background-color: #f0f8ff;}#sk-container-id-4 input.sk-toggleable__control:checked~div.sk-toggleable__content {max-height: 200px;max-width: 100%;overflow: auto;}#sk-container-id-4 input.sk-toggleable__control:checked~label.sk-toggleable__label-arrow:before {content: \"▾\";}#sk-container-id-4 div.sk-estimator input.sk-toggleable__control:checked~label.sk-toggleable__label {background-color: #d4ebff;}#sk-container-id-4 div.sk-label input.sk-toggleable__control:checked~label.sk-toggleable__label {background-color: #d4ebff;}#sk-container-id-4 input.sk-hidden--visually {border: 0;clip: rect(1px 1px 1px 1px);clip: rect(1px, 1px, 1px, 1px);height: 1px;margin: -1px;overflow: hidden;padding: 0;position: absolute;width: 1px;}#sk-container-id-4 div.sk-estimator {font-family: monospace;background-color: #f0f8ff;border: 1px dotted black;border-radius: 0.25em;box-sizing: border-box;margin-bottom: 0.5em;}#sk-container-id-4 div.sk-estimator:hover {background-color: #d4ebff;}#sk-container-id-4 div.sk-parallel-item::after {content: \"\";width: 100%;border-bottom: 1px solid gray;flex-grow: 1;}#sk-container-id-4 div.sk-label:hover label.sk-toggleable__label {background-color: #d4ebff;}#sk-container-id-4 div.sk-serial::before {content: \"\";position: absolute;border-left: 1px solid gray;box-sizing: border-box;top: 0;bottom: 0;left: 50%;z-index: 0;}#sk-container-id-4 div.sk-serial {display: flex;flex-direction: column;align-items: center;background-color: white;padding-right: 0.2em;padding-left: 0.2em;position: relative;}#sk-container-id-4 div.sk-item {position: relative;z-index: 1;}#sk-container-id-4 div.sk-parallel {display: flex;align-items: stretch;justify-content: center;background-color: white;position: relative;}#sk-container-id-4 div.sk-item::before, #sk-container-id-4 div.sk-parallel-item::before {content: \"\";position: absolute;border-left: 1px solid gray;box-sizing: border-box;top: 0;bottom: 0;left: 50%;z-index: -1;}#sk-container-id-4 div.sk-parallel-item {display: flex;flex-direction: column;z-index: 1;position: relative;background-color: white;}#sk-container-id-4 div.sk-parallel-item:first-child::after {align-self: flex-end;width: 50%;}#sk-container-id-4 div.sk-parallel-item:last-child::after {align-self: flex-start;width: 50%;}#sk-container-id-4 div.sk-parallel-item:only-child::after {width: 0;}#sk-container-id-4 div.sk-dashed-wrapped {border: 1px dashed gray;margin: 0 0.4em 0.5em 0.4em;box-sizing: border-box;padding-bottom: 0.4em;background-color: white;}#sk-container-id-4 div.sk-label label {font-family: monospace;font-weight: bold;display: inline-block;line-height: 1.2em;}#sk-container-id-4 div.sk-label-container {text-align: center;}#sk-container-id-4 div.sk-container {/* jupyter's `normalize.less` sets `[hidden] { display: none; }` but bootstrap.min.css set `[hidden] { display: none !important; }` so we also need the `!important` here to be able to override the default hidden behavior on the sphinx rendered scikit-learn.org. See: https://github.com/scikit-learn/scikit-learn/issues/21755 */display: inline-block !important;position: relative;}#sk-container-id-4 div.sk-text-repr-fallback {display: none;}</style><div id=\"sk-container-id-4\" class=\"sk-top-container\"><div class=\"sk-text-repr-fallback\"><pre>LogisticRegression()</pre><b>In a Jupyter environment, please rerun this cell to show the HTML representation or trust the notebook. <br />On GitHub, the HTML representation is unable to render, please try loading this page with nbviewer.org.</b></div><div class=\"sk-container\" hidden><div class=\"sk-item\"><div class=\"sk-estimator sk-toggleable\"><input class=\"sk-toggleable__control sk-hidden--visually\" id=\"sk-estimator-id-4\" type=\"checkbox\" checked><label for=\"sk-estimator-id-4\" class=\"sk-toggleable__label sk-toggleable__label-arrow\">LogisticRegression</label><div class=\"sk-toggleable__content\"><pre>LogisticRegression()</pre></div></div></div></div></div>"
      ],
      "text/plain": [
       "LogisticRegression()"
      ]
     },
     "execution_count": 36,
     "metadata": {},
     "output_type": "execute_result"
    }
   ],
   "source": [
    "lreg=LogisticRegression()\n",
    "lreg.fit(X_train_normalized, y_train)"
   ]
  },
  {
   "cell_type": "code",
   "execution_count": 37,
   "id": "ba9a0f02-786d-421d-8efb-0a0db0cec6ba",
   "metadata": {},
   "outputs": [
    {
     "data": {
      "text/plain": [
       "0.8444444444444444"
      ]
     },
     "execution_count": 37,
     "metadata": {},
     "output_type": "execute_result"
    }
   ],
   "source": [
    "lreg.score(X_test, y_test)"
   ]
  },
  {
   "cell_type": "code",
   "execution_count": 38,
   "id": "6ef6c06a-d53b-43ef-8858-3826eca92f7a",
   "metadata": {},
   "outputs": [],
   "source": [
    "y_pred=lreg.predict(X_test)"
   ]
  },
  {
   "cell_type": "code",
   "execution_count": 39,
   "id": "c52ebe78-df64-4b7c-b490-1740f3a69ede",
   "metadata": {},
   "outputs": [
    {
     "data": {
      "image/png": "[encoded data removed]",
      "text/plain": [
       "<Figure size 1440x720 with 50 Axes>"
      ]
     },
     "metadata": {},
     "output_type": "display_data"
    }
   ],
   "source": [
    "plt.figure(figsize=(20,10))\n",
    "for i in range(50):\n",
    "    plt.subplot(5,10,i+1)\n",
    "    plt.xticks([])\n",
    "    plt.yticks([])\n",
    "    plt.grid(True)\n",
    "    x=X_test[i].reshape(8,8)\n",
    "    plt.imshow(x, cmap=plt.cm.binary)\n",
    "    plt.xlabel(y_pred[i])\n",
    "plt.show()"
   ]
  },
  {
   "cell_type": "code",
   "execution_count": 40,
   "id": "033cf984-31b5-4503-8ed2-50ece893fa07",
   "metadata": {},
   "outputs": [
    {
     "name": "stdout",
     "output_type": "stream",
     "text": [
      "              precision    recall  f1-score   support\n",
      "\n",
      "           0       1.00      1.00      1.00        32\n",
      "           1       0.96      0.61      0.75        44\n",
      "           2       1.00      0.81      0.89        31\n",
      "           3       0.94      0.81      0.87        36\n",
      "           4       0.97      0.83      0.89        35\n",
      "           5       1.00      0.86      0.92        43\n",
      "           6       0.92      0.94      0.93        35\n",
      "           7       1.00      0.88      0.93        40\n",
      "           8       0.45      0.97      0.61        36\n",
      "           9       0.79      0.79      0.79        28\n",
      "\n",
      "    accuracy                           0.84       360\n",
      "   macro avg       0.90      0.85      0.86       360\n",
      "weighted avg       0.91      0.84      0.86       360\n",
      "\n"
     ]
    }
   ],
   "source": [
    "print(classification_report(y_test, y_pred))"
   ]
  },
  {
   "cell_type": "code",
   "execution_count": 41,
   "id": "a5cae12a-5ef1-460f-93b8-7fadc1641d97",
   "metadata": {},
   "outputs": [
    {
     "data": {
      "image/png": "[encoded data removed]",
      "text/plain": [
       "<Figure size 1440x720 with 50 Axes>"
      ]
     },
     "metadata": {},
     "output_type": "display_data"
    }
   ],
   "source": [
    "plt.figure(figsize=(20,10))\n",
    "for i in range(50):\n",
    "    plt.subplot(5,10,i+1)\n",
    "    plt.xticks([])\n",
    "    plt.yticks([])\n",
    "    plt.grid(True)\n",
    "    x=X_test[i].reshape(8,8)\n",
    "    plt.imshow(x, cmap=plt.cm.binary)\n",
    "    plt.xlabel(y_pred[i])\n",
    "plt.show()"
   ]
  },
  {
   "cell_type": "markdown",
   "id": "63abb4b3-6731-4b38-a191-52bbd50d8f47",
   "metadata": {},
   "source": [
    "* **Without Normalization giving better accuracy**"
   ]
  },
  {
   "cell_type": "code",
   "execution_count": 42,
   "id": "d47b4c3a-8050-4638-9eeb-4fe400ffdc3f",
   "metadata": {},
   "outputs": [],
   "source": [
    "from sklearn.cluster import KMeans\n",
    "from sklearn.pipeline import Pipeline\n",
    "\n",
    "pipeline =Pipeline([\n",
    "    ('kmeans', KMeans(n_clusters = 50)),\n",
    "    ('log_red', LogisticRegression()),\n",
    "])"
   ]
  },
  {
   "cell_type": "code",
   "execution_count": 43,
   "id": "7e5e105a-bc8f-4fdf-adcd-e0057b942d57",
   "metadata": {},
   "outputs": [
    {
     "data": {
      "text/html": [
       "<style>#sk-container-id-5 {color: black;background-color: white;}#sk-container-id-5 pre{padding: 0;}#sk-container-id-5 div.sk-toggleable {background-color: white;}#sk-container-id-5 label.sk-toggleable__label {cursor: pointer;display: block;width: 100%;margin-bottom: 0;padding: 0.3em;box-sizing: border-box;text-align: center;}#sk-container-id-5 label.sk-toggleable__label-arrow:before {content: \"▸\";float: left;margin-right: 0.25em;color: #696969;}#sk-container-id-5 label.sk-toggleable__label-arrow:hover:before {color: black;}#sk-container-id-5 div.sk-estimator:hover label.sk-toggleable__label-arrow:before {color: black;}#sk-container-id-5 div.sk-toggleable__content {max-height: 0;max-width: 0;overflow: hidden;text-align: left;background-color: #f0f8ff;}#sk-container-id-5 div.sk-toggleable__content pre {margin: 0.2em;color: black;border-radius: 0.25em;background-color: #f0f8ff;}#sk-container-id-5 input.sk-toggleable__control:checked~div.sk-toggleable__content {max-height: 200px;max-width: 100%;overflow: auto;}#sk-container-id-5 input.sk-toggleable__control:checked~label.sk-toggleable__label-arrow:before {content: \"▾\";}#sk-container-id-5 div.sk-estimator input.sk-toggleable__control:checked~label.sk-toggleable__label {background-color: #d4ebff;}#sk-container-id-5 div.sk-label input.sk-toggleable__control:checked~label.sk-toggleable__label {background-color: #d4ebff;}#sk-container-id-5 input.sk-hidden--visually {border: 0;clip: rect(1px 1px 1px 1px);clip: rect(1px, 1px, 1px, 1px);height: 1px;margin: -1px;overflow: hidden;padding: 0;position: absolute;width: 1px;}#sk-container-id-5 div.sk-estimator {font-family: monospace;background-color: #f0f8ff;border: 1px dotted black;border-radius: 0.25em;box-sizing: border-box;margin-bottom: 0.5em;}#sk-container-id-5 div.sk-estimator:hover {background-color: #d4ebff;}#sk-container-id-5 div.sk-parallel-item::after {content: \"\";width: 100%;border-bottom: 1px solid gray;flex-grow: 1;}#sk-container-id-5 div.sk-label:hover label.sk-toggleable__label {background-color: #d4ebff;}#sk-container-id-5 div.sk-serial::before {content: \"\";position: absolute;border-left: 1px solid gray;box-sizing: border-box;top: 0;bottom: 0;left: 50%;z-index: 0;}#sk-container-id-5 div.sk-serial {display: flex;flex-direction: column;align-items: center;background-color: white;padding-right: 0.2em;padding-left: 0.2em;position: relative;}#sk-container-id-5 div.sk-item {position: relative;z-index: 1;}#sk-container-id-5 div.sk-parallel {display: flex;align-items: stretch;justify-content: center;background-color: white;position: relative;}#sk-container-id-5 div.sk-item::before, #sk-container-id-5 div.sk-parallel-item::before {content: \"\";position: absolute;border-left: 1px solid gray;box-sizing: border-box;top: 0;bottom: 0;left: 50%;z-index: -1;}#sk-container-id-5 div.sk-parallel-item {display: flex;flex-direction: column;z-index: 1;position: relative;background-color: white;}#sk-container-id-5 div.sk-parallel-item:first-child::after {align-self: flex-end;width: 50%;}#sk-container-id-5 div.sk-parallel-item:last-child::after {align-self: flex-start;width: 50%;}#sk-container-id-5 div.sk-parallel-item:only-child::after {width: 0;}#sk-container-id-5 div.sk-dashed-wrapped {border: 1px dashed gray;margin: 0 0.4em 0.5em 0.4em;box-sizing: border-box;padding-bottom: 0.4em;background-color: white;}#sk-container-id-5 div.sk-label label {font-family: monospace;font-weight: bold;display: inline-block;line-height: 1.2em;}#sk-container-id-5 div.sk-label-container {text-align: center;}#sk-container-id-5 div.sk-container {/* jupyter's `normalize.less` sets `[hidden] { display: none; }` but bootstrap.min.css set `[hidden] { display: none !important; }` so we also need the `!important` here to be able to override the default hidden behavior on the sphinx rendered scikit-learn.org. See: https://github.com/scikit-learn/scikit-learn/issues/21755 */display: inline-block !important;position: relative;}#sk-container-id-5 div.sk-text-repr-fallback {display: none;}</style><div id=\"sk-container-id-5\" class=\"sk-top-container\"><div class=\"sk-text-repr-fallback\"><pre>Pipeline(steps=[(&#x27;kmeans&#x27;, KMeans(n_clusters=50)),\n",
       "                (&#x27;log_red&#x27;, LogisticRegression())])</pre><b>In a Jupyter environment, please rerun this cell to show the HTML representation or trust the notebook. <br />On GitHub, the HTML representation is unable to render, please try loading this page with nbviewer.org.</b></div><div class=\"sk-container\" hidden><div class=\"sk-item sk-dashed-wrapped\"><div class=\"sk-label-container\"><div class=\"sk-label sk-toggleable\"><input class=\"sk-toggleable__control sk-hidden--visually\" id=\"sk-estimator-id-5\" type=\"checkbox\" ><label for=\"sk-estimator-id-5\" class=\"sk-toggleable__label sk-toggleable__label-arrow\">Pipeline</label><div class=\"sk-toggleable__content\"><pre>Pipeline(steps=[(&#x27;kmeans&#x27;, KMeans(n_clusters=50)),\n",
       "                (&#x27;log_red&#x27;, LogisticRegression())])</pre></div></div></div><div class=\"sk-serial\"><div class=\"sk-item\"><div class=\"sk-estimator sk-toggleable\"><input class=\"sk-toggleable__control sk-hidden--visually\" id=\"sk-estimator-id-6\" type=\"checkbox\" ><label for=\"sk-estimator-id-6\" class=\"sk-toggleable__label sk-toggleable__label-arrow\">KMeans</label><div class=\"sk-toggleable__content\"><pre>KMeans(n_clusters=50)</pre></div></div></div><div class=\"sk-item\"><div class=\"sk-estimator sk-toggleable\"><input class=\"sk-toggleable__control sk-hidden--visually\" id=\"sk-estimator-id-7\" type=\"checkbox\" ><label for=\"sk-estimator-id-7\" class=\"sk-toggleable__label sk-toggleable__label-arrow\">LogisticRegression</label><div class=\"sk-toggleable__content\"><pre>LogisticRegression()</pre></div></div></div></div></div></div></div>"
      ],
      "text/plain": [
       "Pipeline(steps=[('kmeans', KMeans(n_clusters=50)),\n",
       "                ('log_red', LogisticRegression())])"
      ]
     },
     "execution_count": 43,
     "metadata": {},
     "output_type": "execute_result"
    }
   ],
   "source": [
    "pipeline.fit(X_train, y_train)"
   ]
  },
  {
   "cell_type": "code",
   "execution_count": 44,
   "id": "d7852aac-fdde-4af6-89e1-2a74133ac33c",
   "metadata": {},
   "outputs": [
    {
     "data": {
      "text/plain": [
       "0.9472222222222222"
      ]
     },
     "execution_count": 44,
     "metadata": {},
     "output_type": "execute_result"
    }
   ],
   "source": [
    "pipeline.score(X_test, y_test)"
   ]
  },
  {
   "cell_type": "code",
   "execution_count": 45,
   "id": "a45ed967-a75c-41d2-b3fa-fbd3caf99693",
   "metadata": {},
   "outputs": [
    {
     "data": {
      "text/plain": [
       "array([4, 0, 9, 1, 9, 7, 1, 5, 1, 6, 6, 7, 6, 1, 5, 5, 8, 6, 2, 7, 4, 6,\n",
       "       4, 1, 5, 2, 9, 5, 4, 6, 5, 6, 3, 4, 0, 9, 9, 8, 4, 6, 8, 2, 5, 7,\n",
       "       5, 4, 9, 6, 1, 7, 0, 1, 9, 7, 3, 3, 1, 1, 8, 8, 9, 8, 5, 8, 4, 8,\n",
       "       3, 5, 8, 4, 3, 1, 3, 8, 7, 3, 3, 0, 8, 7, 2, 8, 5, 3, 8, 7, 6, 4,\n",
       "       6, 2, 2, 0, 1, 1, 5, 3, 5, 7, 1, 8, 2, 2, 6, 4, 6, 7, 3, 7, 3, 9,\n",
       "       4, 7, 0, 3, 5, 1, 5, 0, 3, 9, 2, 7, 3, 2, 0, 8, 1, 9, 2, 1, 5, 1,\n",
       "       0, 3, 4, 3, 0, 9, 3, 2, 2, 7, 3, 1, 6, 7, 2, 8, 3, 1, 1, 6, 4, 8,\n",
       "       2, 1, 8, 4, 1, 3, 1, 1, 9, 5, 4, 8, 7, 4, 8, 9, 5, 7, 6, 9, 4, 0,\n",
       "       4, 0, 0, 9, 0, 6, 5, 8, 8, 3, 7, 9, 2, 0, 3, 2, 7, 3, 0, 2, 6, 9,\n",
       "       2, 7, 0, 6, 9, 3, 1, 1, 3, 5, 2, 3, 5, 2, 1, 2, 9, 4, 6, 5, 5, 5,\n",
       "       9, 7, 1, 5, 9, 6, 3, 7, 1, 7, 5, 1, 7, 2, 7, 5, 5, 4, 8, 6, 6, 2,\n",
       "       8, 7, 3, 7, 8, 0, 9, 5, 7, 4, 3, 4, 1, 0, 3, 3, 5, 4, 1, 3, 1, 2,\n",
       "       5, 1, 4, 0, 3, 1, 5, 5, 7, 4, 0, 1, 0, 8, 5, 5, 5, 4, 0, 1, 8, 6,\n",
       "       2, 1, 1, 1, 7, 9, 6, 7, 9, 7, 0, 4, 8, 6, 9, 2, 7, 2, 1, 0, 8, 2,\n",
       "       8, 6, 5, 7, 8, 4, 5, 7, 8, 6, 4, 2, 6, 9, 3, 0, 0, 8, 0, 6, 6, 7,\n",
       "       1, 4, 5, 6, 9, 7, 2, 3, 5, 1, 2, 4, 1, 8, 8, 8, 6, 0, 8, 0, 6, 5,\n",
       "       5, 7, 8, 0, 4, 1, 4, 5])"
      ]
     },
     "execution_count": 45,
     "metadata": {},
     "output_type": "execute_result"
    }
   ],
   "source": [
    "y_pred=pipeline.predict(X_test)\n",
    "y_pred"
   ]
  },
  {
   "cell_type": "code",
   "execution_count": 46,
   "id": "8c85b1cc-9dc0-439a-b06b-1247835f38e0",
   "metadata": {},
   "outputs": [
    {
     "data": {
      "text/plain": [
       "0.9472222222222222"
      ]
     },
     "execution_count": 46,
     "metadata": {},
     "output_type": "execute_result"
    }
   ],
   "source": [
    "accuracy_score(y_test, y_pred)"
   ]
  },
  {
   "cell_type": "code",
   "execution_count": 47,
   "id": "dec50ea6-cc75-4929-9337-908d7c485d12",
   "metadata": {},
   "outputs": [
    {
     "name": "stdout",
     "output_type": "stream",
     "text": [
      "              precision    recall  f1-score   support\n",
      "\n",
      "           0       1.00      0.97      0.98        32\n",
      "           1       0.96      0.98      0.97        44\n",
      "           2       0.97      1.00      0.98        31\n",
      "           3       0.97      0.97      0.97        36\n",
      "           4       0.91      0.89      0.90        35\n",
      "           5       0.95      0.95      0.95        43\n",
      "           6       0.97      0.94      0.96        35\n",
      "           7       0.97      0.95      0.96        40\n",
      "           8       0.87      0.92      0.89        36\n",
      "           9       0.89      0.89      0.89        28\n",
      "\n",
      "    accuracy                           0.95       360\n",
      "   macro avg       0.95      0.95      0.95       360\n",
      "weighted avg       0.95      0.95      0.95       360\n",
      "\n"
     ]
    }
   ],
   "source": [
    "print(classification_report(y_test, y_pred))"
   ]
  },
  {
   "cell_type": "code",
   "execution_count": 48,
   "id": "933e5e0b-2858-4bb8-9983-b8ea2369f9b0",
   "metadata": {},
   "outputs": [
    {
     "data": {
      "image/png": "[encoded data removed]",
      "text/plain": [
       "<Figure size 1440x720 with 50 Axes>"
      ]
     },
     "metadata": {},
     "output_type": "display_data"
    }
   ],
   "source": [
    "plt.figure(figsize=(20,10))\n",
    "for i in range(50):\n",
    "    plt.subplot(5,10,i+1)\n",
    "    plt.xticks([])\n",
    "    plt.yticks([])\n",
    "    plt.grid(True)\n",
    "    x=X_test[i].reshape(8,8)\n",
    "    plt.imshow(x, cmap=plt.cm.binary)\n",
    "    plt.xlabel(y_pred[i])\n",
    "plt.show()"
   ]
  },
  {
   "cell_type": "code",
   "execution_count": 49,
   "id": "481881e3-ebce-4a4e-902d-2935bdca721d",
   "metadata": {},
   "outputs": [
    {
     "name": "stdout",
     "output_type": "stream",
     "text": [
      "Fitting 3 folds for each of 98 candidates, totalling 294 fits\n",
      "[CV] END ...............................kmeans__n_clusters=2; total time=   0.0s\n",
      "[CV] END ...............................kmeans__n_clusters=2; total time=   0.0s\n",
      "[CV] END ...............................kmeans__n_clusters=2; total time=   0.0s\n",
      "[CV] END ...............................kmeans__n_clusters=3; total time=   0.0s\n",
      "[CV] END ...............................kmeans__n_clusters=3; total time=   0.1s\n",
      "[CV] END ...............................kmeans__n_clusters=3; total time=   0.1s\n",
      "[CV] END ...............................kmeans__n_clusters=4; total time=   0.1s\n",
      "[CV] END ...............................kmeans__n_clusters=4; total time=   0.1s\n",
      "[CV] END ...............................kmeans__n_clusters=4; total time=   0.1s\n",
      "[CV] END ...............................kmeans__n_clusters=5; total time=   0.1s\n",
      "[CV] END ...............................kmeans__n_clusters=5; total time=   0.1s\n",
      "[CV] END ...............................kmeans__n_clusters=5; total time=   0.1s\n",
      "[CV] END ...............................kmeans__n_clusters=6; total time=   0.1s\n",
      "[CV] END ...............................kmeans__n_clusters=6; total time=   0.1s\n",
      "[CV] END ...............................kmeans__n_clusters=6; total time=   0.1s\n",
      "[CV] END ...............................kmeans__n_clusters=7; total time=   0.1s\n",
      "[CV] END ...............................kmeans__n_clusters=7; total time=   0.1s\n",
      "[CV] END ...............................kmeans__n_clusters=7; total time=   0.1s\n",
      "[CV] END ...............................kmeans__n_clusters=8; total time=   0.1s\n",
      "[CV] END ...............................kmeans__n_clusters=8; total time=   0.1s\n",
      "[CV] END ...............................kmeans__n_clusters=8; total time=   0.1s\n",
      "[CV] END ...............................kmeans__n_clusters=9; total time=   0.1s\n",
      "[CV] END ...............................kmeans__n_clusters=9; total time=   0.1s\n",
      "[CV] END ...............................kmeans__n_clusters=9; total time=   0.1s\n",
      "[CV] END ..............................kmeans__n_clusters=10; total time=   0.1s\n",
      "[CV] END ..............................kmeans__n_clusters=10; total time=   0.1s\n",
      "[CV] END ..............................kmeans__n_clusters=10; total time=   0.1s\n",
      "[CV] END ..............................kmeans__n_clusters=11; total time=   0.1s\n",
      "[CV] END ..............................kmeans__n_clusters=11; total time=   0.1s\n",
      "[CV] END ..............................kmeans__n_clusters=11; total time=   0.1s\n",
      "[CV] END ..............................kmeans__n_clusters=12; total time=   0.1s\n",
      "[CV] END ..............................kmeans__n_clusters=12; total time=   0.1s\n",
      "[CV] END ..............................kmeans__n_clusters=12; total time=   0.1s\n",
      "[CV] END ..............................kmeans__n_clusters=13; total time=   0.1s\n",
      "[CV] END ..............................kmeans__n_clusters=13; total time=   0.1s\n",
      "[CV] END ..............................kmeans__n_clusters=13; total time=   0.2s\n",
      "[CV] END ..............................kmeans__n_clusters=14; total time=   0.2s\n",
      "[CV] END ..............................kmeans__n_clusters=14; total time=   0.1s\n",
      "[CV] END ..............................kmeans__n_clusters=14; total time=   0.1s\n",
      "[CV] END ..............................kmeans__n_clusters=15; total time=   0.1s\n",
      "[CV] END ..............................kmeans__n_clusters=15; total time=   0.1s\n",
      "[CV] END ..............................kmeans__n_clusters=15; total time=   0.1s\n",
      "[CV] END ..............................kmeans__n_clusters=16; total time=   0.1s\n",
      "[CV] END ..............................kmeans__n_clusters=16; total time=   0.2s\n",
      "[CV] END ..............................kmeans__n_clusters=16; total time=   0.1s\n",
      "[CV] END ..............................kmeans__n_clusters=17; total time=   0.1s\n",
      "[CV] END ..............................kmeans__n_clusters=17; total time=   0.1s\n",
      "[CV] END ..............................kmeans__n_clusters=17; total time=   0.1s\n",
      "[CV] END ..............................kmeans__n_clusters=18; total time=   0.1s\n",
      "[CV] END ..............................kmeans__n_clusters=18; total time=   0.1s\n",
      "[CV] END ..............................kmeans__n_clusters=18; total time=   0.1s\n",
      "[CV] END ..............................kmeans__n_clusters=19; total time=   0.1s\n",
      "[CV] END ..............................kmeans__n_clusters=19; total time=   0.1s\n",
      "[CV] END ..............................kmeans__n_clusters=19; total time=   0.1s\n",
      "[CV] END ..............................kmeans__n_clusters=20; total time=   0.1s\n",
      "[CV] END ..............................kmeans__n_clusters=20; total time=   0.1s\n",
      "[CV] END ..............................kmeans__n_clusters=20; total time=   0.2s\n",
      "[CV] END ..............................kmeans__n_clusters=21; total time=   0.2s\n",
      "[CV] END ..............................kmeans__n_clusters=21; total time=   0.2s\n",
      "[CV] END ..............................kmeans__n_clusters=21; total time=   0.2s\n",
      "[CV] END ..............................kmeans__n_clusters=22; total time=   0.2s\n",
      "[CV] END ..............................kmeans__n_clusters=22; total time=   0.2s\n",
      "[CV] END ..............................kmeans__n_clusters=22; total time=   0.2s\n",
      "[CV] END ..............................kmeans__n_clusters=23; total time=   0.2s\n",
      "[CV] END ..............................kmeans__n_clusters=23; total time=   0.3s\n",
      "[CV] END ..............................kmeans__n_clusters=23; total time=   0.2s\n",
      "[CV] END ..............................kmeans__n_clusters=24; total time=   0.3s\n",
      "[CV] END ..............................kmeans__n_clusters=24; total time=   0.2s\n",
      "[CV] END ..............................kmeans__n_clusters=24; total time=   0.2s\n",
      "[CV] END ..............................kmeans__n_clusters=25; total time=   0.2s\n",
      "[CV] END ..............................kmeans__n_clusters=25; total time=   0.2s\n",
      "[CV] END ..............................kmeans__n_clusters=25; total time=   0.2s\n",
      "[CV] END ..............................kmeans__n_clusters=26; total time=   0.2s\n",
      "[CV] END ..............................kmeans__n_clusters=26; total time=   0.2s\n",
      "[CV] END ..............................kmeans__n_clusters=26; total time=   0.2s\n",
      "[CV] END ..............................kmeans__n_clusters=27; total time=   0.2s\n",
      "[CV] END ..............................kmeans__n_clusters=27; total time=   0.2s\n",
      "[CV] END ..............................kmeans__n_clusters=27; total time=   0.2s\n",
      "[CV] END ..............................kmeans__n_clusters=28; total time=   0.2s\n",
      "[CV] END ..............................kmeans__n_clusters=28; total time=   0.2s\n",
      "[CV] END ..............................kmeans__n_clusters=28; total time=   0.2s\n",
      "[CV] END ..............................kmeans__n_clusters=29; total time=   0.2s\n",
      "[CV] END ..............................kmeans__n_clusters=29; total time=   0.2s\n",
      "[CV] END ..............................kmeans__n_clusters=29; total time=   0.2s\n",
      "[CV] END ..............................kmeans__n_clusters=30; total time=   0.3s\n",
      "[CV] END ..............................kmeans__n_clusters=30; total time=   0.3s\n",
      "[CV] END ..............................kmeans__n_clusters=30; total time=   0.3s\n",
      "[CV] END ..............................kmeans__n_clusters=31; total time=   0.3s\n",
      "[CV] END ..............................kmeans__n_clusters=31; total time=   0.3s\n",
      "[CV] END ..............................kmeans__n_clusters=31; total time=   0.3s\n",
      "[CV] END ..............................kmeans__n_clusters=32; total time=   0.3s\n",
      "[CV] END ..............................kmeans__n_clusters=32; total time=   0.3s\n",
      "[CV] END ..............................kmeans__n_clusters=32; total time=   0.3s\n",
      "[CV] END ..............................kmeans__n_clusters=33; total time=   0.3s\n",
      "[CV] END ..............................kmeans__n_clusters=33; total time=   0.3s\n",
      "[CV] END ..............................kmeans__n_clusters=33; total time=   0.3s\n",
      "[CV] END ..............................kmeans__n_clusters=34; total time=   0.2s\n",
      "[CV] END ..............................kmeans__n_clusters=34; total time=   0.3s\n",
      "[CV] END ..............................kmeans__n_clusters=34; total time=   0.3s\n",
      "[CV] END ..............................kmeans__n_clusters=35; total time=   0.3s\n",
      "[CV] END ..............................kmeans__n_clusters=35; total time=   0.3s\n",
      "[CV] END ..............................kmeans__n_clusters=35; total time=   0.4s\n",
      "[CV] END ..............................kmeans__n_clusters=36; total time=   0.3s\n",
      "[CV] END ..............................kmeans__n_clusters=36; total time=   0.3s\n",
      "[CV] END ..............................kmeans__n_clusters=36; total time=   0.3s\n",
      "[CV] END ..............................kmeans__n_clusters=37; total time=   0.3s\n",
      "[CV] END ..............................kmeans__n_clusters=37; total time=   0.3s\n",
      "[CV] END ..............................kmeans__n_clusters=37; total time=   0.3s\n",
      "[CV] END ..............................kmeans__n_clusters=38; total time=   0.4s\n",
      "[CV] END ..............................kmeans__n_clusters=38; total time=   0.3s\n",
      "[CV] END ..............................kmeans__n_clusters=38; total time=   0.4s\n",
      "[CV] END ..............................kmeans__n_clusters=39; total time=   0.4s\n",
      "[CV] END ..............................kmeans__n_clusters=39; total time=   0.3s\n",
      "[CV] END ..............................kmeans__n_clusters=39; total time=   0.3s\n",
      "[CV] END ..............................kmeans__n_clusters=40; total time=   0.3s\n",
      "[CV] END ..............................kmeans__n_clusters=40; total time=   0.3s\n",
      "[CV] END ..............................kmeans__n_clusters=40; total time=   0.3s\n",
      "[CV] END ..............................kmeans__n_clusters=41; total time=   0.3s\n",
      "[CV] END ..............................kmeans__n_clusters=41; total time=   0.5s\n",
      "[CV] END ..............................kmeans__n_clusters=41; total time=   0.4s\n",
      "[CV] END ..............................kmeans__n_clusters=42; total time=   0.3s\n",
      "[CV] END ..............................kmeans__n_clusters=42; total time=   0.3s\n",
      "[CV] END ..............................kmeans__n_clusters=42; total time=   0.4s\n",
      "[CV] END ..............................kmeans__n_clusters=43; total time=   0.4s\n",
      "[CV] END ..............................kmeans__n_clusters=43; total time=   0.4s\n",
      "[CV] END ..............................kmeans__n_clusters=43; total time=   0.6s\n",
      "[CV] END ..............................kmeans__n_clusters=44; total time=   0.5s\n",
      "[CV] END ..............................kmeans__n_clusters=44; total time=   0.6s\n",
      "[CV] END ..............................kmeans__n_clusters=44; total time=   0.7s\n",
      "[CV] END ..............................kmeans__n_clusters=45; total time=   0.5s\n",
      "[CV] END ..............................kmeans__n_clusters=45; total time=   0.5s\n",
      "[CV] END ..............................kmeans__n_clusters=45; total time=   0.5s\n",
      "[CV] END ..............................kmeans__n_clusters=46; total time=   0.4s\n",
      "[CV] END ..............................kmeans__n_clusters=46; total time=   0.5s\n",
      "[CV] END ..............................kmeans__n_clusters=46; total time=   0.4s\n",
      "[CV] END ..............................kmeans__n_clusters=47; total time=   0.5s\n",
      "[CV] END ..............................kmeans__n_clusters=47; total time=   0.4s\n",
      "[CV] END ..............................kmeans__n_clusters=47; total time=   0.4s\n",
      "[CV] END ..............................kmeans__n_clusters=48; total time=   0.4s\n",
      "[CV] END ..............................kmeans__n_clusters=48; total time=   0.4s\n",
      "[CV] END ..............................kmeans__n_clusters=48; total time=   0.4s\n",
      "[CV] END ..............................kmeans__n_clusters=49; total time=   0.5s\n",
      "[CV] END ..............................kmeans__n_clusters=49; total time=   0.5s\n",
      "[CV] END ..............................kmeans__n_clusters=49; total time=   0.5s\n",
      "[CV] END ..............................kmeans__n_clusters=50; total time=   0.5s\n",
      "[CV] END ..............................kmeans__n_clusters=50; total time=   0.5s\n",
      "[CV] END ..............................kmeans__n_clusters=50; total time=   0.4s\n",
      "[CV] END ..............................kmeans__n_clusters=51; total time=   0.4s\n",
      "[CV] END ..............................kmeans__n_clusters=51; total time=   0.5s\n",
      "[CV] END ..............................kmeans__n_clusters=51; total time=   0.6s\n",
      "[CV] END ..............................kmeans__n_clusters=52; total time=   0.4s\n",
      "[CV] END ..............................kmeans__n_clusters=52; total time=   0.6s\n",
      "[CV] END ..............................kmeans__n_clusters=52; total time=   0.5s\n",
      "[CV] END ..............................kmeans__n_clusters=53; total time=   0.6s\n",
      "[CV] END ..............................kmeans__n_clusters=53; total time=   0.5s\n",
      "[CV] END ..............................kmeans__n_clusters=53; total time=   0.4s\n",
      "[CV] END ..............................kmeans__n_clusters=54; total time=   0.4s\n",
      "[CV] END ..............................kmeans__n_clusters=54; total time=   0.4s\n",
      "[CV] END ..............................kmeans__n_clusters=54; total time=   0.4s\n",
      "[CV] END ..............................kmeans__n_clusters=55; total time=   0.5s\n",
      "[CV] END ..............................kmeans__n_clusters=55; total time=   0.7s\n",
      "[CV] END ..............................kmeans__n_clusters=55; total time=   0.7s\n",
      "[CV] END ..............................kmeans__n_clusters=56; total time=   0.8s\n",
      "[CV] END ..............................kmeans__n_clusters=56; total time=   0.7s\n",
      "[CV] END ..............................kmeans__n_clusters=56; total time=   1.3s\n",
      "[CV] END ..............................kmeans__n_clusters=57; total time=   0.9s\n",
      "[CV] END ..............................kmeans__n_clusters=57; total time=   0.9s\n",
      "[CV] END ..............................kmeans__n_clusters=57; total time=   0.8s\n",
      "[CV] END ..............................kmeans__n_clusters=58; total time=   0.8s\n",
      "[CV] END ..............................kmeans__n_clusters=58; total time=   1.2s\n",
      "[CV] END ..............................kmeans__n_clusters=58; total time=   0.8s\n",
      "[CV] END ..............................kmeans__n_clusters=59; total time=   0.9s\n",
      "[CV] END ..............................kmeans__n_clusters=59; total time=   0.9s\n",
      "[CV] END ..............................kmeans__n_clusters=59; total time=   0.8s\n",
      "[CV] END ..............................kmeans__n_clusters=60; total time=   0.6s\n",
      "[CV] END ..............................kmeans__n_clusters=60; total time=   0.8s\n",
      "[CV] END ..............................kmeans__n_clusters=60; total time=   0.7s\n",
      "[CV] END ..............................kmeans__n_clusters=61; total time=   0.7s\n",
      "[CV] END ..............................kmeans__n_clusters=61; total time=   0.6s\n",
      "[CV] END ..............................kmeans__n_clusters=61; total time=   0.8s\n",
      "[CV] END ..............................kmeans__n_clusters=62; total time=   0.8s\n",
      "[CV] END ..............................kmeans__n_clusters=62; total time=   0.5s\n",
      "[CV] END ..............................kmeans__n_clusters=62; total time=   0.5s\n",
      "[CV] END ..............................kmeans__n_clusters=63; total time=   0.6s\n",
      "[CV] END ..............................kmeans__n_clusters=63; total time=   0.7s\n",
      "[CV] END ..............................kmeans__n_clusters=63; total time=   1.4s\n",
      "[CV] END ..............................kmeans__n_clusters=64; total time=   0.8s\n",
      "[CV] END ..............................kmeans__n_clusters=64; total time=   0.7s\n",
      "[CV] END ..............................kmeans__n_clusters=64; total time=   0.6s\n",
      "[CV] END ..............................kmeans__n_clusters=65; total time=   0.6s\n",
      "[CV] END ..............................kmeans__n_clusters=65; total time=   0.7s\n",
      "[CV] END ..............................kmeans__n_clusters=65; total time=   0.6s\n",
      "[CV] END ..............................kmeans__n_clusters=66; total time=   0.8s\n",
      "[CV] END ..............................kmeans__n_clusters=66; total time=   1.0s\n",
      "[CV] END ..............................kmeans__n_clusters=66; total time=   0.8s\n",
      "[CV] END ..............................kmeans__n_clusters=67; total time=   0.8s\n",
      "[CV] END ..............................kmeans__n_clusters=67; total time=   0.8s\n",
      "[CV] END ..............................kmeans__n_clusters=67; total time=   0.8s\n",
      "[CV] END ..............................kmeans__n_clusters=68; total time=   0.8s\n",
      "[CV] END ..............................kmeans__n_clusters=68; total time=   0.9s\n",
      "[CV] END ..............................kmeans__n_clusters=68; total time=   1.2s\n",
      "[CV] END ..............................kmeans__n_clusters=69; total time=   0.8s\n",
      "[CV] END ..............................kmeans__n_clusters=69; total time=   1.2s\n",
      "[CV] END ..............................kmeans__n_clusters=69; total time=   0.8s\n",
      "[CV] END ..............................kmeans__n_clusters=70; total time=   0.6s\n",
      "[CV] END ..............................kmeans__n_clusters=70; total time=   0.6s\n",
      "[CV] END ..............................kmeans__n_clusters=70; total time=   0.8s\n",
      "[CV] END ..............................kmeans__n_clusters=71; total time=   0.7s\n",
      "[CV] END ..............................kmeans__n_clusters=71; total time=   0.7s\n",
      "[CV] END ..............................kmeans__n_clusters=71; total time=   1.4s\n",
      "[CV] END ..............................kmeans__n_clusters=72; total time=   1.6s\n",
      "[CV] END ..............................kmeans__n_clusters=72; total time=   1.0s\n",
      "[CV] END ..............................kmeans__n_clusters=72; total time=   0.8s\n",
      "[CV] END ..............................kmeans__n_clusters=73; total time=   0.8s\n",
      "[CV] END ..............................kmeans__n_clusters=73; total time=   0.8s\n",
      "[CV] END ..............................kmeans__n_clusters=73; total time=   0.7s\n",
      "[CV] END ..............................kmeans__n_clusters=74; total time=   0.7s\n",
      "[CV] END ..............................kmeans__n_clusters=74; total time=   1.3s\n",
      "[CV] END ..............................kmeans__n_clusters=74; total time=   0.7s\n",
      "[CV] END ..............................kmeans__n_clusters=75; total time=   0.6s\n",
      "[CV] END ..............................kmeans__n_clusters=75; total time=   0.9s\n",
      "[CV] END ..............................kmeans__n_clusters=75; total time=   0.9s\n",
      "[CV] END ..............................kmeans__n_clusters=76; total time=   0.9s\n",
      "[CV] END ..............................kmeans__n_clusters=76; total time=   0.7s\n",
      "[CV] END ..............................kmeans__n_clusters=76; total time=   0.7s\n",
      "[CV] END ..............................kmeans__n_clusters=77; total time=   1.1s\n",
      "[CV] END ..............................kmeans__n_clusters=77; total time=   2.3s\n",
      "[CV] END ..............................kmeans__n_clusters=77; total time=   0.8s\n",
      "[CV] END ..............................kmeans__n_clusters=78; total time=   1.5s\n",
      "[CV] END ..............................kmeans__n_clusters=78; total time=   2.0s\n",
      "[CV] END ..............................kmeans__n_clusters=78; total time=   0.8s\n",
      "[CV] END ..............................kmeans__n_clusters=79; total time=   0.8s\n",
      "[CV] END ..............................kmeans__n_clusters=79; total time=   0.8s\n",
      "[CV] END ..............................kmeans__n_clusters=79; total time=   1.1s\n",
      "[CV] END ..............................kmeans__n_clusters=80; total time=   0.8s\n",
      "[CV] END ..............................kmeans__n_clusters=80; total time=   1.4s\n",
      "[CV] END ..............................kmeans__n_clusters=80; total time=   1.1s\n",
      "[CV] END ..............................kmeans__n_clusters=81; total time=   1.1s\n",
      "[CV] END ..............................kmeans__n_clusters=81; total time=   1.2s\n",
      "[CV] END ..............................kmeans__n_clusters=81; total time=   1.3s\n",
      "[CV] END ..............................kmeans__n_clusters=82; total time=   1.2s\n",
      "[CV] END ..............................kmeans__n_clusters=82; total time=   1.0s\n",
      "[CV] END ..............................kmeans__n_clusters=82; total time=   1.0s\n",
      "[CV] END ..............................kmeans__n_clusters=83; total time=   0.9s\n",
      "[CV] END ..............................kmeans__n_clusters=83; total time=   0.8s\n",
      "[CV] END ..............................kmeans__n_clusters=83; total time=   1.0s\n",
      "[CV] END ..............................kmeans__n_clusters=84; total time=   0.7s\n",
      "[CV] END ..............................kmeans__n_clusters=84; total time=   0.9s\n",
      "[CV] END ..............................kmeans__n_clusters=84; total time=   0.9s\n",
      "[CV] END ..............................kmeans__n_clusters=85; total time=   0.9s\n",
      "[CV] END ..............................kmeans__n_clusters=85; total time=   0.8s\n",
      "[CV] END ..............................kmeans__n_clusters=85; total time=   0.7s\n",
      "[CV] END ..............................kmeans__n_clusters=86; total time=   0.9s\n",
      "[CV] END ..............................kmeans__n_clusters=86; total time=   0.8s\n",
      "[CV] END ..............................kmeans__n_clusters=86; total time=   1.0s\n",
      "[CV] END ..............................kmeans__n_clusters=87; total time=   1.4s\n",
      "[CV] END ..............................kmeans__n_clusters=87; total time=   1.3s\n",
      "[CV] END ..............................kmeans__n_clusters=87; total time=   1.1s\n",
      "[CV] END ..............................kmeans__n_clusters=88; total time=   1.2s\n",
      "[CV] END ..............................kmeans__n_clusters=88; total time=   1.2s\n",
      "[CV] END ..............................kmeans__n_clusters=88; total time=   1.0s\n",
      "[CV] END ..............................kmeans__n_clusters=89; total time=   0.9s\n",
      "[CV] END ..............................kmeans__n_clusters=89; total time=   0.8s\n",
      "[CV] END ..............................kmeans__n_clusters=89; total time=   1.1s\n",
      "[CV] END ..............................kmeans__n_clusters=90; total time=   1.5s\n",
      "[CV] END ..............................kmeans__n_clusters=90; total time=   1.2s\n",
      "[CV] END ..............................kmeans__n_clusters=90; total time=   0.9s\n",
      "[CV] END ..............................kmeans__n_clusters=91; total time=   1.1s\n",
      "[CV] END ..............................kmeans__n_clusters=91; total time=   1.1s\n",
      "[CV] END ..............................kmeans__n_clusters=91; total time=   0.9s\n",
      "[CV] END ..............................kmeans__n_clusters=92; total time=   0.9s\n",
      "[CV] END ..............................kmeans__n_clusters=92; total time=   0.8s\n",
      "[CV] END ..............................kmeans__n_clusters=92; total time=   1.2s\n",
      "[CV] END ..............................kmeans__n_clusters=93; total time=   2.1s\n",
      "[CV] END ..............................kmeans__n_clusters=93; total time=   1.5s\n",
      "[CV] END ..............................kmeans__n_clusters=93; total time=   0.9s\n",
      "[CV] END ..............................kmeans__n_clusters=94; total time=   1.3s\n",
      "[CV] END ..............................kmeans__n_clusters=94; total time=   1.0s\n",
      "[CV] END ..............................kmeans__n_clusters=94; total time=   0.9s\n",
      "[CV] END ..............................kmeans__n_clusters=95; total time=   0.8s\n",
      "[CV] END ..............................kmeans__n_clusters=95; total time=   1.3s\n",
      "[CV] END ..............................kmeans__n_clusters=95; total time=   1.0s\n",
      "[CV] END ..............................kmeans__n_clusters=96; total time=   0.9s\n",
      "[CV] END ..............................kmeans__n_clusters=96; total time=   1.5s\n",
      "[CV] END ..............................kmeans__n_clusters=96; total time=   1.1s\n",
      "[CV] END ..............................kmeans__n_clusters=97; total time=   1.5s\n",
      "[CV] END ..............................kmeans__n_clusters=97; total time=   1.2s\n",
      "[CV] END ..............................kmeans__n_clusters=97; total time=   1.3s\n",
      "[CV] END ..............................kmeans__n_clusters=98; total time=   1.1s\n",
      "[CV] END ..............................kmeans__n_clusters=98; total time=   0.8s\n",
      "[CV] END ..............................kmeans__n_clusters=98; total time=   1.0s\n",
      "[CV] END ..............................kmeans__n_clusters=99; total time=   0.9s\n",
      "[CV] END ..............................kmeans__n_clusters=99; total time=   0.8s\n",
      "[CV] END ..............................kmeans__n_clusters=99; total time=   0.9s\n"
     ]
    },
    {
     "data": {
      "text/html": [
       "<style>#sk-container-id-6 {color: black;background-color: white;}#sk-container-id-6 pre{padding: 0;}#sk-container-id-6 div.sk-toggleable {background-color: white;}#sk-container-id-6 label.sk-toggleable__label {cursor: pointer;display: block;width: 100%;margin-bottom: 0;padding: 0.3em;box-sizing: border-box;text-align: center;}#sk-container-id-6 label.sk-toggleable__label-arrow:before {content: \"▸\";float: left;margin-right: 0.25em;color: #696969;}#sk-container-id-6 label.sk-toggleable__label-arrow:hover:before {color: black;}#sk-container-id-6 div.sk-estimator:hover label.sk-toggleable__label-arrow:before {color: black;}#sk-container-id-6 div.sk-toggleable__content {max-height: 0;max-width: 0;overflow: hidden;text-align: left;background-color: #f0f8ff;}#sk-container-id-6 div.sk-toggleable__content pre {margin: 0.2em;color: black;border-radius: 0.25em;background-color: #f0f8ff;}#sk-container-id-6 input.sk-toggleable__control:checked~div.sk-toggleable__content {max-height: 200px;max-width: 100%;overflow: auto;}#sk-container-id-6 input.sk-toggleable__control:checked~label.sk-toggleable__label-arrow:before {content: \"▾\";}#sk-container-id-6 div.sk-estimator input.sk-toggleable__control:checked~label.sk-toggleable__label {background-color: #d4ebff;}#sk-container-id-6 div.sk-label input.sk-toggleable__control:checked~label.sk-toggleable__label {background-color: #d4ebff;}#sk-container-id-6 input.sk-hidden--visually {border: 0;clip: rect(1px 1px 1px 1px);clip: rect(1px, 1px, 1px, 1px);height: 1px;margin: -1px;overflow: hidden;padding: 0;position: absolute;width: 1px;}#sk-container-id-6 div.sk-estimator {font-family: monospace;background-color: #f0f8ff;border: 1px dotted black;border-radius: 0.25em;box-sizing: border-box;margin-bottom: 0.5em;}#sk-container-id-6 div.sk-estimator:hover {background-color: #d4ebff;}#sk-container-id-6 div.sk-parallel-item::after {content: \"\";width: 100%;border-bottom: 1px solid gray;flex-grow: 1;}#sk-container-id-6 div.sk-label:hover label.sk-toggleable__label {background-color: #d4ebff;}#sk-container-id-6 div.sk-serial::before {content: \"\";position: absolute;border-left: 1px solid gray;box-sizing: border-box;top: 0;bottom: 0;left: 50%;z-index: 0;}#sk-container-id-6 div.sk-serial {display: flex;flex-direction: column;align-items: center;background-color: white;padding-right: 0.2em;padding-left: 0.2em;position: relative;}#sk-container-id-6 div.sk-item {position: relative;z-index: 1;}#sk-container-id-6 div.sk-parallel {display: flex;align-items: stretch;justify-content: center;background-color: white;position: relative;}#sk-container-id-6 div.sk-item::before, #sk-container-id-6 div.sk-parallel-item::before {content: \"\";position: absolute;border-left: 1px solid gray;box-sizing: border-box;top: 0;bottom: 0;left: 50%;z-index: -1;}#sk-container-id-6 div.sk-parallel-item {display: flex;flex-direction: column;z-index: 1;position: relative;background-color: white;}#sk-container-id-6 div.sk-parallel-item:first-child::after {align-self: flex-end;width: 50%;}#sk-container-id-6 div.sk-parallel-item:last-child::after {align-self: flex-start;width: 50%;}#sk-container-id-6 div.sk-parallel-item:only-child::after {width: 0;}#sk-container-id-6 div.sk-dashed-wrapped {border: 1px dashed gray;margin: 0 0.4em 0.5em 0.4em;box-sizing: border-box;padding-bottom: 0.4em;background-color: white;}#sk-container-id-6 div.sk-label label {font-family: monospace;font-weight: bold;display: inline-block;line-height: 1.2em;}#sk-container-id-6 div.sk-label-container {text-align: center;}#sk-container-id-6 div.sk-container {/* jupyter's `normalize.less` sets `[hidden] { display: none; }` but bootstrap.min.css set `[hidden] { display: none !important; }` so we also need the `!important` here to be able to override the default hidden behavior on the sphinx rendered scikit-learn.org. See: https://github.com/scikit-learn/scikit-learn/issues/21755 */display: inline-block !important;position: relative;}#sk-container-id-6 div.sk-text-repr-fallback {display: none;}</style><div id=\"sk-container-id-6\" class=\"sk-top-container\"><div class=\"sk-text-repr-fallback\"><pre>GridSearchCV(cv=3,\n",
       "             estimator=Pipeline(steps=[(&#x27;kmeans&#x27;, KMeans(n_clusters=50)),\n",
       "                                       (&#x27;log_red&#x27;, LogisticRegression())]),\n",
       "             param_grid={&#x27;kmeans__n_clusters&#x27;: range(2, 100)}, verbose=2)</pre><b>In a Jupyter environment, please rerun this cell to show the HTML representation or trust the notebook. <br />On GitHub, the HTML representation is unable to render, please try loading this page with nbviewer.org.</b></div><div class=\"sk-container\" hidden><div class=\"sk-item sk-dashed-wrapped\"><div class=\"sk-label-container\"><div class=\"sk-label sk-toggleable\"><input class=\"sk-toggleable__control sk-hidden--visually\" id=\"sk-estimator-id-8\" type=\"checkbox\" ><label for=\"sk-estimator-id-8\" class=\"sk-toggleable__label sk-toggleable__label-arrow\">GridSearchCV</label><div class=\"sk-toggleable__content\"><pre>GridSearchCV(cv=3,\n",
       "             estimator=Pipeline(steps=[(&#x27;kmeans&#x27;, KMeans(n_clusters=50)),\n",
       "                                       (&#x27;log_red&#x27;, LogisticRegression())]),\n",
       "             param_grid={&#x27;kmeans__n_clusters&#x27;: range(2, 100)}, verbose=2)</pre></div></div></div><div class=\"sk-parallel\"><div class=\"sk-parallel-item\"><div class=\"sk-item\"><div class=\"sk-label-container\"><div class=\"sk-label sk-toggleable\"><input class=\"sk-toggleable__control sk-hidden--visually\" id=\"sk-estimator-id-9\" type=\"checkbox\" ><label for=\"sk-estimator-id-9\" class=\"sk-toggleable__label sk-toggleable__label-arrow\">estimator: Pipeline</label><div class=\"sk-toggleable__content\"><pre>Pipeline(steps=[(&#x27;kmeans&#x27;, KMeans(n_clusters=50)),\n",
       "                (&#x27;log_red&#x27;, LogisticRegression())])</pre></div></div></div><div class=\"sk-serial\"><div class=\"sk-item\"><div class=\"sk-serial\"><div class=\"sk-item\"><div class=\"sk-estimator sk-toggleable\"><input class=\"sk-toggleable__control sk-hidden--visually\" id=\"sk-estimator-id-10\" type=\"checkbox\" ><label for=\"sk-estimator-id-10\" class=\"sk-toggleable__label sk-toggleable__label-arrow\">KMeans</label><div class=\"sk-toggleable__content\"><pre>KMeans(n_clusters=50)</pre></div></div></div><div class=\"sk-item\"><div class=\"sk-estimator sk-toggleable\"><input class=\"sk-toggleable__control sk-hidden--visually\" id=\"sk-estimator-id-11\" type=\"checkbox\" ><label for=\"sk-estimator-id-11\" class=\"sk-toggleable__label sk-toggleable__label-arrow\">LogisticRegression</label><div class=\"sk-toggleable__content\"><pre>LogisticRegression()</pre></div></div></div></div></div></div></div></div></div></div></div></div>"
      ],
      "text/plain": [
       "GridSearchCV(cv=3,\n",
       "             estimator=Pipeline(steps=[('kmeans', KMeans(n_clusters=50)),\n",
       "                                       ('log_red', LogisticRegression())]),\n",
       "             param_grid={'kmeans__n_clusters': range(2, 100)}, verbose=2)"
      ]
     },
     "execution_count": 49,
     "metadata": {},
     "output_type": "execute_result"
    }
   ],
   "source": [
    "from sklearn.model_selection import GridSearchCV\n",
    "param_grid = dict(kmeans__n_clusters=range(2, 100))\n",
    "grid_clf = GridSearchCV(pipeline, param_grid, cv=3, verbose=2)\n",
    "grid_clf.fit(X_train, y_train)"
   ]
  },
  {
   "cell_type": "code",
   "execution_count": 50,
   "id": "4e6dcc2a-ea34-4df4-ab2e-b5d0ffb46c0f",
   "metadata": {},
   "outputs": [
    {
     "data": {
      "text/plain": [
       "{'kmeans__n_clusters': 73}"
      ]
     },
     "execution_count": 50,
     "metadata": {},
     "output_type": "execute_result"
    }
   ],
   "source": [
    "grid_clf.best_params_"
   ]
  },
  {
   "cell_type": "code",
   "execution_count": 51,
   "id": "e13fd440-3712-480b-8e94-f228f5f44347",
   "metadata": {},
   "outputs": [
    {
     "data": {
      "text/plain": [
       "0.95"
      ]
     },
     "execution_count": 51,
     "metadata": {},
     "output_type": "execute_result"
    }
   ],
   "source": [
    "grid_clf.score(X_test, y_test)"
   ]
  },
  {
   "cell_type": "code",
   "execution_count": 52,
   "id": "e056123d-0020-4b74-a2d1-1370f34fda9b",
   "metadata": {},
   "outputs": [],
   "source": [
    "y_pred = grid_clf.predict(X_test)"
   ]
  },
  {
   "cell_type": "code",
   "execution_count": 53,
   "id": "b5f10e5f-b8a4-4761-a655-2ea513ed1894",
   "metadata": {},
   "outputs": [
    {
     "name": "stdout",
     "output_type": "stream",
     "text": [
      "              precision    recall  f1-score   support\n",
      "\n",
      "           0       1.00      0.97      0.98        32\n",
      "           1       0.98      0.95      0.97        44\n",
      "           2       0.97      0.97      0.97        31\n",
      "           3       0.95      0.97      0.96        36\n",
      "           4       0.91      0.89      0.90        35\n",
      "           5       0.98      0.95      0.96        43\n",
      "           6       0.97      0.94      0.96        35\n",
      "           7       0.97      0.95      0.96        40\n",
      "           8       0.92      0.97      0.95        36\n",
      "           9       0.84      0.93      0.88        28\n",
      "\n",
      "    accuracy                           0.95       360\n",
      "   macro avg       0.95      0.95      0.95       360\n",
      "weighted avg       0.95      0.95      0.95       360\n",
      "\n"
     ]
    }
   ],
   "source": [
    "print(classification_report(y_test, y_pred))"
   ]
  },
  {
   "cell_type": "code",
   "execution_count": 54,
   "id": "70b4511a-251a-4fae-a4a5-e829d066036f",
   "metadata": {},
   "outputs": [
    {
     "data": {
      "image/png": "[encoded data removed]",
      "text/plain": [
       "<Figure size 1440x720 with 50 Axes>"
      ]
     },
     "metadata": {},
     "output_type": "display_data"
    }
   ],
   "source": [
    "plt.figure(figsize=(20,10))\n",
    "for i in range(50):\n",
    "    plt.subplot(5,10,i+1)\n",
    "    plt.xticks([])\n",
    "    plt.yticks([])\n",
    "    plt.grid(True)\n",
    "    x=X_test[i].reshape(8,8)\n",
    "    plt.imshow(x, cmap=plt.cm.binary)\n",
    "    plt.xlabel(y_pred[i])\n",
    "plt.show()"
   ]
  },
  {
   "cell_type": "code",
   "execution_count": 55,
   "id": "ee8735d9-032f-4258-b672-47fcea456b31",
   "metadata": {},
   "outputs": [
    {
     "data": {
      "text/html": [
       "<div>\n",
       "<style scoped>\n",
       "    .dataframe tbody tr th:only-of-type {\n",
       "        vertical-align: middle;\n",
       "    }\n",
       "\n",
       "    .dataframe tbody tr th {\n",
       "        vertical-align: top;\n",
       "    }\n",
       "\n",
       "    .dataframe thead th {\n",
       "        text-align: right;\n",
       "    }\n",
       "</style>\n",
       "<table border=\"1\" class=\"dataframe\">\n",
       "  <thead>\n",
       "    <tr style=\"text-align: right;\">\n",
       "      <th>col_0</th>\n",
       "      <th>0</th>\n",
       "      <th>1</th>\n",
       "      <th>2</th>\n",
       "      <th>3</th>\n",
       "      <th>4</th>\n",
       "      <th>5</th>\n",
       "      <th>6</th>\n",
       "      <th>7</th>\n",
       "      <th>8</th>\n",
       "      <th>9</th>\n",
       "    </tr>\n",
       "    <tr>\n",
       "      <th>row_0</th>\n",
       "      <th></th>\n",
       "      <th></th>\n",
       "      <th></th>\n",
       "      <th></th>\n",
       "      <th></th>\n",
       "      <th></th>\n",
       "      <th></th>\n",
       "      <th></th>\n",
       "      <th></th>\n",
       "      <th></th>\n",
       "    </tr>\n",
       "  </thead>\n",
       "  <tbody>\n",
       "    <tr>\n",
       "      <th>0</th>\n",
       "      <td>31</td>\n",
       "      <td>0</td>\n",
       "      <td>0</td>\n",
       "      <td>0</td>\n",
       "      <td>1</td>\n",
       "      <td>0</td>\n",
       "      <td>0</td>\n",
       "      <td>0</td>\n",
       "      <td>0</td>\n",
       "      <td>0</td>\n",
       "    </tr>\n",
       "    <tr>\n",
       "      <th>1</th>\n",
       "      <td>0</td>\n",
       "      <td>42</td>\n",
       "      <td>0</td>\n",
       "      <td>0</td>\n",
       "      <td>0</td>\n",
       "      <td>0</td>\n",
       "      <td>1</td>\n",
       "      <td>0</td>\n",
       "      <td>1</td>\n",
       "      <td>0</td>\n",
       "    </tr>\n",
       "    <tr>\n",
       "      <th>2</th>\n",
       "      <td>0</td>\n",
       "      <td>0</td>\n",
       "      <td>30</td>\n",
       "      <td>1</td>\n",
       "      <td>0</td>\n",
       "      <td>0</td>\n",
       "      <td>0</td>\n",
       "      <td>0</td>\n",
       "      <td>0</td>\n",
       "      <td>0</td>\n",
       "    </tr>\n",
       "    <tr>\n",
       "      <th>3</th>\n",
       "      <td>0</td>\n",
       "      <td>0</td>\n",
       "      <td>0</td>\n",
       "      <td>35</td>\n",
       "      <td>0</td>\n",
       "      <td>0</td>\n",
       "      <td>0</td>\n",
       "      <td>1</td>\n",
       "      <td>0</td>\n",
       "      <td>0</td>\n",
       "    </tr>\n",
       "    <tr>\n",
       "      <th>4</th>\n",
       "      <td>0</td>\n",
       "      <td>0</td>\n",
       "      <td>0</td>\n",
       "      <td>0</td>\n",
       "      <td>31</td>\n",
       "      <td>0</td>\n",
       "      <td>0</td>\n",
       "      <td>0</td>\n",
       "      <td>0</td>\n",
       "      <td>4</td>\n",
       "    </tr>\n",
       "    <tr>\n",
       "      <th>5</th>\n",
       "      <td>0</td>\n",
       "      <td>0</td>\n",
       "      <td>0</td>\n",
       "      <td>0</td>\n",
       "      <td>1</td>\n",
       "      <td>41</td>\n",
       "      <td>0</td>\n",
       "      <td>0</td>\n",
       "      <td>0</td>\n",
       "      <td>1</td>\n",
       "    </tr>\n",
       "    <tr>\n",
       "      <th>6</th>\n",
       "      <td>0</td>\n",
       "      <td>1</td>\n",
       "      <td>0</td>\n",
       "      <td>0</td>\n",
       "      <td>1</td>\n",
       "      <td>0</td>\n",
       "      <td>33</td>\n",
       "      <td>0</td>\n",
       "      <td>0</td>\n",
       "      <td>0</td>\n",
       "    </tr>\n",
       "    <tr>\n",
       "      <th>7</th>\n",
       "      <td>0</td>\n",
       "      <td>0</td>\n",
       "      <td>0</td>\n",
       "      <td>1</td>\n",
       "      <td>0</td>\n",
       "      <td>0</td>\n",
       "      <td>0</td>\n",
       "      <td>38</td>\n",
       "      <td>1</td>\n",
       "      <td>0</td>\n",
       "    </tr>\n",
       "    <tr>\n",
       "      <th>8</th>\n",
       "      <td>0</td>\n",
       "      <td>0</td>\n",
       "      <td>1</td>\n",
       "      <td>0</td>\n",
       "      <td>0</td>\n",
       "      <td>0</td>\n",
       "      <td>0</td>\n",
       "      <td>0</td>\n",
       "      <td>35</td>\n",
       "      <td>0</td>\n",
       "    </tr>\n",
       "    <tr>\n",
       "      <th>9</th>\n",
       "      <td>0</td>\n",
       "      <td>0</td>\n",
       "      <td>0</td>\n",
       "      <td>0</td>\n",
       "      <td>0</td>\n",
       "      <td>1</td>\n",
       "      <td>0</td>\n",
       "      <td>0</td>\n",
       "      <td>1</td>\n",
       "      <td>26</td>\n",
       "    </tr>\n",
       "  </tbody>\n",
       "</table>\n",
       "</div>"
      ],
      "text/plain": [
       "col_0   0   1   2   3   4   5   6   7   8   9\n",
       "row_0                                        \n",
       "0      31   0   0   0   1   0   0   0   0   0\n",
       "1       0  42   0   0   0   0   1   0   1   0\n",
       "2       0   0  30   1   0   0   0   0   0   0\n",
       "3       0   0   0  35   0   0   0   1   0   0\n",
       "4       0   0   0   0  31   0   0   0   0   4\n",
       "5       0   0   0   0   1  41   0   0   0   1\n",
       "6       0   1   0   0   1   0  33   0   0   0\n",
       "7       0   0   0   1   0   0   0  38   1   0\n",
       "8       0   0   1   0   0   0   0   0  35   0\n",
       "9       0   0   0   0   0   1   0   0   1  26"
      ]
     },
     "execution_count": 55,
     "metadata": {},
     "output_type": "execute_result"
    }
   ],
   "source": [
    "conf_matrix = pd.crosstab(y_test, y_pred)\n",
    "conf_matrix"
   ]
  },
  {
   "cell_type": "code",
   "execution_count": 56,
   "id": "722a1ba0-4393-432e-b141-2882d64c9fff",
   "metadata": {},
   "outputs": [
    {
     "data": {
      "image/png": "[encoded data removed]",
      "text/plain": [
       "<Figure size 864x720 with 2 Axes>"
      ]
     },
     "metadata": {
      "needs_background": "light"
     },
     "output_type": "display_data"
    }
   ],
   "source": [
    "plt.figure(figsize=(12,10))\n",
    "sns.heatmap(conf_matrix, annot=True, fmt ='')\n",
    "plt.show()"
   ]
  },
  {
   "cell_type": "code",
   "execution_count": null,
   "id": "60dfdb71-8d51-41eb-ad29-94b33cdc5bce",
   "metadata": {},
   "outputs": [],
   "source": []
  }
 ],
 "metadata": {
  "kernelspec": {
   "display_name": "Python 3 (ipykernel)",
   "language": "python",
   "name": "python3"
  },
  "language_info": {
   "codemirror_mode": {
    "name": "ipython",
    "version": 3
   },
   "file_extension": ".py",
   "mimetype": "text/x-python",
   "name": "python",
   "nbconvert_exporter": "python",
   "pygments_lexer": "ipython3",
   "version": "3.10.4"
  }
 },
 "nbformat": 4,
 "nbformat_minor": 5
}
