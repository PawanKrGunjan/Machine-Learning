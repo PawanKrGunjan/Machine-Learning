{
 "cells": [
  {
   "cell_type": "markdown",
   "id": "95fb2c09",
   "metadata": {},
   "source": [
    "ॐ श्री गणेशाय नमः"
   ]
  },
  {
   "cell_type": "code",
   "execution_count": 1,
   "id": "2835b8d2",
   "metadata": {},
   "outputs": [],
   "source": [
    "import pandas as pd"
   ]
  },
  {
   "cell_type": "code",
   "execution_count": 2,
   "id": "5b874b32",
   "metadata": {},
   "outputs": [],
   "source": [
    "text = pd.read_csv(\"text_data.csv\", encoding= 'unicode_escape', index_col = [0])"
   ]
  },
  {
   "cell_type": "code",
   "execution_count": 3,
   "id": "e0f78dbc",
   "metadata": {},
   "outputs": [
    {
     "data": {
      "text/html": [
       "<div>\n",
       "<style scoped>\n",
       "    .dataframe tbody tr th:only-of-type {\n",
       "        vertical-align: middle;\n",
       "    }\n",
       "\n",
       "    .dataframe tbody tr th {\n",
       "        vertical-align: top;\n",
       "    }\n",
       "\n",
       "    .dataframe thead th {\n",
       "        text-align: right;\n",
       "    }\n",
       "</style>\n",
       "<table border=\"1\" class=\"dataframe\">\n",
       "  <thead>\n",
       "    <tr style=\"text-align: right;\">\n",
       "      <th></th>\n",
       "      <th>Message_body</th>\n",
       "      <th>Label</th>\n",
       "    </tr>\n",
       "    <tr>\n",
       "      <th>S.No.</th>\n",
       "      <th></th>\n",
       "      <th></th>\n",
       "    </tr>\n",
       "  </thead>\n",
       "  <tbody>\n",
       "    <tr>\n",
       "      <th>1</th>\n",
       "      <td>UpgrdCentre Orange customer, you may now claim...</td>\n",
       "      <td>Spam</td>\n",
       "    </tr>\n",
       "    <tr>\n",
       "      <th>2</th>\n",
       "      <td>Loan for any purpose £500 - £75,000. Homeowner...</td>\n",
       "      <td>Spam</td>\n",
       "    </tr>\n",
       "    <tr>\n",
       "      <th>3</th>\n",
       "      <td>Congrats! Nokia 3650 video camera phone is you...</td>\n",
       "      <td>Spam</td>\n",
       "    </tr>\n",
       "    <tr>\n",
       "      <th>4</th>\n",
       "      <td>URGENT! Your Mobile number has been awarded wi...</td>\n",
       "      <td>Spam</td>\n",
       "    </tr>\n",
       "    <tr>\n",
       "      <th>5</th>\n",
       "      <td>Someone has contacted our dating service and e...</td>\n",
       "      <td>Spam</td>\n",
       "    </tr>\n",
       "    <tr>\n",
       "      <th>...</th>\n",
       "      <td>...</td>\n",
       "      <td>...</td>\n",
       "    </tr>\n",
       "    <tr>\n",
       "      <th>121</th>\n",
       "      <td>7 wonders in My WORLD 7th You 6th Ur style 5th...</td>\n",
       "      <td>Non-Spam</td>\n",
       "    </tr>\n",
       "    <tr>\n",
       "      <th>122</th>\n",
       "      <td>Try to do something dear. You read something f...</td>\n",
       "      <td>Non-Spam</td>\n",
       "    </tr>\n",
       "    <tr>\n",
       "      <th>123</th>\n",
       "      <td>Sun ah... Thk mayb can if dun have anythin on....</td>\n",
       "      <td>Non-Spam</td>\n",
       "    </tr>\n",
       "    <tr>\n",
       "      <th>124</th>\n",
       "      <td>SYMPTOMS when U are in love: \"1.U like listeni...</td>\n",
       "      <td>Non-Spam</td>\n",
       "    </tr>\n",
       "    <tr>\n",
       "      <th>125</th>\n",
       "      <td>Great. Have a safe trip. Dont panic surrender ...</td>\n",
       "      <td>Non-Spam</td>\n",
       "    </tr>\n",
       "  </tbody>\n",
       "</table>\n",
       "<p>125 rows × 2 columns</p>\n",
       "</div>"
      ],
      "text/plain": [
       "                                            Message_body     Label\n",
       "S.No.                                                             \n",
       "1      UpgrdCentre Orange customer, you may now claim...      Spam\n",
       "2      Loan for any purpose £500 - £75,000. Homeowner...      Spam\n",
       "3      Congrats! Nokia 3650 video camera phone is you...      Spam\n",
       "4      URGENT! Your Mobile number has been awarded wi...      Spam\n",
       "5      Someone has contacted our dating service and e...      Spam\n",
       "...                                                  ...       ...\n",
       "121    7 wonders in My WORLD 7th You 6th Ur style 5th...  Non-Spam\n",
       "122    Try to do something dear. You read something f...  Non-Spam\n",
       "123    Sun ah... Thk mayb can if dun have anythin on....  Non-Spam\n",
       "124    SYMPTOMS when U are in love: \"1.U like listeni...  Non-Spam\n",
       "125    Great. Have a safe trip. Dont panic surrender ...  Non-Spam\n",
       "\n",
       "[125 rows x 2 columns]"
      ]
     },
     "execution_count": 3,
     "metadata": {},
     "output_type": "execute_result"
    }
   ],
   "source": [
    "text"
   ]
  },
  {
   "cell_type": "code",
   "execution_count": 4,
   "id": "336b6a21",
   "metadata": {},
   "outputs": [
    {
     "name": "stdout",
     "output_type": "stream",
     "text": [
      "100\n",
      "45\n"
     ]
    }
   ],
   "source": [
    "import time\n",
    "\n",
    "def rand_val(x):\n",
    "\n",
    "    random=int(time.time()*1000)\n",
    "\n",
    "    random %= x\n",
    "\n",
    "    return random\n",
    "\n",
    "x=int(input())\n",
    "\n",
    "print(rand_val(x))"
   ]
  },
  {
   "cell_type": "code",
   "execution_count": 5,
   "id": "273b94d4",
   "metadata": {},
   "outputs": [
    {
     "name": "stdout",
     "output_type": "stream",
     "text": [
      "0.4665076732635498\n"
     ]
    },
    {
     "data": {
      "text/plain": [
       "52"
      ]
     },
     "execution_count": 5,
     "metadata": {},
     "output_type": "execute_result"
    }
   ],
   "source": [
    "from time import time\n",
    "import math\n",
    "def time_random():\n",
    "    return time() - float(str(time()).split('.')[0])\n",
    "print(time_random())\n",
    "def gen_random_range(min, max):\n",
    "    return int(time_random() * (max - min) + min)\n",
    "\n",
    "gen_random_range(50,56)"
   ]
  },
  {
   "cell_type": "code",
   "execution_count": 6,
   "id": "7a2af257",
   "metadata": {},
   "outputs": [
    {
     "name": "stdout",
     "output_type": "stream",
     "text": [
      "6502,8340,9998,1622,4065,5490,7404,9167,978,3350,"
     ]
    }
   ],
   "source": [
    "import math\n",
    "for i in range(10):\n",
    "    for j in range(math.exp(10)):\n",
    "        time_random()\n",
    "    print(gen_random_range(9,9999),end=',')"
   ]
  },
  {
   "cell_type": "code",
   "execution_count": 7,
   "id": "4b01ea44",
   "metadata": {},
   "outputs": [
    {
     "data": {
      "text/plain": [
       "['2022-04-08 18:29:48.344382']"
      ]
     },
     "execution_count": 7,
     "metadata": {},
     "output_type": "execute_result"
    }
   ],
   "source": [
    "from datetime import datetime\n",
    "str(datetime.now()).split(',')"
   ]
  },
  {
   "cell_type": "code",
   "execution_count": 9,
   "id": "d6169683",
   "metadata": {},
   "outputs": [],
   "source": [
    "from math import acos\n",
    "pi = round(2 * acos(0.0), 2)"
   ]
  },
  {
   "cell_type": "code",
   "execution_count": 10,
   "id": "fb2ff935",
   "metadata": {},
   "outputs": [
    {
     "data": {
      "text/plain": [
       "3.142"
      ]
     },
     "execution_count": 10,
     "metadata": {},
     "output_type": "execute_result"
    }
   ],
   "source": [
    "pi"
   ]
  },
  {
   "cell_type": "code",
   "execution_count": 12,
   "id": "e3473cd1",
   "metadata": {},
   "outputs": [
    {
     "name": "stdout",
     "output_type": "stream",
     "text": [
      "3.14\n",
      "3.14\n",
      "3.14\n",
      "3.14\n",
      "3.14\n",
      "3.14\n",
      "3.14\n",
      "3.14\n",
      "3.14\n",
      "3.14\n"
     ]
    }
   ],
   "source": [
    "import math\n",
    "from math import acos\n",
    "for i in range(10):\n",
    "    for j in range(int(math.exp(10))):\n",
    "        time_random()\n",
    "    pi = round(2 * acos(0.0), 2)\n",
    "    print(pi)  "
   ]
  },
  {
   "cell_type": "code",
   "execution_count": null,
   "id": "5d77ed85",
   "metadata": {},
   "outputs": [],
   "source": []
  }
 ],
 "metadata": {
  "kernelspec": {
   "display_name": "Python 3 (ipykernel)",
   "language": "python",
   "name": "python3"
  },
  "language_info": {
   "codemirror_mode": {
    "name": "ipython",
    "version": 3
   },
   "file_extension": ".py",
   "mimetype": "text/x-python",
   "name": "python",
   "nbconvert_exporter": "python",
   "pygments_lexer": "ipython3",
   "version": "3.10.4"
  }
 },
 "nbformat": 4,
 "nbformat_minor": 5
}
