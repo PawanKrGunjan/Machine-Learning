{
 "cells": [
  {
   "cell_type": "markdown",
   "id": "c088af70",
   "metadata": {},
   "source": [
    "ॐ श्री गणेशाय नमः"
   ]
  },
  {
   "cell_type": "markdown",
   "id": "e1cd46d3",
   "metadata": {},
   "source": [
    "### Question -1"
   ]
  },
  {
   "cell_type": "markdown",
   "id": "0bdc7d31",
   "metadata": {},
   "source": [
    "**Design a function to generate random numbers without the help of any internal or external library of python(build the function from scratch)**"
   ]
  },
  {
   "cell_type": "code",
   "execution_count": 1,
   "id": "1cb7a973",
   "metadata": {},
   "outputs": [],
   "source": [
    "from time import time\n",
    "import math"
   ]
  },
  {
   "cell_type": "code",
   "execution_count": 2,
   "id": "6e91bb1f",
   "metadata": {},
   "outputs": [],
   "source": [
    "def randomNumber(M, N):\n",
    "    t = time() - float(str(time()).split('.')[0])\n",
    "    random = t * (N - M) + M\n",
    "    return random"
   ]
  },
  {
   "cell_type": "code",
   "execution_count": 3,
   "id": "f1ec0316",
   "metadata": {},
   "outputs": [
    {
     "name": "stdout",
     "output_type": "stream",
     "text": [
      "0\n",
      "50\n"
     ]
    },
    {
     "data": {
      "text/plain": [
       "3"
      ]
     },
     "execution_count": 3,
     "metadata": {},
     "output_type": "execute_result"
    }
   ],
   "source": [
    "m=int(input())\n",
    "n=int(input())\n",
    "int(randomNumber(m, n))"
   ]
  },
  {
   "cell_type": "markdown",
   "id": "4b8b0d03",
   "metadata": {},
   "source": [
    "### Question-2"
   ]
  },
  {
   "cell_type": "markdown",
   "id": "597ad5b2",
   "metadata": {},
   "source": [
    "**Prove that the function is generating random numbers by plotting the generated points with any visualization library of python(for example matplotlib).**"
   ]
  },
  {
   "cell_type": "code",
   "execution_count": null,
   "id": "9c3e200d",
   "metadata": {},
   "outputs": [],
   "source": [
    "x=[]\n",
    "y=[]\n",
    "r=0\n",
    "N = 25\n",
    "i=0\n",
    "while i!= N:\n",
    "    R=int(randomNumber(m, n))\n",
    "    if R == r:\n",
    "        for i in range(1000):\n",
    "            R\n",
    "    else:\n",
    "        r=R\n",
    "        i= i+1\n",
    "        x.append(i)\n",
    "        y.append(r)\n",
    "\n",
    "print(f\"x :{x} \\ny:{y}\")"
   ]
  },
  {
   "cell_type": "code",
   "execution_count": null,
   "id": "dddf600a",
   "metadata": {},
   "outputs": [],
   "source": [
    "import matplotlib.pyplot as plt\n",
    "plt.scatter(x, y)"
   ]
  },
  {
   "cell_type": "markdown",
   "id": "0a8acb3f",
   "metadata": {},
   "source": [
    "### Question -3"
   ]
  },
  {
   "cell_type": "markdown",
   "id": "df6b53a1",
   "metadata": {},
   "source": [
    "**Predict the value of pi(3.14 ) (upto two decimal places) with the help of the function created in 1st question!**"
   ]
  },
  {
   "cell_type": "code",
   "execution_count": null,
   "id": "9635c7e2",
   "metadata": {},
   "outputs": [],
   "source": [
    "interval=1000\n",
    "circle_points= 0\n",
    "square_points= 0 \n",
    "for i in range(interval**2):\n",
    "    rand_x= round(randomNumber(-1, 1),1)\n",
    "    rand_y=round(randomNumber(-1, 1),1)\n",
    "    origin_dist= rand_x**2 + rand_y**2\n",
    "    if origin_dist<= 1:\n",
    "        circle_points+= 1\n",
    "  \n",
    "    square_points+= 1\n",
    "    pi = 4* circle_points/square_points\n",
    "  \n",
    "    print(square_points, circle_points, \"-\", 3.14-round(pi,2))\n",
    "print(\"Final Estimation of Pi=\", round(pi,2))"
   ]
  },
  {
   "cell_type": "code",
   "execution_count": null,
   "id": "15fadaf4",
   "metadata": {},
   "outputs": [],
   "source": [
    "print(\"Final Estimation of Pi=\", round(pi,2))"
   ]
  },
  {
   "cell_type": "code",
   "execution_count": null,
   "id": "21608752",
   "metadata": {},
   "outputs": [],
   "source": []
  }
 ],
 "metadata": {
  "kernelspec": {
   "display_name": "Python 3 (ipykernel)",
   "language": "python",
   "name": "python3"
  },
  "language_info": {
   "codemirror_mode": {
    "name": "ipython",
    "version": 3
   },
   "file_extension": ".py",
   "mimetype": "text/x-python",
   "name": "python",
   "nbconvert_exporter": "python",
   "pygments_lexer": "ipython3",
   "version": "3.10.4"
  }
 },
 "nbformat": 4,
 "nbformat_minor": 5
}
