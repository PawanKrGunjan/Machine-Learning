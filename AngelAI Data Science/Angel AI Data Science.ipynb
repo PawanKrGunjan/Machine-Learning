{
 "cells": [
  {
   "cell_type": "markdown",
   "id": "da13b66b",
   "metadata": {},
   "source": [
    "ॐ श्री गणेशाय नमः"
   ]
  },
  {
   "cell_type": "code",
   "execution_count": 1,
   "id": "943c6629",
   "metadata": {},
   "outputs": [],
   "source": [
    "from time import time\n",
    "import math\n",
    "def time_random():\n",
    "    return time() - float(str(time()).split('.')[0])\n",
    "\n",
    "def gen_random_range(min, max):\n",
    "    return int(time_random() * (max - min) + min)"
   ]
  },
  {
   "cell_type": "markdown",
   "id": "58de6fc0",
   "metadata": {},
   "source": [
    "### Question-1"
   ]
  },
  {
   "cell_type": "code",
   "execution_count": 2,
   "id": "b6c71784",
   "metadata": {},
   "outputs": [],
   "source": [
    "from time import time"
   ]
  },
  {
   "cell_type": "code",
   "execution_count": 3,
   "id": "e683776f",
   "metadata": {},
   "outputs": [],
   "source": [
    "def randomNumber(M, N):\n",
    "    t = time() - float(str(time()).split('.')[0])\n",
    "    random = t * (N - M) + M\n",
    "    return round(random,2)"
   ]
  },
  {
   "cell_type": "code",
   "execution_count": 4,
   "id": "c0aa800c",
   "metadata": {},
   "outputs": [
    {
     "data": {
      "text/plain": [
       "32.25"
      ]
     },
     "execution_count": 4,
     "metadata": {},
     "output_type": "execute_result"
    }
   ],
   "source": [
    "randomNumber(23, 70)"
   ]
  },
  {
   "cell_type": "markdown",
   "id": "b04e0fec",
   "metadata": {},
   "source": [
    "### Question-2"
   ]
  },
  {
   "cell_type": "code",
   "execution_count": 5,
   "id": "d6a51ca3",
   "metadata": {},
   "outputs": [
    {
     "name": "stdout",
     "output_type": "stream",
     "text": [
      "x :[1, 2, 3, 4, 5, 6, 7, 8, 9, 10] \n",
      "y:[33, 24, 32, 51, 69, 45, 66, 32, 45, 53]\n"
     ]
    }
   ],
   "source": [
    "x=[]\n",
    "y=[]\n",
    "r=0\n",
    "N = 10\n",
    "i=0\n",
    "while i!= N:\n",
    "    R=int(randomNumber(23, 70))\n",
    "    if R==r:\n",
    "        for j in range(9999999):\n",
    "            R\n",
    "    else:\n",
    "        r=R\n",
    "        i= i+1\n",
    "        x.append(i)\n",
    "        y.append(r)\n",
    "\n",
    "print(f\"x :{x} \\ny:{y}\")"
   ]
  },
  {
   "cell_type": "code",
   "execution_count": 6,
   "id": "1591934e",
   "metadata": {},
   "outputs": [
    {
     "data": {
      "text/plain": [
       "<matplotlib.collections.PathCollection at 0x173b8191960>"
      ]
     },
     "execution_count": 6,
     "metadata": {},
     "output_type": "execute_result"
    },
    {
     "data": {
      "image/png": "[encoded data removed]",
      "text/plain": [
       "<Figure size 432x288 with 1 Axes>"
      ]
     },
     "metadata": {
      "needs_background": "light"
     },
     "output_type": "display_data"
    }
   ],
   "source": [
    "import matplotlib.pyplot as plt\n",
    "plt.scatter(x, y)"
   ]
  },
  {
   "cell_type": "markdown",
   "id": "d6c02d82",
   "metadata": {},
   "source": [
    "### Question-3"
   ]
  },
  {
   "cell_type": "code",
   "execution_count": 7,
   "id": "8bd9b428",
   "metadata": {},
   "outputs": [
    {
     "name": "stdout",
     "output_type": "stream",
     "text": [
      "Final Estimation of Pi= 3.02\n"
     ]
    }
   ],
   "source": [
    "INTERVAL= 1000\n",
    "  \n",
    "circle_points= 0\n",
    "square_points= 0\n",
    "  \n",
    "# Total Random numbers generated= possible x\n",
    "# values* possible y values\n",
    "for i in range(INTERVAL**2):\n",
    "  \n",
    "    # Randomly generated x and y values from a\n",
    "    # uniform distribution\n",
    "    # Range of x and y values is -1 to 1\n",
    "    rand_x= round(randomNumber(-1, 1),1)\n",
    "    rand_y=round(randomNumber(-1, 1),1)\n",
    "    # Distance between (x, y) from the origin\n",
    "    origin_dist= rand_x**2 + rand_y**2\n",
    "  \n",
    "    # Checking if (x, y) lies inside the circle\n",
    "    if origin_dist<= 1:\n",
    "        circle_points+= 1\n",
    "  \n",
    "    square_points+= 1\n",
    "    # Estimating value of pi,\n",
    "    # pi= 4*(no. of points generated inside the circle)/ (no. of points generated inside the square)\n",
    "    pi = 4* circle_points/square_points\n",
    "  \n",
    "    #print(rand_x, rand_y, circle_points, square_points, \"-\", round(pi,2))\n",
    "    #print(\"\\n\")\n",
    "print(\"Final Estimation of Pi=\", round(pi,2))  "
   ]
  },
  {
   "cell_type": "code",
   "execution_count": 8,
   "id": "708a9017",
   "metadata": {},
   "outputs": [],
   "source": [
    "import numpy as np\n",
    "import pandas as pd"
   ]
  },
  {
   "cell_type": "code",
   "execution_count": 9,
   "id": "947e54da",
   "metadata": {},
   "outputs": [],
   "source": [
    "data = pd.read_csv(\"text_data.csv\", encoding= 'unicode_escape', index_col = [0])"
   ]
  },
  {
   "cell_type": "code",
   "execution_count": 10,
   "id": "1f36dfb0",
   "metadata": {},
   "outputs": [
    {
     "data": {
      "text/html": [
       "<div>\n",
       "<style scoped>\n",
       "    .dataframe tbody tr th:only-of-type {\n",
       "        vertical-align: middle;\n",
       "    }\n",
       "\n",
       "    .dataframe tbody tr th {\n",
       "        vertical-align: top;\n",
       "    }\n",
       "\n",
       "    .dataframe thead th {\n",
       "        text-align: right;\n",
       "    }\n",
       "</style>\n",
       "<table border=\"1\" class=\"dataframe\">\n",
       "  <thead>\n",
       "    <tr style=\"text-align: right;\">\n",
       "      <th></th>\n",
       "      <th>Message_body</th>\n",
       "      <th>Label</th>\n",
       "    </tr>\n",
       "    <tr>\n",
       "      <th>S.No.</th>\n",
       "      <th></th>\n",
       "      <th></th>\n",
       "    </tr>\n",
       "  </thead>\n",
       "  <tbody>\n",
       "    <tr>\n",
       "      <th>1</th>\n",
       "      <td>UpgrdCentre Orange customer, you may now claim...</td>\n",
       "      <td>Spam</td>\n",
       "    </tr>\n",
       "    <tr>\n",
       "      <th>2</th>\n",
       "      <td>Loan for any purpose £500 - £75,000. Homeowner...</td>\n",
       "      <td>Spam</td>\n",
       "    </tr>\n",
       "    <tr>\n",
       "      <th>3</th>\n",
       "      <td>Congrats! Nokia 3650 video camera phone is you...</td>\n",
       "      <td>Spam</td>\n",
       "    </tr>\n",
       "    <tr>\n",
       "      <th>4</th>\n",
       "      <td>URGENT! Your Mobile number has been awarded wi...</td>\n",
       "      <td>Spam</td>\n",
       "    </tr>\n",
       "    <tr>\n",
       "      <th>5</th>\n",
       "      <td>Someone has contacted our dating service and e...</td>\n",
       "      <td>Spam</td>\n",
       "    </tr>\n",
       "    <tr>\n",
       "      <th>...</th>\n",
       "      <td>...</td>\n",
       "      <td>...</td>\n",
       "    </tr>\n",
       "    <tr>\n",
       "      <th>121</th>\n",
       "      <td>7 wonders in My WORLD 7th You 6th Ur style 5th...</td>\n",
       "      <td>Non-Spam</td>\n",
       "    </tr>\n",
       "    <tr>\n",
       "      <th>122</th>\n",
       "      <td>Try to do something dear. You read something f...</td>\n",
       "      <td>Non-Spam</td>\n",
       "    </tr>\n",
       "    <tr>\n",
       "      <th>123</th>\n",
       "      <td>Sun ah... Thk mayb can if dun have anythin on....</td>\n",
       "      <td>Non-Spam</td>\n",
       "    </tr>\n",
       "    <tr>\n",
       "      <th>124</th>\n",
       "      <td>SYMPTOMS when U are in love: \"1.U like listeni...</td>\n",
       "      <td>Non-Spam</td>\n",
       "    </tr>\n",
       "    <tr>\n",
       "      <th>125</th>\n",
       "      <td>Great. Have a safe trip. Dont panic surrender ...</td>\n",
       "      <td>Non-Spam</td>\n",
       "    </tr>\n",
       "  </tbody>\n",
       "</table>\n",
       "<p>125 rows × 2 columns</p>\n",
       "</div>"
      ],
      "text/plain": [
       "                                            Message_body     Label\n",
       "S.No.                                                             \n",
       "1      UpgrdCentre Orange customer, you may now claim...      Spam\n",
       "2      Loan for any purpose £500 - £75,000. Homeowner...      Spam\n",
       "3      Congrats! Nokia 3650 video camera phone is you...      Spam\n",
       "4      URGENT! Your Mobile number has been awarded wi...      Spam\n",
       "5      Someone has contacted our dating service and e...      Spam\n",
       "...                                                  ...       ...\n",
       "121    7 wonders in My WORLD 7th You 6th Ur style 5th...  Non-Spam\n",
       "122    Try to do something dear. You read something f...  Non-Spam\n",
       "123    Sun ah... Thk mayb can if dun have anythin on....  Non-Spam\n",
       "124    SYMPTOMS when U are in love: \"1.U like listeni...  Non-Spam\n",
       "125    Great. Have a safe trip. Dont panic surrender ...  Non-Spam\n",
       "\n",
       "[125 rows x 2 columns]"
      ]
     },
     "execution_count": 10,
     "metadata": {},
     "output_type": "execute_result"
    }
   ],
   "source": [
    "#data = pd.read_clipboard(index_col=[0])\n",
    "data"
   ]
  },
  {
   "cell_type": "code",
   "execution_count": 11,
   "id": "e6420fe2",
   "metadata": {},
   "outputs": [],
   "source": [
    "import nltk\n",
    "import re\n",
    "from nltk.corpus import stopwords\n",
    "from nltk.tokenize import word_tokenize\n",
    "#from gensim.utils import lemmatize"
   ]
  },
  {
   "cell_type": "code",
   "execution_count": 12,
   "id": "23393c93",
   "metadata": {},
   "outputs": [],
   "source": [
    "#pip install gensim"
   ]
  },
  {
   "cell_type": "code",
   "execution_count": 13,
   "id": "4d80f4d7",
   "metadata": {},
   "outputs": [
    {
     "name": "stdout",
     "output_type": "stream",
     "text": [
      "[nltk_data] Downloading package punkt to\n",
      "[nltk_data]     C:\\Users\\Pawan\\AppData\\Roaming\\nltk_data...\n",
      "[nltk_data]   Package punkt is already up-to-date!\n"
     ]
    },
    {
     "data": {
      "text/plain": [
       "True"
      ]
     },
     "execution_count": 13,
     "metadata": {},
     "output_type": "execute_result"
    }
   ],
   "source": [
    "#nltk.download('stopwords') # comment out if already downloaded\n",
    "nltk.download('punkt')     # comment out if already downloaded"
   ]
  },
  {
   "cell_type": "code",
   "execution_count": 14,
   "id": "b5df2f64",
   "metadata": {},
   "outputs": [],
   "source": [
    "# convert to lower case\n",
    "df = data.apply(lambda x: x.str.lower())"
   ]
  },
  {
   "cell_type": "code",
   "execution_count": 15,
   "id": "801c764a",
   "metadata": {},
   "outputs": [],
   "source": [
    "# replace special characters (preserving only space)\n",
    "df = df.apply(lambda x: [re.sub('[^a-z0-9]', ' ', i) for i in x])"
   ]
  },
  {
   "cell_type": "code",
   "execution_count": 16,
   "id": "923afd5b",
   "metadata": {},
   "outputs": [],
   "source": [
    "# tokenize columns \n",
    "df = df.apply(lambda x:[word_tokenize(i) for i in x])"
   ]
  },
  {
   "cell_type": "code",
   "execution_count": 17,
   "id": "deedf3ba",
   "metadata": {},
   "outputs": [],
   "source": [
    "# remove stop words from token list in each column\n",
    "df = df.apply(\n",
    "    lambda x: [\n",
    "               [ w for w in tokenlist if w not in stopwords.words('english')] \n",
    "               for tokenlist in x])"
   ]
  },
  {
   "cell_type": "code",
   "execution_count": 18,
   "id": "0551c8b4",
   "metadata": {},
   "outputs": [
    {
     "name": "stdout",
     "output_type": "stream",
     "text": [
      "Lemmatize attempt: 1\n",
      "Lemmatize attempt: 2\n",
      "Lemmatize attempt: 3\n",
      "Lemmatize attempt: 4\n",
      "Lemmatize attempt: 5\n",
      "Lemmatize attempt: 6\n",
      "Lemmatize attempt: 7\n",
      "Lemmatize attempt: 8\n",
      "Lemmatize attempt: 9\n",
      "Lemmatize attempt: 10\n"
     ]
    }
   ],
   "source": [
    "# lemmatize columns\n",
    "# the lemmatize method may fail during the first 3 to 4 iterations, \n",
    "# so try running it several times\n",
    "for attempt in range(1, 11):\n",
    "    try:\n",
    "        print(f'Lemmatize attempt: {attempt}')\n",
    "        df = df.apply(\n",
    "            lambda x: [ [  l.decode('utf-8').split('/', 1)[0]\n",
    "                         for word in tokenlist for l in lemmatize(word) ]\n",
    "                       for tokenlist in x])\n",
    "        print(f'Attempt {attempt} success!')\n",
    "        break\n",
    "    except:\n",
    "        pass"
   ]
  },
  {
   "cell_type": "code",
   "execution_count": 19,
   "id": "324f1b1d",
   "metadata": {},
   "outputs": [
    {
     "name": "stdout",
     "output_type": "stream",
     "text": [
      "<class 'pandas.core.frame.DataFrame'>\n",
      "Int64Index: 125 entries, 1 to 125\n",
      "Data columns (total 2 columns):\n",
      " #   Column        Non-Null Count  Dtype \n",
      "---  ------        --------------  ----- \n",
      " 0   Message_body  125 non-null    object\n",
      " 1   Label         125 non-null    object\n",
      "dtypes: object(2)\n",
      "memory usage: 2.9+ KB\n"
     ]
    }
   ],
   "source": [
    "df.info()"
   ]
  },
  {
   "cell_type": "code",
   "execution_count": 20,
   "id": "55e520af",
   "metadata": {},
   "outputs": [
    {
     "data": {
      "text/plain": [
       "'great'"
      ]
     },
     "execution_count": 20,
     "metadata": {},
     "output_type": "execute_result"
    }
   ],
   "source": [
    "df['Message_body'][125][0]"
   ]
  },
  {
   "cell_type": "code",
   "execution_count": 21,
   "id": "b3368372",
   "metadata": {},
   "outputs": [],
   "source": [
    "x=df['Message_body'].apply(lambda x: \", \".join(x))\n",
    "y=df['Label'].apply(lambda x: \" \".join(x))"
   ]
  },
  {
   "cell_type": "code",
   "execution_count": 22,
   "id": "ce5282a8",
   "metadata": {},
   "outputs": [
    {
     "data": {
      "text/plain": [
       "S.No.\n",
       "1      upgrdcentre, orange, customer, may, claim, fre...\n",
       "2      loan, purpose, 500, 75, 000, homeowners, tenan...\n",
       "3      congrats, nokia, 3650, video, camera, phone, c...\n",
       "4      urgent, mobile, number, awarded, 2000, prize, ...\n",
       "5      someone, contacted, dating, service, entered, ...\n",
       "                             ...                        \n",
       "116                                            awake, oh\n",
       "117                                       think, da, wil\n",
       "118    piss, talking, someone, realise, u, point, rea...\n",
       "119                  hospital, da, return, home, evening\n",
       "120                              gettin, rdy, ship, comp\n",
       "Name: Message_body, Length: 120, dtype: object"
      ]
     },
     "execution_count": 22,
     "metadata": {},
     "output_type": "execute_result"
    }
   ],
   "source": [
    "x.head(-5)"
   ]
  },
  {
   "cell_type": "code",
   "execution_count": 23,
   "id": "bcac41e5",
   "metadata": {},
   "outputs": [
    {
     "data": {
      "text/plain": [
       "S.No.\n",
       "1    spam\n",
       "2    spam\n",
       "3    spam\n",
       "4    spam\n",
       "5    spam\n",
       "Name: Label, dtype: object"
      ]
     },
     "execution_count": 23,
     "metadata": {},
     "output_type": "execute_result"
    }
   ],
   "source": [
    "y.head()"
   ]
  },
  {
   "cell_type": "code",
   "execution_count": 24,
   "id": "032f7450",
   "metadata": {},
   "outputs": [],
   "source": [
    "from sklearn.feature_extraction.text import CountVectorizer"
   ]
  },
  {
   "cell_type": "code",
   "execution_count": 25,
   "id": "78b85272",
   "metadata": {},
   "outputs": [],
   "source": [
    "cv = CountVectorizer()\n",
    "cv.fit(x)\n",
    "cv_transform= cv.transform(x)"
   ]
  },
  {
   "cell_type": "code",
   "execution_count": 26,
   "id": "a4f5114c",
   "metadata": {},
   "outputs": [
    {
     "data": {
      "text/plain": [
       "<125x984 sparse matrix of type '<class 'numpy.int64'>'\n",
       "\twith 1685 stored elements in Compressed Sparse Row format>"
      ]
     },
     "execution_count": 26,
     "metadata": {},
     "output_type": "execute_result"
    }
   ],
   "source": [
    "cv_transform"
   ]
  },
  {
   "cell_type": "code",
   "execution_count": 27,
   "id": "5740f82e",
   "metadata": {},
   "outputs": [
    {
     "data": {
      "text/plain": [
       "array([[0, 1, 0, ..., 0, 0, 0],\n",
       "       [1, 0, 0, ..., 0, 0, 0],\n",
       "       [0, 0, 0, ..., 0, 0, 0],\n",
       "       ...,\n",
       "       [0, 0, 0, ..., 0, 0, 0],\n",
       "       [0, 0, 0, ..., 0, 0, 0],\n",
       "       [0, 0, 0, ..., 0, 0, 0]], dtype=int64)"
      ]
     },
     "execution_count": 27,
     "metadata": {},
     "output_type": "execute_result"
    }
   ],
   "source": [
    "cv_transform.toarray()"
   ]
  },
  {
   "cell_type": "code",
   "execution_count": 28,
   "id": "c8cedcd4",
   "metadata": {},
   "outputs": [
    {
     "data": {
      "text/html": [
       "<div>\n",
       "<style scoped>\n",
       "    .dataframe tbody tr th:only-of-type {\n",
       "        vertical-align: middle;\n",
       "    }\n",
       "\n",
       "    .dataframe tbody tr th {\n",
       "        vertical-align: top;\n",
       "    }\n",
       "\n",
       "    .dataframe thead th {\n",
       "        text-align: right;\n",
       "    }\n",
       "</style>\n",
       "<table border=\"1\" class=\"dataframe\">\n",
       "  <thead>\n",
       "    <tr style=\"text-align: right;\">\n",
       "      <th></th>\n",
       "      <th>000</th>\n",
       "      <th>0207</th>\n",
       "      <th>021</th>\n",
       "      <th>03</th>\n",
       "      <th>07046744435</th>\n",
       "      <th>07123456789</th>\n",
       "      <th>07732584351</th>\n",
       "      <th>07742676969</th>\n",
       "      <th>0800</th>\n",
       "      <th>08000839402</th>\n",
       "      <th>...</th>\n",
       "      <th>xxxx</th>\n",
       "      <th>ya</th>\n",
       "      <th>yahoo</th>\n",
       "      <th>year</th>\n",
       "      <th>years</th>\n",
       "      <th>yer</th>\n",
       "      <th>yes</th>\n",
       "      <th>yet</th>\n",
       "      <th>yo</th>\n",
       "      <th>yr</th>\n",
       "    </tr>\n",
       "  </thead>\n",
       "  <tbody>\n",
       "    <tr>\n",
       "      <th>0</th>\n",
       "      <td>0</td>\n",
       "      <td>1</td>\n",
       "      <td>0</td>\n",
       "      <td>0</td>\n",
       "      <td>0</td>\n",
       "      <td>0</td>\n",
       "      <td>0</td>\n",
       "      <td>0</td>\n",
       "      <td>0</td>\n",
       "      <td>0</td>\n",
       "      <td>...</td>\n",
       "      <td>0</td>\n",
       "      <td>0</td>\n",
       "      <td>0</td>\n",
       "      <td>0</td>\n",
       "      <td>0</td>\n",
       "      <td>0</td>\n",
       "      <td>0</td>\n",
       "      <td>0</td>\n",
       "      <td>0</td>\n",
       "      <td>0</td>\n",
       "    </tr>\n",
       "    <tr>\n",
       "      <th>1</th>\n",
       "      <td>1</td>\n",
       "      <td>0</td>\n",
       "      <td>0</td>\n",
       "      <td>0</td>\n",
       "      <td>0</td>\n",
       "      <td>0</td>\n",
       "      <td>0</td>\n",
       "      <td>0</td>\n",
       "      <td>1</td>\n",
       "      <td>0</td>\n",
       "      <td>...</td>\n",
       "      <td>0</td>\n",
       "      <td>0</td>\n",
       "      <td>0</td>\n",
       "      <td>0</td>\n",
       "      <td>0</td>\n",
       "      <td>0</td>\n",
       "      <td>0</td>\n",
       "      <td>0</td>\n",
       "      <td>0</td>\n",
       "      <td>0</td>\n",
       "    </tr>\n",
       "    <tr>\n",
       "      <th>2</th>\n",
       "      <td>0</td>\n",
       "      <td>0</td>\n",
       "      <td>0</td>\n",
       "      <td>0</td>\n",
       "      <td>0</td>\n",
       "      <td>0</td>\n",
       "      <td>0</td>\n",
       "      <td>0</td>\n",
       "      <td>0</td>\n",
       "      <td>0</td>\n",
       "      <td>...</td>\n",
       "      <td>0</td>\n",
       "      <td>0</td>\n",
       "      <td>0</td>\n",
       "      <td>0</td>\n",
       "      <td>0</td>\n",
       "      <td>0</td>\n",
       "      <td>0</td>\n",
       "      <td>0</td>\n",
       "      <td>0</td>\n",
       "      <td>0</td>\n",
       "    </tr>\n",
       "    <tr>\n",
       "      <th>3</th>\n",
       "      <td>0</td>\n",
       "      <td>0</td>\n",
       "      <td>0</td>\n",
       "      <td>0</td>\n",
       "      <td>0</td>\n",
       "      <td>0</td>\n",
       "      <td>0</td>\n",
       "      <td>0</td>\n",
       "      <td>0</td>\n",
       "      <td>0</td>\n",
       "      <td>...</td>\n",
       "      <td>0</td>\n",
       "      <td>0</td>\n",
       "      <td>0</td>\n",
       "      <td>0</td>\n",
       "      <td>0</td>\n",
       "      <td>0</td>\n",
       "      <td>0</td>\n",
       "      <td>0</td>\n",
       "      <td>0</td>\n",
       "      <td>0</td>\n",
       "    </tr>\n",
       "    <tr>\n",
       "      <th>4</th>\n",
       "      <td>0</td>\n",
       "      <td>0</td>\n",
       "      <td>0</td>\n",
       "      <td>0</td>\n",
       "      <td>0</td>\n",
       "      <td>0</td>\n",
       "      <td>0</td>\n",
       "      <td>0</td>\n",
       "      <td>0</td>\n",
       "      <td>0</td>\n",
       "      <td>...</td>\n",
       "      <td>0</td>\n",
       "      <td>0</td>\n",
       "      <td>0</td>\n",
       "      <td>0</td>\n",
       "      <td>0</td>\n",
       "      <td>0</td>\n",
       "      <td>0</td>\n",
       "      <td>0</td>\n",
       "      <td>0</td>\n",
       "      <td>0</td>\n",
       "    </tr>\n",
       "  </tbody>\n",
       "</table>\n",
       "<p>5 rows × 984 columns</p>\n",
       "</div>"
      ],
      "text/plain": [
       "   000  0207  021  03  07046744435  07123456789  07732584351  07742676969  \\\n",
       "0    0     1    0   0            0            0            0            0   \n",
       "1    1     0    0   0            0            0            0            0   \n",
       "2    0     0    0   0            0            0            0            0   \n",
       "3    0     0    0   0            0            0            0            0   \n",
       "4    0     0    0   0            0            0            0            0   \n",
       "\n",
       "   0800  08000839402  ...  xxxx  ya  yahoo  year  years  yer  yes  yet  yo  yr  \n",
       "0     0            0  ...     0   0      0     0      0    0    0    0   0   0  \n",
       "1     1            0  ...     0   0      0     0      0    0    0    0   0   0  \n",
       "2     0            0  ...     0   0      0     0      0    0    0    0   0   0  \n",
       "3     0            0  ...     0   0      0     0      0    0    0    0   0   0  \n",
       "4     0            0  ...     0   0      0     0      0    0    0    0   0   0  \n",
       "\n",
       "[5 rows x 984 columns]"
      ]
     },
     "execution_count": 28,
     "metadata": {},
     "output_type": "execute_result"
    }
   ],
   "source": [
    "pd.DataFrame(cv_transform.toarray(), \n",
    "             columns=cv.get_feature_names_out()).head()"
   ]
  },
  {
   "cell_type": "code",
   "execution_count": 29,
   "id": "80ceab05",
   "metadata": {},
   "outputs": [],
   "source": [
    "from sklearn.feature_extraction.text import TfidfTransformer"
   ]
  },
  {
   "cell_type": "code",
   "execution_count": 30,
   "id": "07c7105f",
   "metadata": {},
   "outputs": [],
   "source": [
    "tf= TfidfTransformer()\n",
    "tf_fit = tf.fit(cv_transform)\n",
    "x_tf_transform = tf_fit.transform(cv_transform)"
   ]
  },
  {
   "cell_type": "code",
   "execution_count": 31,
   "id": "afc59f44",
   "metadata": {},
   "outputs": [
    {
     "data": {
      "text/html": [
       "<div>\n",
       "<style scoped>\n",
       "    .dataframe tbody tr th:only-of-type {\n",
       "        vertical-align: middle;\n",
       "    }\n",
       "\n",
       "    .dataframe tbody tr th {\n",
       "        vertical-align: top;\n",
       "    }\n",
       "\n",
       "    .dataframe thead th {\n",
       "        text-align: right;\n",
       "    }\n",
       "</style>\n",
       "<table border=\"1\" class=\"dataframe\">\n",
       "  <thead>\n",
       "    <tr style=\"text-align: right;\">\n",
       "      <th></th>\n",
       "      <th>000</th>\n",
       "      <th>0207</th>\n",
       "      <th>021</th>\n",
       "      <th>03</th>\n",
       "      <th>07046744435</th>\n",
       "      <th>07123456789</th>\n",
       "      <th>07732584351</th>\n",
       "      <th>07742676969</th>\n",
       "      <th>0800</th>\n",
       "      <th>08000839402</th>\n",
       "      <th>...</th>\n",
       "      <th>xxxx</th>\n",
       "      <th>ya</th>\n",
       "      <th>yahoo</th>\n",
       "      <th>year</th>\n",
       "      <th>years</th>\n",
       "      <th>yer</th>\n",
       "      <th>yes</th>\n",
       "      <th>yet</th>\n",
       "      <th>yo</th>\n",
       "      <th>yr</th>\n",
       "    </tr>\n",
       "  </thead>\n",
       "  <tbody>\n",
       "    <tr>\n",
       "      <th>0</th>\n",
       "      <td>0.000000</td>\n",
       "      <td>0.254955</td>\n",
       "      <td>0.0</td>\n",
       "      <td>0.0</td>\n",
       "      <td>0.0</td>\n",
       "      <td>0.0</td>\n",
       "      <td>0.0</td>\n",
       "      <td>0.0</td>\n",
       "      <td>0.00000</td>\n",
       "      <td>0.0</td>\n",
       "      <td>...</td>\n",
       "      <td>0.0</td>\n",
       "      <td>0.0</td>\n",
       "      <td>0.0</td>\n",
       "      <td>0.0</td>\n",
       "      <td>0.0</td>\n",
       "      <td>0.0</td>\n",
       "      <td>0.0</td>\n",
       "      <td>0.0</td>\n",
       "      <td>0.0</td>\n",
       "      <td>0.0</td>\n",
       "    </tr>\n",
       "    <tr>\n",
       "      <th>1</th>\n",
       "      <td>0.201213</td>\n",
       "      <td>0.000000</td>\n",
       "      <td>0.0</td>\n",
       "      <td>0.0</td>\n",
       "      <td>0.0</td>\n",
       "      <td>0.0</td>\n",
       "      <td>0.0</td>\n",
       "      <td>0.0</td>\n",
       "      <td>0.22553</td>\n",
       "      <td>0.0</td>\n",
       "      <td>...</td>\n",
       "      <td>0.0</td>\n",
       "      <td>0.0</td>\n",
       "      <td>0.0</td>\n",
       "      <td>0.0</td>\n",
       "      <td>0.0</td>\n",
       "      <td>0.0</td>\n",
       "      <td>0.0</td>\n",
       "      <td>0.0</td>\n",
       "      <td>0.0</td>\n",
       "      <td>0.0</td>\n",
       "    </tr>\n",
       "    <tr>\n",
       "      <th>2</th>\n",
       "      <td>0.000000</td>\n",
       "      <td>0.000000</td>\n",
       "      <td>0.0</td>\n",
       "      <td>0.0</td>\n",
       "      <td>0.0</td>\n",
       "      <td>0.0</td>\n",
       "      <td>0.0</td>\n",
       "      <td>0.0</td>\n",
       "      <td>0.00000</td>\n",
       "      <td>0.0</td>\n",
       "      <td>...</td>\n",
       "      <td>0.0</td>\n",
       "      <td>0.0</td>\n",
       "      <td>0.0</td>\n",
       "      <td>0.0</td>\n",
       "      <td>0.0</td>\n",
       "      <td>0.0</td>\n",
       "      <td>0.0</td>\n",
       "      <td>0.0</td>\n",
       "      <td>0.0</td>\n",
       "      <td>0.0</td>\n",
       "    </tr>\n",
       "    <tr>\n",
       "      <th>3</th>\n",
       "      <td>0.000000</td>\n",
       "      <td>0.000000</td>\n",
       "      <td>0.0</td>\n",
       "      <td>0.0</td>\n",
       "      <td>0.0</td>\n",
       "      <td>0.0</td>\n",
       "      <td>0.0</td>\n",
       "      <td>0.0</td>\n",
       "      <td>0.00000</td>\n",
       "      <td>0.0</td>\n",
       "      <td>...</td>\n",
       "      <td>0.0</td>\n",
       "      <td>0.0</td>\n",
       "      <td>0.0</td>\n",
       "      <td>0.0</td>\n",
       "      <td>0.0</td>\n",
       "      <td>0.0</td>\n",
       "      <td>0.0</td>\n",
       "      <td>0.0</td>\n",
       "      <td>0.0</td>\n",
       "      <td>0.0</td>\n",
       "    </tr>\n",
       "    <tr>\n",
       "      <th>4</th>\n",
       "      <td>0.000000</td>\n",
       "      <td>0.000000</td>\n",
       "      <td>0.0</td>\n",
       "      <td>0.0</td>\n",
       "      <td>0.0</td>\n",
       "      <td>0.0</td>\n",
       "      <td>0.0</td>\n",
       "      <td>0.0</td>\n",
       "      <td>0.00000</td>\n",
       "      <td>0.0</td>\n",
       "      <td>...</td>\n",
       "      <td>0.0</td>\n",
       "      <td>0.0</td>\n",
       "      <td>0.0</td>\n",
       "      <td>0.0</td>\n",
       "      <td>0.0</td>\n",
       "      <td>0.0</td>\n",
       "      <td>0.0</td>\n",
       "      <td>0.0</td>\n",
       "      <td>0.0</td>\n",
       "      <td>0.0</td>\n",
       "    </tr>\n",
       "  </tbody>\n",
       "</table>\n",
       "<p>5 rows × 984 columns</p>\n",
       "</div>"
      ],
      "text/plain": [
       "        000      0207  021   03  07046744435  07123456789  07732584351  \\\n",
       "0  0.000000  0.254955  0.0  0.0          0.0          0.0          0.0   \n",
       "1  0.201213  0.000000  0.0  0.0          0.0          0.0          0.0   \n",
       "2  0.000000  0.000000  0.0  0.0          0.0          0.0          0.0   \n",
       "3  0.000000  0.000000  0.0  0.0          0.0          0.0          0.0   \n",
       "4  0.000000  0.000000  0.0  0.0          0.0          0.0          0.0   \n",
       "\n",
       "   07742676969     0800  08000839402  ...  xxxx   ya  yahoo  year  years  yer  \\\n",
       "0          0.0  0.00000          0.0  ...   0.0  0.0    0.0   0.0    0.0  0.0   \n",
       "1          0.0  0.22553          0.0  ...   0.0  0.0    0.0   0.0    0.0  0.0   \n",
       "2          0.0  0.00000          0.0  ...   0.0  0.0    0.0   0.0    0.0  0.0   \n",
       "3          0.0  0.00000          0.0  ...   0.0  0.0    0.0   0.0    0.0  0.0   \n",
       "4          0.0  0.00000          0.0  ...   0.0  0.0    0.0   0.0    0.0  0.0   \n",
       "\n",
       "   yes  yet   yo   yr  \n",
       "0  0.0  0.0  0.0  0.0  \n",
       "1  0.0  0.0  0.0  0.0  \n",
       "2  0.0  0.0  0.0  0.0  \n",
       "3  0.0  0.0  0.0  0.0  \n",
       "4  0.0  0.0  0.0  0.0  \n",
       "\n",
       "[5 rows x 984 columns]"
      ]
     },
     "execution_count": 31,
     "metadata": {},
     "output_type": "execute_result"
    }
   ],
   "source": [
    "pd.DataFrame(x_tf_transform.toarray(),columns = cv.get_feature_names_out()).head()"
   ]
  },
  {
   "cell_type": "code",
   "execution_count": 32,
   "id": "9852ce1b",
   "metadata": {},
   "outputs": [],
   "source": [
    "from sklearn.naive_bayes import MultinomialNB"
   ]
  },
  {
   "cell_type": "code",
   "execution_count": 33,
   "id": "31f2692c",
   "metadata": {},
   "outputs": [],
   "source": [
    "clf = MultinomialNB()\n",
    "Model=clf.fit(x_tf_transform, y)"
   ]
  },
  {
   "cell_type": "code",
   "execution_count": 34,
   "id": "38089896",
   "metadata": {},
   "outputs": [
    {
     "data": {
      "text/plain": [
       "array(['non spam'], dtype='<U8')"
      ]
     },
     "execution_count": 34,
     "metadata": {},
     "output_type": "execute_result"
    }
   ],
   "source": [
    "Model.predict(cv.transform(\n",
    "    [\"Wow didn't think it was that common. I take it all back ur not a freak! Unless u chop it off:-)\"]))"
   ]
  },
  {
   "cell_type": "code",
   "execution_count": 35,
   "id": "47f8df26",
   "metadata": {},
   "outputs": [
    {
     "data": {
      "text/plain": [
       "array(['spam'], dtype='<U8')"
      ]
     },
     "execution_count": 35,
     "metadata": {},
     "output_type": "execute_result"
    }
   ],
   "source": [
    "Model.predict(cv.transform(\n",
    "    [\"You have lost 1 Millian $\"]))"
   ]
  },
  {
   "cell_type": "code",
   "execution_count": 36,
   "id": "fdabb744",
   "metadata": {},
   "outputs": [
    {
     "data": {
      "text/plain": [
       "array(['spam'], dtype='<U8')"
      ]
     },
     "execution_count": 36,
     "metadata": {},
     "output_type": "execute_result"
    }
   ],
   "source": [
    "Model.predict(cv.transform(\n",
    "    [\"Your salary is debited to your account\"]))"
   ]
  },
  {
   "cell_type": "code",
   "execution_count": 37,
   "id": "ffe8a135",
   "metadata": {},
   "outputs": [
    {
     "data": {
      "text/plain": [
       "array(['spam'], dtype='<U8')"
      ]
     },
     "execution_count": 37,
     "metadata": {},
     "output_type": "execute_result"
    }
   ],
   "source": [
    "Model.predict(cv.transform(\n",
    "    [\"This is cat not dog\"]))"
   ]
  },
  {
   "cell_type": "code",
   "execution_count": 38,
   "id": "7f4d94f0",
   "metadata": {},
   "outputs": [
    {
     "data": {
      "text/plain": [
       "array(['non spam'], dtype='<U8')"
      ]
     },
     "execution_count": 38,
     "metadata": {},
     "output_type": "execute_result"
    }
   ],
   "source": [
    "Model.predict(cv.transform(\n",
    "    [\"This model is not good\"]))"
   ]
  },
  {
   "cell_type": "code",
   "execution_count": 39,
   "id": "d03219fe",
   "metadata": {},
   "outputs": [
    {
     "data": {
      "text/plain": [
       "array(['spam'], dtype='<U8')"
      ]
     },
     "execution_count": 39,
     "metadata": {},
     "output_type": "execute_result"
    }
   ],
   "source": [
    "Model.predict(cv.transform(\n",
    "    [\"Isq ne sathiya, mera Hala kya kar diya\"]))"
   ]
  },
  {
   "cell_type": "code",
   "execution_count": 40,
   "id": "31f3939e",
   "metadata": {},
   "outputs": [
    {
     "data": {
      "text/plain": [
       "array(['non spam'], dtype='<U8')"
      ]
     },
     "execution_count": 40,
     "metadata": {},
     "output_type": "execute_result"
    }
   ],
   "source": [
    "Model.predict(cv.transform(\n",
    "    [\"Describe the issue linked to the documentation.It is becoming increasingly difficult to work with different versions of the package due to the habit of scikit to force Deprecation and Future warning even for modules that are not directly called or invoked during execution. In particular I am working with the following environment\"]))"
   ]
  },
  {
   "cell_type": "code",
   "execution_count": 41,
   "id": "dc8de172",
   "metadata": {},
   "outputs": [
    {
     "data": {
      "text/plain": [
       "array(['spam'], dtype='<U8')"
      ]
     },
     "execution_count": 41,
     "metadata": {},
     "output_type": "execute_result"
    }
   ],
   "source": [
    "Model.predict(cv.transform(\n",
    "    [\"Isq ne sathiya, mera Hala kya kar diya\"]))"
   ]
  },
  {
   "cell_type": "code",
   "execution_count": 42,
   "id": "8eb828c6",
   "metadata": {},
   "outputs": [
    {
     "data": {
      "text/plain": [
       "array(['non spam'], dtype='<U8')"
      ]
     },
     "execution_count": 42,
     "metadata": {},
     "output_type": "execute_result"
    }
   ],
   "source": [
    "Model.predict(cv.transform(\n",
    "    [\"Deprecated: Read and write audio files in AIFF or AIFC format.\"]))"
   ]
  },
  {
   "cell_type": "code",
   "execution_count": 43,
   "id": "29f31e21",
   "metadata": {},
   "outputs": [
    {
     "data": {
      "text/plain": [
       "array(['spam'], dtype='<U8')"
      ]
     },
     "execution_count": 43,
     "metadata": {},
     "output_type": "execute_result"
    }
   ],
   "source": [
    "Model.predict(cv.transform(\n",
    "    [\"Command line option and argument parsing library\"]))"
   ]
  },
  {
   "cell_type": "code",
   "execution_count": 44,
   "id": "f9d2839f",
   "metadata": {},
   "outputs": [
    {
     "data": {
      "text/plain": [
       "array(['non spam'], dtype='<U8')"
      ]
     },
     "execution_count": 44,
     "metadata": {},
     "output_type": "execute_result"
    }
   ],
   "source": [
    "Model.predict(cv.transform(\n",
    "    [\"piss, talking, someone, realise, u, point,\"]))"
   ]
  },
  {
   "cell_type": "code",
   "execution_count": 45,
   "id": "0466d1a7",
   "metadata": {},
   "outputs": [
    {
     "data": {
      "text/plain": [
       "array(['spam', 'spam'], dtype='<U8')"
      ]
     },
     "execution_count": 45,
     "metadata": {},
     "output_type": "execute_result"
    }
   ],
   "source": [
    "Model.predict(cv.transform(\n",
    "    [\"Dog,cat, bat\",'Cat']))"
   ]
  },
  {
   "cell_type": "code",
   "execution_count": 46,
   "id": "3ce1dd26",
   "metadata": {},
   "outputs": [],
   "source": [
    "import pickle\n",
    "pickle.dump(cv, open('cv.pkl', 'wb'))\n",
    "pickle.dump(Model, open('Model.pkl', 'wb'))"
   ]
  },
  {
   "cell_type": "code",
   "execution_count": 47,
   "id": "167e8497",
   "metadata": {},
   "outputs": [
    {
     "data": {
      "text/plain": [
       "'E:\\\\Angel Al'"
      ]
     },
     "execution_count": 47,
     "metadata": {},
     "output_type": "execute_result"
    }
   ],
   "source": [
    "pwd()"
   ]
  },
  {
   "cell_type": "code",
   "execution_count": null,
   "id": "d4399dc5",
   "metadata": {},
   "outputs": [
    {
     "name": "stdout",
     "output_type": "stream",
     "text": [
      " * Serving Flask app '__main__' (lazy loading)\n",
      " * Environment: production\n",
      "\u001b[31m   WARNING: This is a development server. Do not use it in a production deployment.\u001b[0m\n",
      "\u001b[2m   Use a production WSGI server instead.\u001b[0m\n",
      " * Debug mode: off\n"
     ]
    },
    {
     "name": "stderr",
     "output_type": "stream",
     "text": [
      " * Running on http://127.0.0.1:5000 (Press CTRL+C to quit)\n",
      "127.0.0.1 - - [12/Apr/2022 18:40:37] \"GET / HTTP/1.1\" 200 -\n",
      "127.0.0.1 - - [12/Apr/2022 18:40:37] \"GET /favicon.ico HTTP/1.1\" 404 -\n",
      "127.0.0.1 - - [12/Apr/2022 18:40:59] \"POST /Label HTTP/1.1\" 200 -\n",
      "127.0.0.1 - - [12/Apr/2022 18:40:59] \"GET /favicon.ico HTTP/1.1\" 404 -\n"
     ]
    }
   ],
   "source": [
    "from flask import Flask, render_template, request\n",
    "import pickle\n",
    "\n",
    "app = Flask(__name__, template_folder=r\"E:\\Angel Al\\templates\")\n",
    "clf = pickle.load(open('Model.pkl', \"rb\"))\n",
    "cv = pickle.load(open(\"cv.pkl\", \"rb\"))\n",
    "\n",
    "\n",
    "@app.route('/')\n",
    "def Model():\n",
    "    return render_template('Model.html')\n",
    "\n",
    "\n",
    "@app.route('/Label', methods=['POST', 'GET'])\n",
    "def Label():\n",
    "    if request.method == 'POST':\n",
    "        #HTML ->.py\n",
    "        result = request.form['Data']\n",
    "        result_pred = clf.predict(cv.transform([result]))\n",
    "    #.py -> HTML\n",
    "    return render_template(\"Label.html\", result=result_pred)\n",
    "\n",
    "\n",
    "if __name__ == '__main__':\n",
    "    app.run()"
   ]
  },
  {
   "cell_type": "code",
   "execution_count": null,
   "id": "72ac6873",
   "metadata": {},
   "outputs": [],
   "source": [
    "quit()"
   ]
  }
 ],
 "metadata": {
  "kernelspec": {
   "display_name": "Python 3 (ipykernel)",
   "language": "python",
   "name": "python3"
  },
  "language_info": {
   "codemirror_mode": {
    "name": "ipython",
    "version": 3
   },
   "file_extension": ".py",
   "mimetype": "text/x-python",
   "name": "python",
   "nbconvert_exporter": "python",
   "pygments_lexer": "ipython3",
   "version": "3.10.4"
  }
 },
 "nbformat": 4,
 "nbformat_minor": 5
}
