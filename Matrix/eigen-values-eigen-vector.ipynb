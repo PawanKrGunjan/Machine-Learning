{
 "cells": [
  {
   "cell_type": "code",
   "execution_count": 1,
   "id": "ea50a20d",
   "metadata": {
    "_cell_guid": "b1076dfc-b9ad-4769-8c92-a6c4dae69d19",
    "_uuid": "8f2839f25d086af736a60e9eeb907d3b93b6e0e5",
    "execution": {
     "iopub.execute_input": "2023-10-05T10:22:18.317011Z",
     "iopub.status.busy": "2023-10-05T10:22:18.316352Z",
     "iopub.status.idle": "2023-10-05T10:22:18.975486Z",
     "shell.execute_reply": "2023-10-05T10:22:18.974648Z"
    },
    "papermill": {
     "duration": 0.666728,
     "end_time": "2023-10-05T10:22:18.977754",
     "exception": false,
     "start_time": "2023-10-05T10:22:18.311026",
     "status": "completed"
    },
    "tags": []
   },
   "outputs": [],
   "source": [
    "import sympy as sp\n",
    "import numpy as np"
   ]
  },
  {
   "cell_type": "code",
   "execution_count": 2,
   "id": "70722944",
   "metadata": {
    "execution": {
     "iopub.execute_input": "2023-10-05T10:22:18.987794Z",
     "iopub.status.busy": "2023-10-05T10:22:18.987011Z",
     "iopub.status.idle": "2023-10-05T10:22:18.996244Z",
     "shell.execute_reply": "2023-10-05T10:22:18.995215Z"
    },
    "papermill": {
     "duration": 0.015305,
     "end_time": "2023-10-05T10:22:18.998137",
     "exception": false,
     "start_time": "2023-10-05T10:22:18.982832",
     "status": "completed"
    },
    "tags": []
   },
   "outputs": [
    {
     "data": {
      "text/plain": [
       "array([[ 4, 11, 14],\n",
       "       [ 8,  7, -2]])"
      ]
     },
     "execution_count": 2,
     "metadata": {},
     "output_type": "execute_result"
    }
   ],
   "source": [
    "A = np.array([[4,11,14],\n",
    "              [8,7,-2]])\n",
    "A"
   ]
  },
  {
   "cell_type": "code",
   "execution_count": 3,
   "id": "cbe04877",
   "metadata": {
    "execution": {
     "iopub.execute_input": "2023-10-05T10:22:19.006472Z",
     "iopub.status.busy": "2023-10-05T10:22:19.005547Z",
     "iopub.status.idle": "2023-10-05T10:22:19.011864Z",
     "shell.execute_reply": "2023-10-05T10:22:19.011062Z"
    },
    "papermill": {
     "duration": 0.012143,
     "end_time": "2023-10-05T10:22:19.013563",
     "exception": false,
     "start_time": "2023-10-05T10:22:19.001420",
     "status": "completed"
    },
    "tags": []
   },
   "outputs": [
    {
     "data": {
      "text/plain": [
       "array([[ 80, 100,  40],\n",
       "       [100, 170, 140],\n",
       "       [ 40, 140, 200]])"
      ]
     },
     "execution_count": 3,
     "metadata": {},
     "output_type": "execute_result"
    }
   ],
   "source": [
    "Z =A.T@A\n",
    "Z"
   ]
  },
  {
   "cell_type": "markdown",
   "id": "9d256667",
   "metadata": {
    "papermill": {
     "duration": 0.003034,
     "end_time": "2023-10-05T10:22:19.019955",
     "exception": false,
     "start_time": "2023-10-05T10:22:19.016921",
     "status": "completed"
    },
    "tags": []
   },
   "source": [
    "# Eigen Values & Eigen Vector\n",
    "\n",
    "* **(Z-λI)X = 0**\n",
    "* ** |Z-λI|=0**\n",
    "\n",
    "x = Eigen Vector\n",
    "λ = Eigen Values"
   ]
  },
  {
   "cell_type": "code",
   "execution_count": 4,
   "id": "3e36ba21",
   "metadata": {
    "execution": {
     "iopub.execute_input": "2023-10-05T10:22:19.028068Z",
     "iopub.status.busy": "2023-10-05T10:22:19.027228Z",
     "iopub.status.idle": "2023-10-05T10:22:19.087761Z",
     "shell.execute_reply": "2023-10-05T10:22:19.086762Z"
    },
    "papermill": {
     "duration": 0.066735,
     "end_time": "2023-10-05T10:22:19.089862",
     "exception": false,
     "start_time": "2023-10-05T10:22:19.023127",
     "status": "completed"
    },
    "tags": []
   },
   "outputs": [
    {
     "data": {
      "text/latex": [
       "$\\displaystyle \\left[\\begin{matrix}80 - 1.0 λ & 100 & 40\\\\100 & 170 - 1.0 λ & 140\\\\40 & 140 & 200 - 1.0 λ\\end{matrix}\\right]$"
      ],
      "text/plain": [
       "Matrix([\n",
       "[80 - 1.0*λ,         100,          40],\n",
       "[       100, 170 - 1.0*λ,         140],\n",
       "[        40,         140, 200 - 1.0*λ]])"
      ]
     },
     "execution_count": 4,
     "metadata": {},
     "output_type": "execute_result"
    }
   ],
   "source": [
    "# Define the symbolic variables\n",
    "λ = sp.symbols('λ')\n",
    "\n",
    "I = np.identity(Z.shape[1])\n",
    "\n",
    "# Define Z-λI\n",
    "Zz = sp.Matrix(Z-λ*I)\n",
    "Zz"
   ]
  },
  {
   "cell_type": "code",
   "execution_count": 5,
   "id": "e68f3f18",
   "metadata": {
    "execution": {
     "iopub.execute_input": "2023-10-05T10:22:19.098117Z",
     "iopub.status.busy": "2023-10-05T10:22:19.097799Z",
     "iopub.status.idle": "2023-10-05T10:22:19.120368Z",
     "shell.execute_reply": "2023-10-05T10:22:19.119116Z"
    },
    "papermill": {
     "duration": 0.028918,
     "end_time": "2023-10-05T10:22:19.122265",
     "exception": false,
     "start_time": "2023-10-05T10:22:19.093347",
     "status": "completed"
    },
    "tags": []
   },
   "outputs": [
    {
     "data": {
      "text/latex": [
       "$\\displaystyle - 1.0 λ^{3} + 450.0 λ^{2} - 32400.0 λ$"
      ],
      "text/plain": [
       "-1.0*λ**3 + 450.0*λ**2 - 32400.0*λ"
      ]
     },
     "execution_count": 5,
     "metadata": {},
     "output_type": "execute_result"
    }
   ],
   "source": [
    "# Compute the determinant |Z-λI|\n",
    "determinant_Z_ = Zz.det()\n",
    "determinant_Z_"
   ]
  },
  {
   "cell_type": "code",
   "execution_count": 6,
   "id": "0ab96272",
   "metadata": {
    "execution": {
     "iopub.execute_input": "2023-10-05T10:22:19.130957Z",
     "iopub.status.busy": "2023-10-05T10:22:19.130450Z",
     "iopub.status.idle": "2023-10-05T10:22:19.169166Z",
     "shell.execute_reply": "2023-10-05T10:22:19.168236Z"
    },
    "papermill": {
     "duration": 0.045237,
     "end_time": "2023-10-05T10:22:19.171089",
     "exception": false,
     "start_time": "2023-10-05T10:22:19.125852",
     "status": "completed"
    },
    "tags": []
   },
   "outputs": [
    {
     "data": {
      "text/plain": [
       "[0.0, 90.0000000000000, 360.000000000000]"
      ]
     },
     "execution_count": 6,
     "metadata": {},
     "output_type": "execute_result"
    }
   ],
   "source": [
    "# Set the determinant equal to zero and solve for x\n",
    "eigen_values = sp.solve(determinant_Z_, λ)\n",
    "eigen_values"
   ]
  },
  {
   "cell_type": "code",
   "execution_count": 7,
   "id": "318b8666",
   "metadata": {
    "execution": {
     "iopub.execute_input": "2023-10-05T10:22:19.180800Z",
     "iopub.status.busy": "2023-10-05T10:22:19.179620Z",
     "iopub.status.idle": "2023-10-05T10:22:19.187439Z",
     "shell.execute_reply": "2023-10-05T10:22:19.186510Z"
    },
    "papermill": {
     "duration": 0.014625,
     "end_time": "2023-10-05T10:22:19.189492",
     "exception": false,
     "start_time": "2023-10-05T10:22:19.174867",
     "status": "completed"
    },
    "tags": []
   },
   "outputs": [
    {
     "data": {
      "text/latex": [
       "$\\displaystyle \\left[\\begin{matrix}u\\\\v\\\\w\\end{matrix}\\right]$"
      ],
      "text/plain": [
       "Matrix([\n",
       "[u],\n",
       "[v],\n",
       "[w]])"
      ]
     },
     "execution_count": 7,
     "metadata": {},
     "output_type": "execute_result"
    }
   ],
   "source": [
    "# Define the symbolic variables\n",
    "v1, v2, v3 = sp.symbols('u v w')\n",
    "vec = sp.Matrix([v1, v2, v3])\n",
    "vec"
   ]
  },
  {
   "cell_type": "markdown",
   "id": "05832f8f",
   "metadata": {
    "papermill": {
     "duration": 0.003654,
     "end_time": "2023-10-05T10:22:19.197068",
     "exception": false,
     "start_time": "2023-10-05T10:22:19.193414",
     "status": "completed"
    },
    "tags": []
   },
   "source": [
    "# Eigen Vector"
   ]
  },
  {
   "cell_type": "code",
   "execution_count": 8,
   "id": "8363120b",
   "metadata": {
    "execution": {
     "iopub.execute_input": "2023-10-05T10:22:19.206723Z",
     "iopub.status.busy": "2023-10-05T10:22:19.206308Z",
     "iopub.status.idle": "2023-10-05T10:22:19.276412Z",
     "shell.execute_reply": "2023-10-05T10:22:19.275302Z"
    },
    "papermill": {
     "duration": 0.077791,
     "end_time": "2023-10-05T10:22:19.278717",
     "exception": false,
     "start_time": "2023-10-05T10:22:19.200926",
     "status": "completed"
    },
    "tags": []
   },
   "outputs": [
    {
     "name": "stdout",
     "output_type": "stream",
     "text": [
      "Matrix([[80*u + 100*v + 40*w], [100*u + 170*v + 140*w], [40*u + 140*v + 200*w]])\n",
      "Matrix([[-10.0*u + 100*v + 40*w], [100*u + 80.0*v + 140*w], [40*u + 140*v + 110.0*w]])\n",
      "Matrix([[-280.0*u + 100*v + 40*w], [100*u - 190.0*v + 140*w], [40*u + 140*v - 160.0*w]])\n"
     ]
    },
    {
     "data": {
      "text/plain": [
       "{'0.0': {u: 2*w, v: -2*w},\n",
       " '90.0000000000000': {u: -w, v: -0.5*w},\n",
       " '360.000000000000': {u: 0.5*w, v: w}}"
      ]
     },
     "execution_count": 8,
     "metadata": {},
     "output_type": "execute_result"
    }
   ],
   "source": [
    "# Compute the eigen vector\n",
    "eigen_vector={}\n",
    "for eigen_value in eigen_values:\n",
    "    eqn = (Z -eigen_value*I)@vec\n",
    "    print(eqn)\n",
    "    # Solve the equation for the vector (u, v, w)\n",
    "    solution = sp.solve(eqn, vec) \n",
    "\n",
    "    eigen_vector[str(eigen_value)]=solution\n",
    "    \n",
    "eigen_vector"
   ]
  },
  {
   "cell_type": "markdown",
   "id": "1a22ecd1",
   "metadata": {
    "papermill": {
     "duration": 0.003845,
     "end_time": "2023-10-05T10:22:19.286727",
     "exception": false,
     "start_time": "2023-10-05T10:22:19.282882",
     "status": "completed"
    },
    "tags": []
   },
   "source": [
    "# Cross Validations"
   ]
  },
  {
   "cell_type": "code",
   "execution_count": 9,
   "id": "1ab82e27",
   "metadata": {
    "execution": {
     "iopub.execute_input": "2023-10-05T10:22:19.296296Z",
     "iopub.status.busy": "2023-10-05T10:22:19.295940Z",
     "iopub.status.idle": "2023-10-05T10:22:19.304018Z",
     "shell.execute_reply": "2023-10-05T10:22:19.303092Z"
    },
    "papermill": {
     "duration": 0.015225,
     "end_time": "2023-10-05T10:22:19.305927",
     "exception": false,
     "start_time": "2023-10-05T10:22:19.290702",
     "status": "completed"
    },
    "tags": []
   },
   "outputs": [
    {
     "data": {
      "text/latex": [
       "$\\displaystyle \\left[\\begin{matrix}0\\\\0\\\\0\\end{matrix}\\right]$"
      ],
      "text/plain": [
       "Matrix([\n",
       "[0],\n",
       "[0],\n",
       "[0]])"
      ]
     },
     "execution_count": 9,
     "metadata": {},
     "output_type": "execute_result"
    }
   ],
   "source": [
    "eigen_value = 360\n",
    "w= 1\n",
    "u=0.5*w\n",
    "v = w\n",
    "\n",
    "(Z -eigen_value*I)@sp.Matrix([u, v, w])"
   ]
  },
  {
   "cell_type": "code",
   "execution_count": 10,
   "id": "f0c12c78",
   "metadata": {
    "execution": {
     "iopub.execute_input": "2023-10-05T10:22:19.315417Z",
     "iopub.status.busy": "2023-10-05T10:22:19.315086Z",
     "iopub.status.idle": "2023-10-05T10:22:19.322922Z",
     "shell.execute_reply": "2023-10-05T10:22:19.321888Z"
    },
    "papermill": {
     "duration": 0.015257,
     "end_time": "2023-10-05T10:22:19.325261",
     "exception": false,
     "start_time": "2023-10-05T10:22:19.310004",
     "status": "completed"
    },
    "tags": []
   },
   "outputs": [
    {
     "data": {
      "text/latex": [
       "$\\displaystyle \\left[\\begin{matrix}0\\\\0\\\\0\\end{matrix}\\right]$"
      ],
      "text/plain": [
       "Matrix([\n",
       "[0],\n",
       "[0],\n",
       "[0]])"
      ]
     },
     "execution_count": 10,
     "metadata": {},
     "output_type": "execute_result"
    }
   ],
   "source": [
    "eigen_value = 90\n",
    "w= 1\n",
    "u=-w\n",
    "v =-0.5* w\n",
    "\n",
    "(Z -eigen_value*I)@sp.Matrix([u, v, w])"
   ]
  },
  {
   "cell_type": "code",
   "execution_count": 11,
   "id": "6c49a124",
   "metadata": {
    "execution": {
     "iopub.execute_input": "2023-10-05T10:22:19.335870Z",
     "iopub.status.busy": "2023-10-05T10:22:19.335231Z",
     "iopub.status.idle": "2023-10-05T10:22:19.344366Z",
     "shell.execute_reply": "2023-10-05T10:22:19.343301Z"
    },
    "papermill": {
     "duration": 0.016894,
     "end_time": "2023-10-05T10:22:19.346497",
     "exception": false,
     "start_time": "2023-10-05T10:22:19.329603",
     "status": "completed"
    },
    "tags": []
   },
   "outputs": [
    {
     "data": {
      "text/latex": [
       "$\\displaystyle \\left[\\begin{matrix}0\\\\0\\\\0\\end{matrix}\\right]$"
      ],
      "text/plain": [
       "Matrix([\n",
       "[0],\n",
       "[0],\n",
       "[0]])"
      ]
     },
     "execution_count": 11,
     "metadata": {},
     "output_type": "execute_result"
    }
   ],
   "source": [
    "eigen_value = 0\n",
    "w= 1\n",
    "u=2*w\n",
    "v =-2* w\n",
    "\n",
    "(Z -eigen_value*I)@sp.Matrix([u, v, w])"
   ]
  }
 ],
 "metadata": {
  "kernelspec": {
   "display_name": "Python 3",
   "language": "python",
   "name": "python3"
  },
  "language_info": {
   "codemirror_mode": {
    "name": "ipython",
    "version": 3
   },
   "file_extension": ".py",
   "mimetype": "text/x-python",
   "name": "python",
   "nbconvert_exporter": "python",
   "pygments_lexer": "ipython3",
   "version": "3.10.12"
  },
  "papermill": {
   "default_parameters": {},
   "duration": 4.408228,
   "end_time": "2023-10-05T10:22:19.770592",
   "environment_variables": {},
   "exception": null,
   "input_path": "__notebook__.ipynb",
   "output_path": "__notebook__.ipynb",
   "parameters": {},
   "start_time": "2023-10-05T10:22:15.362364",
   "version": "2.4.0"
  }
 },
 "nbformat": 4,
 "nbformat_minor": 5
}
