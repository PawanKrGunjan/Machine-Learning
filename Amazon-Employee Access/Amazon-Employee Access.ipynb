{
 "cells": [
  {
   "cell_type": "markdown",
   "id": "a11d2e1c",
   "metadata": {},
   "source": [
    "<center>\n",
    "    <img src=\"https://play-lh.googleusercontent.com/G7jAks-PRl4d7IkL-s3Ir44nGyPq0Yh872N5UMwZYIJz4wG1Oj0DqoQjsAR5ddKZbQ=w412-h220-rw\"  />\n",
    "</center>"
   ]
  },
  {
   "cell_type": "markdown",
   "id": "7bd4e660",
   "metadata": {},
   "source": [
    "# Amazon.com - Employee Access\n",
    "\n",
    "Design an algorithm to accurately predict the access status to certain resources of employees."
   ]
  },
  {
   "cell_type": "markdown",
   "id": "f322d060",
   "metadata": {},
   "source": [
    "**Problem Statement Scenario:**\n",
    "\n",
    "When employees start working in an organisation, they first need to obtain the computer access necessary to fulfill their role. This access may allow employees to read/manipulate resources through various applications or web portals. It is assumed that employees fulfilling the functions of a given role will access the same or similar resources. Often, employees figure out the access they need as they encounter roadblocks during their daily work (such as, not being able to log into a reporting portal). A knowledgeable supervisor then takes time to manually grant the access needed to overcome these obstackes. As employees change roles within a company, this access discovery/revovery cycle wastes a huge amount of time and money.\n",
    "\n",
    "There is considerable amount of data regarding employees' roles within an organization and the resources to which they have access. Given the data related to current employees and their provisiones access, models can be built that automatically determine access privileges as employees enter and leave roles within a company. These auto-access models seek to minimize human involvement required to grant or revoke employee access."
   ]
  },
  {
   "cell_type": "code",
   "execution_count": 1,
   "id": "5fe144c9",
   "metadata": {},
   "outputs": [],
   "source": [
    "import numpy as np\n",
    "import pandas as pd"
   ]
  },
  {
   "cell_type": "code",
   "execution_count": 2,
   "id": "9deebeba",
   "metadata": {},
   "outputs": [],
   "source": [
    "df_train = pd.read_csv(\"train.csv\")\n",
    "df_test = pd.read_csv(\"test.csv\")"
   ]
  },
  {
   "cell_type": "code",
   "execution_count": 3,
   "id": "290300e4",
   "metadata": {},
   "outputs": [
    {
     "data": {
      "text/html": [
       "<div>\n",
       "<style scoped>\n",
       "    .dataframe tbody tr th:only-of-type {\n",
       "        vertical-align: middle;\n",
       "    }\n",
       "\n",
       "    .dataframe tbody tr th {\n",
       "        vertical-align: top;\n",
       "    }\n",
       "\n",
       "    .dataframe thead th {\n",
       "        text-align: right;\n",
       "    }\n",
       "</style>\n",
       "<table border=\"1\" class=\"dataframe\">\n",
       "  <thead>\n",
       "    <tr style=\"text-align: right;\">\n",
       "      <th></th>\n",
       "      <th>ACTION</th>\n",
       "      <th>RESOURCE</th>\n",
       "      <th>MGR_ID</th>\n",
       "      <th>ROLE_ROLLUP_1</th>\n",
       "      <th>ROLE_ROLLUP_2</th>\n",
       "      <th>ROLE_DEPTNAME</th>\n",
       "      <th>ROLE_TITLE</th>\n",
       "      <th>ROLE_FAMILY_DESC</th>\n",
       "      <th>ROLE_FAMILY</th>\n",
       "      <th>ROLE_CODE</th>\n",
       "    </tr>\n",
       "  </thead>\n",
       "  <tbody>\n",
       "    <tr>\n",
       "      <th>0</th>\n",
       "      <td>1</td>\n",
       "      <td>39353</td>\n",
       "      <td>85475</td>\n",
       "      <td>117961</td>\n",
       "      <td>118300</td>\n",
       "      <td>123472</td>\n",
       "      <td>117905</td>\n",
       "      <td>117906</td>\n",
       "      <td>290919</td>\n",
       "      <td>117908</td>\n",
       "    </tr>\n",
       "    <tr>\n",
       "      <th>1</th>\n",
       "      <td>1</td>\n",
       "      <td>17183</td>\n",
       "      <td>1540</td>\n",
       "      <td>117961</td>\n",
       "      <td>118343</td>\n",
       "      <td>123125</td>\n",
       "      <td>118536</td>\n",
       "      <td>118536</td>\n",
       "      <td>308574</td>\n",
       "      <td>118539</td>\n",
       "    </tr>\n",
       "    <tr>\n",
       "      <th>2</th>\n",
       "      <td>1</td>\n",
       "      <td>36724</td>\n",
       "      <td>14457</td>\n",
       "      <td>118219</td>\n",
       "      <td>118220</td>\n",
       "      <td>117884</td>\n",
       "      <td>117879</td>\n",
       "      <td>267952</td>\n",
       "      <td>19721</td>\n",
       "      <td>117880</td>\n",
       "    </tr>\n",
       "    <tr>\n",
       "      <th>3</th>\n",
       "      <td>1</td>\n",
       "      <td>36135</td>\n",
       "      <td>5396</td>\n",
       "      <td>117961</td>\n",
       "      <td>118343</td>\n",
       "      <td>119993</td>\n",
       "      <td>118321</td>\n",
       "      <td>240983</td>\n",
       "      <td>290919</td>\n",
       "      <td>118322</td>\n",
       "    </tr>\n",
       "    <tr>\n",
       "      <th>4</th>\n",
       "      <td>1</td>\n",
       "      <td>42680</td>\n",
       "      <td>5905</td>\n",
       "      <td>117929</td>\n",
       "      <td>117930</td>\n",
       "      <td>119569</td>\n",
       "      <td>119323</td>\n",
       "      <td>123932</td>\n",
       "      <td>19793</td>\n",
       "      <td>119325</td>\n",
       "    </tr>\n",
       "  </tbody>\n",
       "</table>\n",
       "</div>"
      ],
      "text/plain": [
       "   ACTION  RESOURCE  MGR_ID  ROLE_ROLLUP_1  ROLE_ROLLUP_2  ROLE_DEPTNAME  \\\n",
       "0       1     39353   85475         117961         118300         123472   \n",
       "1       1     17183    1540         117961         118343         123125   \n",
       "2       1     36724   14457         118219         118220         117884   \n",
       "3       1     36135    5396         117961         118343         119993   \n",
       "4       1     42680    5905         117929         117930         119569   \n",
       "\n",
       "   ROLE_TITLE  ROLE_FAMILY_DESC  ROLE_FAMILY  ROLE_CODE  \n",
       "0      117905            117906       290919     117908  \n",
       "1      118536            118536       308574     118539  \n",
       "2      117879            267952        19721     117880  \n",
       "3      118321            240983       290919     118322  \n",
       "4      119323            123932        19793     119325  "
      ]
     },
     "execution_count": 3,
     "metadata": {},
     "output_type": "execute_result"
    }
   ],
   "source": [
    "df_train.head()"
   ]
  },
  {
   "cell_type": "code",
   "execution_count": 4,
   "id": "dfac8c99",
   "metadata": {},
   "outputs": [
    {
     "name": "stdout",
     "output_type": "stream",
     "text": [
      "<class 'pandas.core.frame.DataFrame'>\n",
      "RangeIndex: 32769 entries, 0 to 32768\n",
      "Data columns (total 10 columns):\n",
      " #   Column            Non-Null Count  Dtype\n",
      "---  ------            --------------  -----\n",
      " 0   ACTION            32769 non-null  int64\n",
      " 1   RESOURCE          32769 non-null  int64\n",
      " 2   MGR_ID            32769 non-null  int64\n",
      " 3   ROLE_ROLLUP_1     32769 non-null  int64\n",
      " 4   ROLE_ROLLUP_2     32769 non-null  int64\n",
      " 5   ROLE_DEPTNAME     32769 non-null  int64\n",
      " 6   ROLE_TITLE        32769 non-null  int64\n",
      " 7   ROLE_FAMILY_DESC  32769 non-null  int64\n",
      " 8   ROLE_FAMILY       32769 non-null  int64\n",
      " 9   ROLE_CODE         32769 non-null  int64\n",
      "dtypes: int64(10)\n",
      "memory usage: 2.5 MB\n"
     ]
    }
   ],
   "source": [
    "df_train.info()"
   ]
  },
  {
   "cell_type": "code",
   "execution_count": 5,
   "id": "44b6003b",
   "metadata": {},
   "outputs": [
    {
     "data": {
      "text/html": [
       "<div>\n",
       "<style scoped>\n",
       "    .dataframe tbody tr th:only-of-type {\n",
       "        vertical-align: middle;\n",
       "    }\n",
       "\n",
       "    .dataframe tbody tr th {\n",
       "        vertical-align: top;\n",
       "    }\n",
       "\n",
       "    .dataframe thead th {\n",
       "        text-align: right;\n",
       "    }\n",
       "</style>\n",
       "<table border=\"1\" class=\"dataframe\">\n",
       "  <thead>\n",
       "    <tr style=\"text-align: right;\">\n",
       "      <th></th>\n",
       "      <th>id</th>\n",
       "      <th>RESOURCE</th>\n",
       "      <th>MGR_ID</th>\n",
       "      <th>ROLE_ROLLUP_1</th>\n",
       "      <th>ROLE_ROLLUP_2</th>\n",
       "      <th>ROLE_DEPTNAME</th>\n",
       "      <th>ROLE_TITLE</th>\n",
       "      <th>ROLE_FAMILY_DESC</th>\n",
       "      <th>ROLE_FAMILY</th>\n",
       "      <th>ROLE_CODE</th>\n",
       "    </tr>\n",
       "  </thead>\n",
       "  <tbody>\n",
       "    <tr>\n",
       "      <th>0</th>\n",
       "      <td>1</td>\n",
       "      <td>32642</td>\n",
       "      <td>7792</td>\n",
       "      <td>118573</td>\n",
       "      <td>118574</td>\n",
       "      <td>117945</td>\n",
       "      <td>136261</td>\n",
       "      <td>128463</td>\n",
       "      <td>292795</td>\n",
       "      <td>119082</td>\n",
       "    </tr>\n",
       "    <tr>\n",
       "      <th>1</th>\n",
       "      <td>2</td>\n",
       "      <td>4696</td>\n",
       "      <td>14638</td>\n",
       "      <td>117961</td>\n",
       "      <td>118343</td>\n",
       "      <td>118514</td>\n",
       "      <td>118321</td>\n",
       "      <td>289122</td>\n",
       "      <td>255851</td>\n",
       "      <td>118322</td>\n",
       "    </tr>\n",
       "    <tr>\n",
       "      <th>2</th>\n",
       "      <td>3</td>\n",
       "      <td>22662</td>\n",
       "      <td>1760</td>\n",
       "      <td>118887</td>\n",
       "      <td>118888</td>\n",
       "      <td>120171</td>\n",
       "      <td>118396</td>\n",
       "      <td>255118</td>\n",
       "      <td>118398</td>\n",
       "      <td>118399</td>\n",
       "    </tr>\n",
       "    <tr>\n",
       "      <th>3</th>\n",
       "      <td>4</td>\n",
       "      <td>75078</td>\n",
       "      <td>7576</td>\n",
       "      <td>117961</td>\n",
       "      <td>118052</td>\n",
       "      <td>120671</td>\n",
       "      <td>118321</td>\n",
       "      <td>117906</td>\n",
       "      <td>257051</td>\n",
       "      <td>118322</td>\n",
       "    </tr>\n",
       "    <tr>\n",
       "      <th>4</th>\n",
       "      <td>5</td>\n",
       "      <td>39879</td>\n",
       "      <td>55668</td>\n",
       "      <td>117902</td>\n",
       "      <td>118041</td>\n",
       "      <td>117945</td>\n",
       "      <td>135951</td>\n",
       "      <td>134458</td>\n",
       "      <td>19776</td>\n",
       "      <td>119082</td>\n",
       "    </tr>\n",
       "  </tbody>\n",
       "</table>\n",
       "</div>"
      ],
      "text/plain": [
       "   id  RESOURCE  MGR_ID  ROLE_ROLLUP_1  ROLE_ROLLUP_2  ROLE_DEPTNAME  \\\n",
       "0   1     32642    7792         118573         118574         117945   \n",
       "1   2      4696   14638         117961         118343         118514   \n",
       "2   3     22662    1760         118887         118888         120171   \n",
       "3   4     75078    7576         117961         118052         120671   \n",
       "4   5     39879   55668         117902         118041         117945   \n",
       "\n",
       "   ROLE_TITLE  ROLE_FAMILY_DESC  ROLE_FAMILY  ROLE_CODE  \n",
       "0      136261            128463       292795     119082  \n",
       "1      118321            289122       255851     118322  \n",
       "2      118396            255118       118398     118399  \n",
       "3      118321            117906       257051     118322  \n",
       "4      135951            134458        19776     119082  "
      ]
     },
     "execution_count": 5,
     "metadata": {},
     "output_type": "execute_result"
    }
   ],
   "source": [
    "df_test = pd.read_csv(\"test.csv\")\n",
    "df_test.head()"
   ]
  },
  {
   "cell_type": "code",
   "execution_count": 6,
   "id": "0a6e14b2",
   "metadata": {},
   "outputs": [
    {
     "name": "stdout",
     "output_type": "stream",
     "text": [
      "<class 'pandas.core.frame.DataFrame'>\n",
      "RangeIndex: 912363 entries, 0 to 912362\n",
      "Data columns (total 10 columns):\n",
      " #   Column            Non-Null Count   Dtype\n",
      "---  ------            --------------   -----\n",
      " 0   id                912363 non-null  int64\n",
      " 1   RESOURCE          912363 non-null  int64\n",
      " 2   MGR_ID            912363 non-null  int64\n",
      " 3   ROLE_ROLLUP_1     912363 non-null  int64\n",
      " 4   ROLE_ROLLUP_2     912363 non-null  int64\n",
      " 5   ROLE_DEPTNAME     912363 non-null  int64\n",
      " 6   ROLE_TITLE        912363 non-null  int64\n",
      " 7   ROLE_FAMILY_DESC  912363 non-null  int64\n",
      " 8   ROLE_FAMILY       912363 non-null  int64\n",
      " 9   ROLE_CODE         912363 non-null  int64\n",
      "dtypes: int64(10)\n",
      "memory usage: 69.6 MB\n"
     ]
    }
   ],
   "source": [
    "df_test.info()"
   ]
  },
  {
   "cell_type": "code",
   "execution_count": 7,
   "id": "a4449192",
   "metadata": {},
   "outputs": [],
   "source": [
    "#df_train.describe()"
   ]
  },
  {
   "cell_type": "markdown",
   "id": "afe235e5",
   "metadata": {},
   "source": [
    "**This is a classification problem** "
   ]
  },
  {
   "cell_type": "code",
   "execution_count": 8,
   "id": "8b3e84ce",
   "metadata": {},
   "outputs": [
    {
     "data": {
      "text/plain": [
       "['ACTION',\n",
       " 'RESOURCE',\n",
       " 'MGR_ID',\n",
       " 'ROLE_ROLLUP_1',\n",
       " 'ROLE_ROLLUP_2',\n",
       " 'ROLE_DEPTNAME',\n",
       " 'ROLE_TITLE',\n",
       " 'ROLE_FAMILY_DESC',\n",
       " 'ROLE_FAMILY',\n",
       " 'ROLE_CODE']"
      ]
     },
     "execution_count": 8,
     "metadata": {},
     "output_type": "execute_result"
    }
   ],
   "source": [
    "allcolumns=[item for item in df_train.columns]\n",
    "allcolumns"
   ]
  },
  {
   "cell_type": "code",
   "execution_count": 9,
   "id": "1f8ddb8c",
   "metadata": {},
   "outputs": [
    {
     "name": "stdout",
     "output_type": "stream",
     "text": [
      "ACTION : \n",
      " [1 0]\n",
      "RESOURCE : \n",
      " [39353 17183 36724 ... 32529 16354 32147]\n",
      "MGR_ID : \n",
      " [85475  1540 14457 ... 16820 60086 22355]\n",
      "ROLE_ROLLUP_1 : \n",
      " [117961 118219 117929 117951 118079 117902 118315  91261 118216 118090\n",
      " 118752 119134 117926 117890 117916 118212 118256 118555 118602 118269\n",
      " 118106 117975 118573 118169 117910 121785 117980 120342 119062 117887\n",
      " 118887 118114 120864 119596 119301 117983 118441 118595 118181 117876\n",
      " 117935 118074 119920 118084 118990 118163 122880 118290 119280 118976\n",
      " 117932 117922 126918 118023 117978 119691 130570 117959 124034 117943\n",
      " 119170 119665 118658 118192 138798 118006 118582 203209   4292 132839\n",
      " 118095   5110 117918 126974 120140 118953 118138 118120 118550 119402\n",
      " 131853 117893 130684 121005 118126 118725 117993 119343  11146 118000\n",
      " 120810 118541 117989 122532 117882 118185 125714 118742 118670 118200\n",
      " 118349 118003 183723 120268 119828 118717 119740 119178 247952 127044\n",
      " 119370 120883 119615 216705 192441 121518 118358 121411 127616 119027\n",
      " 143008 141221 118774 209434 147236 311178 133430 120354]\n",
      "ROLE_ROLLUP_2 : \n",
      " [118300 118343 118220 117930 117952 117969 118413 118080 118041 118463\n",
      " 118026 118052 118446 118587 118091 119070 119135 118266 118327 118225\n",
      " 117891 118386 117962 118150 118580 118257 118178 118603 118270 118107\n",
      " 117976 118574 118170 117903 117911 121786 117981 118340 120343 119091\n",
      " 118316 118888 118115 119256 121013 119597 119302 117984 118442 118596\n",
      " 118182 117877 118213 117936 119063 118124 118011  23779 119921 118085\n",
      " 117917 118991 118164 122974 118291 118076 118217 119281 118977 117933\n",
      " 117923 126919 159716 117927 118753 118024 117979 119692 117960 126102\n",
      " 124035 117944 119171 130600 119666 118659 120865 118193 138799 118102\n",
      " 118007 118583 124335 145248 118096 117954 118855 117919 126975 117940\n",
      " 120141 118954 118139 118121 118551 119403 131854 120216 117894 130685\n",
      " 120862 121006 118237 118726 119763 117994 119762 119344 118491 118001\n",
      " 120811 118542 117990 122533 123330 117883  31010 125715 118743 118671\n",
      " 118201 118350 118004 119075 126095 120269 119829 118718 119741 119179\n",
      " 119216 286791 119623 119428 127045 119836 119370 131390 124157 120884\n",
      " 125100 119616 141176 119883 121519 119715 121019 120846 123999 118359\n",
      " 125018 185842 132840 176316 119028 143009 151110 141222 118775 118907\n",
      " 147237 132564 121602 120018  32137 120355 140550]\n",
      "ROLE_DEPTNAME : \n",
      " [123472 123125 117884 119993 119569 118008 123476 118910 120584 117878\n",
      " 118481 119238 122636 118202 118514 118221 119742 118701 122007 118458\n",
      " 118783 119181 120410 118867 123089 119986 118846 120312 119598 123719\n",
      " 119781 118825 122299 117945 118042 118378 123173 117920 118301 120722\n",
      " 120318 119408 120347 118066 119064 120304 118746 119223 118810 120317\n",
      " 117941 117895 119507   6725 120694 120535 118352 118623 119262 118522\n",
      " 118933 127522 119924 120026 122392 119565 122215 118684 120323 118856\n",
      " 118706 118896 118840 123901 119961 118692 118556 118501 118403 119984\n",
      " 118171 117904 120370 124725 121589 121668 118320 118492 117970 119362\n",
      " 120398 119968 119076 132530 120270 225010 118575 120171 126310 118391\n",
      " 118507 118979 120361 118447 119214 120383 120126 277693 122550 119257\n",
      " 118395 120823 124921 119303 118328 118360 128823 118464 118616 121951\n",
      " 118437 120539 120666 189629 118821 121961 118957 126955 118754 118992\n",
      " 124211 123749 128935 119824 119972 118744 118246 119136 118535 118889\n",
      " 119830  16232 142145 126229 122870 120663 118881 120526 118597 123144\n",
      " 120551  81476 123055 120050 120356 128830 124668 118660 119922 121617\n",
      " 118929 141383 118700 118609 122109 119954 122273 118833 121108 118344\n",
      " 118631 120943 121883 118450 117912 120764 123072 119488 124942 176153\n",
      " 118862 119987 119142 120559 118404 274241 121710 120677 121979 121716\n",
      " 129617 120059 120297 119734   6104 120096 119121 123201 125821 118053\n",
      " 119796 124133 119195 117963  19666 118414 118635 121645 122224 118317\n",
      " 130192 122938 128113 129128 121747 120709 124130 118292 118911 125884\n",
      " 123454 124656 121949 118733 120299 139677 127705 118179 120624 119890\n",
      " 122298 149210 120671 127849 118063 123606 129972 123656 121014 120368\n",
      " 124266 123757  19772 118970 118529 125133 119837 120291 118409 125440\n",
      " 118816 121694   5488 118552 123844 120685 121023 126930 118673 118518\n",
      " 135245 122012 120417 149666 118800 119995 134257 122070 124449 275600\n",
      " 121639 125016 127284 121667 123279 120283 119945 181065 126745   4674\n",
      " 120054 120144 118027 142540 120428 121216 139897 124948 128639 124816\n",
      " 122672 118560 127168  28618 121533 118599 119424 142038 123675 118921\n",
      " 119092 147589 126137 125872 127470 120924 185576 131868 121787 127491\n",
      " 120016 125178 121176 132427 123766 118433 145424 121305 196823 124051\n",
      " 124380 151108 118562 118229 253965 118791 128742 120041 146387 131159\n",
      " 204054 128516 125004 128350 120995 123614   7646 118387 139876 139759\n",
      " 131461 118546 118471 119218 123494 118367 118483 118543 169899 119279\n",
      " 121405 179069 122059 126352 168533 123003 125144 125857 140453 137107\n",
      " 143531 119791 130859 118421 125139 119703 124170 129120 123007 119019\n",
      " 123519 121977 132480 119107 119496 123195 286792 123858 119243 142493\n",
      " 137996 131303 123631 186536 119969 129526 118727 148450 118214 171098\n",
      " 118984 120620 125919 118341 120574 119031 121574 122358 122453 127812\n",
      " 128801 131274 118416 121169 240766  20807 126574 120211 118128  29113\n",
      " 118940 148436 131067 125101 119386 121678 125316 122587 138789 121363\n",
      " 139001 121220 164199 120201 121458 223958 215920 145774   5606 118035\n",
      " 132647 127155 122001 126785 147019 118963 120142 255696 129578 122963\n",
      " 121820 119898 184402 272283 123175 121030 134848 122722 121097]\n",
      "ROLE_TITLE : \n",
      " [117905 118536 117879 118321 119323 118568 118980 126820 128230 118784\n",
      " 119093 120773 119962 117885 118702 118278 120006 118777 118259 179731\n",
      " 120313 120344 118563 118826 118054 280788 120097 120952 120812 119849\n",
      " 120348 120560 122022 307024 118641 117896 122290 118396 118728 118995\n",
      " 117946 119172 125171 128903 127782 118523 122645 118043 120702 130479\n",
      " 119949 118451 132692 119363 122067 118422 311867 118685 118863 119529\n",
      " 119346 128422 118890 120497 126684 120647 137969 120789 130857 124152\n",
      " 118172 124435 123045 118318 121594 123067 119885 119587 120516 120690\n",
      " 118502 149337 123737 122551 120591 120056 119928 118129 124886 118834\n",
      " 123648 134095 209874 120357 118274 310825 119433 124799 118912 122297\n",
      " 118811 118368 122989 120988 127847 118465 299559 118361 121414 118747\n",
      " 118841 118924 122927 120618 259173 120527 118636 122849 135809 247659\n",
      " 118028 119192 153957 124313 126516 122952 122129 119743 131849 122967\n",
      " 118194 129561 123400 118459 123670 118207 121122 119997 120628 124194\n",
      " 122142 120418 119137 128093 150752 119351 134118 117899 130060 125793\n",
      " 118293 125010 120611 123082 123191 118674 128764 117985 120300 118801\n",
      " 127108 126264 121015 119409 124537 133306 126746 119899 118805 118792\n",
      " 131997 122269 131795 121372 159787 118734 149351 121469 120632 134067\n",
      " 126078 119077 124305 120990 122030 123178 184274 174391 132671 124144\n",
      " 119786 119004 126138 138137 123684 125687 118530 123609 126184 120578\n",
      " 126869 124810 118958 126538 235351 117906 129909 216825 273308 120765\n",
      " 123651 121915 127723 129229 137370 128351 119065 169634 128197 145648\n",
      " 124134 132583 121143 147122 119778 133111 122060 127850 130528 133718\n",
      " 124419 192867 119502 127589 120033 122274 135123 119782 120903 152308\n",
      " 131252 120001 124775 126110 162860 126502 130606 158289 127700 120132\n",
      " 118760 121527 120284 125751 118370 157300 119976 157359 121067 126085\n",
      " 166592 123408 122860 132096 120621 125798 120172 149228 187168 138019\n",
      " 124576 258434 120575 136115 118203 146249 135740 136701 127389 123615\n",
      " 266862 118047 122345 130637 297560 139965 119219 123073 120115 144353\n",
      " 123131 120069 121246 124246 208126 133646 127031 134655 188046 146951\n",
      " 143183 127657 240103 131336 159677 123850 159116 124922 161098 130633\n",
      " 121364 124000 239003 132103 126547 140847 157347 132723 208565 152268\n",
      " 124486 153893 130284 122188 180927 157799 121618 127955 132737 268608\n",
      " 126293 279482 150074 155110 125405 166800 126418 212192 270690 149916\n",
      " 126931 153248 130362]\n",
      "ROLE_FAMILY_DESC : \n",
      " [117906 118536 267952 ... 153596 132228 197783]\n",
      "ROLE_FAMILY : \n",
      " [290919 308574  19721  19793 118295 118638   4673 119095 118960 118205\n",
      " 117887 118704 118424 270488 292795 118453 118643 119221 118331   6725\n",
      " 118398 118467 118504 119784 118667 118478 119006 118612 249618 118363\n",
      " 120518 118474 118762 118131 121620 118347 119184 120134 121916   3130\n",
      " 119695 119788 119772 120302 118870 131999 118736 149353 118372 122032\n",
      " 151277 124145 124136 123611 143398 254395 124487 155173 121069 125407\n",
      " 123689 159679 136398 161100 132725 130364 127957]\n",
      "ROLE_CODE : \n",
      " [117908 118539 117880 118322 119325 118570 118982 126822 128231 118786\n",
      " 119096 120774 119964 117888 118705 118279 120008 118779 118261 117973\n",
      " 120315 120346 118565 118828 118055 119082 120099 120954 120814 119851\n",
      " 120350 120562 122024 118332 118644 117898 122292 118399 118730 118997\n",
      " 117948 119174 125173 128905 127783 118525 122647 118046 120704 130481\n",
      " 119951 118454 132694 119365 122069 118425 118479 118687 118865 119531\n",
      " 119348 128424 118892 120499 126685 120649 137970 120791 130858 124154\n",
      " 118175 124436 123047 118319 121596 123068 119887 119589 120519 120692\n",
      " 118505 149339 123738 122552 120593 120058 119929 118132 124888 118836\n",
      " 123650 118475 209875 120359 118276 121395 119435 124801 118914 118899\n",
      " 118813 118486 122991 120989 127848 118468 163732 118364 121416 118749\n",
      " 118843 118926 122929 120619 118943 120529 118639 122850 135811 247660\n",
      " 118030 119194 153959 124315 126518 122954 122131 119745 131851 122969\n",
      " 118196 129563 123402 118461 123672 118209 121124 119998 120629 124196\n",
      " 122143 120419 119139 128095 150754 119353 134120 117900 130062 125795\n",
      " 118296 125012 120613 123084 123192 118676 128765 117987 120303 118803\n",
      " 127110 126266 121017 119411 124539 133308 126748 119900 118807 118794\n",
      " 132000 122271 131797 121374 159789 118737 149354 121471 120634 134069\n",
      " 126080 119079 124307 120992 122033 123180 184276 174393 132673 124146\n",
      " 119789 119007 126140 138139 123686 125689 118532 123612 126186 120580\n",
      " 126870 124812 118961 126540 254396 123657 129911 216827 118232 120767\n",
      " 123652 121917 127725 129231 137371 128353 119067 169635 128199 163313\n",
      " 124137 132585 121145 147124 119779 133113 122062 127851 120364 133719\n",
      " 124421 192869 119503 127590 120035 122275 135125 119785 120904 152310\n",
      " 131254 120003 124777 126112 162862 126504 130607 158291 127702 120135\n",
      " 118763 121529 120285 125753 118373 157301 119978 157361 121070 126087\n",
      " 166594 123410 122862 132098 120623 125800 120173 149230 187169 138021\n",
      " 124578 258436 120577 136117 118206 146251 135742 136702 127391 123617\n",
      " 266863 118049 122346 130638 119817 139967 119222 123075 120117 144355\n",
      " 123133 120071 121248 124247 208127 133648 127032 134657 188048 146952\n",
      " 143185 127659 240105 131338 159680 123851 159118 124924 161101 130635\n",
      " 121366 124002 239004 132105 126549 140849 157348 132726 208567 152270\n",
      " 124488 153895 130285 122190 180928 157801 121621 127958 132739 268610\n",
      " 126295 136061 150076 155111 125408 166801 126420 212194 270691 149918\n",
      " 126933 153249 130365]\n"
     ]
    }
   ],
   "source": [
    "for item in allcolumns:\n",
    "    print(item,\": \\n\", df_train[item].unique())"
   ]
  },
  {
   "cell_type": "markdown",
   "id": "ea4a52cb",
   "metadata": {},
   "source": [
    "* Check unique item in of each column"
   ]
  },
  {
   "cell_type": "markdown",
   "id": "eb38427d",
   "metadata": {},
   "source": [
    "* Find the total no. of unique item in of each column"
   ]
  },
  {
   "cell_type": "code",
   "execution_count": 10,
   "id": "eec26edc",
   "metadata": {},
   "outputs": [
    {
     "name": "stdout",
     "output_type": "stream",
     "text": [
      "ACTION  :  2\n",
      "RESOURCE  :  7518\n",
      "MGR_ID  :  4243\n",
      "ROLE_ROLLUP_1  :  128\n",
      "ROLE_ROLLUP_2  :  177\n",
      "ROLE_DEPTNAME  :  449\n",
      "ROLE_TITLE  :  343\n",
      "ROLE_FAMILY_DESC  :  2358\n",
      "ROLE_FAMILY  :  67\n",
      "ROLE_CODE  :  343\n"
     ]
    }
   ],
   "source": [
    "for item in allcolumns:\n",
    "    print(item,\" : \", df_train[item].nunique())"
   ]
  },
  {
   "cell_type": "markdown",
   "id": "b841945d",
   "metadata": {},
   "source": [
    "###### Correlation explains how one or more variables are related to each other.\n",
    "*  **corr()** Compute pairwise correlation of columns, excluding NA/null values.\n"
   ]
  },
  {
   "cell_type": "code",
   "execution_count": 11,
   "id": "6d346247",
   "metadata": {},
   "outputs": [
    {
     "data": {
      "text/html": [
       "<div>\n",
       "<style scoped>\n",
       "    .dataframe tbody tr th:only-of-type {\n",
       "        vertical-align: middle;\n",
       "    }\n",
       "\n",
       "    .dataframe tbody tr th {\n",
       "        vertical-align: top;\n",
       "    }\n",
       "\n",
       "    .dataframe thead th {\n",
       "        text-align: right;\n",
       "    }\n",
       "</style>\n",
       "<table border=\"1\" class=\"dataframe\">\n",
       "  <thead>\n",
       "    <tr style=\"text-align: right;\">\n",
       "      <th></th>\n",
       "      <th>ACTION</th>\n",
       "      <th>RESOURCE</th>\n",
       "      <th>MGR_ID</th>\n",
       "      <th>ROLE_ROLLUP_1</th>\n",
       "      <th>ROLE_ROLLUP_2</th>\n",
       "      <th>ROLE_DEPTNAME</th>\n",
       "      <th>ROLE_TITLE</th>\n",
       "      <th>ROLE_FAMILY_DESC</th>\n",
       "      <th>ROLE_FAMILY</th>\n",
       "      <th>ROLE_CODE</th>\n",
       "    </tr>\n",
       "  </thead>\n",
       "  <tbody>\n",
       "    <tr>\n",
       "      <th>ACTION</th>\n",
       "      <td>1.000000</td>\n",
       "      <td>0.000185</td>\n",
       "      <td>-0.005167</td>\n",
       "      <td>-0.013702</td>\n",
       "      <td>0.005179</td>\n",
       "      <td>0.001025</td>\n",
       "      <td>-0.010169</td>\n",
       "      <td>0.003565</td>\n",
       "      <td>0.000502</td>\n",
       "      <td>0.017147</td>\n",
       "    </tr>\n",
       "    <tr>\n",
       "      <th>RESOURCE</th>\n",
       "      <td>0.000185</td>\n",
       "      <td>1.000000</td>\n",
       "      <td>0.011088</td>\n",
       "      <td>-0.005016</td>\n",
       "      <td>0.013438</td>\n",
       "      <td>0.030004</td>\n",
       "      <td>0.002936</td>\n",
       "      <td>0.021029</td>\n",
       "      <td>0.031060</td>\n",
       "      <td>0.007733</td>\n",
       "    </tr>\n",
       "    <tr>\n",
       "      <th>MGR_ID</th>\n",
       "      <td>-0.005167</td>\n",
       "      <td>0.011088</td>\n",
       "      <td>1.000000</td>\n",
       "      <td>-0.007132</td>\n",
       "      <td>-0.000364</td>\n",
       "      <td>-0.009551</td>\n",
       "      <td>0.017864</td>\n",
       "      <td>-0.018488</td>\n",
       "      <td>-0.118254</td>\n",
       "      <td>-0.004067</td>\n",
       "    </tr>\n",
       "    <tr>\n",
       "      <th>ROLE_ROLLUP_1</th>\n",
       "      <td>-0.013702</td>\n",
       "      <td>-0.005016</td>\n",
       "      <td>-0.007132</td>\n",
       "      <td>1.000000</td>\n",
       "      <td>0.033358</td>\n",
       "      <td>-0.009548</td>\n",
       "      <td>0.010207</td>\n",
       "      <td>-0.007546</td>\n",
       "      <td>0.029468</td>\n",
       "      <td>-0.024927</td>\n",
       "    </tr>\n",
       "    <tr>\n",
       "      <th>ROLE_ROLLUP_2</th>\n",
       "      <td>0.005179</td>\n",
       "      <td>0.013438</td>\n",
       "      <td>-0.000364</td>\n",
       "      <td>0.033358</td>\n",
       "      <td>1.000000</td>\n",
       "      <td>-0.006056</td>\n",
       "      <td>0.008305</td>\n",
       "      <td>0.018873</td>\n",
       "      <td>0.069558</td>\n",
       "      <td>0.015117</td>\n",
       "    </tr>\n",
       "    <tr>\n",
       "      <th>ROLE_DEPTNAME</th>\n",
       "      <td>0.001025</td>\n",
       "      <td>0.030004</td>\n",
       "      <td>-0.009551</td>\n",
       "      <td>-0.009548</td>\n",
       "      <td>-0.006056</td>\n",
       "      <td>1.000000</td>\n",
       "      <td>-0.006932</td>\n",
       "      <td>-0.002877</td>\n",
       "      <td>0.031669</td>\n",
       "      <td>0.010319</td>\n",
       "    </tr>\n",
       "    <tr>\n",
       "      <th>ROLE_TITLE</th>\n",
       "      <td>-0.010169</td>\n",
       "      <td>0.002936</td>\n",
       "      <td>0.017864</td>\n",
       "      <td>0.010207</td>\n",
       "      <td>0.008305</td>\n",
       "      <td>-0.006932</td>\n",
       "      <td>1.000000</td>\n",
       "      <td>0.170692</td>\n",
       "      <td>-0.012450</td>\n",
       "      <td>0.155920</td>\n",
       "    </tr>\n",
       "    <tr>\n",
       "      <th>ROLE_FAMILY_DESC</th>\n",
       "      <td>0.003565</td>\n",
       "      <td>0.021029</td>\n",
       "      <td>-0.018488</td>\n",
       "      <td>-0.007546</td>\n",
       "      <td>0.018873</td>\n",
       "      <td>-0.002877</td>\n",
       "      <td>0.170692</td>\n",
       "      <td>1.000000</td>\n",
       "      <td>-0.180596</td>\n",
       "      <td>0.092980</td>\n",
       "    </tr>\n",
       "    <tr>\n",
       "      <th>ROLE_FAMILY</th>\n",
       "      <td>0.000502</td>\n",
       "      <td>0.031060</td>\n",
       "      <td>-0.118254</td>\n",
       "      <td>0.029468</td>\n",
       "      <td>0.069558</td>\n",
       "      <td>0.031669</td>\n",
       "      <td>-0.012450</td>\n",
       "      <td>-0.180596</td>\n",
       "      <td>1.000000</td>\n",
       "      <td>-0.148625</td>\n",
       "    </tr>\n",
       "    <tr>\n",
       "      <th>ROLE_CODE</th>\n",
       "      <td>0.017147</td>\n",
       "      <td>0.007733</td>\n",
       "      <td>-0.004067</td>\n",
       "      <td>-0.024927</td>\n",
       "      <td>0.015117</td>\n",
       "      <td>0.010319</td>\n",
       "      <td>0.155920</td>\n",
       "      <td>0.092980</td>\n",
       "      <td>-0.148625</td>\n",
       "      <td>1.000000</td>\n",
       "    </tr>\n",
       "  </tbody>\n",
       "</table>\n",
       "</div>"
      ],
      "text/plain": [
       "                    ACTION  RESOURCE    MGR_ID  ROLE_ROLLUP_1  ROLE_ROLLUP_2  \\\n",
       "ACTION            1.000000  0.000185 -0.005167      -0.013702       0.005179   \n",
       "RESOURCE          0.000185  1.000000  0.011088      -0.005016       0.013438   \n",
       "MGR_ID           -0.005167  0.011088  1.000000      -0.007132      -0.000364   \n",
       "ROLE_ROLLUP_1    -0.013702 -0.005016 -0.007132       1.000000       0.033358   \n",
       "ROLE_ROLLUP_2     0.005179  0.013438 -0.000364       0.033358       1.000000   \n",
       "ROLE_DEPTNAME     0.001025  0.030004 -0.009551      -0.009548      -0.006056   \n",
       "ROLE_TITLE       -0.010169  0.002936  0.017864       0.010207       0.008305   \n",
       "ROLE_FAMILY_DESC  0.003565  0.021029 -0.018488      -0.007546       0.018873   \n",
       "ROLE_FAMILY       0.000502  0.031060 -0.118254       0.029468       0.069558   \n",
       "ROLE_CODE         0.017147  0.007733 -0.004067      -0.024927       0.015117   \n",
       "\n",
       "                  ROLE_DEPTNAME  ROLE_TITLE  ROLE_FAMILY_DESC  ROLE_FAMILY  \\\n",
       "ACTION                 0.001025   -0.010169          0.003565     0.000502   \n",
       "RESOURCE               0.030004    0.002936          0.021029     0.031060   \n",
       "MGR_ID                -0.009551    0.017864         -0.018488    -0.118254   \n",
       "ROLE_ROLLUP_1         -0.009548    0.010207         -0.007546     0.029468   \n",
       "ROLE_ROLLUP_2         -0.006056    0.008305          0.018873     0.069558   \n",
       "ROLE_DEPTNAME          1.000000   -0.006932         -0.002877     0.031669   \n",
       "ROLE_TITLE            -0.006932    1.000000          0.170692    -0.012450   \n",
       "ROLE_FAMILY_DESC      -0.002877    0.170692          1.000000    -0.180596   \n",
       "ROLE_FAMILY            0.031669   -0.012450         -0.180596     1.000000   \n",
       "ROLE_CODE              0.010319    0.155920          0.092980    -0.148625   \n",
       "\n",
       "                  ROLE_CODE  \n",
       "ACTION             0.017147  \n",
       "RESOURCE           0.007733  \n",
       "MGR_ID            -0.004067  \n",
       "ROLE_ROLLUP_1     -0.024927  \n",
       "ROLE_ROLLUP_2      0.015117  \n",
       "ROLE_DEPTNAME      0.010319  \n",
       "ROLE_TITLE         0.155920  \n",
       "ROLE_FAMILY_DESC   0.092980  \n",
       "ROLE_FAMILY       -0.148625  \n",
       "ROLE_CODE          1.000000  "
      ]
     },
     "execution_count": 11,
     "metadata": {},
     "output_type": "execute_result"
    }
   ],
   "source": [
    "correlation = df_train.corr()\n",
    "correlation "
   ]
  },
  {
   "cell_type": "code",
   "execution_count": 12,
   "id": "1e8f80eb",
   "metadata": {},
   "outputs": [],
   "source": [
    "import matplotlib.pyplot as plt\n",
    "import seaborn as sns\n",
    "%matplotlib inline"
   ]
  },
  {
   "cell_type": "markdown",
   "id": "89014583",
   "metadata": {},
   "source": [
    "**Plot the Correlation Matrix**"
   ]
  },
  {
   "cell_type": "code",
   "execution_count": 13,
   "id": "5a581896",
   "metadata": {},
   "outputs": [
    {
     "data": {
      "text/plain": [
       "<AxesSubplot:>"
      ]
     },
     "execution_count": 13,
     "metadata": {},
     "output_type": "execute_result"
    },
    {
     "data": {
      "image/png": "[encoded data removed]",
      "text/plain": [
       "<Figure size 864x576 with 2 Axes>"
      ]
     },
     "metadata": {
      "needs_background": "light"
     },
     "output_type": "display_data"
    }
   ],
   "source": [
    "fig=plt.figure(figsize=(12,8))\n",
    "sns.heatmap(correlation,annot=True)"
   ]
  },
  {
   "cell_type": "markdown",
   "id": "f32bab97",
   "metadata": {},
   "source": [
    "**Show the counts of observations in each categorical bin using bars.**"
   ]
  },
  {
   "cell_type": "code",
   "execution_count": 14,
   "id": "3ff5c7c4",
   "metadata": {},
   "outputs": [
    {
     "name": "stderr",
     "output_type": "stream",
     "text": [
      "C:\\PawanKrGunjan\\VENV\\env\\lib\\site-packages\\seaborn\\_decorators.py:36: FutureWarning: Pass the following variable as a keyword arg: x. From version 0.12, the only valid positional argument will be `data`, and passing other arguments without an explicit keyword will result in an error or misinterpretation.\n",
      "  warnings.warn(\n"
     ]
    },
    {
     "data": {
      "text/plain": [
       "<AxesSubplot:xlabel='ACTION', ylabel='count'>"
      ]
     },
     "execution_count": 14,
     "metadata": {},
     "output_type": "execute_result"
    },
    {
     "data": {
      "image/png": "[encoded data removed]",
      "text/plain": [
       "<Figure size 432x288 with 1 Axes>"
      ]
     },
     "metadata": {
      "needs_background": "light"
     },
     "output_type": "display_data"
    }
   ],
   "source": [
    "sns.countplot(df_train['ACTION'])"
   ]
  },
  {
   "cell_type": "code",
   "execution_count": 15,
   "id": "96a1f197",
   "metadata": {},
   "outputs": [],
   "source": [
    "x=df_train.drop(\"ACTION\",axis=1)\n",
    "y=df_train[\"ACTION\"]"
   ]
  },
  {
   "cell_type": "markdown",
   "id": "cbbadb16",
   "metadata": {},
   "source": [
    "###### Split the data into train & test"
   ]
  },
  {
   "cell_type": "code",
   "execution_count": 16,
   "id": "4c48ce65",
   "metadata": {},
   "outputs": [],
   "source": [
    "from sklearn.model_selection import train_test_split"
   ]
  },
  {
   "cell_type": "code",
   "execution_count": 17,
   "id": "a9dcce70",
   "metadata": {},
   "outputs": [],
   "source": [
    "x_train, x_test, y_train, y_test = train_test_split(x,y, test_size=0.3, random_state=53)"
   ]
  },
  {
   "cell_type": "code",
   "execution_count": 18,
   "id": "930e1719",
   "metadata": {},
   "outputs": [],
   "source": [
    "from sklearn.linear_model import LogisticRegression\n",
    "from sklearn.ensemble import RandomForestClassifier\n",
    "from sklearn.ensemble import AdaBoostClassifier\n",
    "from sklearn.ensemble import GradientBoostingClassifier"
   ]
  },
  {
   "cell_type": "code",
   "execution_count": 19,
   "id": "ea697649",
   "metadata": {},
   "outputs": [],
   "source": [
    "from sklearn.metrics import accuracy_score\n",
    "from sklearn.metrics import confusion_matrix, ConfusionMatrixDisplay\n"
   ]
  },
  {
   "cell_type": "markdown",
   "id": "48631051",
   "metadata": {},
   "source": [
    "###### Apply Linear Regression"
   ]
  },
  {
   "cell_type": "code",
   "execution_count": 20,
   "id": "be2516e7",
   "metadata": {},
   "outputs": [
    {
     "data": {
      "text/plain": [
       "0.9418167022683348"
      ]
     },
     "execution_count": 20,
     "metadata": {},
     "output_type": "execute_result"
    }
   ],
   "source": [
    "lr = LogisticRegression()\n",
    "lr.fit(x_train, y_train)\n",
    "lr_predict=lr.predict(x_test)\n",
    "lr_accuracy = accuracy_score(y_test,lr_predict)\n",
    "lr_accuracy"
   ]
  },
  {
   "cell_type": "markdown",
   "id": "6ba01d33",
   "metadata": {},
   "source": [
    "**Confusion Matrix**"
   ]
  },
  {
   "cell_type": "code",
   "execution_count": 21,
   "id": "e87e3ebd",
   "metadata": {},
   "outputs": [
    {
     "data": {
      "text/plain": [
       "<sklearn.metrics._plot.confusion_matrix.ConfusionMatrixDisplay at 0x189fc0eb2e0>"
      ]
     },
     "execution_count": 21,
     "metadata": {},
     "output_type": "execute_result"
    },
    {
     "data": {
      "image/png": "[encoded data removed]",
      "text/plain": [
       "<Figure size 432x288 with 2 Axes>"
      ]
     },
     "metadata": {
      "needs_background": "light"
     },
     "output_type": "display_data"
    }
   ],
   "source": [
    "cnf_lr=confusion_matrix(y_test, lr_predict)\n",
    "disp = ConfusionMatrixDisplay(confusion_matrix=cnf_lr,display_labels=lr.classes_)\n",
    "disp.plot()"
   ]
  },
  {
   "cell_type": "markdown",
   "id": "fbbbd367",
   "metadata": {},
   "source": [
    "* It hasn't predicted any item as class 0"
   ]
  },
  {
   "cell_type": "markdown",
   "id": "84cf134b",
   "metadata": {},
   "source": [
    "#### Apply Random Forest classifier"
   ]
  },
  {
   "cell_type": "code",
   "execution_count": 22,
   "id": "2696529f",
   "metadata": {},
   "outputs": [
    {
     "data": {
      "text/plain": [
       "0.9443596785677958"
      ]
     },
     "execution_count": 22,
     "metadata": {},
     "output_type": "execute_result"
    }
   ],
   "source": [
    "rf = RandomForestClassifier()\n",
    "rf.fit(x_train, y_train)\n",
    "rf_predict=rf.predict(x_test)\n",
    "rf_accuracy=accuracy_score(y_test,rf_predict)\n",
    "rf_accuracy"
   ]
  },
  {
   "cell_type": "markdown",
   "id": "dececb97",
   "metadata": {},
   "source": [
    "**Confusion Matrix**"
   ]
  },
  {
   "cell_type": "code",
   "execution_count": 23,
   "id": "b52eb124",
   "metadata": {},
   "outputs": [
    {
     "data": {
      "text/plain": [
       "<sklearn.metrics._plot.confusion_matrix.ConfusionMatrixDisplay at 0x189f1051ff0>"
      ]
     },
     "execution_count": 23,
     "metadata": {},
     "output_type": "execute_result"
    },
    {
     "data": {
      "image/png": "[encoded data removed]",
      "text/plain": [
       "<Figure size 432x288 with 2 Axes>"
      ]
     },
     "metadata": {
      "needs_background": "light"
     },
     "output_type": "display_data"
    }
   ],
   "source": [
    "cnf_rf=confusion_matrix(y_test, rf_predict)\n",
    "disp = ConfusionMatrixDisplay(confusion_matrix=cnf_rf,display_labels=rf.classes_)\n",
    "disp.plot()"
   ]
  },
  {
   "cell_type": "markdown",
   "id": "7e0849ef",
   "metadata": {},
   "source": [
    "#### Apply Ada Boost Classifier"
   ]
  },
  {
   "cell_type": "code",
   "execution_count": 24,
   "id": "69227110",
   "metadata": {},
   "outputs": [
    {
     "data": {
      "text/plain": [
       "0.9418167022683348"
      ]
     },
     "execution_count": 24,
     "metadata": {},
     "output_type": "execute_result"
    }
   ],
   "source": [
    "adaboost = AdaBoostClassifier()\n",
    "adaboost.fit(x_train, y_train)\n",
    "adaboost_pred=adaboost.predict(x_test)\n",
    "ab_accuracy=accuracy_score(y_test,adaboost_pred)\n",
    "ab_accuracy"
   ]
  },
  {
   "cell_type": "markdown",
   "id": "5e73f128",
   "metadata": {},
   "source": [
    "**Confusion Matrix**"
   ]
  },
  {
   "cell_type": "code",
   "execution_count": 25,
   "id": "031fb7b3",
   "metadata": {},
   "outputs": [
    {
     "data": {
      "text/plain": [
       "<sklearn.metrics._plot.confusion_matrix.ConfusionMatrixDisplay at 0x189fc227f10>"
      ]
     },
     "execution_count": 25,
     "metadata": {},
     "output_type": "execute_result"
    },
    {
     "data": {
      "image/png": "[encoded data removed]",
      "text/plain": [
       "<Figure size 432x288 with 2 Axes>"
      ]
     },
     "metadata": {
      "needs_background": "light"
     },
     "output_type": "display_data"
    }
   ],
   "source": [
    "cnf_ab=confusion_matrix(y_test, adaboost_pred)\n",
    "disp = ConfusionMatrixDisplay(confusion_matrix=cnf_ab,display_labels=adaboost.classes_)\n",
    "disp.plot()"
   ]
  },
  {
   "cell_type": "markdown",
   "id": "e081561b",
   "metadata": {},
   "source": [
    " ***** It hasn't predicted any item as class 0 *****"
   ]
  },
  {
   "cell_type": "markdown",
   "id": "37de90f6",
   "metadata": {},
   "source": [
    "#### Apply Gradient Boosting Classifier"
   ]
  },
  {
   "cell_type": "code",
   "execution_count": 26,
   "id": "caeb07d1",
   "metadata": {},
   "outputs": [
    {
     "data": {
      "text/plain": [
       "0.942325297528227"
      ]
     },
     "execution_count": 26,
     "metadata": {},
     "output_type": "execute_result"
    }
   ],
   "source": [
    "gradBoost = GradientBoostingClassifier()\n",
    "gradBoost.fit(x_train, y_train)\n",
    "gradBoost_pred=gradBoost.predict(x_test)\n",
    "gb_accuracy = accuracy_score(y_test,gradBoost_pred)\n",
    "gb_accuracy"
   ]
  },
  {
   "cell_type": "markdown",
   "id": "924969b0",
   "metadata": {},
   "source": [
    "##### Confusion Matrix"
   ]
  },
  {
   "cell_type": "code",
   "execution_count": 27,
   "id": "28fd9cec",
   "metadata": {},
   "outputs": [
    {
     "data": {
      "text/plain": [
       "<sklearn.metrics._plot.confusion_matrix.ConfusionMatrixDisplay at 0x189fc259630>"
      ]
     },
     "execution_count": 27,
     "metadata": {},
     "output_type": "execute_result"
    },
    {
     "data": {
      "image/png": "[encoded data removed]",
      "text/plain": [
       "<Figure size 432x288 with 2 Axes>"
      ]
     },
     "metadata": {
      "needs_background": "light"
     },
     "output_type": "display_data"
    }
   ],
   "source": [
    "cnf_gb=confusion_matrix(y_test, gradBoost_pred)\n",
    "disp = ConfusionMatrixDisplay(confusion_matrix=cnf_gb,display_labels=gradBoost.classes_)\n",
    "disp.plot()"
   ]
  },
  {
   "cell_type": "markdown",
   "id": "0b8cb189",
   "metadata": {},
   "source": [
    " ***** It has predicted very less item as class 0 *****"
   ]
  },
  {
   "cell_type": "markdown",
   "id": "5e01abfe",
   "metadata": {},
   "source": [
    "#### **Random Forest classifier has given better result as compare to other classifier**"
   ]
  },
  {
   "cell_type": "markdown",
   "id": "ad483746",
   "metadata": {},
   "source": [
    "### Apply random forest classifier on test data"
   ]
  },
  {
   "cell_type": "code",
   "execution_count": 28,
   "id": "008b520e",
   "metadata": {},
   "outputs": [
    {
     "data": {
      "text/html": [
       "<div>\n",
       "<style scoped>\n",
       "    .dataframe tbody tr th:only-of-type {\n",
       "        vertical-align: middle;\n",
       "    }\n",
       "\n",
       "    .dataframe tbody tr th {\n",
       "        vertical-align: top;\n",
       "    }\n",
       "\n",
       "    .dataframe thead th {\n",
       "        text-align: right;\n",
       "    }\n",
       "</style>\n",
       "<table border=\"1\" class=\"dataframe\">\n",
       "  <thead>\n",
       "    <tr style=\"text-align: right;\">\n",
       "      <th></th>\n",
       "      <th>id</th>\n",
       "      <th>RESOURCE</th>\n",
       "      <th>MGR_ID</th>\n",
       "      <th>ROLE_ROLLUP_1</th>\n",
       "      <th>ROLE_ROLLUP_2</th>\n",
       "      <th>ROLE_DEPTNAME</th>\n",
       "      <th>ROLE_TITLE</th>\n",
       "      <th>ROLE_FAMILY_DESC</th>\n",
       "      <th>ROLE_FAMILY</th>\n",
       "      <th>ROLE_CODE</th>\n",
       "    </tr>\n",
       "  </thead>\n",
       "  <tbody>\n",
       "    <tr>\n",
       "      <th>0</th>\n",
       "      <td>1</td>\n",
       "      <td>32642</td>\n",
       "      <td>7792</td>\n",
       "      <td>118573</td>\n",
       "      <td>118574</td>\n",
       "      <td>117945</td>\n",
       "      <td>136261</td>\n",
       "      <td>128463</td>\n",
       "      <td>292795</td>\n",
       "      <td>119082</td>\n",
       "    </tr>\n",
       "    <tr>\n",
       "      <th>1</th>\n",
       "      <td>2</td>\n",
       "      <td>4696</td>\n",
       "      <td>14638</td>\n",
       "      <td>117961</td>\n",
       "      <td>118343</td>\n",
       "      <td>118514</td>\n",
       "      <td>118321</td>\n",
       "      <td>289122</td>\n",
       "      <td>255851</td>\n",
       "      <td>118322</td>\n",
       "    </tr>\n",
       "    <tr>\n",
       "      <th>2</th>\n",
       "      <td>3</td>\n",
       "      <td>22662</td>\n",
       "      <td>1760</td>\n",
       "      <td>118887</td>\n",
       "      <td>118888</td>\n",
       "      <td>120171</td>\n",
       "      <td>118396</td>\n",
       "      <td>255118</td>\n",
       "      <td>118398</td>\n",
       "      <td>118399</td>\n",
       "    </tr>\n",
       "    <tr>\n",
       "      <th>3</th>\n",
       "      <td>4</td>\n",
       "      <td>75078</td>\n",
       "      <td>7576</td>\n",
       "      <td>117961</td>\n",
       "      <td>118052</td>\n",
       "      <td>120671</td>\n",
       "      <td>118321</td>\n",
       "      <td>117906</td>\n",
       "      <td>257051</td>\n",
       "      <td>118322</td>\n",
       "    </tr>\n",
       "    <tr>\n",
       "      <th>4</th>\n",
       "      <td>5</td>\n",
       "      <td>39879</td>\n",
       "      <td>55668</td>\n",
       "      <td>117902</td>\n",
       "      <td>118041</td>\n",
       "      <td>117945</td>\n",
       "      <td>135951</td>\n",
       "      <td>134458</td>\n",
       "      <td>19776</td>\n",
       "      <td>119082</td>\n",
       "    </tr>\n",
       "  </tbody>\n",
       "</table>\n",
       "</div>"
      ],
      "text/plain": [
       "   id  RESOURCE  MGR_ID  ROLE_ROLLUP_1  ROLE_ROLLUP_2  ROLE_DEPTNAME  \\\n",
       "0   1     32642    7792         118573         118574         117945   \n",
       "1   2      4696   14638         117961         118343         118514   \n",
       "2   3     22662    1760         118887         118888         120171   \n",
       "3   4     75078    7576         117961         118052         120671   \n",
       "4   5     39879   55668         117902         118041         117945   \n",
       "\n",
       "   ROLE_TITLE  ROLE_FAMILY_DESC  ROLE_FAMILY  ROLE_CODE  \n",
       "0      136261            128463       292795     119082  \n",
       "1      118321            289122       255851     118322  \n",
       "2      118396            255118       118398     118399  \n",
       "3      118321            117906       257051     118322  \n",
       "4      135951            134458        19776     119082  "
      ]
     },
     "execution_count": 28,
     "metadata": {},
     "output_type": "execute_result"
    }
   ],
   "source": [
    "df_test.head()"
   ]
  },
  {
   "cell_type": "code",
   "execution_count": 29,
   "id": "c3668ed0",
   "metadata": {},
   "outputs": [],
   "source": [
    "df_test.drop(\"id\",axis=1, inplace=True)"
   ]
  },
  {
   "cell_type": "code",
   "execution_count": 30,
   "id": "a5095ea2",
   "metadata": {},
   "outputs": [
    {
     "name": "stdout",
     "output_type": "stream",
     "text": [
      "(22938, 9)\n",
      "(912363, 9)\n"
     ]
    }
   ],
   "source": [
    "print (x_train.shape)\n",
    "print (df_test.shape)"
   ]
  },
  {
   "cell_type": "code",
   "execution_count": 31,
   "id": "29ba4eba",
   "metadata": {},
   "outputs": [
    {
     "data": {
      "text/plain": [
       "array([1, 1, 1, ..., 1, 1, 1], dtype=int64)"
      ]
     },
     "execution_count": 31,
     "metadata": {},
     "output_type": "execute_result"
    }
   ],
   "source": [
    "rf_pred = rf.predict(df_test)\n",
    "rf_pred"
   ]
  },
  {
   "cell_type": "code",
   "execution_count": 32,
   "id": "832bbbf6",
   "metadata": {},
   "outputs": [
    {
     "data": {
      "text/html": [
       "<div>\n",
       "<style scoped>\n",
       "    .dataframe tbody tr th:only-of-type {\n",
       "        vertical-align: middle;\n",
       "    }\n",
       "\n",
       "    .dataframe tbody tr th {\n",
       "        vertical-align: top;\n",
       "    }\n",
       "\n",
       "    .dataframe thead th {\n",
       "        text-align: right;\n",
       "    }\n",
       "</style>\n",
       "<table border=\"1\" class=\"dataframe\">\n",
       "  <thead>\n",
       "    <tr style=\"text-align: right;\">\n",
       "      <th></th>\n",
       "      <th>RESOURCE</th>\n",
       "      <th>MGR_ID</th>\n",
       "      <th>ROLE_ROLLUP_1</th>\n",
       "      <th>ROLE_ROLLUP_2</th>\n",
       "      <th>ROLE_DEPTNAME</th>\n",
       "      <th>ROLE_TITLE</th>\n",
       "      <th>ROLE_FAMILY_DESC</th>\n",
       "      <th>ROLE_FAMILY</th>\n",
       "      <th>ROLE_CODE</th>\n",
       "      <th>ACTION</th>\n",
       "    </tr>\n",
       "  </thead>\n",
       "  <tbody>\n",
       "    <tr>\n",
       "      <th>0</th>\n",
       "      <td>32642</td>\n",
       "      <td>7792</td>\n",
       "      <td>118573</td>\n",
       "      <td>118574</td>\n",
       "      <td>117945</td>\n",
       "      <td>136261</td>\n",
       "      <td>128463</td>\n",
       "      <td>292795</td>\n",
       "      <td>119082</td>\n",
       "      <td>1</td>\n",
       "    </tr>\n",
       "    <tr>\n",
       "      <th>1</th>\n",
       "      <td>4696</td>\n",
       "      <td>14638</td>\n",
       "      <td>117961</td>\n",
       "      <td>118343</td>\n",
       "      <td>118514</td>\n",
       "      <td>118321</td>\n",
       "      <td>289122</td>\n",
       "      <td>255851</td>\n",
       "      <td>118322</td>\n",
       "      <td>1</td>\n",
       "    </tr>\n",
       "    <tr>\n",
       "      <th>2</th>\n",
       "      <td>22662</td>\n",
       "      <td>1760</td>\n",
       "      <td>118887</td>\n",
       "      <td>118888</td>\n",
       "      <td>120171</td>\n",
       "      <td>118396</td>\n",
       "      <td>255118</td>\n",
       "      <td>118398</td>\n",
       "      <td>118399</td>\n",
       "      <td>1</td>\n",
       "    </tr>\n",
       "    <tr>\n",
       "      <th>3</th>\n",
       "      <td>75078</td>\n",
       "      <td>7576</td>\n",
       "      <td>117961</td>\n",
       "      <td>118052</td>\n",
       "      <td>120671</td>\n",
       "      <td>118321</td>\n",
       "      <td>117906</td>\n",
       "      <td>257051</td>\n",
       "      <td>118322</td>\n",
       "      <td>1</td>\n",
       "    </tr>\n",
       "    <tr>\n",
       "      <th>4</th>\n",
       "      <td>39879</td>\n",
       "      <td>55668</td>\n",
       "      <td>117902</td>\n",
       "      <td>118041</td>\n",
       "      <td>117945</td>\n",
       "      <td>135951</td>\n",
       "      <td>134458</td>\n",
       "      <td>19776</td>\n",
       "      <td>119082</td>\n",
       "      <td>1</td>\n",
       "    </tr>\n",
       "  </tbody>\n",
       "</table>\n",
       "</div>"
      ],
      "text/plain": [
       "   RESOURCE  MGR_ID  ROLE_ROLLUP_1  ROLE_ROLLUP_2  ROLE_DEPTNAME  ROLE_TITLE  \\\n",
       "0     32642    7792         118573         118574         117945      136261   \n",
       "1      4696   14638         117961         118343         118514      118321   \n",
       "2     22662    1760         118887         118888         120171      118396   \n",
       "3     75078    7576         117961         118052         120671      118321   \n",
       "4     39879   55668         117902         118041         117945      135951   \n",
       "\n",
       "   ROLE_FAMILY_DESC  ROLE_FAMILY  ROLE_CODE  ACTION  \n",
       "0            128463       292795     119082       1  \n",
       "1            289122       255851     118322       1  \n",
       "2            255118       118398     118399       1  \n",
       "3            117906       257051     118322       1  \n",
       "4            134458        19776     119082       1  "
      ]
     },
     "execution_count": 32,
     "metadata": {},
     "output_type": "execute_result"
    }
   ],
   "source": [
    "df_test['ACTION']= rf_pred\n",
    "df_test.head()"
   ]
  },
  {
   "cell_type": "code",
   "execution_count": 33,
   "id": "d3bc25bf",
   "metadata": {},
   "outputs": [
    {
     "data": {
      "text/html": [
       "<div>\n",
       "<style scoped>\n",
       "    .dataframe tbody tr th:only-of-type {\n",
       "        vertical-align: middle;\n",
       "    }\n",
       "\n",
       "    .dataframe tbody tr th {\n",
       "        vertical-align: top;\n",
       "    }\n",
       "\n",
       "    .dataframe thead th {\n",
       "        text-align: right;\n",
       "    }\n",
       "</style>\n",
       "<table border=\"1\" class=\"dataframe\">\n",
       "  <thead>\n",
       "    <tr style=\"text-align: right;\">\n",
       "      <th></th>\n",
       "      <th>RESOURCE</th>\n",
       "      <th>MGR_ID</th>\n",
       "      <th>ROLE_ROLLUP_1</th>\n",
       "      <th>ROLE_ROLLUP_2</th>\n",
       "      <th>ROLE_DEPTNAME</th>\n",
       "      <th>ROLE_TITLE</th>\n",
       "      <th>ROLE_FAMILY_DESC</th>\n",
       "      <th>ROLE_FAMILY</th>\n",
       "      <th>ROLE_CODE</th>\n",
       "      <th>ACTION</th>\n",
       "    </tr>\n",
       "  </thead>\n",
       "  <tbody>\n",
       "    <tr>\n",
       "      <th>RESOURCE</th>\n",
       "      <td>1.000000</td>\n",
       "      <td>0.011355</td>\n",
       "      <td>-0.032546</td>\n",
       "      <td>-0.015819</td>\n",
       "      <td>0.012635</td>\n",
       "      <td>-0.098265</td>\n",
       "      <td>0.007529</td>\n",
       "      <td>0.024559</td>\n",
       "      <td>0.032996</td>\n",
       "      <td>0.006840</td>\n",
       "    </tr>\n",
       "    <tr>\n",
       "      <th>MGR_ID</th>\n",
       "      <td>0.011355</td>\n",
       "      <td>1.000000</td>\n",
       "      <td>-0.008588</td>\n",
       "      <td>-0.000832</td>\n",
       "      <td>-0.023357</td>\n",
       "      <td>0.099798</td>\n",
       "      <td>0.023996</td>\n",
       "      <td>-0.025069</td>\n",
       "      <td>0.078449</td>\n",
       "      <td>-0.004398</td>\n",
       "    </tr>\n",
       "    <tr>\n",
       "      <th>ROLE_ROLLUP_1</th>\n",
       "      <td>-0.032546</td>\n",
       "      <td>-0.008588</td>\n",
       "      <td>1.000000</td>\n",
       "      <td>0.141075</td>\n",
       "      <td>0.001413</td>\n",
       "      <td>0.044590</td>\n",
       "      <td>0.006588</td>\n",
       "      <td>-0.002068</td>\n",
       "      <td>-0.002274</td>\n",
       "      <td>-0.003228</td>\n",
       "    </tr>\n",
       "    <tr>\n",
       "      <th>ROLE_ROLLUP_2</th>\n",
       "      <td>-0.015819</td>\n",
       "      <td>-0.000832</td>\n",
       "      <td>0.141075</td>\n",
       "      <td>1.000000</td>\n",
       "      <td>-0.060660</td>\n",
       "      <td>0.011655</td>\n",
       "      <td>0.001151</td>\n",
       "      <td>0.006622</td>\n",
       "      <td>-0.008878</td>\n",
       "      <td>-0.005280</td>\n",
       "    </tr>\n",
       "    <tr>\n",
       "      <th>ROLE_DEPTNAME</th>\n",
       "      <td>0.012635</td>\n",
       "      <td>-0.023357</td>\n",
       "      <td>0.001413</td>\n",
       "      <td>-0.060660</td>\n",
       "      <td>1.000000</td>\n",
       "      <td>-0.054658</td>\n",
       "      <td>0.086462</td>\n",
       "      <td>0.029590</td>\n",
       "      <td>-0.005388</td>\n",
       "      <td>0.019915</td>\n",
       "    </tr>\n",
       "    <tr>\n",
       "      <th>ROLE_TITLE</th>\n",
       "      <td>-0.098265</td>\n",
       "      <td>0.099798</td>\n",
       "      <td>0.044590</td>\n",
       "      <td>0.011655</td>\n",
       "      <td>-0.054658</td>\n",
       "      <td>1.000000</td>\n",
       "      <td>0.081220</td>\n",
       "      <td>-0.071280</td>\n",
       "      <td>0.138510</td>\n",
       "      <td>-0.003186</td>\n",
       "    </tr>\n",
       "    <tr>\n",
       "      <th>ROLE_FAMILY_DESC</th>\n",
       "      <td>0.007529</td>\n",
       "      <td>0.023996</td>\n",
       "      <td>0.006588</td>\n",
       "      <td>0.001151</td>\n",
       "      <td>0.086462</td>\n",
       "      <td>0.081220</td>\n",
       "      <td>1.000000</td>\n",
       "      <td>-0.041336</td>\n",
       "      <td>0.057981</td>\n",
       "      <td>-0.013184</td>\n",
       "    </tr>\n",
       "    <tr>\n",
       "      <th>ROLE_FAMILY</th>\n",
       "      <td>0.024559</td>\n",
       "      <td>-0.025069</td>\n",
       "      <td>-0.002068</td>\n",
       "      <td>0.006622</td>\n",
       "      <td>0.029590</td>\n",
       "      <td>-0.071280</td>\n",
       "      <td>-0.041336</td>\n",
       "      <td>1.000000</td>\n",
       "      <td>0.001046</td>\n",
       "      <td>-0.032830</td>\n",
       "    </tr>\n",
       "    <tr>\n",
       "      <th>ROLE_CODE</th>\n",
       "      <td>0.032996</td>\n",
       "      <td>0.078449</td>\n",
       "      <td>-0.002274</td>\n",
       "      <td>-0.008878</td>\n",
       "      <td>-0.005388</td>\n",
       "      <td>0.138510</td>\n",
       "      <td>0.057981</td>\n",
       "      <td>0.001046</td>\n",
       "      <td>1.000000</td>\n",
       "      <td>0.004747</td>\n",
       "    </tr>\n",
       "    <tr>\n",
       "      <th>ACTION</th>\n",
       "      <td>0.006840</td>\n",
       "      <td>-0.004398</td>\n",
       "      <td>-0.003228</td>\n",
       "      <td>-0.005280</td>\n",
       "      <td>0.019915</td>\n",
       "      <td>-0.003186</td>\n",
       "      <td>-0.013184</td>\n",
       "      <td>-0.032830</td>\n",
       "      <td>0.004747</td>\n",
       "      <td>1.000000</td>\n",
       "    </tr>\n",
       "  </tbody>\n",
       "</table>\n",
       "</div>"
      ],
      "text/plain": [
       "                  RESOURCE    MGR_ID  ROLE_ROLLUP_1  ROLE_ROLLUP_2  \\\n",
       "RESOURCE          1.000000  0.011355      -0.032546      -0.015819   \n",
       "MGR_ID            0.011355  1.000000      -0.008588      -0.000832   \n",
       "ROLE_ROLLUP_1    -0.032546 -0.008588       1.000000       0.141075   \n",
       "ROLE_ROLLUP_2    -0.015819 -0.000832       0.141075       1.000000   \n",
       "ROLE_DEPTNAME     0.012635 -0.023357       0.001413      -0.060660   \n",
       "ROLE_TITLE       -0.098265  0.099798       0.044590       0.011655   \n",
       "ROLE_FAMILY_DESC  0.007529  0.023996       0.006588       0.001151   \n",
       "ROLE_FAMILY       0.024559 -0.025069      -0.002068       0.006622   \n",
       "ROLE_CODE         0.032996  0.078449      -0.002274      -0.008878   \n",
       "ACTION            0.006840 -0.004398      -0.003228      -0.005280   \n",
       "\n",
       "                  ROLE_DEPTNAME  ROLE_TITLE  ROLE_FAMILY_DESC  ROLE_FAMILY  \\\n",
       "RESOURCE               0.012635   -0.098265          0.007529     0.024559   \n",
       "MGR_ID                -0.023357    0.099798          0.023996    -0.025069   \n",
       "ROLE_ROLLUP_1          0.001413    0.044590          0.006588    -0.002068   \n",
       "ROLE_ROLLUP_2         -0.060660    0.011655          0.001151     0.006622   \n",
       "ROLE_DEPTNAME          1.000000   -0.054658          0.086462     0.029590   \n",
       "ROLE_TITLE            -0.054658    1.000000          0.081220    -0.071280   \n",
       "ROLE_FAMILY_DESC       0.086462    0.081220          1.000000    -0.041336   \n",
       "ROLE_FAMILY            0.029590   -0.071280         -0.041336     1.000000   \n",
       "ROLE_CODE             -0.005388    0.138510          0.057981     0.001046   \n",
       "ACTION                 0.019915   -0.003186         -0.013184    -0.032830   \n",
       "\n",
       "                  ROLE_CODE    ACTION  \n",
       "RESOURCE           0.032996  0.006840  \n",
       "MGR_ID             0.078449 -0.004398  \n",
       "ROLE_ROLLUP_1     -0.002274 -0.003228  \n",
       "ROLE_ROLLUP_2     -0.008878 -0.005280  \n",
       "ROLE_DEPTNAME     -0.005388  0.019915  \n",
       "ROLE_TITLE         0.138510 -0.003186  \n",
       "ROLE_FAMILY_DESC   0.057981 -0.013184  \n",
       "ROLE_FAMILY        0.001046 -0.032830  \n",
       "ROLE_CODE          1.000000  0.004747  \n",
       "ACTION             0.004747  1.000000  "
      ]
     },
     "execution_count": 33,
     "metadata": {},
     "output_type": "execute_result"
    }
   ],
   "source": [
    "Correlation= df_test.corr()\n",
    "Correlation"
   ]
  },
  {
   "cell_type": "code",
   "execution_count": 34,
   "id": "2f150d90",
   "metadata": {},
   "outputs": [
    {
     "data": {
      "text/plain": [
       "<AxesSubplot:>"
      ]
     },
     "execution_count": 34,
     "metadata": {},
     "output_type": "execute_result"
    },
    {
     "data": {
      "image/png": "[encoded data removed]",
      "text/plain": [
       "<Figure size 864x576 with 2 Axes>"
      ]
     },
     "metadata": {
      "needs_background": "light"
     },
     "output_type": "display_data"
    }
   ],
   "source": [
    "fig=plt.figure(figsize=(12,8))\n",
    "sns.heatmap(Correlation,annot=True)"
   ]
  },
  {
   "cell_type": "markdown",
   "id": "bda0c1ec",
   "metadata": {},
   "source": [
    "Following actions is performed:\n",
    "* Understand the type of data.\n",
    "* Identify the output variable.\n",
    "* Check if there are any biases in your dataset.\n",
    "* Perform train test split.\n",
    "* Predict the accuracy using classification models.\n",
    "* Check and compare the accuracy of the different models."
   ]
  }
 ],
 "metadata": {
  "kernelspec": {
   "display_name": "Python 3 (ipykernel)",
   "language": "python",
   "name": "python3"
  },
  "language_info": {
   "codemirror_mode": {
    "name": "ipython",
    "version": 3
   },
   "file_extension": ".py",
   "mimetype": "text/x-python",
   "name": "python",
   "nbconvert_exporter": "python",
   "pygments_lexer": "ipython3",
   "version": "3.10.2"
  }
 },
 "nbformat": 4,
 "nbformat_minor": 5
}
